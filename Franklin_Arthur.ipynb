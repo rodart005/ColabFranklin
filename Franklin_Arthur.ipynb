{
  "cells": [
    {
      "cell_type": "markdown",
      "metadata": {
        "id": "view-in-github",
        "colab_type": "text"
      },
      "source": [
        "<a href=\"https://colab.research.google.com/github/rodart005/ColabFranklin/blob/main/Franklin_Arthur.ipynb\" target=\"_parent\"><img src=\"https://colab.research.google.com/assets/colab-badge.svg\" alt=\"Open In Colab\"/></a>"
      ]
    },
    {
      "cell_type": "code",
      "execution_count": null,
      "metadata": {
        "colab": {
          "base_uri": "https://localhost:8080/"
        },
        "id": "eHcMIGADBiN-",
        "outputId": "d3ede302-bec9-4436-9587-895a31c9a0c6"
      },
      "outputs": [
        {
          "output_type": "stream",
          "name": "stdout",
          "text": [
            "Mounted at /content/drive\n"
          ]
        }
      ],
      "source": [
        "\n",
        "from google.colab import drive\n",
        "drive.mount('/content/drive')"
      ]
    },
    {
      "cell_type": "code",
      "execution_count": null,
      "metadata": {
        "colab": {
          "base_uri": "https://localhost:8080/"
        },
        "id": "JqZZORKjOktX",
        "outputId": "56651319-1f27-473e-8ff6-10c9d405f09f"
      },
      "outputs": [
        {
          "output_type": "stream",
          "name": "stdout",
          "text": [
            "drive\n",
            "sample_data\n"
          ]
        }
      ],
      "source": [
        "%%bash\n",
        "ls"
      ]
    },
    {
      "cell_type": "code",
      "execution_count": null,
      "metadata": {
        "colab": {
          "base_uri": "https://localhost:8080/"
        },
        "id": "IQEzXZIEFNkv",
        "outputId": "f55b889c-91d6-4e08-c5ee-67522da2af70"
      },
      "outputs": [
        {
          "output_type": "stream",
          "name": "stdout",
          "text": [
            "/content\n"
          ]
        }
      ],
      "source": [
        "%%bash\n",
        "pwd"
      ]
    },
    {
      "cell_type": "code",
      "execution_count": null,
      "metadata": {
        "id": "KfB-3bR0Fi3F"
      },
      "outputs": [],
      "source": [
        "%%bash\n",
        "mkdir logs"
      ]
    },
    {
      "cell_type": "code",
      "execution_count": null,
      "metadata": {
        "colab": {
          "base_uri": "https://localhost:8080/"
        },
        "id": "P5iv8kOnF9nR",
        "outputId": "31055dd5-96c0-47f5-ea48-4db6ed3a6308"
      },
      "outputs": [
        {
          "output_type": "stream",
          "name": "stdout",
          "text": [
            "total 12\n",
            "drwx------ 5 root root 4096 Jun  5 10:02 drive\n",
            "drwxr-xr-x 2 root root 4096 Jun  5 10:02 logs\n",
            "drwxr-xr-x 1 root root 4096 Jun  1 22:51 sample_data\n"
          ]
        }
      ],
      "source": [
        "%%bash\n",
        "ls -l"
      ]
    },
    {
      "cell_type": "code",
      "execution_count": null,
      "metadata": {
        "colab": {
          "base_uri": "https://localhost:8080/"
        },
        "id": "1ZrK5gARFt3a",
        "outputId": "7919304f-88f7-4ef9-c3e4-7368e4f24f86"
      },
      "outputs": [
        {
          "output_type": "stream",
          "name": "stdout",
          "text": [
            "/content/logs\n"
          ]
        }
      ],
      "source": [
        "%%bash\n",
        "cd logs\n",
        "pwd"
      ]
    },
    {
      "cell_type": "code",
      "execution_count": null,
      "metadata": {
        "colab": {
          "base_uri": "https://localhost:8080/"
        },
        "id": "l_Jx_WusGPVS",
        "outputId": "e499af9e-a5a5-4df6-d3c5-699b11833ae0"
      },
      "outputs": [
        {
          "output_type": "stream",
          "name": "stdout",
          "text": [
            "/content\n"
          ]
        }
      ],
      "source": [
        "%%bash\n",
        "pwd"
      ]
    },
    {
      "cell_type": "code",
      "execution_count": null,
      "metadata": {
        "colab": {
          "base_uri": "https://localhost:8080/"
        },
        "id": "3bvrotcoS2-H",
        "outputId": "3c0a00ab-29f7-432f-d02a-be1d50d9aabc"
      },
      "outputs": [
        {
          "output_type": "stream",
          "name": "stdout",
          "text": [
            "drive\n",
            "logs\n",
            "sample_data\n"
          ]
        }
      ],
      "source": [
        "%%bash\n",
        "ls"
      ]
    },
    {
      "cell_type": "code",
      "execution_count": null,
      "metadata": {
        "id": "wI_AlcXygecZ"
      },
      "outputs": [],
      "source": [
        "%%bash\n",
        "rm -r sample_data"
      ]
    },
    {
      "cell_type": "code",
      "execution_count": null,
      "metadata": {
        "colab": {
          "base_uri": "https://localhost:8080/"
        },
        "id": "l1IjsStg72-4",
        "outputId": "c3bf2e3d-7005-4c10-97f2-82cacf2f2ed0"
      },
      "outputs": [
        {
          "output_type": "stream",
          "name": "stdout",
          "text": [
            "drive\n",
            "logs\n"
          ]
        }
      ],
      "source": [
        "%%bash\n",
        "ls"
      ]
    },
    {
      "cell_type": "code",
      "execution_count": null,
      "metadata": {
        "colab": {
          "base_uri": "https://localhost:8080/"
        },
        "id": "VS2RVp0uVplc",
        "outputId": "5562786f-e2b7-4a8e-bb29-f0f3f991f4a4"
      },
      "outputs": [
        {
          "output_type": "stream",
          "name": "stdout",
          "text": [
            "total 8\n",
            "drwx------ 5 root root 4096 Jun  5 10:02 drive\n",
            "drwxr-xr-x 2 root root 4096 Jun  5 10:02 logs\n"
          ]
        }
      ],
      "source": [
        "%%bash\n",
        "ls -l"
      ]
    },
    {
      "cell_type": "markdown",
      "metadata": {
        "id": "Qb-CYXVthf6c"
      },
      "source": [
        "2.1 - Instalação dos programas necessários\n",
        "A maior parte dos programas usados nesse notebook podem ser instalados com o comando apt install:"
      ]
    },
    {
      "cell_type": "code",
      "execution_count": null,
      "metadata": {
        "id": "BK-hg4ZHuKX8"
      },
      "outputs": [],
      "source": [
        "!sudo apt-get install samtools tree fastqc bwa  bedtools \\\n",
        "1>logs/log_instalacao.txt \\\n",
        "2>logs/erros_instalacao.txt"
      ]
    },
    {
      "cell_type": "code",
      "execution_count": null,
      "metadata": {
        "colab": {
          "base_uri": "https://localhost:8080/"
        },
        "id": "stM3w_PsYrUv",
        "outputId": "067afe8c-5dc1-4ed6-b3b7-a68602787b96"
      },
      "outputs": [
        {
          "output_type": "stream",
          "name": "stdout",
          "text": [
            "Reading package lists...\n",
            "Building dependency tree...\n",
            "Reading state information...\n",
            "The following additional packages will be installed:\n",
            "  ant ant-optional cwltool default-jre default-jre-headless fonts-dejavu-core\n",
            "  fonts-dejavu-extra fonts-glyphicons-halflings libactivation-java\n",
            "  libaopalliance-java libapache-pom-java libargs4j-java libasm-java\n",
            "  libatinject-jsr330-api-java libatk-wrapper-java libatk-wrapper-java-jni\n",
            "  libc-ares2 libcdi-api-java libcglib-java libcodemodel-java\n",
            "  libcommons-cli-java libcommons-codec-java libcommons-compress-java\n"
          ]
        }
      ],
      "source": [
        "%%bash\n",
        "head logs/log_instalacao.txt"
      ]
    },
    {
      "cell_type": "markdown",
      "metadata": {
        "id": "xA6115l9hmy0"
      },
      "source": [
        "\n",
        "O GATK e o Picard precisam ser instalados separadamente. Vamos baixar (wget) e descompactar (unzip) os arquivos do GATK."
      ]
    },
    {
      "cell_type": "code",
      "execution_count": null,
      "metadata": {
        "id": "kWDL1EPbu7CE"
      },
      "outputs": [],
      "source": [
        "%%bash\n",
        "wget https://github.com/broadinstitute/gatk/releases/download/4.2.5.0/gatk-4.2.5.0.zip \\\n",
        "1>logs/log_down_gatk.txt \\\n",
        "2>logs/erros_down_gatk.txt"
      ]
    },
    {
      "cell_type": "code",
      "execution_count": null,
      "metadata": {
        "id": "dgwOvPs6vB1c"
      },
      "outputs": [],
      "source": [
        "%%bash\n",
        "unzip gatk-4.2.5.0.zip 1>logs/log_unzip_gatk.txt 2>logs/erros_unzip_gatk.txt\n",
        "rm gatk-4.2.5.0.zip"
      ]
    },
    {
      "cell_type": "code",
      "execution_count": null,
      "metadata": {
        "colab": {
          "base_uri": "https://localhost:8080/"
        },
        "id": "1s1EWX3lc6ds",
        "outputId": "ba74f8a5-959e-4d2a-de61-7fa895f066e8"
      },
      "outputs": [
        {
          "output_type": "stream",
          "name": "stdout",
          "text": [
            "Archive:  gatk-4.2.5.0.zip\n",
            "   creating: gatk-4.2.5.0/\n",
            "   creating: gatk-4.2.5.0/gatkdoc/\n",
            "  inflating: gatk-4.2.5.0/gatkdoc/org_broadinstitute_hellbender_tools_walkers_rnaseq_ASEReadCounter.json  \n",
            "  inflating: gatk-4.2.5.0/gatkdoc/picard_analysis_replicates_CollectIndependentReplicateMetrics.html  \n",
            "  inflating: gatk-4.2.5.0/gatkdoc/org_broadinstitute_hellbender_tools_dragstr_CalibrateDragstrModel.json  \n",
            "  inflating: gatk-4.2.5.0/gatkdoc/org_broadinstitute_hellbender_tools_walkers_annotator_ChromosomeCounts.html  \n",
            "  inflating: gatk-4.2.5.0/gatkdoc/org_broadinstitute_hellbender_engine_filters_LibraryReadFilter.html  \n",
            "  inflating: gatk-4.2.5.0/gatkdoc/org_broadinstitute_hellbender_tools_walkers_vqsr_FilterVariantTranches.json  \n",
            "  inflating: gatk-4.2.5.0/gatkdoc/picard_analysis_CollectWgsMetricsWithNonZeroCoverage.html  \n"
          ]
        }
      ],
      "source": [
        "%%bash\n",
        "head logs/log_unzip_gatk.txt"
      ]
    },
    {
      "cell_type": "markdown",
      "metadata": {
        "id": "BoGJS_k4h6ml"
      },
      "source": [
        "O Picard já vem como executável, então podemos apenas baixá-lo (wget)."
      ]
    },
    {
      "cell_type": "code",
      "execution_count": null,
      "metadata": {
        "id": "vC_n6r1j1YFe"
      },
      "outputs": [],
      "source": [
        "%%bash\n",
        "wget https://github.com/broadinstitute/picard/releases/download/2.24.2/picard.jar \\\n",
        "1>logs/log_down_picard.txt \\\n",
        "2>logs/erro_down_picard.txt"
      ]
    },
    {
      "cell_type": "code",
      "execution_count": null,
      "metadata": {
        "colab": {
          "base_uri": "https://localhost:8080/"
        },
        "id": "1jW8TIiqga9n",
        "outputId": "4f5e6c91-1cdb-4c29-c57a-a18601e95db4"
      },
      "outputs": [
        {
          "output_type": "stream",
          "name": "stdout",
          "text": [
            "-rwxr-xr-x 1 root root 416504 Dec 14  2019 /usr/bin/bwa\n"
          ]
        }
      ],
      "source": [
        "%%bash\n",
        "ls -l /usr/bin/bwa"
      ]
    },
    {
      "cell_type": "code",
      "execution_count": null,
      "metadata": {
        "colab": {
          "base_uri": "https://localhost:8080/"
        },
        "id": "DXvOTO1Vgmj8",
        "outputId": "9f994c25-1717-4d74-f974-e1f506aa1ab2"
      },
      "outputs": [
        {
          "output_type": "stream",
          "name": "stdout",
          "text": [
            "This system has been minimized by removing packages and content that are\n",
            "not required on a system that users do not log into.\n",
            "\n",
            "To restore this content, including manpages, you can run the 'unminimize'\n",
            "command. You will still need to ensure the 'man-db' package is installed.\n"
          ]
        }
      ],
      "source": [
        "%%bash\n",
        "man ls | head"
      ]
    },
    {
      "cell_type": "markdown",
      "metadata": {
        "id": "IL7m60qEiIj_"
      },
      "source": [
        "2.2 - Download dos dados em formato FASTQ, como as amostras vieram no formato bam precisa \"converter\" pra fastq\n"
      ]
    },
    {
      "cell_type": "markdown",
      "source": [],
      "metadata": {
        "id": "IFId-Je_tY_C"
      }
    },
    {
      "cell_type": "code",
      "source": [
        "%%bash\n",
        "cd /content/drive/MyDrive/corridas\n",
        "\n",
        "samtools index LWV461-00S1_S1_ACATATCCAGTATGTGCAAT.bam\n",
        "\n",
        "/content/gatk-4.2.5.0/gatk SamToFastq -I LWV461-00S1_S1_ACATATCCAGTATGTGCAAT.bam  -F LWV461-00S1_S1_R1_ACATATCCAGTATGTGCAAT.fastq -F2 LWV461-00S1_S1_R2_ACATATCCAGTATGTGCAAT.fastq"
      ],
      "metadata": {
        "colab": {
          "base_uri": "https://localhost:8080/"
        },
        "id": "PNibsjEz2BU4",
        "outputId": "fe892ee0-8e3e-4bc7-b26d-3f044ad16c6a"
      },
      "execution_count": null,
      "outputs": [
        {
          "output_type": "stream",
          "name": "stdout",
          "text": [
            "Tool returned:\n",
            "0\n"
          ]
        },
        {
          "output_type": "stream",
          "name": "stderr",
          "text": [
            "Using GATK jar /content/gatk-4.2.5.0/gatk-package-4.2.5.0-local.jar\n",
            "Running:\n",
            "    java -Dsamjdk.use_async_io_read_samtools=false -Dsamjdk.use_async_io_write_samtools=true -Dsamjdk.use_async_io_write_tribble=false -Dsamjdk.compression_level=2 -jar /content/gatk-4.2.5.0/gatk-package-4.2.5.0-local.jar SamToFastq -I LWV461-00S1_S1_ACATATCCAGTATGTGCAAT.bam -F LWV461-00S1_S1_R1_ACATATCCAGTATGTGCAAT.fastq -F2 LWV461-00S1_S1_R2_ACATATCCAGTATGTGCAAT.fastq\n",
            "17:25:35.763 INFO  NativeLibraryLoader - Loading libgkl_compression.so from jar:file:/content/gatk-4.2.5.0/gatk-package-4.2.5.0-local.jar!/com/intel/gkl/native/libgkl_compression.so\n",
            "[Mon Jun 05 17:25:35 UTC 2023] SamToFastq --INPUT LWV461-00S1_S1_ACATATCCAGTATGTGCAAT.bam --FASTQ LWV461-00S1_S1_R1_ACATATCCAGTATGTGCAAT.fastq --SECOND_END_FASTQ LWV461-00S1_S1_R2_ACATATCCAGTATGTGCAAT.fastq --OUTPUT_PER_RG false --COMPRESS_OUTPUTS_PER_RG false --RG_TAG PU --RE_REVERSE true --INTERLEAVE false --INCLUDE_NON_PF_READS false --CLIPPING_MIN_LENGTH 0 --READ1_TRIM 0 --READ2_TRIM 0 --INCLUDE_NON_PRIMARY_ALIGNMENTS false --VERBOSITY INFO --QUIET false --VALIDATION_STRINGENCY STRICT --COMPRESSION_LEVEL 2 --MAX_RECORDS_IN_RAM 500000 --CREATE_INDEX false --CREATE_MD5_FILE false --GA4GH_CLIENT_SECRETS client_secrets.json --help false --version false --showHidden false --USE_JDK_DEFLATER false --USE_JDK_INFLATER false\n",
            "[Mon Jun 05 17:25:36 UTC 2023] Executing as root@239586085bee on Linux 5.15.107+ amd64; OpenJDK 64-Bit Server VM 11.0.19+7-post-Ubuntu-0ubuntu120.04.1; Deflater: Intel; Inflater: Intel; Provider GCS is available; Picard version: Version:4.2.5.0\n",
            "INFO\t2023-06-05 17:25:42\tSamToFastq\tProcessed     1,000,000 records.  Elapsed time: 00:00:05s.  Time for last 1,000,000:    5s.  Last read position: */*\n",
            "INFO\t2023-06-05 17:25:47\tSamToFastq\tProcessed     2,000,000 records.  Elapsed time: 00:00:11s.  Time for last 1,000,000:    5s.  Last read position: */*\n",
            "INFO\t2023-06-05 17:25:51\tSamToFastq\tProcessed     3,000,000 records.  Elapsed time: 00:00:15s.  Time for last 1,000,000:    3s.  Last read position: */*\n",
            "INFO\t2023-06-05 17:25:55\tSamToFastq\tProcessed     4,000,000 records.  Elapsed time: 00:00:19s.  Time for last 1,000,000:    3s.  Last read position: */*\n",
            "INFO\t2023-06-05 17:25:59\tSamToFastq\tProcessed     5,000,000 records.  Elapsed time: 00:00:23s.  Time for last 1,000,000:    4s.  Last read position: */*\n",
            "INFO\t2023-06-05 17:26:04\tSamToFastq\tProcessed     6,000,000 records.  Elapsed time: 00:00:27s.  Time for last 1,000,000:    4s.  Last read position: */*\n",
            "INFO\t2023-06-05 17:26:07\tSamToFastq\tProcessed     7,000,000 records.  Elapsed time: 00:00:31s.  Time for last 1,000,000:    3s.  Last read position: */*\n",
            "INFO\t2023-06-05 17:26:10\tSamToFastq\tProcessed     8,000,000 records.  Elapsed time: 00:00:34s.  Time for last 1,000,000:    3s.  Last read position: */*\n",
            "INFO\t2023-06-05 17:26:16\tSamToFastq\tProcessed     9,000,000 records.  Elapsed time: 00:00:40s.  Time for last 1,000,000:    5s.  Last read position: */*\n",
            "INFO\t2023-06-05 17:26:19\tSamToFastq\tProcessed    10,000,000 records.  Elapsed time: 00:00:43s.  Time for last 1,000,000:    3s.  Last read position: */*\n",
            "INFO\t2023-06-05 17:26:23\tSamToFastq\tProcessed    11,000,000 records.  Elapsed time: 00:00:46s.  Time for last 1,000,000:    3s.  Last read position: */*\n",
            "INFO\t2023-06-05 17:26:27\tSamToFastq\tProcessed    12,000,000 records.  Elapsed time: 00:00:51s.  Time for last 1,000,000:    4s.  Last read position: */*\n",
            "INFO\t2023-06-05 17:26:31\tSamToFastq\tProcessed    13,000,000 records.  Elapsed time: 00:00:55s.  Time for last 1,000,000:    3s.  Last read position: */*\n",
            "INFO\t2023-06-05 17:26:34\tSamToFastq\tProcessed    14,000,000 records.  Elapsed time: 00:00:58s.  Time for last 1,000,000:    3s.  Last read position: */*\n",
            "INFO\t2023-06-05 17:26:37\tSamToFastq\tProcessed    15,000,000 records.  Elapsed time: 00:01:01s.  Time for last 1,000,000:    3s.  Last read position: */*\n",
            "INFO\t2023-06-05 17:26:43\tSamToFastq\tProcessed    16,000,000 records.  Elapsed time: 00:01:07s.  Time for last 1,000,000:    5s.  Last read position: */*\n",
            "INFO\t2023-06-05 17:26:46\tSamToFastq\tProcessed    17,000,000 records.  Elapsed time: 00:01:10s.  Time for last 1,000,000:    3s.  Last read position: */*\n",
            "INFO\t2023-06-05 17:26:49\tSamToFastq\tProcessed    18,000,000 records.  Elapsed time: 00:01:13s.  Time for last 1,000,000:    3s.  Last read position: */*\n",
            "[Mon Jun 05 17:26:51 UTC 2023] picard.sam.SamToFastq done. Elapsed time: 1.27 minutes.\n",
            "Runtime.totalMemory()=312475648\n"
          ]
        }
      ]
    },
    {
      "cell_type": "code",
      "execution_count": null,
      "metadata": {
        "id": "t-tuDWQylvI6"
      },
      "outputs": [],
      "source": [
        "%%bash\n",
        "cd /content/drive/MyDrive/corridas\n",
        "\n",
        "samtools index CPG877-00S1_S1_CACCTGTTGCATTGACACAT.bam\n",
        "\n",
        "/content/gatk-4.2.5.0/gatk SamToFastq -I CPG877-00S1_S1_CACCTGTTGCATTGACACAT.bam  -F AMR795-00S1_S1_R1_CACCTTAATCTTAGGATAGA.fastq -F2 AMR795-00S1_S1_R2_CACCTTAATCTTAGGATAGA.fastq"
      ]
    },
    {
      "cell_type": "markdown",
      "metadata": {
        "id": "hskGgA8Yip36"
      },
      "source": [
        "Depois de convertido o arquivo em fastq \"converter\" para fastq.qz"
      ]
    },
    {
      "cell_type": "code",
      "source": [
        "%%bash\n",
        "gzip /content/drive/MyDrive/corridas/LWV461-00S1.4_S1_R1_ACATATCCAGTATGTGCAAT.fastq"
      ],
      "metadata": {
        "id": "gmhNAoxVGS4q"
      },
      "execution_count": null,
      "outputs": []
    },
    {
      "cell_type": "code",
      "source": [
        "%%bash\n",
        "gzip /content/drive/MyDrive/corridas/LWV461-00S1.4_S1_R2_ACATATCCAGTATGTGCAAT.fastq"
      ],
      "metadata": {
        "id": "oFJHbHNLGb6N"
      },
      "execution_count": null,
      "outputs": []
    },
    {
      "cell_type": "code",
      "source": [
        "%%bash\n",
        "gzip /content/drive/MyDrive/corridas/LWV461-00S1.3_S1_R1_ACATATCCAGTATGTGCAAT.fastq"
      ],
      "metadata": {
        "id": "c1puReGoIHP9"
      },
      "execution_count": null,
      "outputs": []
    },
    {
      "cell_type": "code",
      "source": [
        "%%bash\n",
        "gzip /content/drive/MyDrive/corridas/LWV461-00S1.3_S1_R2_ACATATCCAGTATGTGCAAT.fastq"
      ],
      "metadata": {
        "id": "g8G1B42kISRG"
      },
      "execution_count": null,
      "outputs": []
    },
    {
      "cell_type": "code",
      "execution_count": null,
      "metadata": {
        "id": "22Gxmd1I54rF"
      },
      "outputs": [],
      "source": [
        "%%bash\n",
        "cp /content/drive/MyDrive/corridas/AMR795-001_R1_CACCTTAATCTTAGGATAGA.fastq.gz \\\n",
        "AMR795-001_R1_CACCTTAATCTTAGGATAGA.fastq.gz 1>logs/log_down_amostra-r1.txt 2>logs/erro_down_amostra-r1.txt\n",
        "cp /content/drive/MyDrive/corridas/AMR795-001_R2_CACCTTAATCTTAGGATAGA.fastq.gz \\\n",
        "AMR795-001_R2_CACCTTAATCTTAGGATAGA.fastq.gz 1>logs/log_down_amostra-r2.txt 2>logs/erro_down_amostra-r2.txt\n"
      ]
    },
    {
      "cell_type": "code",
      "execution_count": null,
      "metadata": {
        "colab": {
          "base_uri": "https://localhost:8080/"
        },
        "id": "SBtsIV7XHcVM",
        "outputId": "f7910c06-6936-463c-9baa-a303fc6d4d87"
      },
      "outputs": [
        {
          "output_type": "stream",
          "name": "stdout",
          "text": [
            "drive\n",
            "gatk-4.2.5.0\n",
            "logs\n",
            "picard.jar\n"
          ]
        }
      ],
      "source": [
        "%%bash\n",
        "ls"
      ]
    },
    {
      "cell_type": "code",
      "execution_count": null,
      "metadata": {
        "colab": {
          "base_uri": "https://localhost:8080/"
        },
        "id": "Us65SBinE9mF",
        "outputId": "c5554eec-ad5f-4ccd-9a99-e83f5c543bde"
      },
      "outputs": [
        {
          "output_type": "stream",
          "name": "stdout",
          "text": [
            "@210203_A00776_0119_BHKC7TDSXY:1:1101:10004:10582/1\n",
            "ATCCATGTGAACTCGTGCCCGTGTAAGACGCATGATCGTGTGTGCACACATCGCGTGCAGATATCCATGTGAACTCGTGCCCGGGTAAGACGCATGATCGT\n",
            "+\n",
            "FFFFFFFFFFFFFFFFFFFFFFFFFFFFFFFFFFFFFFFFFFFFFFFFFFFFFFFFFFFFFFFFFFFFF,FFFFFFFFFFF:FFFFFFFFFFFFFFFFFFF\n",
            "@210203_A00776_0119_BHKC7TDSXY:1:1101:10004:23516/1\n",
            "CCACTGCACCAGCAGCCATGGAGGCACAGACCACTGCACCAGCAGCCATGGAAGCACAGACCACTCCACCAGCAGCCATGGAGGCACAGACCACTCAAACC\n",
            "+\n",
            "FFFFFFFFFFFFFFFFFFFFFFFFFFFFFFFFFFFFFFFFFFFFFFFFFFFFFFFFF,FFFFFFFFFFFFFFFFFFFFFFFFFFFFFFFFFFFFFFFFFFF\n"
          ]
        }
      ],
      "source": [
        "%%bash\n",
        "zcat /content/drive/MyDrive/corridas/AMR795-00S1.1_S1_R1_CACCTTAATCTTAGGATAGA.fastq.gz | head -n 8\n"
      ]
    },
    {
      "cell_type": "markdown",
      "metadata": {
        "id": "Uy9ITcUvqh__"
      },
      "source": [
        "3.1 - Organizar estrutura de diretórios\n",
        "Mesmo as análises bioinformáticas mais simples acabam por gerar uma quantidade grande de arquivos. É importante mantê-los organizados por data, amostra e tipo de arquivo, de modo que seja simples encontrar esses arquivos caso eles sejam necessários mais tarde. Como nesse caso temos apenas uma amostra, vamos criar uma pasta dados e, dentro dela, pastas para cada etapa de processamento:"
      ]
    },
    {
      "cell_type": "code",
      "execution_count": null,
      "metadata": {
        "id": "LFTJ3flNCxJl"
      },
      "outputs": [],
      "source": [
        "%%bash\n",
        "mkdir dados\n",
        "mkdir dados/fastq\n",
        "mkdir dados/bwa\n",
        "mkdir dados/picard\n",
        "mkdir dados/bedtools\n",
        "mkdir dados/annovar\n",
        "mkdir dados/freebayes\n",
        "mkdir dados/gatk"
      ]
    },
    {
      "cell_type": "markdown",
      "metadata": {
        "id": "nX2ZPaxOqqYH"
      },
      "source": [
        "\n",
        "\n",
        "\n",
        "\n",
        "\n",
        "O comando tree permite mostrar nossa estrutura de diretórios como uma árvore:"
      ]
    },
    {
      "cell_type": "code",
      "execution_count": null,
      "metadata": {
        "colab": {
          "base_uri": "https://localhost:8080/"
        },
        "id": "8LckweJKwrDB",
        "outputId": "cee6f469-9779-4f9d-c119-087f322adac8"
      },
      "outputs": [
        {
          "output_type": "stream",
          "name": "stdout",
          "text": [
            "dados\n",
            "├── annovar\n",
            "├── bedtools\n",
            "├── bwa\n",
            "├── fastq\n",
            "├── freebayes\n",
            "├── gatk\n",
            "└── picard\n",
            "\n",
            "7 directories, 0 files\n"
          ]
        }
      ],
      "source": [
        "%%bash\n",
        "tree dados"
      ]
    },
    {
      "cell_type": "code",
      "execution_count": null,
      "metadata": {
        "colab": {
          "base_uri": "https://localhost:8080/"
        },
        "id": "tpV5HOQjNLeL",
        "outputId": "ebb0289f-3e86-4144-f56b-330b9d64b22f"
      },
      "outputs": [
        {
          "output_type": "stream",
          "name": "stdout",
          "text": [
            "dados\n",
            "drive\n",
            "gatk-4.2.5.0\n",
            "logs\n",
            "picard.jar\n"
          ]
        }
      ],
      "source": [
        "%%bash\n",
        "ls"
      ]
    },
    {
      "cell_type": "code",
      "execution_count": null,
      "metadata": {
        "id": "Lb2IruSxL4Uw"
      },
      "outputs": [],
      "source": [
        "%%bash\n",
        "mv /content/drive/MyDrive/corridas/LWV461-00S1.4_S1_R2_ACATATCCAGTATGTGCAAT.fastq.gz ./dados/fastq"
      ]
    },
    {
      "cell_type": "code",
      "source": [
        "%%bash\n",
        "mv /content/drive/MyDrive/corridas/LWV461-00S1.4_S1_R1_ACATATCCAGTATGTGCAAT.fastq.gz ./dados/fastq"
      ],
      "metadata": {
        "id": "qAUZbEfvnLiy"
      },
      "execution_count": null,
      "outputs": []
    },
    {
      "cell_type": "code",
      "source": [
        "%%bash\n",
        "mv /content/drive/MyDrive/corridas/LWV461-00S1.3_S1_R2_ACATATCCAGTATGTGCAAT.fastq.gz ./dados/fastq"
      ],
      "metadata": {
        "id": "t4bFqx2bnQTq"
      },
      "execution_count": null,
      "outputs": []
    },
    {
      "cell_type": "code",
      "source": [
        "%%bash\n",
        "mv /content/drive/MyDrive/corridas/LWV461-00S1.3_S1_R1_ACATATCCAGTATGTGCAAT.fastq.gz ./dados/fastqZ"
      ],
      "metadata": {
        "id": "z1zClLKWnUGE"
      },
      "execution_count": null,
      "outputs": []
    },
    {
      "cell_type": "code",
      "execution_count": null,
      "metadata": {
        "colab": {
          "base_uri": "https://localhost:8080/"
        },
        "id": "gRhvr0fnxAwf",
        "outputId": "0bd0a679-a9e9-4a7e-8cba-28b6a8e5067a"
      },
      "outputs": [
        {
          "output_type": "stream",
          "name": "stdout",
          "text": [
            "dados\n",
            "├── annovar\n",
            "├── bedtools\n",
            "├── bwa\n",
            "├── fastq\n",
            "│   ├── LMQ341-00S2.1_S1_R1_CCTCCGTCCACACATCGGTG.fastq.gz\n",
            "│   ├── LMQ341-00S2.1_S1_R2_CCTCCGTCCACACATCGGTG.fastq.gz\n",
            "│   ├── LMQ341-00S2.2_S1_R1_CCTCCGTCCACACATCGGTG.fastq.gz\n",
            "│   ├── LMQ341-00S2.2_S1_R2_CCTCCGTCCACACATCGGTG.fastq.gz\n",
            "│   ├── LMQ341-00S2.3_S1_R1_CCTCCGTCCACACATCGGTG.fastq.gz\n",
            "│   ├── LMQ341-00S2.3_S1_R2_CCTCCGTCCACACATCGGTG.fastq.gz\n",
            "│   ├── LMQ341-00S2.4_S1_R1_CCTCCGTCCACACATCGGTG.fastq.gz\n",
            "│   └── LMQ341-00S2.4_S1_R2_CCTCCGTCCACACATCGGTG.fastq.gz\n",
            "├── freebayes\n",
            "├── gatk\n",
            "└── picard\n",
            "\n",
            "7 directories, 8 files\n"
          ]
        }
      ],
      "source": [
        "%%bash\n",
        "tree dados"
      ]
    },
    {
      "cell_type": "markdown",
      "metadata": {
        "id": "cDM3rSyWrFwr"
      },
      "source": [
        "O comando ls -lh nos permite ver os arquivos em uma pasta com alguns detalhes, como tamanho do arquivo e data de modificação."
      ]
    },
    {
      "cell_type": "code",
      "execution_count": null,
      "metadata": {
        "colab": {
          "base_uri": "https://localhost:8080/"
        },
        "id": "lp0YOFulxFON",
        "outputId": "6a57d26c-5ba7-4146-b2b6-7a943adb7c67"
      },
      "outputs": [
        {
          "output_type": "stream",
          "name": "stdout",
          "text": [
            "total 3.2G\n",
            "-rw------- 1 root root 400M Jun  5 00:56 LMQ341-00S2.1_S1_R1_CCTCCGTCCACACATCGGTG.fastq.gz\n",
            "-rw------- 1 root root 408M Jun  5 00:56 LMQ341-00S2.1_S1_R2_CCTCCGTCCACACATCGGTG.fastq.gz\n",
            "-rw------- 1 root root 395M Jun  5 00:59 LMQ341-00S2.2_S1_R1_CCTCCGTCCACACATCGGTG.fastq.gz\n",
            "-rw------- 1 root root 403M Jun  5 00:59 LMQ341-00S2.2_S1_R2_CCTCCGTCCACACATCGGTG.fastq.gz\n",
            "-rw------- 1 root root 400M Jun  5 01:04 LMQ341-00S2.3_S1_R1_CCTCCGTCCACACATCGGTG.fastq.gz\n",
            "-rw------- 1 root root 410M Jun  5 01:04 LMQ341-00S2.3_S1_R2_CCTCCGTCCACACATCGGTG.fastq.gz\n",
            "-rw------- 1 root root 403M Jun  5 00:50 LMQ341-00S2.4_S1_R1_CCTCCGTCCACACATCGGTG.fastq.gz\n",
            "-rw------- 1 root root 411M Jun  5 00:50 LMQ341-00S2.4_S1_R2_CCTCCGTCCACACATCGGTG.fastq.gz\n"
          ]
        }
      ],
      "source": [
        "%%bash\n",
        "ls -lh dados/fastq"
      ]
    },
    {
      "cell_type": "code",
      "execution_count": null,
      "metadata": {
        "colab": {
          "base_uri": "https://localhost:8080/"
        },
        "id": "z9OOAyH9Uywh",
        "outputId": "4fe5a763-184a-4ff0-bdf2-b6f7bcaa47fa"
      },
      "outputs": [
        {
          "output_type": "stream",
          "name": "stdout",
          "text": [
            "\n",
            "            FastQC - A high throughput sequence QC analysis tool\n",
            "\n",
            "SYNOPSIS\n",
            "\n",
            "\tfastqc seqfile1 seqfile2 .. seqfileN\n",
            "\n",
            "    fastqc [-o output dir] [--(no)extract] [-f fastq|bam|sam] \n",
            "           [-c contaminant file] seqfile1 .. seqfileN\n",
            "\n",
            "DESCRIPTION\n",
            "\n",
            "    FastQC reads a set of sequence files and produces from each one a quality\n",
            "    control report consisting of a number of different modules, each one of \n",
            "    which will help to identify a different potential type of problem in your\n",
            "    data.\n",
            "    \n",
            "    If no files to process are specified on the command line then the program\n",
            "    will start as an interactive graphical application.  If files are provided\n",
            "    on the command line then the program will run with no user interaction\n",
            "    required.  In this mode it is suitable for inclusion into a standardised\n",
            "    analysis pipeline.\n",
            "    \n",
            "    The options for the program as as follows:\n",
            "    \n",
            "    -h --help       Print this help file and exit\n",
            "    \n",
            "    -v --version    Print the version of the program and exit\n",
            "    \n",
            "    -o --outdir     Create all output files in the specified output directory.\n",
            "                    Please note that this directory must exist as the program\n",
            "                    will not create it.  If this option is not set then the \n",
            "                    output file for each sequence file is created in the same\n",
            "                    directory as the sequence file which was processed.\n",
            "                    \n",
            "    --casava        Files come from raw casava output. Files in the same sample\n",
            "                    group (differing only by the group number) will be analysed\n",
            "                    as a set rather than individually. Sequences with the filter\n",
            "                    flag set in the header will be excluded from the analysis.\n",
            "                    Files must have the same names given to them by casava\n",
            "                    (including being gzipped and ending with .gz) otherwise they\n",
            "                    won't be grouped together correctly.\n",
            "                    \n",
            "    --nofilter      If running with --casava then don't remove read flagged by\n",
            "                    casava as poor quality when performing the QC analysis.\n",
            "                   \n",
            "    --extract       If set then the zipped output file will be uncompressed in\n",
            "                    the same directory after it has been created.  By default\n",
            "                    this option will be set if fastqc is run in non-interactive\n",
            "                    mode.\n",
            "                    \n",
            "    -j --java       Provides the full path to the java binary you want to use to\n",
            "                    launch fastqc. If not supplied then java is assumed to be in\n",
            "                    your path.\n",
            "                   \n",
            "    --noextract     Do not uncompress the output file after creating it.  You\n",
            "                    should set this option if you do not wish to uncompress\n",
            "                    the output when running in non-interactive mode.\n",
            "                    \n",
            "    --nogroup       Disable grouping of bases for reads >50bp. All reports will\n",
            "                    show data for every base in the read.  WARNING: Using this\n",
            "                    option will cause fastqc to crash and burn if you use it on\n",
            "                    really long reads, and your plots may end up a ridiculous size.\n",
            "                    You have been warned!\n",
            "                    \n",
            "    --min_length    Sets an artificial lower limit on the length of the sequence\n",
            "                    to be shown in the report.  As long as you set this to a value\n",
            "                    greater or equal to your longest read length then this will be\n",
            "                    the sequence length used to create your read groups.  This can\n",
            "                    be useful for making directly comaparable statistics from \n",
            "                    datasets with somewhat variable read lengths.\n",
            "                    \n",
            "    -f --format     Bypasses the normal sequence file format detection and\n",
            "                    forces the program to use the specified format.  Valid\n",
            "                    formats are bam,sam,bam_mapped,sam_mapped and fastq\n",
            "                    \n",
            "    -t --threads    Specifies the number of files which can be processed\n",
            "                    simultaneously.  Each thread will be allocated 250MB of\n",
            "                    memory so you shouldn't run more threads than your\n",
            "                    available memory will cope with, and not more than\n",
            "                    6 threads on a 32 bit machine\n",
            "                  \n",
            "    -c              Specifies a non-default file which contains the list of\n",
            "    --contaminants  contaminants to screen overrepresented sequences against.\n",
            "                    The file must contain sets of named contaminants in the\n",
            "                    form name[tab]sequence.  Lines prefixed with a hash will\n",
            "                    be ignored.\n",
            "\n",
            "    -a              Specifies a non-default file which contains the list of\n",
            "    --adapters      adapter sequences which will be explicity searched against\n",
            "                    the library. The file must contain sets of named adapters\n",
            "                    in the form name[tab]sequence.  Lines prefixed with a hash\n",
            "                    will be ignored.\n",
            "                    \n",
            "    -l              Specifies a non-default file which contains a set of criteria\n",
            "    --limits        which will be used to determine the warn/error limits for the\n",
            "                    various modules.  This file can also be used to selectively \n",
            "                    remove some modules from the output all together.  The format\n",
            "                    needs to mirror the default limits.txt file found in the\n",
            "                    Configuration folder.\n",
            "                    \n",
            "   -k --kmers       Specifies the length of Kmer to look for in the Kmer content\n",
            "                    module. Specified Kmer length must be between 2 and 10. Default\n",
            "                    length is 7 if not specified.\n",
            "                    \n",
            "   -q --quiet       Supress all progress messages on stdout and only report errors.\n",
            "   \n",
            "   -d --dir         Selects a directory to be used for temporary files written when\n",
            "                    generating report images. Defaults to system temp directory if\n",
            "                    not specified.\n",
            "                    \n",
            "BUGS\n",
            "\n",
            "    Any bugs in fastqc should be reported either to simon.andrews@babraham.ac.uk\n",
            "    or in www.bioinformatics.babraham.ac.uk/bugzilla/\n",
            "                   \n",
            "    \n"
          ]
        }
      ],
      "source": [
        "%%bash\n",
        "fastqc --help "
      ]
    },
    {
      "cell_type": "code",
      "execution_count": null,
      "metadata": {
        "id": "oXPtPoZMy3FK"
      },
      "outputs": [],
      "source": [
        "%%bash\n",
        "mkdir dados/fastqc"
      ]
    },
    {
      "cell_type": "code",
      "execution_count": null,
      "metadata": {
        "colab": {
          "base_uri": "https://localhost:8080/"
        },
        "id": "Lut1PPyPrS16",
        "outputId": "a53fb45b-67a1-45a0-b017-cc47147f2075"
      },
      "outputs": [
        {
          "output_type": "stream",
          "name": "stdout",
          "text": [
            "Analysis complete for AMR795-00S1.4_S1_R2_CACCTTAATCTTAGGATAGA.fastq.gz\n"
          ]
        },
        {
          "output_type": "stream",
          "name": "stderr",
          "text": [
            "Started analysis of AMR795-00S1.4_S1_R2_CACCTTAATCTTAGGATAGA.fastq.gz\n",
            "Approx 5% complete for AMR795-00S1.4_S1_R2_CACCTTAATCTTAGGATAGA.fastq.gz\n",
            "Approx 10% complete for AMR795-00S1.4_S1_R2_CACCTTAATCTTAGGATAGA.fastq.gz\n",
            "Approx 15% complete for AMR795-00S1.4_S1_R2_CACCTTAATCTTAGGATAGA.fastq.gz\n",
            "Approx 20% complete for AMR795-00S1.4_S1_R2_CACCTTAATCTTAGGATAGA.fastq.gz\n",
            "Approx 25% complete for AMR795-00S1.4_S1_R2_CACCTTAATCTTAGGATAGA.fastq.gz\n",
            "Approx 30% complete for AMR795-00S1.4_S1_R2_CACCTTAATCTTAGGATAGA.fastq.gz\n",
            "Approx 35% complete for AMR795-00S1.4_S1_R2_CACCTTAATCTTAGGATAGA.fastq.gz\n",
            "Approx 40% complete for AMR795-00S1.4_S1_R2_CACCTTAATCTTAGGATAGA.fastq.gz\n",
            "Approx 45% complete for AMR795-00S1.4_S1_R2_CACCTTAATCTTAGGATAGA.fastq.gz\n",
            "Approx 50% complete for AMR795-00S1.4_S1_R2_CACCTTAATCTTAGGATAGA.fastq.gz\n",
            "Approx 55% complete for AMR795-00S1.4_S1_R2_CACCTTAATCTTAGGATAGA.fastq.gz\n",
            "Approx 60% complete for AMR795-00S1.4_S1_R2_CACCTTAATCTTAGGATAGA.fastq.gz\n",
            "Approx 65% complete for AMR795-00S1.4_S1_R2_CACCTTAATCTTAGGATAGA.fastq.gz\n",
            "Approx 70% complete for AMR795-00S1.4_S1_R2_CACCTTAATCTTAGGATAGA.fastq.gz\n",
            "Approx 75% complete for AMR795-00S1.4_S1_R2_CACCTTAATCTTAGGATAGA.fastq.gz\n",
            "Approx 80% complete for AMR795-00S1.4_S1_R2_CACCTTAATCTTAGGATAGA.fastq.gz\n",
            "Approx 85% complete for AMR795-00S1.4_S1_R2_CACCTTAATCTTAGGATAGA.fastq.gz\n",
            "Approx 90% complete for AMR795-00S1.4_S1_R2_CACCTTAATCTTAGGATAGA.fastq.gz\n",
            "Approx 95% complete for AMR795-00S1.4_S1_R2_CACCTTAATCTTAGGATAGA.fastq.gz\n",
            "\n",
            "real\t0m58.375s\n",
            "user\t1m2.732s\n",
            "sys\t0m1.542s\n"
          ]
        }
      ],
      "source": [
        "%%bash\n",
        "time fastqc -o dados/fastqc \\\n",
        "  dados/fastq/AMR795-00S1.4_S1_R2_CACCTTAATCTTAGGATAGA.fastq.gz "
      ]
    },
    {
      "cell_type": "code",
      "execution_count": null,
      "metadata": {
        "colab": {
          "base_uri": "https://localhost:8080/"
        },
        "id": "2242vbm1rpuD",
        "outputId": "ef62bc92-96a4-41c7-c975-ea929a4cae46"
      },
      "outputs": [
        {
          "output_type": "stream",
          "name": "stdout",
          "text": [
            "Analysis complete for AMR795-00S1.4_S1_R1_CACCTTAATCTTAGGATAGA.fastq.gz\n"
          ]
        },
        {
          "output_type": "stream",
          "name": "stderr",
          "text": [
            "Started analysis of AMR795-00S1.4_S1_R1_CACCTTAATCTTAGGATAGA.fastq.gz\n",
            "Approx 5% complete for AMR795-00S1.4_S1_R1_CACCTTAATCTTAGGATAGA.fastq.gz\n",
            "Approx 10% complete for AMR795-00S1.4_S1_R1_CACCTTAATCTTAGGATAGA.fastq.gz\n",
            "Approx 15% complete for AMR795-00S1.4_S1_R1_CACCTTAATCTTAGGATAGA.fastq.gz\n",
            "Approx 20% complete for AMR795-00S1.4_S1_R1_CACCTTAATCTTAGGATAGA.fastq.gz\n",
            "Approx 25% complete for AMR795-00S1.4_S1_R1_CACCTTAATCTTAGGATAGA.fastq.gz\n",
            "Approx 30% complete for AMR795-00S1.4_S1_R1_CACCTTAATCTTAGGATAGA.fastq.gz\n",
            "Approx 35% complete for AMR795-00S1.4_S1_R1_CACCTTAATCTTAGGATAGA.fastq.gz\n",
            "Approx 40% complete for AMR795-00S1.4_S1_R1_CACCTTAATCTTAGGATAGA.fastq.gz\n",
            "Approx 45% complete for AMR795-00S1.4_S1_R1_CACCTTAATCTTAGGATAGA.fastq.gz\n",
            "Approx 50% complete for AMR795-00S1.4_S1_R1_CACCTTAATCTTAGGATAGA.fastq.gz\n",
            "Approx 55% complete for AMR795-00S1.4_S1_R1_CACCTTAATCTTAGGATAGA.fastq.gz\n",
            "Approx 60% complete for AMR795-00S1.4_S1_R1_CACCTTAATCTTAGGATAGA.fastq.gz\n",
            "Approx 65% complete for AMR795-00S1.4_S1_R1_CACCTTAATCTTAGGATAGA.fastq.gz\n",
            "Approx 70% complete for AMR795-00S1.4_S1_R1_CACCTTAATCTTAGGATAGA.fastq.gz\n",
            "Approx 75% complete for AMR795-00S1.4_S1_R1_CACCTTAATCTTAGGATAGA.fastq.gz\n",
            "Approx 80% complete for AMR795-00S1.4_S1_R1_CACCTTAATCTTAGGATAGA.fastq.gz\n",
            "Approx 85% complete for AMR795-00S1.4_S1_R1_CACCTTAATCTTAGGATAGA.fastq.gz\n",
            "Approx 90% complete for AMR795-00S1.4_S1_R1_CACCTTAATCTTAGGATAGA.fastq.gz\n",
            "Approx 95% complete for AMR795-00S1.4_S1_R1_CACCTTAATCTTAGGATAGA.fastq.gz\n",
            "\n",
            "real\t0m57.318s\n",
            "user\t1m4.269s\n",
            "sys\t0m1.578s\n"
          ]
        }
      ],
      "source": [
        "%%bash\n",
        "time fastqc -o dados/fastqc \\\n",
        "  dados/fastq/AMR795-00S1.4_S1_R1_CACCTTAATCTTAGGATAGA.fastq.gz "
      ]
    },
    {
      "cell_type": "code",
      "execution_count": null,
      "metadata": {
        "colab": {
          "base_uri": "https://localhost:8080/"
        },
        "id": "cVAXU9jDMqzO",
        "outputId": "f4f3f419-8944-460f-e9a0-040cfe12768b"
      },
      "outputs": [
        {
          "output_type": "stream",
          "name": "stdout",
          "text": [
            "dados\n",
            "├── annovar\n",
            "├── bedtools\n",
            "├── bwa\n",
            "├── fastq\n",
            "│   ├── LMQ341-00S2.1_S1_R1_CCTCCGTCCACACATCGGTG.fastq.gz\n",
            "│   ├── LMQ341-00S2.1_S1_R2_CCTCCGTCCACACATCGGTG.fastq.gz\n",
            "│   ├── LMQ341-00S2.2_S1_R1_CCTCCGTCCACACATCGGTG.fastq.gz\n",
            "│   ├── LMQ341-00S2.2_S1_R2_CCTCCGTCCACACATCGGTG.fastq.gz\n",
            "│   ├── LMQ341-00S2.3_S1_R1_CCTCCGTCCACACATCGGTG.fastq.gz\n",
            "│   ├── LMQ341-00S2.3_S1_R2_CCTCCGTCCACACATCGGTG.fastq.gz\n",
            "│   ├── LMQ341-00S2.4_S1_R1_CCTCCGTCCACACATCGGTG.fastq.gz\n",
            "│   └── LMQ341-00S2.4_S1_R2_CCTCCGTCCACACATCGGTG.fastq.gz\n",
            "├── fastqc\n",
            "├── freebayes\n",
            "├── gatk\n",
            "└── picard\n",
            "\n",
            "8 directories, 8 files\n"
          ]
        }
      ],
      "source": [
        "%%bash\n",
        "tree dados"
      ]
    },
    {
      "cell_type": "markdown",
      "metadata": {
        "id": "DIcJly1WwUkM"
      },
      "source": [
        "Podemos usar o programa cutadaptpara remover reads muito curtos, muito longos ou com adaptadores:"
      ]
    },
    {
      "cell_type": "code",
      "execution_count": null,
      "metadata": {
        "colab": {
          "base_uri": "https://localhost:8080/"
        },
        "id": "2urVZlKS4qTQ",
        "outputId": "dff6b35a-daa0-46c9-8ea6-b7e47754fcb1"
      },
      "outputs": [
        {
          "output_type": "stream",
          "name": "stdout",
          "text": [
            "Looking in indexes: https://pypi.org/simple, https://us-python.pkg.dev/colab-wheels/public/simple/\n",
            "Collecting cutadapt\n",
            "  Downloading cutadapt-4.4-cp310-cp310-manylinux_2_17_x86_64.manylinux2014_x86_64.whl (468 kB)\n",
            "     ━━━━━━━━━━━━━━━━━━━━━━━━━━━━━━━━━━━━━━ 468.8/468.8 kB 25.5 MB/s eta 0:00:00\n",
            "Collecting dnaio>=0.10.0 (from cutadapt)\n",
            "  Downloading dnaio-0.10.0-cp310-cp310-manylinux_2_17_x86_64.manylinux2014_x86_64.whl (81 kB)\n",
            "     ━━━━━━━━━━━━━━━━━━━━━━━━━━━━━━━━━━━━━━━━ 81.8/81.8 kB 9.4 MB/s eta 0:00:00\n",
            "Collecting xopen>=1.6.0 (from cutadapt)\n",
            "  Downloading xopen-1.7.0-py3-none-any.whl (15 kB)\n",
            "Collecting isal>=1.0.0 (from xopen>=1.6.0->cutadapt)\n",
            "  Downloading isal-1.1.0-cp310-cp310-manylinux_2_17_x86_64.manylinux2014_x86_64.whl (281 kB)\n",
            "     ━━━━━━━━━━━━━━━━━━━━━━━━━━━━━━━━━━━━━━ 281.4/281.4 kB 25.8 MB/s eta 0:00:00\n",
            "Installing collected packages: isal, xopen, dnaio, cutadapt\n",
            "Successfully installed cutadapt-4.4 dnaio-0.10.0 isal-1.1.0 xopen-1.7.0\n"
          ]
        },
        {
          "output_type": "stream",
          "name": "stderr",
          "text": [
            "rm: cannot remove '/usr/bin/cutadapt': No such file or directory\n"
          ]
        }
      ],
      "source": [
        "%%bash\n",
        "rm /usr/bin/cutadapt\n",
        "sudo python3 -m pip install --upgrade cutadapt\n"
      ]
    },
    {
      "cell_type": "code",
      "execution_count": null,
      "metadata": {
        "colab": {
          "base_uri": "https://localhost:8080/"
        },
        "id": "QASalI5TQoVg",
        "outputId": "003301b1-3262-4eb3-b41b-126e4347f02e"
      },
      "outputs": [
        {
          "name": "stdout",
          "output_type": "stream",
          "text": [
            "This is cutadapt 4.4 with Python 3.10.11\n",
            "Command line parameters: --minimum-length 90 --maximum-length 151 -o dados/fastq/AMR795-001_R1_CACCTTAATCTTAGGATAGA_cutadapt.fastq dados/fastq/AMR795-001_R1_CACCTTAATCTTAGGATAGA.fastq.gz\n",
            "Processing single-end reads on 1 core ...\n",
            "Finished in 18.713 s (2.970 µs/read; 20.20 M reads/minute).\n",
            "\n",
            "=== Summary ===\n",
            "\n",
            "Total reads processed:               6,300,564\n",
            "\n",
            "== Read fate breakdown ==\n",
            "Reads that were too short:                   0 (0.0%)\n",
            "Reads that were too long:                    0 (0.0%)\n",
            "Reads written (passing filters):     6,300,564 (100.0%)\n",
            "\n",
            "Total basepairs processed:   636,356,964 bp\n",
            "Total written (filtered):    636,356,964 bp (100.0%)\n"
          ]
        },
        {
          "name": "stderr",
          "output_type": "stream",
          "text": [
            "\n",
            "real\t0m18.846s\n",
            "user\t0m13.535s\n",
            "sys\t0m4.463s\n"
          ]
        }
      ],
      "source": [
        "%%bash\n",
        "time cutadapt --minimum-length 90 --maximum-length 151 \\\n",
        "  -o dados/fastq/AMR795-001_R1_CACCTTAATCTTAGGATAGA_cutadapt.fastq \\\n",
        "  dados/fastq/AMR795-001_R1_CACCTTAATCTTAGGATAGA.fastq.gz"
      ]
    },
    {
      "cell_type": "code",
      "execution_count": null,
      "metadata": {
        "colab": {
          "base_uri": "https://localhost:8080/"
        },
        "id": "m3ycHcGr6B54",
        "outputId": "969efaee-3b31-46b5-c1ba-6dd095da6866"
      },
      "outputs": [
        {
          "name": "stdout",
          "output_type": "stream",
          "text": [
            "This is cutadapt 4.4 with Python 3.10.11\n",
            "Command line parameters: --minimum-length 90 --maximum-length 151 -o dados/fastq/AMR795-001_R2_CACCTTAATCTTAGGATAGA_cutadapt.fastq dados/fastq/AMR795-001_R2_CACCTTAATCTTAGGATAGA.fastq.gz\n",
            "Processing single-end reads on 1 core ...\n",
            "Finished in 19.301 s (3.063 µs/read; 19.59 M reads/minute).\n",
            "\n",
            "=== Summary ===\n",
            "\n",
            "Total reads processed:               6,300,564\n",
            "\n",
            "== Read fate breakdown ==\n",
            "Reads that were too short:                   0 (0.0%)\n",
            "Reads that were too long:                    0 (0.0%)\n",
            "Reads written (passing filters):     6,300,564 (100.0%)\n",
            "\n",
            "Total basepairs processed:   636,356,964 bp\n",
            "Total written (filtered):    636,356,964 bp (100.0%)\n"
          ]
        },
        {
          "name": "stderr",
          "output_type": "stream",
          "text": [
            "\n",
            "real\t0m19.393s\n",
            "user\t0m14.422s\n",
            "sys\t0m4.046s\n"
          ]
        }
      ],
      "source": [
        "%%bash\n",
        "time cutadapt --minimum-length 90 --maximum-length 151 \\\n",
        "  -o dados/fastq/AMR795-001_R2_CACCTTAATCTTAGGATAGA_cutadapt.fastq \\\n",
        "  dados/fastq/AMR795-001_R2_CACCTTAATCTTAGGATAGA.fastq.gz"
      ]
    },
    {
      "cell_type": "code",
      "execution_count": null,
      "metadata": {
        "colab": {
          "base_uri": "https://localhost:8080/"
        },
        "id": "shpLXXIDwlBs",
        "outputId": "667d3f69-ca5f-461b-c790-02c651315122"
      },
      "outputs": [
        {
          "output_type": "stream",
          "name": "stdout",
          "text": [
            "cutadapt version 4.4\n",
            "\n",
            "Copyright (C) 2010-2022 Marcel Martin <marcel.martin@scilifelab.se>\n",
            "\n",
            "cutadapt removes adapter sequences from high-throughput sequencing reads.\n",
            "\n",
            "Usage:\n",
            "    cutadapt -a ADAPTER [options] [-o output.fastq] input.fastq\n",
            "\n",
            "For paired-end reads:\n",
            "    cutadapt -a ADAPT1 -A ADAPT2 [options] -o out1.fastq -p out2.fastq in1.fastq in2.fastq\n",
            "\n",
            "Replace \"ADAPTER\" with the actual sequence of your 3' adapter. IUPAC wildcard\n",
            "characters are supported. All reads from input.fastq will be written to\n",
            "output.fastq with the adapter sequence removed. Adapter matching is\n",
            "error-tolerant. Multiple adapter sequences can be given (use further -a\n",
            "options), but only the best-matching adapter will be removed.\n",
            "\n",
            "Input may also be in FASTA format. Compressed input and output is supported and\n",
            "auto-detected from the file name (.gz, .xz, .bz2). Use the file name '-' for\n",
            "standard input/output. Without the -o option, output is sent to standard output.\n",
            "\n",
            "Citation:\n",
            "\n",
            "Marcel Martin. Cutadapt removes adapter sequences from high-throughput\n",
            "sequencing reads. EMBnet.Journal, 17(1):10-12, May 2011.\n",
            "http://dx.doi.org/10.14806/ej.17.1.200\n",
            "\n",
            "Run \"cutadapt --help\" to see all command-line options.\n",
            "See https://cutadapt.readthedocs.io/ for full documentation.\n",
            "\n",
            "Options:\n",
            "  -h, --help            Show this help message and exit\n",
            "  --version             Show version number and exit\n",
            "  --debug               Print debug log. Use twice to also print DP matrices\n",
            "  -j CORES, --cores CORES\n",
            "                        Number of CPU cores to use. Use 0 to auto-detect.\n",
            "                        Default: 1\n",
            "\n",
            "Finding adapters:\n",
            "  Parameters -a, -g, -b specify adapters to be removed from each read (or from\n",
            "  R1 if data is paired-end. If specified multiple times, only the best\n",
            "  matching adapter is trimmed (but see the --times option). Use notation\n",
            "  'file:FILE' to read adapter sequences from a FASTA file.\n",
            "\n",
            "  -a ADAPTER, --adapter ADAPTER\n",
            "                        Sequence of an adapter ligated to the 3' end (paired\n",
            "                        data: of the first read). The adapter and subsequent\n",
            "                        bases are trimmed. If a '$' character is appended\n",
            "                        ('anchoring'), the adapter is only found if it is a\n",
            "                        suffix of the read.\n",
            "  -g ADAPTER, --front ADAPTER\n",
            "                        Sequence of an adapter ligated to the 5' end (paired\n",
            "                        data: of the first read). The adapter and any preceding\n",
            "                        bases are trimmed. Partial matches at the 5' end are\n",
            "                        allowed. If a '^' character is prepended ('anchoring'),\n",
            "                        the adapter is only found if it is a prefix of the read.\n",
            "  -b ADAPTER, --anywhere ADAPTER\n",
            "                        Sequence of an adapter that may be ligated to the 5' or\n",
            "                        3' end (paired data: of the first read). Both types of\n",
            "                        matches as described under -a and -g are allowed. If the\n",
            "                        first base of the read is part of the match, the\n",
            "                        behavior is as with -g, otherwise as with -a. This\n",
            "                        option is mostly for rescuing failed library\n",
            "                        preparations - do not use if you know which end your\n",
            "                        adapter was ligated to!\n",
            "  -e E, --error-rate E, --errors E\n",
            "                        Maximum allowed error rate (if 0 <= E < 1), or absolute\n",
            "                        number of errors for full-length adapter match (if E is\n",
            "                        an integer >= 1). Error rate = no. of errors divided by\n",
            "                        length of matching region. Default: 0.1 (10%)\n",
            "  --no-indels           Allow only mismatches in alignments. Default: allow both\n",
            "                        mismatches and indels\n",
            "  -n COUNT, --times COUNT\n",
            "                        Remove up to COUNT adapters from each read. Default: 1\n",
            "  -O MINLENGTH, --overlap MINLENGTH\n",
            "                        Require MINLENGTH overlap between read and adapter for\n",
            "                        an adapter to be found. Default: 3\n",
            "  --match-read-wildcards\n",
            "                        Interpret IUPAC wildcards in reads. Default: False\n",
            "  -N, --no-match-adapter-wildcards\n",
            "                        Do not interpret IUPAC wildcards in adapters.\n",
            "  --action {trim,retain,mask,lowercase,none}\n",
            "                        What to do if a match was found. trim: trim adapter and\n",
            "                        up- or downstream sequence; retain: trim, but retain\n",
            "                        adapter; mask: replace with 'N' characters; lowercase:\n",
            "                        convert to lowercase; none: leave unchanged. Default:\n",
            "                        trim\n",
            "  --rc, --revcomp       Check both the read and its reverse complement for\n",
            "                        adapter matches. If match is on reverse-complemented\n",
            "                        version, output that one. Default: check only read\n",
            "\n",
            "Additional read modifications:\n",
            "  -u LEN, --cut LEN     Remove LEN bases from each read (or R1 if paired; use -U\n",
            "                        option for R2). If LEN is positive, remove bases from\n",
            "                        the beginning. If LEN is negative, remove bases from the\n",
            "                        end. Can be used twice if LENs have different signs.\n",
            "                        Applied *before* adapter trimming.\n",
            "  --nextseq-trim 3'CUTOFF\n",
            "                        NextSeq-specific quality trimming (each read). Trims\n",
            "                        also dark cycles appearing as high-quality G bases.\n",
            "  -q [5'CUTOFF,]3'CUTOFF, --quality-cutoff [5'CUTOFF,]3'CUTOFF\n",
            "                        Trim low-quality bases from 5' and/or 3' ends of each\n",
            "                        read before adapter removal. Applied to both reads if\n",
            "                        data is paired. If one value is given, only the 3' end\n",
            "                        is trimmed. If two comma-separated cutoffs are given,\n",
            "                        the 5' end is trimmed with the first cutoff, the 3' end\n",
            "                        with the second.\n",
            "  --quality-base N      Assume that quality values in FASTQ are encoded as\n",
            "                        ascii(quality + N). This needs to be set to 64 for some\n",
            "                        old Illumina FASTQ files. Default: 33\n",
            "  --poly-a              Trim poly-A tails\n",
            "  --length LENGTH, -l LENGTH\n",
            "                        Shorten reads to LENGTH. Positive values remove bases at\n",
            "                        the end while negative ones remove bases at the\n",
            "                        beginning. This and the following modifications are\n",
            "                        applied after adapter trimming.\n",
            "  --trim-n              Trim N's on ends of reads.\n",
            "  --length-tag TAG      Search for TAG followed by a decimal number in the\n",
            "                        description field of the read. Replace the decimal\n",
            "                        number with the correct length of the trimmed read. For\n",
            "                        example, use --length-tag 'length=' to correct fields\n",
            "                        like 'length=123'.\n",
            "  --strip-suffix STRIP_SUFFIX\n",
            "                        Remove this suffix from read names if present. Can be\n",
            "                        given multiple times.\n",
            "  -x PREFIX, --prefix PREFIX\n",
            "                        Add this prefix to read names. Use {name} to insert the\n",
            "                        name of the matching adapter.\n",
            "  -y SUFFIX, --suffix SUFFIX\n",
            "                        Add this suffix to read names; can also include {name}\n",
            "  --rename TEMPLATE     Rename reads using TEMPLATE containing variables such as\n",
            "                        {id}, {adapter_name} etc. (see documentation)\n",
            "  --zero-cap, -z        Change negative quality values to zero.\n",
            "\n",
            "Filtering of processed reads:\n",
            "  Filters are applied after above read modifications. Paired-end reads are\n",
            "  always discarded pairwise (see also --pair-filter).\n",
            "\n",
            "  -m LEN[:LEN2], --minimum-length LEN[:LEN2]\n",
            "                        Discard reads shorter than LEN. Default: 0\n",
            "  -M LEN[:LEN2], --maximum-length LEN[:LEN2]\n",
            "                        Discard reads longer than LEN. Default: no limit\n",
            "  --max-n COUNT         Discard reads with more than COUNT 'N' bases. If COUNT\n",
            "                        is a number between 0 and 1, it is interpreted as a\n",
            "                        fraction of the read length.\n",
            "  --max-expected-errors ERRORS, --max-ee ERRORS\n",
            "                        Discard reads whose expected number of errors (computed\n",
            "                        from quality values) exceeds ERRORS.\n",
            "  --discard-trimmed, --discard\n",
            "                        Discard reads that contain an adapter. Use also -O to\n",
            "                        avoid discarding too many randomly matching reads.\n",
            "  --discard-untrimmed, --trimmed-only\n",
            "                        Discard reads that do not contain an adapter.\n",
            "  --discard-casava      Discard reads that did not pass CASAVA filtering (header\n",
            "                        has :Y:).\n",
            "\n",
            "Output:\n",
            "  --quiet               Print only error messages.\n",
            "  --report {full,minimal}\n",
            "                        Which type of report to print: 'full' or 'minimal'.\n",
            "                        Default: full\n",
            "  --json FILE           Dump report in JSON format to FILE\n",
            "  -o FILE, --output FILE\n",
            "                        Write trimmed reads to FILE. FASTQ or FASTA format is\n",
            "                        chosen depending on input. Summary report is sent to\n",
            "                        standard output. Use '{name}' for demultiplexing (see\n",
            "                        docs). Default: write to standard output\n",
            "  --fasta               Output FASTA to standard output even on FASTQ input.\n",
            "  -Z                    Use compression level 1 for gzipped output files\n",
            "                        (faster, but uses more space)\n",
            "  --info-file FILE      Write information about each read and its adapter\n",
            "                        matches into FILE. See the documentation for the file\n",
            "                        format.\n",
            "  -r FILE, --rest-file FILE\n",
            "                        When the adapter matches in the middle of a read, write\n",
            "                        the rest (after the adapter) to FILE.\n",
            "  --wildcard-file FILE  When the adapter has N wildcard bases, write adapter\n",
            "                        bases matching wildcard positions to FILE. (Inaccurate\n",
            "                        with indels.)\n",
            "  --too-short-output FILE\n",
            "                        Write reads that are too short (according to length\n",
            "                        specified by -m) to FILE. Default: discard reads\n",
            "  --too-long-output FILE\n",
            "                        Write reads that are too long (according to length\n",
            "                        specified by -M) to FILE. Default: discard reads\n",
            "  --untrimmed-output FILE\n",
            "                        Write reads that do not contain any adapter to FILE.\n",
            "                        Default: output to same file as trimmed reads\n",
            "\n",
            "Paired-end options:\n",
            "  The -A/-G/-B/-U/-Q options work like their lowercase counterparts, but are\n",
            "  applied to R2 (second read in pair)\n",
            "\n",
            "  -A ADAPTER            3' adapter to be removed from R2\n",
            "  -G ADAPTER            5' adapter to be removed from R2\n",
            "  -B ADAPTER            5'/3 adapter to be removed from R2\n",
            "  -U LENGTH             Remove LENGTH bases from R2\n",
            "  -Q [5'CUTOFF,]3'CUTOFF\n",
            "                        Quality-trimming cutoff for R2. Default: same as for R1\n",
            "  -p FILE, --paired-output FILE\n",
            "                        Write R2 to FILE.\n",
            "  --pair-adapters       Treat adapters given with -a/-A etc. as pairs. Either\n",
            "                        both or none are removed from each read pair.\n",
            "  --pair-filter {any,both,first}\n",
            "                        Which of the reads in a paired-end read have to match\n",
            "                        the filtering criterion in order for the pair to be\n",
            "                        filtered. Default: any\n",
            "  --interleaved         Read and/or write interleaved paired-end reads.\n",
            "  --untrimmed-paired-output FILE\n",
            "                        Write second read in a pair to this FILE when no adapter\n",
            "                        was found. Use with --untrimmed-output. Default: output\n",
            "                        to same file as trimmed reads\n",
            "  --too-short-paired-output FILE\n",
            "                        Write second read in a pair to this file if pair is too\n",
            "                        short.\n",
            "  --too-long-paired-output FILE\n",
            "                        Write second read in a pair to this file if pair is too\n",
            "                        long.\n"
          ]
        },
        {
          "output_type": "stream",
          "name": "stderr",
          "text": [
            "\n",
            "real\t0m0.093s\n",
            "user\t0m0.079s\n",
            "sys\t0m0.013s\n"
          ]
        }
      ],
      "source": [
        "%%bash\n",
        "time cutadapt --help "
      ]
    },
    {
      "cell_type": "markdown",
      "metadata": {
        "id": "2o1BE4Duw0KQ"
      },
      "source": [
        "Vamos gerar os relatórios de qualidade novamente, agora com os reads trimados:"
      ]
    },
    {
      "cell_type": "code",
      "execution_count": null,
      "metadata": {
        "colab": {
          "base_uri": "https://localhost:8080/"
        },
        "id": "fTzeXpQ2wnkH",
        "outputId": "d7d58940-a4a9-42d0-d2b3-ca810a1dae62"
      },
      "outputs": [
        {
          "name": "stdout",
          "output_type": "stream",
          "text": [
            "Analysis complete for AMR795-001_R1_CACCTTAATCTTAGGATAGA_cutadapt.fastq\n"
          ]
        },
        {
          "name": "stderr",
          "output_type": "stream",
          "text": [
            "Started analysis of AMR795-001_R1_CACCTTAATCTTAGGATAGA_cutadapt.fastq\n",
            "Approx 5% complete for AMR795-001_R1_CACCTTAATCTTAGGATAGA_cutadapt.fastq\n",
            "Approx 10% complete for AMR795-001_R1_CACCTTAATCTTAGGATAGA_cutadapt.fastq\n",
            "Approx 15% complete for AMR795-001_R1_CACCTTAATCTTAGGATAGA_cutadapt.fastq\n",
            "Approx 20% complete for AMR795-001_R1_CACCTTAATCTTAGGATAGA_cutadapt.fastq\n",
            "Approx 25% complete for AMR795-001_R1_CACCTTAATCTTAGGATAGA_cutadapt.fastq\n",
            "Approx 30% complete for AMR795-001_R1_CACCTTAATCTTAGGATAGA_cutadapt.fastq\n",
            "Approx 35% complete for AMR795-001_R1_CACCTTAATCTTAGGATAGA_cutadapt.fastq\n",
            "Approx 40% complete for AMR795-001_R1_CACCTTAATCTTAGGATAGA_cutadapt.fastq\n",
            "Approx 45% complete for AMR795-001_R1_CACCTTAATCTTAGGATAGA_cutadapt.fastq\n",
            "Approx 50% complete for AMR795-001_R1_CACCTTAATCTTAGGATAGA_cutadapt.fastq\n",
            "Approx 55% complete for AMR795-001_R1_CACCTTAATCTTAGGATAGA_cutadapt.fastq\n",
            "Approx 60% complete for AMR795-001_R1_CACCTTAATCTTAGGATAGA_cutadapt.fastq\n",
            "Approx 65% complete for AMR795-001_R1_CACCTTAATCTTAGGATAGA_cutadapt.fastq\n",
            "Approx 70% complete for AMR795-001_R1_CACCTTAATCTTAGGATAGA_cutadapt.fastq\n",
            "Approx 75% complete for AMR795-001_R1_CACCTTAATCTTAGGATAGA_cutadapt.fastq\n",
            "Approx 80% complete for AMR795-001_R1_CACCTTAATCTTAGGATAGA_cutadapt.fastq\n",
            "Approx 85% complete for AMR795-001_R1_CACCTTAATCTTAGGATAGA_cutadapt.fastq\n",
            "Approx 90% complete for AMR795-001_R1_CACCTTAATCTTAGGATAGA_cutadapt.fastq\n",
            "Approx 95% complete for AMR795-001_R1_CACCTTAATCTTAGGATAGA_cutadapt.fastq\n",
            "\n",
            "real\t0m34.312s\n",
            "user\t0m39.016s\n",
            "sys\t0m1.015s\n"
          ]
        }
      ],
      "source": [
        "%%bash\n",
        "time fastqc -o dados/fastqc \\\n",
        "  dados/fastq/AMR795-001_R1_CACCTTAATCTTAGGATAGA_cutadapt.fastq"
      ]
    },
    {
      "cell_type": "code",
      "execution_count": null,
      "metadata": {
        "colab": {
          "base_uri": "https://localhost:8080/"
        },
        "id": "P-gfw3AWwwZg",
        "outputId": "8ea91282-fcb5-4258-c5d9-de1241e58071"
      },
      "outputs": [
        {
          "name": "stdout",
          "output_type": "stream",
          "text": [
            "Analysis complete for AMR795-001_R2_CACCTTAATCTTAGGATAGA_cutadapt.fastq\n"
          ]
        },
        {
          "name": "stderr",
          "output_type": "stream",
          "text": [
            "Started analysis of AMR795-001_R2_CACCTTAATCTTAGGATAGA_cutadapt.fastq\n",
            "Approx 5% complete for AMR795-001_R2_CACCTTAATCTTAGGATAGA_cutadapt.fastq\n",
            "Approx 10% complete for AMR795-001_R2_CACCTTAATCTTAGGATAGA_cutadapt.fastq\n",
            "Approx 15% complete for AMR795-001_R2_CACCTTAATCTTAGGATAGA_cutadapt.fastq\n",
            "Approx 20% complete for AMR795-001_R2_CACCTTAATCTTAGGATAGA_cutadapt.fastq\n",
            "Approx 25% complete for AMR795-001_R2_CACCTTAATCTTAGGATAGA_cutadapt.fastq\n",
            "Approx 30% complete for AMR795-001_R2_CACCTTAATCTTAGGATAGA_cutadapt.fastq\n",
            "Approx 35% complete for AMR795-001_R2_CACCTTAATCTTAGGATAGA_cutadapt.fastq\n",
            "Approx 40% complete for AMR795-001_R2_CACCTTAATCTTAGGATAGA_cutadapt.fastq\n",
            "Approx 45% complete for AMR795-001_R2_CACCTTAATCTTAGGATAGA_cutadapt.fastq\n",
            "Approx 50% complete for AMR795-001_R2_CACCTTAATCTTAGGATAGA_cutadapt.fastq\n",
            "Approx 55% complete for AMR795-001_R2_CACCTTAATCTTAGGATAGA_cutadapt.fastq\n",
            "Approx 60% complete for AMR795-001_R2_CACCTTAATCTTAGGATAGA_cutadapt.fastq\n",
            "Approx 65% complete for AMR795-001_R2_CACCTTAATCTTAGGATAGA_cutadapt.fastq\n",
            "Approx 70% complete for AMR795-001_R2_CACCTTAATCTTAGGATAGA_cutadapt.fastq\n",
            "Approx 75% complete for AMR795-001_R2_CACCTTAATCTTAGGATAGA_cutadapt.fastq\n",
            "Approx 80% complete for AMR795-001_R2_CACCTTAATCTTAGGATAGA_cutadapt.fastq\n",
            "Approx 85% complete for AMR795-001_R2_CACCTTAATCTTAGGATAGA_cutadapt.fastq\n",
            "Approx 90% complete for AMR795-001_R2_CACCTTAATCTTAGGATAGA_cutadapt.fastq\n",
            "Approx 95% complete for AMR795-001_R2_CACCTTAATCTTAGGATAGA_cutadapt.fastq\n",
            "\n",
            "real\t0m34.329s\n",
            "user\t0m39.685s\n",
            "sys\t0m0.761s\n"
          ]
        }
      ],
      "source": [
        "%%bash\n",
        "time fastqc -o dados/fastqc \\\n",
        "  dados/fastq/AMR795-001_R2_CACCTTAATCTTAGGATAGA_cutadapt.fastq"
      ]
    },
    {
      "cell_type": "code",
      "execution_count": null,
      "metadata": {
        "colab": {
          "base_uri": "https://localhost:8080/"
        },
        "id": "WVV4FHyv8R2e",
        "outputId": "f9e141c2-2cd7-40e6-ea4f-e9b15c7545e0"
      },
      "outputs": [
        {
          "output_type": "stream",
          "name": "stdout",
          "text": [
            "dados\n",
            "drive\n",
            "gatk-4.2.5.0\n",
            "logs\n",
            "picard.jar\n"
          ]
        }
      ],
      "source": [
        "%%bash\n",
        "ls"
      ]
    },
    {
      "cell_type": "code",
      "execution_count": null,
      "metadata": {
        "colab": {
          "base_uri": "https://localhost:8080/"
        },
        "id": "ClPjPmS0MpTV",
        "outputId": "85aecacf-1229-4c26-d467-e302e7ce28b7"
      },
      "outputs": [
        {
          "output_type": "stream",
          "name": "stdout",
          "text": [
            "dados\n",
            "├── annovar\n",
            "├── bedtools\n",
            "├── bwa\n",
            "├── fastq\n",
            "│   ├── LMQ341-00S2.1_S1_R1_CCTCCGTCCACACATCGGTG.fastq.gz\n",
            "│   ├── LMQ341-00S2.1_S1_R2_CCTCCGTCCACACATCGGTG.fastq.gz\n",
            "│   ├── LMQ341-00S2.2_S1_R1_CCTCCGTCCACACATCGGTG.fastq.gz\n",
            "│   ├── LMQ341-00S2.2_S1_R2_CCTCCGTCCACACATCGGTG.fastq.gz\n",
            "│   ├── LMQ341-00S2.3_S1_R1_CCTCCGTCCACACATCGGTG.fastq.gz\n",
            "│   ├── LMQ341-00S2.3_S1_R2_CCTCCGTCCACACATCGGTG.fastq.gz\n",
            "│   ├── LMQ341-00S2.4_S1_R1_CCTCCGTCCACACATCGGTG.fastq.gz\n",
            "│   └── LMQ341-00S2.4_S1_R2_CCTCCGTCCACACATCGGTG.fastq.gz\n",
            "├── fastqc\n",
            "├── freebayes\n",
            "├── gatk\n",
            "└── picard\n",
            "\n",
            "8 directories, 8 files\n"
          ]
        }
      ],
      "source": [
        "%%bash\n",
        "tree dados"
      ]
    },
    {
      "cell_type": "markdown",
      "metadata": {
        "id": "SBqFQST9xSPV"
      },
      "source": [
        "3.3 - Baixando e indexando o genoma de referência\n",
        "Para encontrar as variantes genéticas no nosso dado, precisamos compará-lo com a referência do genoma humano. Vamos criar uma estrutura de diretórios para guardar essa referência:"
      ]
    },
    {
      "cell_type": "code",
      "execution_count": null,
      "metadata": {
        "id": "YLJ40Z5qw0dJ"
      },
      "outputs": [],
      "source": [
        "%%bash\n",
        "mkdir referencia\n",
        "mkdir referencia/hg19"
      ]
    },
    {
      "cell_type": "code",
      "execution_count": null,
      "metadata": {
        "colab": {
          "base_uri": "https://localhost:8080/"
        },
        "id": "1u7wp_MmmQlj",
        "outputId": "bcd9bb64-01a3-469d-e0e0-e3fa9bdc2475"
      },
      "outputs": [
        {
          "output_type": "stream",
          "name": "stdout",
          "text": [
            "dados\n",
            "drive\n",
            "gatk-4.2.5.0\n",
            "logs\n",
            "picard.jar\n",
            "referencia\n"
          ]
        }
      ],
      "source": [
        "%%bash \n",
        "ls\n"
      ]
    },
    {
      "cell_type": "code",
      "execution_count": null,
      "metadata": {
        "colab": {
          "base_uri": "https://localhost:8080/"
        },
        "id": "sMyQSC6p_TOD",
        "outputId": "e4cce4fb-c4b8-4568-90e2-015a2d64704e"
      },
      "outputs": [
        {
          "output_type": "stream",
          "name": "stdout",
          "text": [
            "total 0\n"
          ]
        }
      ],
      "source": [
        "%%bash\n",
        "ls -l referencia/hg19"
      ]
    },
    {
      "cell_type": "markdown",
      "metadata": {
        "id": "dOttwKcvxWTm"
      },
      "source": [
        "A seguir, vamos baixá-la do UCSC. Será baixado apenas um cromossomo, para acelerar as análises. Em uma aplicação real, seria necessário baixar o arquivo com todos os cromossomos humanos."
      ]
    },
    {
      "cell_type": "code",
      "execution_count": null,
      "metadata": {
        "id": "CHMQWOkHyaYI"
      },
      "outputs": [],
      "source": [
        "%%bash\n",
        "cd referencia/hg19/\n",
        "wget ftp://hgdownload.soe.ucsc.edu/goldenPath/hg19/bigZips/latest/hg19.fa.gz \\\n",
        "1>/content/logs/logs_down_hg19.txt \\\n",
        "2>/content/logs/erros_down_hg19.txt\n",
        "# gunzip <file>.fa.gz\n",
        "gunzip hg19.fa.gz\n"
      ]
    },
    {
      "cell_type": "code",
      "execution_count": null,
      "metadata": {
        "id": "mu6vt8grxoHm"
      },
      "outputs": [],
      "source": [
        "##%%bash\n",
        "cd referencia/hg19/\n",
        "wget ftp://hgdownload.soe.ucsc.edu/goldenPath/hg19/chromosomes/chr12.fa.gz \\\n",
        "1>/content/logs/logs_down_chr12.txt \\\n",
        "2>/content/logs/erros_down_chr12.txt\n",
        "#Descompactar o arquivo gz do cromossomo 12;\n",
        "gunzip chr12.fa.gz"
      ]
    },
    {
      "cell_type": "code",
      "execution_count": null,
      "metadata": {
        "colab": {
          "base_uri": "https://localhost:8080/"
        },
        "id": "VCSw85Em9uJ6",
        "outputId": "44f5fe12-7987-43b9-e5d9-391809ef63e0"
      },
      "outputs": [
        {
          "output_type": "stream",
          "name": "stdout",
          "text": [
            "dados\n",
            "├── annovar\n",
            "├── bedtools\n",
            "├── bwa\n",
            "├── fastq\n",
            "│   ├── LMQ341-00S2.1_S1_R1_CCTCCGTCCACACATCGGTG.fastq.gz\n",
            "│   ├── LMQ341-00S2.1_S1_R2_CCTCCGTCCACACATCGGTG.fastq.gz\n",
            "│   ├── LMQ341-00S2.2_S1_R1_CCTCCGTCCACACATCGGTG.fastq.gz\n",
            "│   ├── LMQ341-00S2.2_S1_R2_CCTCCGTCCACACATCGGTG.fastq.gz\n",
            "│   ├── LMQ341-00S2.3_S1_R1_CCTCCGTCCACACATCGGTG.fastq.gz\n",
            "│   ├── LMQ341-00S2.3_S1_R2_CCTCCGTCCACACATCGGTG.fastq.gz\n",
            "│   ├── LMQ341-00S2.4_S1_R1_CCTCCGTCCACACATCGGTG.fastq.gz\n",
            "│   └── LMQ341-00S2.4_S1_R2_CCTCCGTCCACACATCGGTG.fastq.gz\n",
            "├── fastqc\n",
            "├── freebayes\n",
            "├── gatk\n",
            "└── picard\n",
            "referencia\n",
            "└── hg19\n",
            "    └── hg19.fa\n",
            "\n",
            "9 directories, 9 files\n"
          ]
        }
      ],
      "source": [
        "%%bash\n",
        "tree dados referencia"
      ]
    },
    {
      "cell_type": "code",
      "execution_count": null,
      "metadata": {
        "colab": {
          "base_uri": "https://localhost:8080/"
        },
        "id": "m5wWrf0ABGiX",
        "outputId": "0a7ed0d4-e322-4d70-d32d-0f0377f72d80"
      },
      "outputs": [
        {
          "output_type": "stream",
          "name": "stdout",
          "text": [
            "-rw-r--r-- 1 root root 3.1G Jun  5 10:08 referencia/hg19/hg19.fa\n"
          ]
        }
      ],
      "source": [
        "%%bash\n",
        "ls -lh referencia/hg19/hg19.fa"
      ]
    },
    {
      "cell_type": "code",
      "execution_count": null,
      "metadata": {
        "colab": {
          "base_uri": "https://localhost:8080/"
        },
        "id": "I19QoaTJBZWg",
        "outputId": "c145a05f-7898-4f07-89ca-e5ed53f378c5"
      },
      "outputs": [
        {
          "output_type": "stream",
          "name": "stdout",
          "text": [
            "TTACTGCCAGCCACCATGAATATTGTACGGTACCATAAATACTTGACCAC\n",
            "CTGTAGTACATAAAAACCCAATCCACATCAAAACCCCCTCCCCATGCTTA\n",
            "CAAGcaagtacagcaatcaaccctcaactatcacacatcaactgcaactC\n",
            "CAAAGCCACCCCTCACCCACTAGGATACCAACAAACCTACCCACCCTTAA\n",
            "CAGTACATAGTACATAAAGCCATTTACCGTACATAGCACATTACAGTCAA\n",
            "ATCCCTTCTCGTCCCCATGGATGACCCCCCTCAGATAGGGGTCCCTTGAC\n",
            "CACCATCCTCCGTGAAATCAATATCCCGCACAAGAGTGCTACTCTCCTCG\n",
            "CTCCGGGCCCATAACACTTGGGGGTAGCTAAAGTGAACTGTATCCGACAT\n",
            "CTGGTTCCTACTTCAGGGTCATAAAGCCTAAATAGCCCACACGTTCCCCT\n",
            "TAAATAAGACATCACGATG\n"
          ]
        }
      ],
      "source": [
        "%%bash\n",
        "cat referencia/hg19/hg19.fa | tail -n 10"
      ]
    },
    {
      "cell_type": "markdown",
      "metadata": {
        "id": "YiwSufWNxw7L"
      },
      "source": [
        "Também é necessário indexar esse genoma. O objetivo é, de forma simples, criar um arquivo que permita aos algoritmos de mapeamento localizar rapidamente qualquer sequência nesse genoma. Sem essa etapa, não seria possível fazer o mapeamento e chamada de variantes."
      ]
    },
    {
      "cell_type": "code",
      "execution_count": null,
      "metadata": {
        "colab": {
          "base_uri": "https://localhost:8080/"
        },
        "id": "FNfy5RjEEDqn",
        "outputId": "d82cff76-3c74-4680-85f7-386c5273c6c1"
      },
      "outputs": [
        {
          "output_type": "stream",
          "name": "stderr",
          "text": [
            "\n",
            "Program: bwa (alignment via Burrows-Wheeler transformation)\n",
            "Version: 0.7.17-r1188\n",
            "Contact: Heng Li <lh3@sanger.ac.uk>\n",
            "\n",
            "Usage:   bwa <command> [options]\n",
            "\n",
            "Command: index         index sequences in the FASTA format\n",
            "         mem           BWA-MEM algorithm\n",
            "         fastmap       identify super-maximal exact matches\n",
            "         pemerge       merge overlapping paired ends (EXPERIMENTAL)\n",
            "         aln           gapped/ungapped alignment\n",
            "         samse         generate alignment (single ended)\n",
            "         sampe         generate alignment (paired ended)\n",
            "         bwasw         BWA-SW for long queries\n",
            "\n",
            "         shm           manage indices in shared memory\n",
            "         fa2pac        convert FASTA to PAC format\n",
            "         pac2bwt       generate BWT from PAC\n",
            "         pac2bwtgen    alternative algorithm for generating BWT\n",
            "         bwtupdate     update .bwt to the new format\n",
            "         bwt2sa        generate SA from BWT and Occ\n",
            "\n",
            "Note: To use BWA, you need to first index the genome with `bwa index'.\n",
            "      There are three alignment algorithms in BWA: `mem', `bwasw', and\n",
            "      `aln/samse/sampe'. If you are not sure which to use, try `bwa mem'\n",
            "      first. Please `man ./bwa.1' for the manual.\n",
            "\n"
          ]
        }
      ],
      "source": [
        "%%bash\n",
        "bwa | head"
      ]
    },
    {
      "cell_type": "code",
      "execution_count": null,
      "metadata": {
        "colab": {
          "base_uri": "https://localhost:8080/"
        },
        "id": "FAbZ4QdyzJI3",
        "outputId": "37db5af8-3339-41cd-cd6f-fd2adeb3dad9"
      },
      "outputs": [
        {
          "output_type": "stream",
          "name": "stderr",
          "text": [
            "[bwa_index] Pack FASTA... 20.36 sec\n",
            "[bwa_index] Construct BWT for the packed sequence...\n",
            "[BWTIncCreate] textLength=6469702520, availableWord=467231724\n",
            "[BWTIncConstructFromPacked] 10 iterations done. 99999992 characters processed.\n",
            "[BWTIncConstructFromPacked] 20 iterations done. 199999992 characters processed.\n",
            "[BWTIncConstructFromPacked] 30 iterations done. 299999992 characters processed.\n",
            "[BWTIncConstructFromPacked] 40 iterations done. 399999992 characters processed.\n",
            "[BWTIncConstructFromPacked] 50 iterations done. 499999992 characters processed.\n",
            "[BWTIncConstructFromPacked] 60 iterations done. 599999992 characters processed.\n",
            "[BWTIncConstructFromPacked] 70 iterations done. 699999992 characters processed.\n",
            "[BWTIncConstructFromPacked] 80 iterations done. 799999992 characters processed.\n",
            "[BWTIncConstructFromPacked] 90 iterations done. 899999992 characters processed.\n",
            "[BWTIncConstructFromPacked] 100 iterations done. 999999992 characters processed.\n",
            "[BWTIncConstructFromPacked] 110 iterations done. 1099999992 characters processed.\n",
            "[BWTIncConstructFromPacked] 120 iterations done. 1199999992 characters processed.\n",
            "[BWTIncConstructFromPacked] 130 iterations done. 1299999992 characters processed.\n",
            "[BWTIncConstructFromPacked] 140 iterations done. 1399999992 characters processed.\n",
            "[BWTIncConstructFromPacked] 150 iterations done. 1499999992 characters processed.\n",
            "[BWTIncConstructFromPacked] 160 iterations done. 1599999992 characters processed.\n",
            "[BWTIncConstructFromPacked] 170 iterations done. 1699999992 characters processed.\n",
            "[BWTIncConstructFromPacked] 180 iterations done. 1799999992 characters processed.\n",
            "[BWTIncConstructFromPacked] 190 iterations done. 1899999992 characters processed.\n",
            "[BWTIncConstructFromPacked] 200 iterations done. 1999999992 characters processed.\n",
            "[BWTIncConstructFromPacked] 210 iterations done. 2099999992 characters processed.\n",
            "[BWTIncConstructFromPacked] 220 iterations done. 2199999992 characters processed.\n",
            "[BWTIncConstructFromPacked] 230 iterations done. 2299999992 characters processed.\n",
            "[BWTIncConstructFromPacked] 240 iterations done. 2399999992 characters processed.\n",
            "[BWTIncConstructFromPacked] 250 iterations done. 2499999992 characters processed.\n",
            "[BWTIncConstructFromPacked] 260 iterations done. 2599999992 characters processed.\n",
            "[BWTIncConstructFromPacked] 270 iterations done. 2699999992 characters processed.\n",
            "[BWTIncConstructFromPacked] 280 iterations done. 2799999992 characters processed.\n",
            "[BWTIncConstructFromPacked] 290 iterations done. 2899999992 characters processed.\n",
            "[BWTIncConstructFromPacked] 300 iterations done. 2999999992 characters processed.\n",
            "[BWTIncConstructFromPacked] 310 iterations done. 3099999992 characters processed.\n",
            "[BWTIncConstructFromPacked] 320 iterations done. 3199999992 characters processed.\n",
            "[BWTIncConstructFromPacked] 330 iterations done. 3299999992 characters processed.\n",
            "[BWTIncConstructFromPacked] 340 iterations done. 3399999992 characters processed.\n",
            "[BWTIncConstructFromPacked] 350 iterations done. 3499999992 characters processed.\n",
            "[BWTIncConstructFromPacked] 360 iterations done. 3599999992 characters processed.\n",
            "[BWTIncConstructFromPacked] 370 iterations done. 3699999992 characters processed.\n",
            "[BWTIncConstructFromPacked] 380 iterations done. 3799999992 characters processed.\n",
            "[BWTIncConstructFromPacked] 390 iterations done. 3899999992 characters processed.\n",
            "[BWTIncConstructFromPacked] 400 iterations done. 3999999992 characters processed.\n",
            "[BWTIncConstructFromPacked] 410 iterations done. 4099999992 characters processed.\n",
            "[BWTIncConstructFromPacked] 420 iterations done. 4199999992 characters processed.\n",
            "[BWTIncConstructFromPacked] 430 iterations done. 4299999992 characters processed.\n",
            "[BWTIncConstructFromPacked] 440 iterations done. 4399999992 characters processed.\n",
            "[BWTIncConstructFromPacked] 450 iterations done. 4499999992 characters processed.\n",
            "[BWTIncConstructFromPacked] 460 iterations done. 4599999992 characters processed.\n",
            "[BWTIncConstructFromPacked] 470 iterations done. 4699999992 characters processed.\n",
            "[BWTIncConstructFromPacked] 480 iterations done. 4799999992 characters processed.\n",
            "[BWTIncConstructFromPacked] 490 iterations done. 4899999992 characters processed.\n",
            "[BWTIncConstructFromPacked] 500 iterations done. 4999999992 characters processed.\n",
            "[BWTIncConstructFromPacked] 510 iterations done. 5099999992 characters processed.\n",
            "[BWTIncConstructFromPacked] 520 iterations done. 5199999992 characters processed.\n",
            "[BWTIncConstructFromPacked] 530 iterations done. 5299999992 characters processed.\n",
            "[BWTIncConstructFromPacked] 540 iterations done. 5399999992 characters processed.\n",
            "[BWTIncConstructFromPacked] 550 iterations done. 5499999992 characters processed.\n",
            "[BWTIncConstructFromPacked] 560 iterations done. 5599999992 characters processed.\n",
            "[BWTIncConstructFromPacked] 570 iterations done. 5699999992 characters processed.\n",
            "[BWTIncConstructFromPacked] 580 iterations done. 5799995704 characters processed.\n",
            "[BWTIncConstructFromPacked] 590 iterations done. 5893729352 characters processed.\n",
            "[BWTIncConstructFromPacked] 600 iterations done. 5977036056 characters processed.\n",
            "[BWTIncConstructFromPacked] 610 iterations done. 6051075272 characters processed.\n",
            "[BWTIncConstructFromPacked] 620 iterations done. 6116877496 characters processed.\n",
            "[BWTIncConstructFromPacked] 630 iterations done. 6175358680 characters processed.\n",
            "[BWTIncConstructFromPacked] 640 iterations done. 6227332856 characters processed.\n",
            "[BWTIncConstructFromPacked] 650 iterations done. 6273523656 characters processed.\n",
            "[BWTIncConstructFromPacked] 660 iterations done. 6314574104 characters processed.\n",
            "[BWTIncConstructFromPacked] 670 iterations done. 6351055832 characters processed.\n",
            "[BWTIncConstructFromPacked] 680 iterations done. 6383476888 characters processed.\n",
            "[BWTIncConstructFromPacked] 690 iterations done. 6412288760 characters processed.\n",
            "[BWTIncConstructFromPacked] 700 iterations done. 6437892776 characters processed.\n",
            "[BWTIncConstructFromPacked] 710 iterations done. 6460645640 characters processed.\n",
            "[bwt_gen] Finished constructing BWT in 715 iterations.\n",
            "[bwa_index] 2972.70 seconds elapse.\n",
            "[bwa_index] Update BWT... 24.19 sec\n",
            "[bwa_index] Pack forward-only FASTA... 29.58 sec\n",
            "[bwa_index] Construct SA from BWT and Occ... 2165.26 sec\n",
            "[main] Version: 0.7.17-r1188\n",
            "[main] CMD: bwa index -a bwtsw referencia/hg19/hg19.fa\n",
            "[main] Real time: 5307.174 sec; CPU: 5212.093 sec\n",
            "\n",
            "real\t88m27.182s\n",
            "user\t86m14.957s\n",
            "sys\t0m37.138s\n"
          ]
        }
      ],
      "source": [
        "%%bash\n",
        "time bwa index -a bwtsw referencia/hg19/hg19.fa"
      ]
    },
    {
      "cell_type": "code",
      "execution_count": null,
      "metadata": {
        "colab": {
          "base_uri": "https://localhost:8080/"
        },
        "id": "3LB-0hCwzzNE",
        "outputId": "ab043168-556b-4912-ead2-7de1d65a4df2"
      },
      "outputs": [
        {
          "name": "stdout",
          "output_type": "stream",
          "text": [
            "@HD\tVN:1.6\tSO:queryname\n",
            "@RG\tID:21020.1\tSM:AMR795-001\tLB:B5001_FLEX-TWIST-2021_1457\tPL:ILLUMINA\tPU:210203_A00776_0119_BHKC7TDSXY.1.CACCTTAATC-TTAGGATAGA\tCN:mendelics\n",
            "@PG\tID:samtools\tPN:samtools\tVN:1.10\tCL:samtools view -H /content/drive/MyDrive/corridas/AMR795-001_1_CACCTTAATCTTAGGATAGA.bam\n"
          ]
        }
      ],
      "source": [
        "%%bash\n",
        "\n",
        "samtools view -H /content/drive/MyDrive/corridas/AMR795-001_1_CACCTTAATCTTAGGATAGA.bam"
      ]
    },
    {
      "cell_type": "code",
      "execution_count": null,
      "metadata": {
        "colab": {
          "base_uri": "https://localhost:8080/"
        },
        "id": "HB4PtWfLzQB0",
        "outputId": "442e840f-e7c2-44a1-cb52-ac01da4303d0"
      },
      "outputs": [
        {
          "output_type": "stream",
          "name": "stdout",
          "text": [
            "dados\n",
            "├── annovar\n",
            "├── bedtools\n",
            "├── bwa\n",
            "├── fastq\n",
            "│   ├── LMQ341-00S2.1_S1_R1_CCTCCGTCCACACATCGGTG.fastq.gz\n",
            "│   ├── LMQ341-00S2.1_S1_R2_CCTCCGTCCACACATCGGTG.fastq.gz\n",
            "│   ├── LMQ341-00S2.2_S1_R1_CCTCCGTCCACACATCGGTG.fastq.gz\n",
            "│   ├── LMQ341-00S2.2_S1_R2_CCTCCGTCCACACATCGGTG.fastq.gz\n",
            "│   ├── LMQ341-00S2.3_S1_R1_CCTCCGTCCACACATCGGTG.fastq.gz\n",
            "│   ├── LMQ341-00S2.3_S1_R2_CCTCCGTCCACACATCGGTG.fastq.gz\n",
            "│   ├── LMQ341-00S2.4_S1_R1_CCTCCGTCCACACATCGGTG.fastq.gz\n",
            "│   └── LMQ341-00S2.4_S1_R2_CCTCCGTCCACACATCGGTG.fastq.gz\n",
            "├── fastqc\n",
            "├── freebayes\n",
            "├── gatk\n",
            "└── picard\n",
            "referencia\n",
            "└── hg19\n",
            "    ├── hg19.fa\n",
            "    ├── hg19.fa.amb\n",
            "    ├── hg19.fa.ann\n",
            "    ├── hg19.fa.bwt\n",
            "    ├── hg19.fa.pac\n",
            "    └── hg19.fa.sa\n",
            "\n",
            "9 directories, 14 files\n"
          ]
        }
      ],
      "source": [
        "%%bash\n",
        "tree dados referencia"
      ]
    },
    {
      "cell_type": "code",
      "execution_count": null,
      "metadata": {
        "colab": {
          "base_uri": "https://localhost:8080/"
        },
        "id": "U7rEvxj5G22O",
        "outputId": "0d349193-97cf-4f96-c61a-a1f37e01d524"
      },
      "outputs": [
        {
          "output_type": "stream",
          "name": "stderr",
          "text": [
            "\n",
            "Program: samtools (Tools for alignments in the SAM format)\n",
            "Version: 1.10 (using htslib 1.10.2-3ubuntu0.1)\n",
            "\n",
            "Usage:   samtools <command> [options]\n",
            "\n",
            "Commands:\n",
            "  -- Indexing\n",
            "     dict           create a sequence dictionary file\n",
            "     faidx          index/extract FASTA\n",
            "     fqidx          index/extract FASTQ\n",
            "     index          index alignment\n",
            "\n",
            "  -- Editing\n",
            "     calmd          recalculate MD/NM tags and '=' bases\n",
            "     fixmate        fix mate information\n",
            "     reheader       replace BAM header\n",
            "     targetcut      cut fosmid regions (for fosmid pool only)\n",
            "     addreplacerg   adds or replaces RG tags\n",
            "     markdup        mark duplicates\n",
            "\n",
            "  -- File operations\n",
            "     collate        shuffle and group alignments by name\n",
            "     cat            concatenate BAMs\n",
            "     merge          merge sorted alignments\n",
            "     mpileup        multi-way pileup\n",
            "     sort           sort alignment file\n",
            "     split          splits a file by read group\n",
            "     quickcheck     quickly check if SAM/BAM/CRAM file appears intact\n",
            "     fastq          converts a BAM to a FASTQ\n",
            "     fasta          converts a BAM to a FASTA\n",
            "\n",
            "  -- Statistics\n",
            "     bedcov         read depth per BED region\n",
            "     coverage       alignment depth and percent coverage\n",
            "     depth          compute the depth\n",
            "     flagstat       simple stats\n",
            "     idxstats       BAM index stats\n",
            "     phase          phase heterozygotes\n",
            "     stats          generate stats (former bamcheck)\n",
            "\n",
            "  -- Viewing\n",
            "     flags          explain BAM flags\n",
            "     tview          text alignment viewer\n",
            "     view           SAM<->BAM<->CRAM conversion\n",
            "     depad          convert padded BAM to unpadded BAM\n",
            "\n"
          ]
        }
      ],
      "source": [
        "%%bash\n",
        "samtools | head"
      ]
    },
    {
      "cell_type": "code",
      "execution_count": null,
      "metadata": {
        "colab": {
          "base_uri": "https://localhost:8080/"
        },
        "id": "JRJ9BML4zSAX",
        "outputId": "e3646e63-e1f2-4191-a7bd-4e6d7b642c5e"
      },
      "outputs": [
        {
          "output_type": "stream",
          "name": "stderr",
          "text": [
            "\n",
            "real\t0m22.242s\n",
            "user\t0m10.939s\n",
            "sys\t0m1.961s\n"
          ]
        }
      ],
      "source": [
        "%%bash\n",
        "time samtools faidx referencia/hg19/hg19.fa"
      ]
    },
    {
      "cell_type": "code",
      "execution_count": null,
      "metadata": {
        "colab": {
          "base_uri": "https://localhost:8080/"
        },
        "id": "B_a6FtTz0FS3",
        "outputId": "b2adaab0-16b1-4568-fa9b-e65e52b544b7"
      },
      "outputs": [
        {
          "output_type": "stream",
          "name": "stdout",
          "text": [
            "referencia\n",
            "└── hg19\n",
            "    ├── hg19.fa\n",
            "    ├── hg19.fa.amb\n",
            "    ├── hg19.fa.ann\n",
            "    ├── hg19.fa.bwt\n",
            "    ├── hg19.fa.fai\n",
            "    ├── hg19.fa.pac\n",
            "    └── hg19.fa.sa\n",
            "\n",
            "1 directory, 7 files\n"
          ]
        }
      ],
      "source": [
        "%%bash\n",
        "tree referencia"
      ]
    },
    {
      "cell_type": "code",
      "execution_count": null,
      "metadata": {
        "colab": {
          "base_uri": "https://localhost:8080/"
        },
        "id": "0qu16KK00Hbn",
        "outputId": "caadc59a-a835-499b-b78d-05f220e212d7"
      },
      "outputs": [
        {
          "output_type": "stream",
          "name": "stderr",
          "text": [
            "INFO\t2023-06-05 11:44:00\tCreateSequenceDictionary\t\n",
            "\n",
            "********** NOTE: Picard's command line syntax is changing.\n",
            "**********\n",
            "********** For more information, please see:\n",
            "********** https://github.com/broadinstitute/picard/wiki/Command-Line-Syntax-Transition-For-Users-(Pre-Transition)\n",
            "**********\n",
            "********** The command line looks like this in the new syntax:\n",
            "**********\n",
            "**********    CreateSequenceDictionary -REFERENCE referencia/hg19/hg19.fa -OUTPUT referencia/hg19/hg19.dict\n",
            "**********\n",
            "\n",
            "\n",
            "11:44:01.199 INFO  NativeLibraryLoader - Loading libgkl_compression.so from jar:file:/content/picard.jar!/com/intel/gkl/native/libgkl_compression.so\n",
            "[Mon Jun 05 11:44:01 UTC 2023] CreateSequenceDictionary OUTPUT=referencia/hg19/hg19.dict REFERENCE=referencia/hg19/hg19.fa    TRUNCATE_NAMES_AT_WHITESPACE=true NUM_SEQUENCES=2147483647 VERBOSITY=INFO QUIET=false VALIDATION_STRINGENCY=STRICT COMPRESSION_LEVEL=5 MAX_RECORDS_IN_RAM=500000 CREATE_INDEX=false CREATE_MD5_FILE=false GA4GH_CLIENT_SECRETS=client_secrets.json USE_JDK_DEFLATER=false USE_JDK_INFLATER=false\n",
            "[Mon Jun 05 11:44:01 UTC 2023] Executing as root@239586085bee on Linux 5.15.107+ amd64; OpenJDK 64-Bit Server VM 11.0.19+7-post-Ubuntu-0ubuntu120.04.1; Deflater: Intel; Inflater: Intel; Provider GCS is not available; Picard version: 2.24.2\n",
            "[Mon Jun 05 11:44:16 UTC 2023] picard.sam.CreateSequenceDictionary done. Elapsed time: 0.25 minutes.\n",
            "Runtime.totalMemory()=708837376\n"
          ]
        }
      ],
      "source": [
        "%%bash\n",
        "java -jar picard.jar CreateSequenceDictionary \\\n",
        "REFERENCE=referencia/hg19/hg19.fa \\\n",
        "OUTPUT=referencia/hg19/hg19.dict"
      ]
    },
    {
      "cell_type": "code",
      "execution_count": null,
      "metadata": {
        "colab": {
          "base_uri": "https://localhost:8080/"
        },
        "id": "k-TeHyj490vD",
        "outputId": "81401436-641d-450e-80e9-25dddfe5bba8"
      },
      "outputs": [
        {
          "output_type": "stream",
          "name": "stdout",
          "text": [
            "referencia\n",
            "└── hg19\n",
            "    ├── hg19.dict\n",
            "    ├── hg19.fa\n",
            "    ├── hg19.fa.amb\n",
            "    ├── hg19.fa.ann\n",
            "    ├── hg19.fa.bwt\n",
            "    ├── hg19.fa.fai\n",
            "    ├── hg19.fa.pac\n",
            "    └── hg19.fa.sa\n",
            "\n",
            "1 directory, 8 files\n"
          ]
        }
      ],
      "source": [
        "%%bash\n",
        "tree referencia"
      ]
    },
    {
      "cell_type": "code",
      "source": [
        "%%bash\n",
        "#Etapa de mapeamento dos reads em relação a referencia do chr12\n",
        "NOME=itatiana\n",
        "Biblioteca=FocusDNA\n",
        "Plataforma=Illumina\n",
        "\n",
        "time bwa mem -M -R \"@RG\\tID:CAP\\tSM:$NOME\\tLB:$Biblioteca\\tPL:$Plataforma\" \\\n",
        "referencia/hg19/hg19.fa \\\n",
        "dados/fastq/AMOSTRA01_R1.fastq.gz \\\n",
        "dados/fastq/AMOSTRA01_R2.fastq.gz 1>dados/bwa/AMOSTRA01.sam \\\n",
        "2>/content/logs/erros_bwa_mem.txt"
      ],
      "metadata": {
        "id": "uc_cqpcuXZBX"
      },
      "execution_count": null,
      "outputs": []
    },
    {
      "cell_type": "code",
      "execution_count": null,
      "metadata": {
        "colab": {
          "base_uri": "https://localhost:8080/"
        },
        "id": "iKJe5X0xqBG3",
        "outputId": "a3139485-ade2-4a02-b457-58a6acc6c408"
      },
      "outputs": [
        {
          "output_type": "stream",
          "name": "stderr",
          "text": [
            "\n",
            "real\t50m36.207s\n",
            "user\t50m12.163s\n",
            "sys\t0m16.900s\n"
          ]
        }
      ],
      "source": [
        "%%bash\n",
        "NOME=itatiana\n",
        "Biblioteca=ID:2101.1\n",
        "Plataforma=Illumina\n",
        "time bwa mem -M -R \"@RG\\tID:CAP\\tSM:$NOME\\tLB:$Biblioteca\\tPL:$Plataforma\" \\\n",
        "referencia/hg19/hg19.fa \\\n",
        "dados/fastq/LWV461-00S1.4_S1_R1_ACATATCCAGTATGTGCAAT.fastq.gz \\\n",
        "dados/fastq/LWV461-00S1.4_S1_R2_ACATATCCAGTATGTGCAAT.fastq.gz 1>dados/bwa/LWV461-00S1.4.sam \\\n",
        "2>/content/logs/erros_bwa_mem.txt"
      ]
    },
    {
      "cell_type": "code",
      "source": [
        "%%bash\n",
        "NOME=itatiana\n",
        "Biblioteca=ID:2101.1\n",
        "Plataforma=Illumina\n",
        "time bwa mem -M -R \"@RG\\tID:CAP\\tSM:$NOME\\tLB:$Biblioteca\\tPL:$Plataforma\" \\\n",
        "referencia/hg19/hg19.fa \\\n",
        "dados/fastq/LWV461-00S1.3_S1_R1_ACATATCCAGTATGTGCAAT.fastq.gz \\\n",
        "dados/fastq/LWV461-00S1.3_S1_R2_ACATATCCAGTATGTGCAAT.fastq.gz 1>dados/bwa/LWV461-00S1.3.sam \\\n",
        "2>/content/logs/erros_bwa_mem.txt"
      ],
      "metadata": {
        "colab": {
          "base_uri": "https://localhost:8080/"
        },
        "id": "sXlMliwxtRzx",
        "outputId": "f0ce0fa1-058b-4cce-dee6-28743fc22d90"
      },
      "execution_count": null,
      "outputs": [
        {
          "output_type": "stream",
          "name": "stderr",
          "text": [
            "\n",
            "real\t50m43.684s\n",
            "user\t50m20.154s\n",
            "sys\t0m17.926s\n"
          ]
        }
      ]
    },
    {
      "cell_type": "code",
      "source": [
        "%%bash\n",
        "NOME=itatiana\n",
        "Biblioteca=ID:2101.1\n",
        "Plataforma=Illumina\n",
        "time bwa mem -M -R \"@RG\\tID:CAP\\tSM:$NOME\\tLB:$Biblioteca\\tPL:$Plataforma\" \\\n",
        "referencia/hg19/hg19.fa \\\n",
        "dados/fastq/LWV461-00S1.2_S1_R1_ACATATCCAGTATGTGCAAT.fastq.gz \\\n",
        "dados/fastq/LWV461-00S1.2_S1_R2_ACATATCCAGTATGTGCAAT.fastq.gz 1>dados/bwa/LWV461-00S1.2.sam \\\n",
        "2>/content/logs/erros_bwa_mem.txt"
      ],
      "metadata": {
        "colab": {
          "base_uri": "https://localhost:8080/"
        },
        "id": "SZMzl5Q_Su8S",
        "outputId": "bc1c1a89-dfc2-4afd-add7-b7f9d9c681c6"
      },
      "execution_count": null,
      "outputs": [
        {
          "output_type": "stream",
          "name": "stderr",
          "text": [
            "\n",
            "real\t50m42.321s\n",
            "user\t50m19.398s\n",
            "sys\t0m17.705s\n"
          ]
        }
      ]
    },
    {
      "cell_type": "code",
      "source": [
        "%%bash\n",
        "NOME=itatiana\n",
        "Biblioteca=ID:2101.1\n",
        "Plataforma=Illumina\n",
        "time bwa mem -M -R \"@RG\\tID:CAP\\tSM:$NOME\\tLB:$Biblioteca\\tPL:$Plataforma\" \\\n",
        "referencia/hg19/hg19.fa \\\n",
        "dados/fastq/LWV461-00S1.1_S1_R1_ACATATCCAGTATGTGCAAT.fastq.gz \\\n",
        "dados/fastq/LWV461-00S1.1_S1_R2_ACATATCCAGTATGTGCAAT.fastq.gz 1>dados/bwa/LWV461-00S1.1.sam \\\n",
        "2>/content/logs/erros_bwa_mem.txt"
      ],
      "metadata": {
        "colab": {
          "base_uri": "https://localhost:8080/"
        },
        "id": "QUciY2JZSySn",
        "outputId": "eaab8c63-efdb-46ee-b5bb-5a6b3c8d8b15"
      },
      "execution_count": null,
      "outputs": [
        {
          "output_type": "stream",
          "name": "stderr",
          "text": [
            "\n",
            "real\t51m17.765s\n",
            "user\t50m54.147s\n",
            "sys\t0m18.053s\n"
          ]
        }
      ]
    },
    {
      "cell_type": "code",
      "source": [
        "%%bash\n",
        "cd /content/dados/bwa\n",
        "\n",
        "samtools merge merged.sam LWV461-00S1.1.sam LWV461-00S1.2.sam LWV461-00S1.3.sam LWV461-00S1.4.sam "
      ],
      "metadata": {
        "colab": {
          "base_uri": "https://localhost:8080/"
        },
        "id": "7YDm_Mgha2Lg",
        "outputId": "a4956baf-1a5f-452b-b05e-d06553bf2994"
      },
      "execution_count": null,
      "outputs": [
        {
          "output_type": "stream",
          "name": "stderr",
          "text": [
            "[W::bam_merge_core2] No @HD tag found.\n"
          ]
        }
      ]
    },
    {
      "cell_type": "code",
      "execution_count": null,
      "metadata": {
        "colab": {
          "base_uri": "https://localhost:8080/"
        },
        "id": "CwyyYqnqojlK",
        "outputId": "ddf54a97-7667-4b64-cb8a-524c844e96ca"
      },
      "outputs": [
        {
          "output_type": "stream",
          "name": "stdout",
          "text": [
            "@SQ\tSN:chr1\tLN:249250621\n",
            "@SQ\tSN:chr2\tLN:243199373\n",
            "@SQ\tSN:chr3\tLN:198022430\n",
            "@SQ\tSN:chr4\tLN:191154276\n",
            "@SQ\tSN:chr5\tLN:180915260\n",
            "@SQ\tSN:chr6\tLN:171115067\n",
            "@SQ\tSN:chr7\tLN:159138663\n",
            "@SQ\tSN:chrX\tLN:155270560\n",
            "@SQ\tSN:chr8\tLN:146364022\n",
            "@SQ\tSN:chr9\tLN:141213431\n"
          ]
        }
      ],
      "source": [
        "! head dados/bwa/merged.sam"
      ]
    },
    {
      "cell_type": "code",
      "execution_count": null,
      "metadata": {
        "colab": {
          "base_uri": "https://localhost:8080/"
        },
        "id": "EU5ZJm3ZBp8I",
        "outputId": "6975ac68-5e38-453d-c1e5-65e007bd7be0"
      },
      "outputs": [
        {
          "output_type": "stream",
          "name": "stderr",
          "text": [
            "\n",
            "real\t5m0.983s\n",
            "user\t4m29.499s\n",
            "sys\t0m23.148s\n",
            "[bam_sort_core] merging from 30 files and 1 in-memory blocks...\n",
            "\n",
            "real\t7m41.895s\n",
            "user\t7m4.859s\n",
            "sys\t0m18.316s\n",
            "\n",
            "real\t0m27.107s\n",
            "user\t0m25.793s\n",
            "sys\t0m0.860s\n"
          ]
        }
      ],
      "source": [
        "%%bash\n",
        "time samtools fixmate dados/bwa/merged.sam dados/bwa/LWV461-001.bam\n",
        "time samtools sort -O bam -o dados/bwa/LWV461-001_sorted.bam dados/bwa/LWV461-001.bam\n",
        "time samtools index dados/bwa/LWV461-001_sorted.bam"
      ]
    },
    {
      "cell_type": "code",
      "execution_count": null,
      "metadata": {
        "colab": {
          "background_save": true
        },
        "id": "0tY5AppidNFZ"
      },
      "outputs": [],
      "source": [
        "%%bash\n",
        "#tree dados/bwa/\n",
        "#samtools index --help\n",
        "#head dados/bwa/AMOSTRA01.bam"
      ]
    },
    {
      "cell_type": "code",
      "execution_count": null,
      "metadata": {
        "colab": {
          "base_uri": "https://localhost:8080/"
        },
        "id": "U646JRCz2HNa",
        "outputId": "33486d1e-bc03-43a7-b2df-0d31a59b8720"
      },
      "outputs": [
        {
          "output_type": "stream",
          "name": "stdout",
          "text": [
            "@HD\tVN:1.6\tSO:coordinate\n",
            "@SQ\tSN:chr1\tLN:249250621\n",
            "@SQ\tSN:chr2\tLN:243199373\n",
            "@SQ\tSN:chr3\tLN:198022430\n",
            "@SQ\tSN:chr4\tLN:191154276\n",
            "@SQ\tSN:chr5\tLN:180915260\n",
            "@SQ\tSN:chr6\tLN:171115067\n",
            "@SQ\tSN:chr7\tLN:159138663\n",
            "@SQ\tSN:chrX\tLN:155270560\n",
            "@SQ\tSN:chr8\tLN:146364022\n",
            "@SQ\tSN:chr9\tLN:141213431\n",
            "@SQ\tSN:chr10\tLN:135534747\n",
            "@SQ\tSN:chr11\tLN:135006516\n",
            "@SQ\tSN:chr12\tLN:133851895\n",
            "@SQ\tSN:chr13\tLN:115169878\n",
            "@SQ\tSN:chr14\tLN:107349540\n",
            "@SQ\tSN:chr15\tLN:102531392\n",
            "@SQ\tSN:chr16\tLN:90354753\n",
            "@SQ\tSN:chr17\tLN:81195210\n",
            "@SQ\tSN:chr18\tLN:78077248\n",
            "@SQ\tSN:chr20\tLN:63025520\n",
            "@SQ\tSN:chrY\tLN:59373566\n",
            "@SQ\tSN:chr19\tLN:59128983\n",
            "@SQ\tSN:chr22\tLN:51304566\n",
            "@SQ\tSN:chr21\tLN:48129895\n",
            "@SQ\tSN:chr6_ssto_hap7\tLN:4928567\n",
            "@SQ\tSN:chr6_mcf_hap5\tLN:4833398\n",
            "@SQ\tSN:chr6_cox_hap2\tLN:4795371\n",
            "@SQ\tSN:chr6_mann_hap4\tLN:4683263\n",
            "@SQ\tSN:chr6_apd_hap1\tLN:4622290\n",
            "@SQ\tSN:chr6_qbl_hap6\tLN:4611984\n",
            "@SQ\tSN:chr6_dbb_hap3\tLN:4610396\n",
            "@SQ\tSN:chr17_ctg5_hap1\tLN:1680828\n",
            "@SQ\tSN:chr4_ctg9_hap1\tLN:590426\n",
            "@SQ\tSN:chr1_gl000192_random\tLN:547496\n",
            "@SQ\tSN:chrUn_gl000225\tLN:211173\n",
            "@SQ\tSN:chr4_gl000194_random\tLN:191469\n",
            "@SQ\tSN:chr4_gl000193_random\tLN:189789\n",
            "@SQ\tSN:chr9_gl000200_random\tLN:187035\n",
            "@SQ\tSN:chrUn_gl000222\tLN:186861\n",
            "@SQ\tSN:chrUn_gl000212\tLN:186858\n",
            "@SQ\tSN:chr7_gl000195_random\tLN:182896\n",
            "@SQ\tSN:chrUn_gl000223\tLN:180455\n",
            "@SQ\tSN:chrUn_gl000224\tLN:179693\n",
            "@SQ\tSN:chrUn_gl000219\tLN:179198\n",
            "@SQ\tSN:chr17_gl000205_random\tLN:174588\n",
            "@SQ\tSN:chrUn_gl000215\tLN:172545\n",
            "@SQ\tSN:chrUn_gl000216\tLN:172294\n",
            "@SQ\tSN:chrUn_gl000217\tLN:172149\n",
            "@SQ\tSN:chr9_gl000199_random\tLN:169874\n",
            "@SQ\tSN:chrUn_gl000211\tLN:166566\n",
            "@SQ\tSN:chrUn_gl000213\tLN:164239\n",
            "@SQ\tSN:chrUn_gl000220\tLN:161802\n",
            "@SQ\tSN:chrUn_gl000218\tLN:161147\n",
            "@SQ\tSN:chr19_gl000209_random\tLN:159169\n",
            "@SQ\tSN:chrUn_gl000221\tLN:155397\n",
            "@SQ\tSN:chrUn_gl000214\tLN:137718\n",
            "@SQ\tSN:chrUn_gl000228\tLN:129120\n",
            "@SQ\tSN:chrUn_gl000227\tLN:128374\n",
            "@SQ\tSN:chr1_gl000191_random\tLN:106433\n",
            "@SQ\tSN:chr19_gl000208_random\tLN:92689\n",
            "@SQ\tSN:chr9_gl000198_random\tLN:90085\n",
            "@SQ\tSN:chr17_gl000204_random\tLN:81310\n",
            "@SQ\tSN:chrUn_gl000233\tLN:45941\n",
            "@SQ\tSN:chrUn_gl000237\tLN:45867\n",
            "@SQ\tSN:chrUn_gl000230\tLN:43691\n",
            "@SQ\tSN:chrUn_gl000242\tLN:43523\n",
            "@SQ\tSN:chrUn_gl000243\tLN:43341\n",
            "@SQ\tSN:chrUn_gl000241\tLN:42152\n",
            "@SQ\tSN:chrUn_gl000236\tLN:41934\n",
            "@SQ\tSN:chrUn_gl000240\tLN:41933\n",
            "@SQ\tSN:chr17_gl000206_random\tLN:41001\n",
            "@SQ\tSN:chrUn_gl000232\tLN:40652\n",
            "@SQ\tSN:chrUn_gl000234\tLN:40531\n",
            "@SQ\tSN:chr11_gl000202_random\tLN:40103\n",
            "@SQ\tSN:chrUn_gl000238\tLN:39939\n",
            "@SQ\tSN:chrUn_gl000244\tLN:39929\n",
            "@SQ\tSN:chrUn_gl000248\tLN:39786\n",
            "@SQ\tSN:chr8_gl000196_random\tLN:38914\n",
            "@SQ\tSN:chrUn_gl000249\tLN:38502\n",
            "@SQ\tSN:chrUn_gl000246\tLN:38154\n",
            "@SQ\tSN:chr17_gl000203_random\tLN:37498\n",
            "@SQ\tSN:chr8_gl000197_random\tLN:37175\n",
            "@SQ\tSN:chrUn_gl000245\tLN:36651\n",
            "@SQ\tSN:chrUn_gl000247\tLN:36422\n",
            "@SQ\tSN:chr9_gl000201_random\tLN:36148\n",
            "@SQ\tSN:chrUn_gl000235\tLN:34474\n",
            "@SQ\tSN:chrUn_gl000239\tLN:33824\n",
            "@SQ\tSN:chr21_gl000210_random\tLN:27682\n",
            "@SQ\tSN:chrUn_gl000231\tLN:27386\n",
            "@SQ\tSN:chrUn_gl000229\tLN:19913\n",
            "@SQ\tSN:chrM\tLN:16571\n",
            "@SQ\tSN:chrUn_gl000226\tLN:15008\n",
            "@SQ\tSN:chr18_gl000207_random\tLN:4262\n",
            "@SQ\tSN:chr1_jh806574_fix\tLN:22982\n",
            "@SQ\tSN:chr1_gl949741_fix\tLN:151551\n",
            "@SQ\tSN:chr1_jh636053_fix\tLN:1676126\n",
            "@SQ\tSN:chr1_jh636052_fix\tLN:7283150\n",
            "@SQ\tSN:chr1_gl383518_alt\tLN:182439\n",
            "@SQ\tSN:chr1_gl383519_alt\tLN:110268\n",
            "@SQ\tSN:chr1_gl383520_alt\tLN:366579\n",
            "@SQ\tSN:chr1_jh806573_fix\tLN:24680\n",
            "@SQ\tSN:chr1_jh636054_fix\tLN:758378\n",
            "@SQ\tSN:chr1_jh806575_fix\tLN:47409\n",
            "@SQ\tSN:chr1_gl383516_fix\tLN:49316\n",
            "@SQ\tSN:chr1_gl383517_fix\tLN:49352\n",
            "@SQ\tSN:chr2_gl383521_alt\tLN:143390\n",
            "@SQ\tSN:chr2_kb663603_fix\tLN:599580\n",
            "@SQ\tSN:chr2_gl877871_fix\tLN:389939\n",
            "@SQ\tSN:chr2_gl582966_alt\tLN:96131\n",
            "@SQ\tSN:chr2_gl383522_alt\tLN:123821\n",
            "@SQ\tSN:chr2_gl877870_fix\tLN:66021\n",
            "@SQ\tSN:chr3_jh636055_alt\tLN:173151\n",
            "@SQ\tSN:chr3_jh159132_fix\tLN:100694\n",
            "@SQ\tSN:chr3_gl383523_fix\tLN:171362\n",
            "@SQ\tSN:chr3_ke332495_fix\tLN:263861\n",
            "@SQ\tSN:chr3_gl383524_fix\tLN:78793\n",
            "@SQ\tSN:chr3_jh159131_fix\tLN:393769\n",
            "@SQ\tSN:chr3_gl383525_fix\tLN:65063\n",
            "@SQ\tSN:chr3_gl383526_alt\tLN:180671\n",
            "@SQ\tSN:chr4_ke332496_fix\tLN:503215\n",
            "@SQ\tSN:chr4_gl383528_alt\tLN:376187\n",
            "@SQ\tSN:chr4_gl383529_alt\tLN:121345\n",
            "@SQ\tSN:chr4_gl582967_fix\tLN:248177\n",
            "@SQ\tSN:chr4_gl383527_alt\tLN:164536\n",
            "@SQ\tSN:chr4_gl877872_fix\tLN:297485\n",
            "@SQ\tSN:chr5_gl383532_alt\tLN:82728\n",
            "@SQ\tSN:chr5_gl949742_alt\tLN:226852\n",
            "@SQ\tSN:chr5_gl339449_alt\tLN:1612928\n",
            "@SQ\tSN:chr5_gl383530_alt\tLN:101241\n",
            "@SQ\tSN:chr5_jh159133_fix\tLN:266316\n",
            "@SQ\tSN:chr5_ke332497_fix\tLN:543325\n",
            "@SQ\tSN:chr5_gl383531_alt\tLN:173459\n",
            "@SQ\tSN:chr6_jh806576_fix\tLN:273386\n",
            "@SQ\tSN:chr6_jh636057_fix\tLN:200195\n",
            "@SQ\tSN:chr6_gl383533_alt\tLN:124736\n",
            "@SQ\tSN:chr6_kb663604_fix\tLN:478993\n",
            "@SQ\tSN:chr6_jh636056_fix\tLN:262912\n",
            "@SQ\tSN:chr6_ke332498_fix\tLN:149443\n",
            "@SQ\tSN:chr6_kb021644_alt\tLN:187824\n",
            "@SQ\tSN:chr7_gl582970_fix\tLN:354970\n",
            "@SQ\tSN:chr7_gl582969_fix\tLN:251823\n",
            "@SQ\tSN:chr7_ke332499_fix\tLN:274521\n",
            "@SQ\tSN:chr7_jh159134_fix\tLN:3821770\n",
            "@SQ\tSN:chr7_gl582972_fix\tLN:327774\n",
            "@SQ\tSN:chr7_gl582968_fix\tLN:356330\n",
            "@SQ\tSN:chr7_jh636058_fix\tLN:716227\n",
            "@SQ\tSN:chr7_gl383534_alt\tLN:119183\n",
            "@SQ\tSN:chr7_gl582971_fix\tLN:1284284\n",
            "@SQ\tSN:chr8_gl949743_fix\tLN:608579\n",
            "@SQ\tSN:chr8_ke332500_fix\tLN:228602\n",
            "@SQ\tSN:chr8_jh159135_fix\tLN:102251\n",
            "@SQ\tSN:chr8_gl383535_fix\tLN:429806\n",
            "@SQ\tSN:chr8_gl383536_fix\tLN:203777\n",
            "@SQ\tSN:chr9_gl383539_alt\tLN:162988\n",
            "@SQ\tSN:chr9_jh636059_fix\tLN:295379\n",
            "@SQ\tSN:chr9_gl383540_alt\tLN:71551\n",
            "@SQ\tSN:chr9_gl383541_alt\tLN:171286\n",
            "@SQ\tSN:chr9_gl383542_alt\tLN:60032\n",
            "@SQ\tSN:chr9_kb663605_fix\tLN:155926\n",
            "@SQ\tSN:chr9_jh806579_fix\tLN:211307\n",
            "@SQ\tSN:chr9_gl339450_fix\tLN:330164\n",
            "@SQ\tSN:chr9_jh806577_fix\tLN:22394\n",
            "@SQ\tSN:chr9_jh806578_fix\tLN:169437\n",
            "@SQ\tSN:chr9_gl383537_fix\tLN:62435\n",
            "@SQ\tSN:chr9_gl383538_fix\tLN:49281\n",
            "@SQ\tSN:chr10_gl877873_fix\tLN:168465\n",
            "@SQ\tSN:chr10_jh636060_fix\tLN:437946\n",
            "@SQ\tSN:chr10_gl383543_fix\tLN:392792\n",
            "@SQ\tSN:chr10_gl383545_alt\tLN:179254\n",
            "@SQ\tSN:chr10_gl383546_alt\tLN:309802\n",
            "@SQ\tSN:chr10_jh591181_fix\tLN:2281126\n",
            "@SQ\tSN:chr10_kb663606_fix\tLN:305900\n",
            "@SQ\tSN:chr10_jh591183_fix\tLN:177920\n",
            "@SQ\tSN:chr10_ke332501_fix\tLN:1020827\n",
            "@SQ\tSN:chr10_jh591182_fix\tLN:196262\n",
            "@SQ\tSN:chr10_gl383544_fix\tLN:128378\n",
            "@SQ\tSN:chr10_jh806580_fix\tLN:93149\n",
            "@SQ\tSN:chr11_jh591184_fix\tLN:462282\n",
            "@SQ\tSN:chr11_jh591185_fix\tLN:167437\n",
            "@SQ\tSN:chr11_gl383547_alt\tLN:154407\n",
            "@SQ\tSN:chr11_gl582973_fix\tLN:321004\n",
            "@SQ\tSN:chr11_jh159136_alt\tLN:200998\n",
            "@SQ\tSN:chr11_jh159137_alt\tLN:191409\n",
            "@SQ\tSN:chr11_gl949744_fix\tLN:276448\n",
            "@SQ\tSN:chr11_jh806581_fix\tLN:872115\n",
            "@SQ\tSN:chr11_jh159143_fix\tLN:191402\n",
            "@SQ\tSN:chr11_jh159141_fix\tLN:240775\n",
            "@SQ\tSN:chr11_jh159139_fix\tLN:120441\n",
            "@SQ\tSN:chr11_jh159142_fix\tLN:326647\n",
            "@SQ\tSN:chr11_jh159140_fix\tLN:546435\n",
            "@SQ\tSN:chr11_jh720443_fix\tLN:408430\n",
            "@SQ\tSN:chr11_jh159138_fix\tLN:108875\n",
            "@SQ\tSN:chr12_gl582974_fix\tLN:163298\n",
            "@SQ\tSN:chr12_gl877875_alt\tLN:167313\n",
            "@SQ\tSN:chr12_jh720444_fix\tLN:273128\n",
            "@SQ\tSN:chr12_gl949745_alt\tLN:372609\n",
            "@SQ\tSN:chr12_gl877876_alt\tLN:408271\n",
            "@SQ\tSN:chr12_gl383549_alt\tLN:120804\n",
            "@SQ\tSN:chr12_gl383550_alt\tLN:169178\n",
            "@SQ\tSN:chr12_gl383552_alt\tLN:138655\n",
            "@SQ\tSN:chr12_gl383553_alt\tLN:152874\n",
            "@SQ\tSN:chr12_kb663607_fix\tLN:334922\n",
            "@SQ\tSN:chr12_gl383551_alt\tLN:184319\n",
            "@SQ\tSN:chr12_gl383548_fix\tLN:165247\n",
            "@SQ\tSN:chr13_gl582975_fix\tLN:34662\n",
            "@SQ\tSN:chr14_kb021645_fix\tLN:1523386\n",
            "@SQ\tSN:chr15_gl383554_alt\tLN:296527\n",
            "@SQ\tSN:chr15_gl383555_alt\tLN:388773\n",
            "@SQ\tSN:chr15_jh720445_fix\tLN:170033\n",
            "@SQ\tSN:chr16_gl383556_alt\tLN:192462\n",
            "@SQ\tSN:chr16_jh720446_fix\tLN:97345\n",
            "@SQ\tSN:chr16_gl383557_alt\tLN:89672\n",
            "@SQ\tSN:chr17_jh806582_fix\tLN:342635\n",
            "@SQ\tSN:chr17_gl383563_alt\tLN:270261\n",
            "@SQ\tSN:chr17_gl383562_fix\tLN:45551\n",
            "@SQ\tSN:chr17_gl383561_fix\tLN:644425\n",
            "@SQ\tSN:chr17_ke332502_fix\tLN:341712\n",
            "@SQ\tSN:chr17_jh159145_fix\tLN:194862\n",
            "@SQ\tSN:chr17_kb021646_fix\tLN:211416\n",
            "@SQ\tSN:chr17_gl383560_fix\tLN:534288\n",
            "@SQ\tSN:chr17_gl383559_fix\tLN:338640\n",
            "@SQ\tSN:chr17_jh159146_alt\tLN:278131\n",
            "@SQ\tSN:chr17_jh159148_alt\tLN:88070\n",
            "@SQ\tSN:chr17_jh159147_alt\tLN:70345\n",
            "@SQ\tSN:chr17_gl383564_alt\tLN:133151\n",
            "@SQ\tSN:chr17_gl582976_fix\tLN:412535\n",
            "@SQ\tSN:chr17_jh720447_fix\tLN:454385\n",
            "@SQ\tSN:chr17_gl383558_fix\tLN:457041\n",
            "@SQ\tSN:chr17_jh159144_fix\tLN:388340\n",
            "@SQ\tSN:chr17_gl383565_alt\tLN:223995\n",
            "@SQ\tSN:chr17_gl383566_alt\tLN:90219\n",
            "@SQ\tSN:chr17_jh591186_fix\tLN:376223\n",
            "@SQ\tSN:chr17_jh636061_fix\tLN:186059\n",
            "@SQ\tSN:chr18_gl383567_alt\tLN:289831\n",
            "@SQ\tSN:chr18_gl383570_alt\tLN:164789\n",
            "@SQ\tSN:chr18_gl383571_alt\tLN:198278\n",
            "@SQ\tSN:chr18_gl383568_alt\tLN:104552\n",
            "@SQ\tSN:chr18_gl383569_alt\tLN:167950\n",
            "@SQ\tSN:chr18_gl383572_alt\tLN:159547\n",
            "@SQ\tSN:chr19_jh159149_fix\tLN:245473\n",
            "@SQ\tSN:chr19_gl582977_fix\tLN:580393\n",
            "@SQ\tSN:chr19_gl383573_alt\tLN:385657\n",
            "@SQ\tSN:chr19_gl383575_alt\tLN:170222\n",
            "@SQ\tSN:chr19_gl383576_alt\tLN:188024\n",
            "@SQ\tSN:chr19_gl383574_alt\tLN:155864\n",
            "@SQ\tSN:chr19_ke332505_fix\tLN:579598\n",
            "@SQ\tSN:chr19_kb021647_fix\tLN:1058686\n",
            "@SQ\tSN:chr19_gl949746_alt\tLN:987716\n",
            "@SQ\tSN:chr19_gl949747_alt\tLN:729519\n",
            "@SQ\tSN:chr19_gl949748_alt\tLN:1064303\n",
            "@SQ\tSN:chr19_gl949749_alt\tLN:1091840\n",
            "@SQ\tSN:chr19_gl949750_alt\tLN:1066389\n",
            "@SQ\tSN:chr19_gl949751_alt\tLN:1002682\n",
            "@SQ\tSN:chr19_gl949752_alt\tLN:987100\n",
            "@SQ\tSN:chr19_gl949753_alt\tLN:796478\n",
            "@SQ\tSN:chr20_gl383577_alt\tLN:128385\n",
            "@SQ\tSN:chr20_jh720448_fix\tLN:70483\n",
            "@SQ\tSN:chr20_kb663608_fix\tLN:283551\n",
            "@SQ\tSN:chr20_gl582979_fix\tLN:179899\n",
            "@SQ\tSN:chr21_gl383578_alt\tLN:63917\n",
            "@SQ\tSN:chr21_gl383579_alt\tLN:201198\n",
            "@SQ\tSN:chr21_gl383580_alt\tLN:74652\n",
            "@SQ\tSN:chr21_gl383581_alt\tLN:116690\n",
            "@SQ\tSN:chr21_ke332506_fix\tLN:307252\n",
            "@SQ\tSN:chr22_jh806584_fix\tLN:70876\n",
            "@SQ\tSN:chr22_jh806583_fix\tLN:167183\n",
            "@SQ\tSN:chr22_jh806585_fix\tLN:73505\n",
            "@SQ\tSN:chr22_jh720449_fix\tLN:212298\n",
            "@SQ\tSN:chr22_gl383583_alt\tLN:96924\n",
            "@SQ\tSN:chr22_gl383582_alt\tLN:162811\n",
            "@SQ\tSN:chr22_kb663609_alt\tLN:74013\n",
            "@SQ\tSN:chr22_jh806586_fix\tLN:43543\n",
            "@SQ\tSN:chrX_gl877877_fix\tLN:284527\n",
            "@SQ\tSN:chrX_jh720451_fix\tLN:898979\n",
            "@SQ\tSN:chrX_jh720452_fix\tLN:522319\n",
            "@SQ\tSN:chrX_jh806589_fix\tLN:270630\n",
            "@SQ\tSN:chrX_kb021648_fix\tLN:469972\n",
            "@SQ\tSN:chrX_jh806590_fix\tLN:2418393\n",
            "@SQ\tSN:chrX_jh806587_fix\tLN:4110759\n",
            "@SQ\tSN:chrX_jh806591_fix\tLN:882083\n",
            "@SQ\tSN:chrX_jh806592_fix\tLN:835911\n",
            "@SQ\tSN:chrX_jh720453_fix\tLN:1461188\n",
            "@SQ\tSN:chrX_jh720454_fix\tLN:752267\n",
            "@SQ\tSN:chrX_jh806593_fix\tLN:389631\n",
            "@SQ\tSN:chrX_jh806594_fix\tLN:390496\n",
            "@SQ\tSN:chrX_jh806595_fix\tLN:444074\n",
            "@SQ\tSN:chrX_jh720455_fix\tLN:65034\n",
            "@SQ\tSN:chrX_jh806588_fix\tLN:862483\n",
            "@SQ\tSN:chrX_jh806601_fix\tLN:1389764\n",
            "@SQ\tSN:chrX_jh806602_fix\tLN:713266\n",
            "@SQ\tSN:chrX_jh806603_fix\tLN:182949\n",
            "@SQ\tSN:chrX_jh806596_fix\tLN:413927\n",
            "@SQ\tSN:chrX_jh806597_fix\tLN:1045622\n",
            "@SQ\tSN:chrX_jh806598_fix\tLN:899320\n",
            "@SQ\tSN:chrX_jh806599_fix\tLN:1214327\n",
            "@SQ\tSN:chrX_jh806600_fix\tLN:6530008\n",
            "@SQ\tSN:chrX_jh159150_fix\tLN:3110903\n",
            "@SQ\tSN:chrMT\tLN:16569\n",
            "@RG\tID:CAP\tSM:itatiana\tLB:ID:2101.1\tPL:Illumina\n",
            "@RG\tID:CAP-60332BE9\tSM:itatiana\tLB:ID:2101.1\tPL:Illumina\n",
            "@RG\tID:CAP-247DF7B2\tSM:itatiana\tLB:ID:2101.1\tPL:Illumina\n",
            "@RG\tID:CAP-67C00B84\tSM:itatiana\tLB:ID:2101.1\tPL:Illumina\n",
            "@PG\tID:bwa\tPN:bwa\tVN:0.7.17-r1188\tCL:bwa mem -M -R @RG\\tID:CAP\\tSM:itatiana\\tLB:ID:2101.1\\tPL:Illumina referencia/hg19/hg19.fa dados/fastq/LMQ341-00S2.1_S1_R1_CCTCCGTCCACACATCGGTG.fastq.gz dados/fastq/LMQ341-00S2.1_S1_R2_CCTCCGTCCACACATCGGTG.fastq.gz\n",
            "@PG\tID:bwa-5546E556\tPN:bwa\tVN:0.7.17-r1188\tCL:bwa mem -M -R @RG\\tID:CAP\\tSM:itatiana\\tLB:ID:2101.1\\tPL:Illumina referencia/hg19/hg19.fa dados/fastq/LMQ341-00S2.2_S1_R1_CCTCCGTCCACACATCGGTG.fastq.gz dados/fastq/LMQ341-00S2.2_S1_R2_CCTCCGTCCACACATCGGTG.fastq.gz\n",
            "@PG\tID:bwa-65F48EE2\tPN:bwa\tVN:0.7.17-r1188\tCL:bwa mem -M -R @RG\\tID:CAP\\tSM:itatiana\\tLB:ID:2101.1\\tPL:Illumina referencia/hg19/hg19.fa dados/fastq/LMQ341-00S2.3_S1_R1_CCTCCGTCCACACATCGGTG.fastq.gz dados/fastq/LMQ341-00S2.3_S1_R2_CCTCCGTCCACACATCGGTG.fastq.gz\n",
            "@PG\tID:bwa-6AEF6160\tPN:bwa\tVN:0.7.17-r1188\tCL:bwa mem -M -R @RG\\tID:CAP\\tSM:itatiana\\tLB:ID:2101.1\\tPL:Illumina referencia/hg19/hg19.fa dados/fastq/LMQ341-00S2.4_S1_R1_CCTCCGTCCACACATCGGTG.fastq.gz dados/fastq/LMQ341-00S2.4_S1_R2_CCTCCGTCCACACATCGGTG.fastq.gz\n",
            "@PG\tID:samtools\tPN:samtools\tPP:bwa\tVN:1.10\tCL:samtools merge merged.sam LMQ341-00S2.1.sam LMQ341-00S2.2.sam LMQ341-00S2.3.sam LMQ341-00S2.4.sam\n",
            "@PG\tID:samtools.1\tPN:samtools\tPP:bwa-5546E556\tVN:1.10\tCL:samtools merge merged.sam LMQ341-00S2.1.sam LMQ341-00S2.2.sam LMQ341-00S2.3.sam LMQ341-00S2.4.sam\n",
            "@PG\tID:samtools.2\tPN:samtools\tPP:bwa-65F48EE2\tVN:1.10\tCL:samtools merge merged.sam LMQ341-00S2.1.sam LMQ341-00S2.2.sam LMQ341-00S2.3.sam LMQ341-00S2.4.sam\n",
            "@PG\tID:samtools.3\tPN:samtools\tPP:bwa-6AEF6160\tVN:1.10\tCL:samtools merge merged.sam LMQ341-00S2.1.sam LMQ341-00S2.2.sam LMQ341-00S2.3.sam LMQ341-00S2.4.sam\n",
            "@PG\tID:samtools.4\tPN:samtools\tPP:samtools\tVN:1.10\tCL:samtools fixmate dados/bwa/merged.sam dados/bwa/LMQ341-001.bam\n",
            "@PG\tID:samtools.5\tPN:samtools\tPP:samtools.1\tVN:1.10\tCL:samtools fixmate dados/bwa/merged.sam dados/bwa/LMQ341-001.bam\n",
            "@PG\tID:samtools.6\tPN:samtools\tPP:samtools.2\tVN:1.10\tCL:samtools fixmate dados/bwa/merged.sam dados/bwa/LMQ341-001.bam\n",
            "@PG\tID:samtools.7\tPN:samtools\tPP:samtools.3\tVN:1.10\tCL:samtools fixmate dados/bwa/merged.sam dados/bwa/LMQ341-001.bam\n",
            "@PG\tID:samtools.8\tPN:samtools\tPP:samtools.4\tVN:1.10\tCL:samtools sort -O bam -o dados/bwa/LMQ341-001_sorted.bam dados/bwa/LMQ341-001.bam\n",
            "@PG\tID:samtools.9\tPN:samtools\tPP:samtools.5\tVN:1.10\tCL:samtools sort -O bam -o dados/bwa/LMQ341-001_sorted.bam dados/bwa/LMQ341-001.bam\n",
            "@PG\tID:samtools.10\tPN:samtools\tPP:samtools.6\tVN:1.10\tCL:samtools sort -O bam -o dados/bwa/LMQ341-001_sorted.bam dados/bwa/LMQ341-001.bam\n",
            "@PG\tID:samtools.11\tPN:samtools\tPP:samtools.7\tVN:1.10\tCL:samtools sort -O bam -o dados/bwa/LMQ341-001_sorted.bam dados/bwa/LMQ341-001.bam\n",
            "@PG\tID:samtools.12\tPN:samtools\tPP:samtools.8\tVN:1.10\tCL:samtools view -H dados/bwa/LMQ341-001_sorted.bam\n",
            "@PG\tID:samtools.13\tPN:samtools\tPP:samtools.9\tVN:1.10\tCL:samtools view -H dados/bwa/LMQ341-001_sorted.bam\n",
            "@PG\tID:samtools.14\tPN:samtools\tPP:samtools.10\tVN:1.10\tCL:samtools view -H dados/bwa/LMQ341-001_sorted.bam\n",
            "@PG\tID:samtools.15\tPN:samtools\tPP:samtools.11\tVN:1.10\tCL:samtools view -H dados/bwa/LMQ341-001_sorted.bam\n"
          ]
        }
      ],
      "source": [
        "%%bash\n",
        "samtools view -H dados/bwa/LWV461-001_sorted.bam"
      ]
    },
    {
      "cell_type": "code",
      "execution_count": null,
      "metadata": {
        "colab": {
          "base_uri": "https://localhost:8080/"
        },
        "id": "prKuRzhSBZRp",
        "outputId": "02102789-95a0-4cbd-e2ca-b4acbe498bd0"
      },
      "outputs": [
        {
          "output_type": "stream",
          "name": "stdout",
          "text": [
            "210122_A00776_0115_AH7KK3DSXY:4:2570:14977:34162\t147\tchr1\t10008\t0\t101M\t=\t10010\t-99\tAACCCTAACCCTAACCCTAACCCTAACCCTAACCCTAACCCTAACCCTAACCCTAACCCTAACCCTAACCCTAACCCTAACCCTAACCCTAACCCTAACCC\t:,,,:F::FFFFF,FFF:FF:FFF:FF:FFF,FFFFFFFFFFF,FFFFFFFFFFFFFFFFFFFFFFFFFFFFFFFFFFFFFFFFFFFFFFFFFFFFFFFFF\tNM:i:0\tMD:Z:101\tAS:i:101\tXS:i:101\tRG:Z:CAP-67C00B84\tMQ:i:0\tMC:Z:101M\n",
            "210122_A00776_0115_AH7KK3DSXY:2:1407:9046:35008\t163\tchr1\t10010\t0\t101M\t=\t10010\t93\tCCCTAACCCTAACCCTAACCCTAACCCTAACCCTAACCCTAACCCTAACCCTAACCCTAACCCTAACCCTAACCCTAACCCTAACCCTAACCCTAACCCAA\tFFFFFFFFFFFFFFFFFFFFFFFFFFFFFFFFFFFFFFFFFFFFFFFFFFFFFFFFFFFFFFFFF:FFFFFFFFF:FFFFFFFFFFF:FFFFF,,,,F,,,\tNM:i:0\tMD:Z:101\tAS:i:101\tXS:i:99\tRG:Z:CAP-60332BE9\tMQ:i:0\tMC:Z:8S93M\n",
            "210122_A00776_0115_AH7KK3DSXY:4:2570:14977:34162\t99\tchr1\t10010\t0\t101M\t=\t10008\t99\tCCCTAACCCTAACCCTAACCCTAACCCTAACCCTAACCCTAACCCTAACCCTAACCCTAACCCTAACCCTAACCCTAACCCTAACCCTAACCCTAACCCAA\tFFFFFFFFFFFFFFFFFFFFFFFFFFFFFFFFFFFFFFFFFF::FFFFFFFFFFF:F,FF:FFFFFFFF,FF,FFFFFFFF:FF,FFFFF,FF:FF,FF,F\tNM:i:0\tMD:Z:101\tAS:i:101\tXS:i:99\tRG:Z:CAP-67C00B84\tMQ:i:0\tMC:Z:101M\n",
            "210122_A00776_0115_AH7KK3DSXY:2:1407:9046:35008\t83\tchr1\t10010\t0\t8S93M\t=\t10010\t-93\tATCCATATCCCTAACCCTAACCCTAACCCTAACCCTAACCCTAACCCTAACCCTAACCCTAACCCTAACCCTAACCCTAACCCTAACCCTAACCCTAACCC\tF:,:,FF,FFFFFFFFFFFFFFFFFFFFFFFFFFFFFFFFFFFFFFFFFFFFFFFFFFFFFFFFFFFFFFFFFFFFFFFFFFFFFFFFFFFFFFFFFFFFF\tNM:i:0\tMD:Z:93\tAS:i:93\tXS:i:93\tRG:Z:CAP-60332BE9\tMQ:i:0\tMC:Z:101M\n",
            "210122_A00776_0115_AH7KK3DSXY:4:1651:24080:20369\t147\tchr1\t10016\t0\t26S75M\t=\t10034\t-57\tAAGCGTCAGATGTTTATAAGAGACAGCCCTAACCCTAACCCTAACCCTAACCCTAACCCTAACCCTAACCCTAACCCTAACCCTAACCCTAACCCTAACCC\t,FF:,F,F:F:,F,::::F,,:F,F,FFFFFFFFFFFFFFFFFFFFFFFFFFFFFFFFFFFFFFFFFFFFFFFFFFFFFFFFFFFFFFFFFFFFFF::FFF\tNM:i:0\tMD:Z:75\tAS:i:75\tXS:i:75\tRG:Z:CAP-67C00B84\tMQ:i:0\tMC:Z:77M24S\n",
            "210122_A00776_0115_AH7KK3DSXY:4:1651:24080:20369\t99\tchr1\t10034\t0\t77M24S\t=\t10016\t57\tCCCTAACCCTAACCCTAACCCTAACCCTAACCCTAACCCTAACCCTAACCCTAACCCTAACCCTAACCCTAACCCAAGTCAATTAAAAAAAACTCCGAGCC\tFFFFFFFFFFFFFFFFFFFFFFFFFFFFFFFFFFFFFFFFFFFFFFFFFFFFFFFFFFFFFFFFFFFFF,FFFFF,,,,F,,,,,,F:F,:,F:,,,:F,,\tNM:i:0\tMD:Z:77\tAS:i:77\tXS:i:75\tRG:Z:CAP-67C00B84\tMQ:i:0\tMC:Z:26S75M\n",
            "210122_A00776_0115_AH7KK3DSXY:3:2147:13376:11068\t163\tchr1\t10964\t0\t101M\t=\t11098\t235\tGTCCAGGGGTGGAGGCGTGGCGCAGGCGCAGAGACGCAAGCCTACGGGCGGGGGTTGGGGGGGCGTGTGTTGCAGGAGCAAAGTCGCACGGCGCCGGGCTG\tFFFFFFFFFFFFFFFFFFFFFFFFFFFFFFF:FFFFFFFFFFFFFFFFFFFFFFFFFFFFFFFFFFFFFFFFFFFFFFFFFFFFFFFFFFFFFFFFFFFFF\tNM:i:0\tMD:Z:101\tAS:i:101\tXS:i:101\tXA:Z:chr15,-102520106,101M,0;chr16,+60643,101M,2;chrY,-59361668,101M,2;chrX,-155258662,101M,2;chr9,+11066,101M,2;\tRG:Z:CAP-247DF7B2\tMQ:i:0\tMC:Z:101M\n",
            "210122_A00776_0115_AH7KK3DSXY:2:1459:10854:20697\t99\tchr1\t11003\t0\t72M1D29M\t=\t11169\t267\tGCCTACGGGCGGGGGTTGGGGGGGCCTGTGTTGCAGGAGCAAAGTCGCACGGCGCCGGGCTGGGGCGGGGGGGGGTGGCGCCGTGCACGCGCAGAAACTCA\tFFFFFFFFFFFFFFFFFFFFFFFFF,FFFFFFFFFFFFFFFF:FFFFFFFFFFFFFFFFFFFFFFFFFF:FFFFFFFFFFFFFFFFFFFFFFFFFFFFFFF\tNM:i:2\tMD:Z:25G46^A29\tAS:i:89\tXS:i:89\tXA:Z:chr15,-102520066,29M1D72M,2;chr12,-94505,35M4D66M,7;chr12_gl877875_alt,+1131,63M4D38M,7;chr12_gl582974_fix,+1131,63M4D38M,7;\tRG:Z:CAP-60332BE9\tMQ:i:0\tMC:Z:101M\n",
            "210122_A00776_0115_AH7KK3DSXY:3:2147:13376:11068\t83\tchr1\t11098\t0\t101M\t=\t10964\t-235\tAAACTCACGTCACGGTGGCGCGGCGCAGAGACGGGTAGAACCTCAGTAATCCGAAAAGCCGGGATCGACCGCCCCTTGCTTGCAGCCGGGCACTACAGGAC\tFFFFFFFFFFFFFFFFFFFFFFFFFFFFFFFFFFFFFFFFFFFFFFFFFFFFFFF:FFFFFFFFFFFFFFFFFFFFFFFFFFFFFFFFFFFFFFFFFFFFF\tNM:i:0\tMD:Z:101\tAS:i:101\tXS:i:101\tXA:Z:chr15,+102519972,101M,0;chr16,-60779,101M,1;chr9,-11211,101M,3;chrX,+155258525,101M,3;chrY,+59361531,101M,3;\tRG:Z:CAP-247DF7B2\tMQ:i:0\tMC:Z:101M\n",
            "210122_A00776_0115_AH7KK3DSXY:1:2222:25690:20212\t163\tchr1\t11138\t0\t101M\t=\t11422\t385\tCCTCAGTAATCCGAAAAGCCGGGATCGACCGCCCCTTGCTTGCAGCCGGGCACTACAGGACCCGCTTGCTCACGGTGCTGTGCCAGGGCGCCCCCTGCTGG\tFFFFFFFFFFFFFFFFFFFFFFFFFFFFFFFFFFFFFFFFFFFFFFFFFFFFFFFFFFFFFFFFFFFFFFFFFFFFFFFFFFFFFFFFFFFFFFFFFFFFF\tNM:i:0\tMD:Z:101\tAS:i:101\tXS:i:101\tRG:Z:CAP\tMQ:i:0\tMC:Z:101M\n"
          ]
        },
        {
          "output_type": "stream",
          "name": "stderr",
          "text": [
            "\n",
            "real\t0m0.014s\n",
            "user\t0m0.005s\n",
            "sys\t0m0.005s\n"
          ]
        }
      ],
      "source": [
        "%%bash\n",
        "time samtools view dados/bwa/LWV461-001_sorted.bam | head"
      ]
    },
    {
      "cell_type": "code",
      "execution_count": null,
      "metadata": {
        "colab": {
          "base_uri": "https://localhost:8080/"
        },
        "id": "cI-f-NenfyUv",
        "outputId": "f235b373-6d56-4f79-edbf-8d38e723b6a9"
      },
      "outputs": [
        {
          "output_type": "stream",
          "name": "stdout",
          "text": [
            "dados\n",
            "├── annovar\n",
            "├── bedtools\n",
            "├── bwa\n",
            "│   ├── LMQ341-001.bam\n",
            "│   ├── LMQ341-001_sorted.bam\n",
            "│   ├── LMQ341-001_sorted.bam.bai\n",
            "│   ├── LMQ341-00S2.1.sam\n",
            "│   ├── LMQ341-00S2.2.sam\n",
            "│   ├── LMQ341-00S2.3.sam\n",
            "│   ├── LMQ341-00S2.4.sam\n",
            "│   └── merged.sam\n",
            "├── fastq\n",
            "├── fastqc\n",
            "├── freebayes\n",
            "├── gatk\n",
            "└── picard\n",
            "\n",
            "8 directories, 8 files\n"
          ]
        }
      ],
      "source": [
        "%%bash\n",
        "tree dados"
      ]
    },
    {
      "cell_type": "code",
      "execution_count": null,
      "metadata": {
        "id": "LlQLuvKzgUaW"
      },
      "outputs": [],
      "source": [
        "%%bash\n",
        "#ls -lh dados/bwa/AMOSTRA01_sorted.bam\n",
        "bedtools bamtobed -i dados/bwa/LWV461-001_sorted.bam \\\n",
        ">dados/bedtools/LWV461-001_sorted.bed"
      ]
    },
    {
      "cell_type": "code",
      "execution_count": null,
      "metadata": {
        "id": "oKVk3LKLgv3P",
        "colab": {
          "base_uri": "https://localhost:8080/"
        },
        "outputId": "e943b5e7-47bf-4c07-93c8-74b2b5fa42ad"
      },
      "outputs": [
        {
          "output_type": "stream",
          "name": "stdout",
          "text": [
            "chr1\t10007\t10108\t210122_A00776_0115_AH7KK3DSXY:4:2570:14977:34162/2\t0\t-\n",
            "chr1\t10009\t10110\t210122_A00776_0115_AH7KK3DSXY:2:1407:9046:35008/2\t0\t+\n",
            "chr1\t10009\t10110\t210122_A00776_0115_AH7KK3DSXY:4:2570:14977:34162/1\t0\t+\n",
            "chr1\t10009\t10102\t210122_A00776_0115_AH7KK3DSXY:2:1407:9046:35008/1\t0\t-\n",
            "chr1\t10015\t10090\t210122_A00776_0115_AH7KK3DSXY:4:1651:24080:20369/2\t0\t-\n",
            "chr1\t10033\t10110\t210122_A00776_0115_AH7KK3DSXY:4:1651:24080:20369/1\t0\t+\n",
            "chr1\t10963\t11064\t210122_A00776_0115_AH7KK3DSXY:3:2147:13376:11068/2\t0\t+\n",
            "chr1\t11002\t11104\t210122_A00776_0115_AH7KK3DSXY:2:1459:10854:20697/1\t0\t+\n",
            "chr1\t11097\t11198\t210122_A00776_0115_AH7KK3DSXY:3:2147:13376:11068/1\t0\t-\n",
            "chr1\t11137\t11238\t210122_A00776_0115_AH7KK3DSXY:1:2222:25690:20212/2\t0\t+\n"
          ]
        }
      ],
      "source": [
        "%%bash\n",
        "#ls -lh dados/bwa/AMOSTRA01_sorted.bam\n",
        "#wc -l dados/bedtools/AMOSTRA01_sorted.bed\n",
        "head dados/bedtools/LWV461-001_sorted.bed"
      ]
    },
    {
      "cell_type": "code",
      "execution_count": null,
      "metadata": {
        "id": "WmmS_GyD2Otz"
      },
      "outputs": [],
      "source": [
        "%%bash\n",
        "bedtools merge -i dados/bedtools/LWV461-001_sorted.bed >dados/bedtools/LWV461-001_merged.bed\n",
        "bedtools sort -i dados/bedtools/LWV461-001_merged.bed >dados/bedtools/LWV461-001_merged_sorted.bed"
      ]
    },
    {
      "cell_type": "code",
      "execution_count": null,
      "metadata": {
        "colab": {
          "base_uri": "https://localhost:8080/"
        },
        "id": "RUXGsv_g5Yjx",
        "outputId": "bb685e00-e31b-444b-81cd-d2293286add4"
      },
      "outputs": [
        {
          "output_type": "stream",
          "name": "stdout",
          "text": [
            "72175331 dados/bedtools/LMQ341-001_sorted.bed\n",
            "617745 dados/bedtools/LMQ341-001_merged_sorted.bed\n"
          ]
        }
      ],
      "source": [
        "%%bash\n",
        "#head dados/bedtools/AMOSTRA01_merged_sorted.bed\n",
        "wc -l dados/bedtools/LWV461-001_sorted.bed\n",
        "wc -l dados/bedtools/LWV461-001_merged_sorted.bed"
      ]
    },
    {
      "cell_type": "code",
      "execution_count": null,
      "metadata": {
        "id": "G_WXJL3BBrbO"
      },
      "outputs": [],
      "source": [
        "#%%bash\n",
        "#bedtools coverage -a dados/bedtools/AMOSTRA01_merged_sorted.bed \\\n",
        "#-b dados/bwa/AMOSTRA01_sorted.bam -mean \\\n",
        "#>dados/bedtools/AMOSTRA01_coverageBed_mean.bed"
      ]
    },
    {
      "cell_type": "code",
      "execution_count": null,
      "metadata": {
        "colab": {
          "background_save": true
        },
        "id": "RPqkyEhdLhX_"
      },
      "outputs": [],
      "source": [
        "#%%bash\n",
        "#head dados/bedtools/AMOSTRA01_coverageBed_mean.bed"
      ]
    },
    {
      "cell_type": "code",
      "execution_count": null,
      "metadata": {
        "colab": {
          "background_save": true
        },
        "id": "7zm7cWNqCAT_"
      },
      "outputs": [],
      "source": [
        "#%%bash\n",
        "#cat dados/bedtools/AMOSTRA01_coverageBed_mean.bed | \\\n",
        "#awk -F \"\\t\" '{if($4>30){print}}' \\\n",
        "#> dados/bedtools/AMOSTRA01_coverageBed30x.bed"
      ]
    },
    {
      "cell_type": "code",
      "execution_count": null,
      "metadata": {
        "colab": {
          "background_save": true
        },
        "id": "fcE7kqzjLnzm"
      },
      "outputs": [],
      "source": [
        "#%%bash\n",
        "#head dados/bedtools/AMOSTRA01_coverageBed30x.bed\n",
        "#wc -l dados/bedtools/AMOSTRA01_coverageBed30x.bed"
      ]
    },
    {
      "cell_type": "code",
      "execution_count": null,
      "metadata": {
        "colab": {
          "base_uri": "https://localhost:8080/"
        },
        "id": "CHEi8NlFLuRM",
        "outputId": "fa718a75-c0f5-475e-a92c-2f49a1b1ec41"
      },
      "outputs": [
        {
          "output_type": "stream",
          "name": "stdout",
          "text": [
            "dados\n",
            "├── annovar\n",
            "├── bedtools\n",
            "│   ├── LMQ341-001_merged.bed\n",
            "│   ├── LMQ341-001_merged_sorted.bed\n",
            "│   └── LMQ341-001_sorted.bed\n",
            "├── bwa\n",
            "│   ├── LMQ341-001.bam\n",
            "│   ├── LMQ341-001_sorted.bam\n",
            "│   ├── LMQ341-001_sorted.bam.bai\n",
            "│   ├── LMQ341-00S2.3.sam\n",
            "│   ├── LMQ341-00S2.4.sam\n",
            "│   └── merged.sam\n",
            "├── fastq\n",
            "├── fastqc\n",
            "├── freebayes\n",
            "├── gatk\n",
            "└── picard\n",
            "\n",
            "8 directories, 9 files\n"
          ]
        }
      ],
      "source": [
        "%%bash\n",
        "tree dados"
      ]
    },
    {
      "cell_type": "code",
      "execution_count": null,
      "metadata": {
        "colab": {
          "background_save": true
        },
        "id": "bEYCYDi_mkzD"
      },
      "outputs": [],
      "source": [
        "#import pandas as pd\n",
        "#from matplotlib import pyplot as plt\n",
        "#import seaborn as sns\n",
        "#import numpy as np\n",
        "\n",
        "#tabela = pd.read_csv(\"dados/bedtools/AMOSTRA01_coverageBed_mean.bed\",header=None, names=np.array([\"chr\",\"start\",\"end\",\"cobertura\"]), sep=\"\\t\")\n",
        "#tabela[\"cobertura\"].describe()"
      ]
    },
    {
      "cell_type": "code",
      "execution_count": null,
      "metadata": {
        "id": "aCG1dkPVCVcZ",
        "colab": {
          "base_uri": "https://localhost:8080/"
        },
        "outputId": "47066913-b813-4478-86da-a1a634f7bc43"
      },
      "outputs": [
        {
          "output_type": "stream",
          "name": "stderr",
          "text": [
            "Using GATK jar /content/gatk-4.2.5.0/gatk-package-4.2.5.0-local.jar\n",
            "Running:\n",
            "    java -Dsamjdk.use_async_io_read_samtools=false -Dsamjdk.use_async_io_write_samtools=true -Dsamjdk.use_async_io_write_tribble=false -Dsamjdk.compression_level=2 -jar /content/gatk-4.2.5.0/gatk-package-4.2.5.0-local.jar HaplotypeCaller -R referencia/hg19/hg19.fa -I dados/bwa/LMQ341-001_sorted.bam -O dados/gatk/LMQ341-001_sorted.vcf -bamout dados/bwa/LMQ341-001_sorted_bamout.bam\n",
            "15:30:16.904 INFO  NativeLibraryLoader - Loading libgkl_compression.so from jar:file:/content/gatk-4.2.5.0/gatk-package-4.2.5.0-local.jar!/com/intel/gkl/native/libgkl_compression.so\n",
            "15:30:17.193 INFO  HaplotypeCaller - ------------------------------------------------------------\n",
            "15:30:17.193 INFO  HaplotypeCaller - The Genome Analysis Toolkit (GATK) v4.2.5.0\n",
            "15:30:17.194 INFO  HaplotypeCaller - For support and documentation go to https://software.broadinstitute.org/gatk/\n",
            "15:30:17.194 INFO  HaplotypeCaller - Executing as root@239586085bee on Linux v5.15.107+ amd64\n",
            "15:30:17.194 INFO  HaplotypeCaller - Java runtime: OpenJDK 64-Bit Server VM v11.0.19+7-post-Ubuntu-0ubuntu120.04.1\n",
            "15:30:17.194 INFO  HaplotypeCaller - Start Date/Time: June 5, 2023 at 3:30:16 PM UTC\n",
            "15:30:17.194 INFO  HaplotypeCaller - ------------------------------------------------------------\n",
            "15:30:17.194 INFO  HaplotypeCaller - ------------------------------------------------------------\n",
            "15:30:17.195 INFO  HaplotypeCaller - HTSJDK Version: 2.24.1\n",
            "15:30:17.195 INFO  HaplotypeCaller - Picard Version: 2.25.4\n",
            "15:30:17.196 INFO  HaplotypeCaller - Built for Spark Version: 2.4.5\n",
            "15:30:17.196 INFO  HaplotypeCaller - HTSJDK Defaults.COMPRESSION_LEVEL : 2\n",
            "15:30:17.196 INFO  HaplotypeCaller - HTSJDK Defaults.USE_ASYNC_IO_READ_FOR_SAMTOOLS : false\n",
            "15:30:17.196 INFO  HaplotypeCaller - HTSJDK Defaults.USE_ASYNC_IO_WRITE_FOR_SAMTOOLS : true\n",
            "15:30:17.196 INFO  HaplotypeCaller - HTSJDK Defaults.USE_ASYNC_IO_WRITE_FOR_TRIBBLE : false\n",
            "15:30:17.196 INFO  HaplotypeCaller - Deflater: IntelDeflater\n",
            "15:30:17.196 INFO  HaplotypeCaller - Inflater: IntelInflater\n",
            "15:30:17.196 INFO  HaplotypeCaller - GCS max retries/reopens: 20\n",
            "15:30:17.197 INFO  HaplotypeCaller - Requester pays: disabled\n",
            "15:30:17.197 INFO  HaplotypeCaller - Initializing engine\n",
            "15:30:17.549 INFO  HaplotypeCaller - Done initializing engine\n",
            "15:30:17.566 INFO  HaplotypeCallerEngine - Disabling physical phasing, which is supported only for reference-model confidence output\n",
            "15:30:17.630 INFO  NativeLibraryLoader - Loading libgkl_utils.so from jar:file:/content/gatk-4.2.5.0/gatk-package-4.2.5.0-local.jar!/com/intel/gkl/native/libgkl_utils.so\n",
            "15:30:17.644 INFO  NativeLibraryLoader - Loading libgkl_pairhmm_omp.so from jar:file:/content/gatk-4.2.5.0/gatk-package-4.2.5.0-local.jar!/com/intel/gkl/native/libgkl_pairhmm_omp.so\n",
            "15:30:17.660 INFO  IntelPairHmm - Flush-to-zero (FTZ) is enabled when running PairHMM\n",
            "15:30:17.661 INFO  IntelPairHmm - Available threads: 2\n",
            "15:30:17.661 INFO  IntelPairHmm - Requested threads: 4\n",
            "15:30:17.662 WARN  IntelPairHmm - Using 2 available threads, but 4 were requested\n",
            "15:30:17.662 INFO  PairHMM - Using the OpenMP multi-threaded AVX-accelerated native PairHMM implementation\n",
            "15:30:17.735 INFO  ProgressMeter - Starting traversal\n",
            "15:30:17.736 INFO  ProgressMeter -        Current Locus  Elapsed Minutes     Regions Processed   Regions/Minute\n",
            "15:30:18.805 WARN  InbreedingCoeff - InbreedingCoeff will not be calculated at position chr1:14653 and possibly subsequent; at least 10 samples must have called genotypes\n",
            "15:30:27.844 INFO  ProgressMeter -          chr1:917530              0.2                  3210          19054.2\n",
            "15:30:38.007 INFO  ProgressMeter -         chr1:1247457              0.3                  4530          13408.3\n",
            "15:30:49.164 INFO  ProgressMeter -         chr1:1648106              0.5                  6200          11836.6\n",
            "15:30:59.410 INFO  ProgressMeter -         chr1:2542844              0.7                  9600          13821.6\n",
            "15:31:09.445 INFO  ProgressMeter -         chr1:6155881              0.9                 22290          25864.0\n",
            "15:31:19.604 INFO  ProgressMeter -         chr1:8420929              1.0                 30370          29453.0\n",
            "15:31:29.706 INFO  ProgressMeter -        chr1:11718697              1.2                 42060          35065.1\n",
            "15:31:42.834 INFO  ProgressMeter -        chr1:12908197              1.4                 46360          32687.0\n",
            "15:31:53.725 INFO  ProgressMeter -        chr1:13184646              1.6                 47380          29615.9\n",
            "15:32:03.749 INFO  ProgressMeter -        chr1:16373620              1.8                 58580          33154.4\n",
            "15:32:14.213 INFO  ProgressMeter -        chr1:16904016              1.9                 60590          31211.3\n",
            "15:32:25.519 INFO  ProgressMeter -        chr1:16975165              2.1                 61010          28647.0\n",
            "15:32:36.898 INFO  ProgressMeter -        chr1:17084330              2.3                 61500          26515.9\n",
            "15:32:46.904 INFO  ProgressMeter -        chr1:17321425              2.5                 62420          25107.3\n",
            "15:32:56.914 INFO  ProgressMeter -        chr1:20305000              2.7                 73100          27554.1\n",
            "15:33:06.914 INFO  ProgressMeter -        chr1:22558883              2.8                 81220          28805.2\n",
            "15:33:16.918 INFO  ProgressMeter -        chr1:25611673              3.0                 92020          30813.4\n",
            "15:33:26.979 INFO  ProgressMeter -        chr1:27877756              3.2                100160          31756.2\n",
            "15:33:36.979 INFO  ProgressMeter -        chr1:32845448              3.3                117460          35371.9\n",
            "15:33:46.994 INFO  ProgressMeter -        chr1:36925632              3.5                131700          37762.0\n",
            "15:33:56.995 INFO  ProgressMeter -        chr1:40889249              3.7                145600          39843.5\n",
            "15:34:06.998 INFO  ProgressMeter -        chr1:44459273              3.8                158200          41402.4\n",
            "15:34:17.019 INFO  ProgressMeter -        chr1:46727220              4.0                166270          41692.1\n",
            "15:34:27.362 INFO  ProgressMeter -        chr1:53379813              4.2                189220          45480.8\n",
            "15:34:37.395 INFO  ProgressMeter -        chr1:59128145              4.3                209220          48344.9\n",
            "15:34:47.398 INFO  ProgressMeter -        chr1:67791928              4.5                239060          53191.2\n",
            "15:34:57.397 INFO  ProgressMeter -        chr1:82641174              4.7                289450          62100.2\n",
            "15:35:07.400 INFO  ProgressMeter -        chr1:92763143              4.8                324200          67153.7\n",
            "15:35:17.400 INFO  ProgressMeter -       chr1:102091591              5.0                356180          71315.9\n",
            "15:35:27.415 INFO  ProgressMeter -       chr1:109826529              5.2                382620          74132.2\n",
            "15:35:37.495 INFO  ProgressMeter -       chr1:113245494              5.3                394670          74056.4\n",
            "15:35:47.511 INFO  ProgressMeter -       chr1:120342130              5.5                419130          76257.4\n",
            "15:35:57.512 INFO  ProgressMeter -       chr1:150992568              5.7                521820          92146.6\n",
            "15:36:07.515 INFO  ProgressMeter -       chr1:153537095              5.8                530850          91060.4\n",
            "15:36:17.527 INFO  ProgressMeter -       chr1:155785010              6.0                538900          89868.8\n",
            "15:36:27.580 INFO  ProgressMeter -       chr1:158057289              6.2                547080          88753.1\n",
            "15:36:37.662 INFO  ProgressMeter -       chr1:161134110              6.3                557980          88119.3\n",
            "15:36:47.665 INFO  ProgressMeter -       chr1:165669818              6.5                573770          88288.4\n",
            "15:36:57.672 INFO  ProgressMeter -       chr1:171503533              6.7                594030          89118.8\n",
            "15:37:07.672 INFO  ProgressMeter -       chr1:179852712              6.8                622770          91151.3\n",
            "15:37:17.681 INFO  ProgressMeter -       chr1:186369285              7.0                645360          92206.4\n",
            "15:37:27.698 INFO  ProgressMeter -       chr1:201113735              7.2                695370          97036.9\n",
            "15:37:37.704 INFO  ProgressMeter -       chr1:204086493              7.3                705970          96275.6\n",
            "15:37:47.720 INFO  ProgressMeter -       chr1:207244189              7.5                717110          95618.1\n",
            "15:37:57.731 INFO  ProgressMeter -       chr1:214825336              7.7                743300          96953.4\n",
            "15:38:07.741 INFO  ProgressMeter -       chr1:224302198              7.8                775780          99034.7\n",
            "15:38:17.764 INFO  ProgressMeter -       chr1:228363620              8.0                790080          98754.2\n",
            "15:38:27.880 INFO  ProgressMeter -       chr1:232564175              8.2                804780          98515.7\n",
            "15:38:37.882 INFO  ProgressMeter -       chr1:237891675              8.3                823580          98800.8\n",
            "15:38:47.885 INFO  ProgressMeter -       chr1:246100119              8.5                851750         100176.6\n",
            "15:38:57.916 INFO  ProgressMeter -       chr1:248637237              8.7                860700          99277.2\n",
            "15:39:07.942 INFO  ProgressMeter -         chr2:1559986              8.8                868270          98256.5\n",
            "15:39:17.942 INFO  ProgressMeter -        chr2:11185135              9.0                901420         100119.6\n",
            "15:39:27.944 INFO  ProgressMeter -        chr2:22989812              9.2                941700         102692.1\n",
            "15:39:37.949 INFO  ProgressMeter -        chr2:27155900              9.3                956340         102426.0\n",
            "15:39:48.464 INFO  ProgressMeter -        chr2:29240235              9.5                963870         101330.6\n",
            "15:39:58.473 INFO  ProgressMeter -        chr2:37588224              9.7                992630         102555.5\n",
            "15:40:08.477 INFO  ProgressMeter -        chr2:44628439              9.8               1016920         103285.9\n",
            "15:40:18.479 INFO  ProgressMeter -        chr2:55044364             10.0               1052490         105118.8\n",
            "15:40:28.486 INFO  ProgressMeter -        chr2:63835651             10.2               1082600         106354.5\n",
            "15:40:39.665 INFO  ProgressMeter -        chr2:73055340             10.4               1114340         107505.0\n",
            "15:40:49.664 INFO  ProgressMeter -        chr2:81437686             10.5               1143070         108531.7\n",
            "15:40:59.670 INFO  ProgressMeter -        chr2:88665052             10.7               1167940         109164.7\n",
            "15:41:09.675 INFO  ProgressMeter -        chr2:96570255             10.9               1194800         109961.2\n",
            "15:41:19.699 INFO  ProgressMeter -        chr2:99695735             11.0               1205740         109287.7\n",
            "15:41:29.701 INFO  ProgressMeter -       chr2:108657657             11.2               1236630         110419.1\n",
            "15:41:39.708 INFO  ProgressMeter -       chr2:114343450             11.4               1256410         110539.1\n",
            "15:41:49.710 INFO  ProgressMeter -       chr2:125778569             11.5               1295370         112319.5\n",
            "15:41:59.714 INFO  ProgressMeter -       chr2:132204697             11.7               1317520         112612.1\n",
            "15:42:09.721 INFO  ProgressMeter -       chr2:135982792             11.9               1330630         112134.1\n",
            "15:42:19.722 INFO  ProgressMeter -       chr2:152382237             12.0               1386320         115208.9\n",
            "15:42:29.733 INFO  ProgressMeter -       chr2:162815045             12.2               1422010         116558.7\n",
            "15:42:40.086 INFO  ProgressMeter -       chr2:171228252             12.4               1450950         117272.3\n",
            "15:42:50.087 INFO  ProgressMeter -       chr2:175962324             12.5               1467280         117015.6\n",
            "15:43:00.100 INFO  ProgressMeter -       chr2:182377784             12.7               1489410         117220.4\n",
            "15:43:10.358 INFO  ProgressMeter -       chr2:190791057             12.9               1518130         117894.4\n",
            "15:43:20.407 INFO  ProgressMeter -       chr2:202245899             13.0               1557310         119384.4\n",
            "15:43:30.638 INFO  ProgressMeter -       chr2:209010463             13.2               1580750         119617.6\n",
            "15:43:40.643 INFO  ProgressMeter -       chr2:217280030             13.4               1609210         120253.8\n",
            "15:43:50.649 INFO  ProgressMeter -       chr2:220253890             13.5               1619850         119558.9\n",
            "15:44:00.660 INFO  ProgressMeter -       chr2:228014873             13.7               1646530         120049.7\n",
            "15:44:10.662 INFO  ProgressMeter -       chr2:233349400             13.9               1665100         119945.8\n",
            "15:44:20.917 INFO  ProgressMeter -       chr2:236877822             14.1               1677560         119373.7\n",
            "15:44:30.969 INFO  ProgressMeter -       chr2:241407603             14.2               1693520         119089.6\n",
            "15:44:40.993 INFO  ProgressMeter -         chr3:1426088             14.4               1704960         118501.9\n",
            "15:44:51.169 INFO  ProgressMeter -        chr3:10103886             14.6               1734800         119171.1\n",
            "15:45:01.169 INFO  ProgressMeter -        chr3:14551407             14.7               1750390         118881.0\n",
            "15:45:11.169 INFO  ProgressMeter -        chr3:25379281             14.9               1787290         120028.5\n",
            "15:45:21.194 INFO  ProgressMeter -        chr3:36934572             15.1               1826640         121309.9\n",
            "15:45:31.196 INFO  ProgressMeter -        chr3:42675773             15.2               1846680         121298.1\n",
            "15:45:41.215 INFO  ProgressMeter -        chr3:47324019             15.4               1862900         121035.8\n",
            "15:45:51.236 INFO  ProgressMeter -        chr3:49570838             15.6               1870800         120244.2\n",
            "15:46:01.263 INFO  ProgressMeter -        chr3:51276561             15.7               1876780         119346.7\n",
            "15:46:11.454 INFO  ProgressMeter -        chr3:55108765             15.9               1890190         118915.1\n",
            "15:46:21.456 INFO  ProgressMeter -        chr3:64140953             16.1               1921220         119612.8\n",
            "15:46:31.483 INFO  ProgressMeter -        chr3:73453963             16.2               1953060         120343.0\n",
            "15:46:41.487 INFO  ProgressMeter -        chr3:97517081             16.4               2034160         124065.5\n",
            "15:46:51.493 INFO  ProgressMeter -       chr3:108394960             16.6               2071450         125067.8\n",
            "15:47:01.582 INFO  ProgressMeter -       chr3:116165336             16.7               2098310         125416.2\n",
            "15:47:11.617 INFO  ProgressMeter -       chr3:123136886             16.9               2122380         125599.4\n",
            "15:47:21.735 INFO  ProgressMeter -       chr3:126735713             17.1               2135180         125108.3\n",
            "15:47:31.767 INFO  ProgressMeter -       chr3:132184456             17.2               2154420         125011.0\n",
            "15:47:41.775 INFO  ProgressMeter -       chr3:140251450             17.4               2182250         125412.0\n",
            "15:47:51.787 INFO  ProgressMeter -       chr3:150264268             17.6               2216460         126168.1\n",
            "15:48:01.791 INFO  ProgressMeter -       chr3:160101798             17.7               2250070         126877.1\n",
            "15:48:11.820 INFO  ProgressMeter -       chr3:173324362             17.9               2295000         128202.3\n",
            "15:48:21.856 INFO  ProgressMeter -       chr3:183901127             18.1               2331140         129015.6\n",
            "15:48:31.863 INFO  ProgressMeter -       chr3:188584149             18.2               2347540         128735.0\n",
            "15:48:42.136 INFO  ProgressMeter -       chr3:195410652             18.4               2371090         128816.9\n",
            "15:48:52.177 INFO  ProgressMeter -       chr3:195596459             18.6               2371880         127698.8\n",
            "15:49:02.375 INFO  ProgressMeter -         chr4:1018310             18.7               2384160         127196.1\n",
            "15:49:12.399 INFO  ProgressMeter -         chr4:3041225             18.9               2391570         126464.2\n",
            "15:49:22.399 INFO  ProgressMeter -         chr4:6281642             19.1               2403170         125967.4\n",
            "15:49:32.412 INFO  ProgressMeter -         chr4:9706816             19.2               2415470         125514.2\n",
            "15:49:42.412 INFO  ProgressMeter -        chr4:23073567             19.4               2461010         126782.6\n",
            "15:49:52.436 INFO  ProgressMeter -        chr4:39436388             19.6               2516450         128532.4\n",
            "15:50:02.464 INFO  ProgressMeter -        chr4:48588705             19.7               2547840         129034.2\n",
            "15:50:12.474 INFO  ProgressMeter -        chr4:57969098             19.9               2579960         129566.1\n",
            "15:50:22.474 INFO  ProgressMeter -        chr4:72635325             20.1               2629810         130973.4\n",
            "15:50:32.621 INFO  ProgressMeter -        chr4:78980827             20.2               2651680         130959.6\n",
            "15:50:42.621 INFO  ProgressMeter -        chr4:87490183             20.4               2680920         131322.7\n",
            "15:50:52.621 INFO  ProgressMeter -        chr4:99499918             20.6               2721720         132241.6\n",
            "15:51:02.635 INFO  ProgressMeter -       chr4:110449340             20.7               2759100         132979.5\n",
            "15:51:12.700 INFO  ProgressMeter -       chr4:121720904             20.9               2797530         133750.3\n",
            "15:51:22.715 INFO  ProgressMeter -       chr4:138451777             21.1               2854100         135374.6\n",
            "15:51:32.731 INFO  ProgressMeter -       chr4:151161541             21.2               2897410         136349.2\n",
            "15:51:42.742 INFO  ProgressMeter -       chr4:159792514             21.4               2926880         136663.0\n",
            "15:51:52.746 INFO  ProgressMeter -       chr4:171837500             21.6               2967870         137506.4\n",
            "15:52:02.764 INFO  ProgressMeter -       chr4:185624255             21.8               3014660         138602.1\n",
            "15:52:12.815 INFO  ProgressMeter -          chr5:462519             21.9               3035590         138497.7\n",
            "15:52:23.203 INFO  ProgressMeter -         chr5:1573637             22.1               3039920         137608.3\n",
            "15:52:33.203 INFO  ProgressMeter -        chr5:13832671             22.3               3081680         138454.0\n",
            "15:52:43.203 INFO  ProgressMeter -        chr5:27890395             22.4               3129330         139549.9\n",
            "15:52:53.381 INFO  ProgressMeter -        chr5:35857352             22.6               3156620         139710.0\n",
            "15:53:03.385 INFO  ProgressMeter -        chr5:41050718             22.8               3174690         139480.6\n",
            "15:53:13.390 INFO  ProgressMeter -        chr5:55423077             22.9               3223480         140594.1\n",
            "15:53:23.394 INFO  ProgressMeter -        chr5:67152484             23.1               3263510         141312.4\n",
            "15:53:33.400 INFO  ProgressMeter -        chr5:76733797             23.3               3296390         141712.8\n",
            "15:53:43.401 INFO  ProgressMeter -        chr5:88535564             23.4               3336650         142423.0\n",
            "15:53:53.401 INFO  ProgressMeter -        chr5:98285438             23.6               3369940         142827.9\n",
            "15:54:03.411 INFO  ProgressMeter -       chr5:112877536             23.8               3419330         143903.6\n",
            "15:54:13.411 INFO  ProgressMeter -       chr5:126690092             23.9               3466300         144864.3\n",
            "15:54:23.431 INFO  ProgressMeter -       chr5:134344137             24.1               3492670         144954.6\n",
            "15:54:33.445 INFO  ProgressMeter -       chr5:140032775             24.3               3512470         144773.7\n",
            "15:54:43.447 INFO  ProgressMeter -       chr5:147260532             24.4               3537270         144800.9\n",
            "15:54:53.449 INFO  ProgressMeter -       chr5:150503495             24.6               3548830         144289.4\n",
            "15:55:03.449 INFO  ProgressMeter -       chr5:159079970             24.8               3578270         144507.2\n",
            "15:55:13.452 INFO  ProgressMeter -       chr5:170869597             24.9               3618470         145153.4\n",
            "15:55:23.454 INFO  ProgressMeter -       chr5:176863557             25.1               3639250         145017.2\n",
            "15:55:33.486 INFO  ProgressMeter -       chr5:179729588             25.3               3649570         144465.9\n",
            "15:55:43.638 INFO  ProgressMeter -          chr6:407845             25.4               3655240         143727.8\n",
            "15:55:53.639 INFO  ProgressMeter -         chr6:7592546             25.6               3680070         143761.9\n",
            "15:56:03.654 INFO  ProgressMeter -        chr6:17629654             25.8               3714350         144160.9\n",
            "15:56:13.706 INFO  ProgressMeter -        chr6:26393059             25.9               3744490         144391.9\n",
            "15:56:24.244 INFO  ProgressMeter -        chr6:35287598             26.1               3774890         144584.9\n",
            "15:56:34.261 INFO  ProgressMeter -        chr6:38819602             26.3               3787400         144142.3\n",
            "15:56:44.280 INFO  ProgressMeter -        chr6:42652289             26.4               3800890         143742.2\n",
            "15:56:54.289 INFO  ProgressMeter -        chr6:44625725             26.6               3808080         143111.3\n",
            "15:57:04.289 INFO  ProgressMeter -        chr6:53990464             26.8               3840270         143422.7\n",
            "15:57:14.920 INFO  ProgressMeter -        chr6:57453372             27.0               3852190         142922.2\n",
            "15:57:24.946 INFO  ProgressMeter -        chr6:70577912             27.1               3896450         143673.5\n",
            "15:57:34.948 INFO  ProgressMeter -        chr6:82412894             27.3               3936860         144276.7\n",
            "15:57:44.948 INFO  ProgressMeter -        chr6:97524189             27.5               3988330         145275.7\n",
            "15:57:54.958 INFO  ProgressMeter -       chr6:109593623             27.6               4029460         145887.3\n",
            "15:58:05.016 INFO  ProgressMeter -       chr6:117682988             27.8               4057250         146007.3\n",
            "15:58:15.021 INFO  ProgressMeter -       chr6:130155314             28.0               4099690         146654.5\n",
            "15:58:25.022 INFO  ProgressMeter -       chr6:142384025             28.1               4141420         147269.2\n",
            "15:58:35.027 INFO  ProgressMeter -       chr6:150693900             28.3               4170000         147411.4\n",
            "15:58:45.064 INFO  ProgressMeter -       chr6:157529664             28.5               4193680         147377.0\n",
            "15:58:55.078 INFO  ProgressMeter -       chr6:161123734             28.6               4206310         146958.8\n",
            "15:59:05.225 INFO  ProgressMeter -       chr6:169781295             28.8               4236130         147131.4\n",
            "15:59:15.258 INFO  ProgressMeter -         chr7:2262562             29.0               4249000         146726.2\n",
            "15:59:25.267 INFO  ProgressMeter -         chr7:5105360             29.1               4259120         146233.3\n",
            "15:59:35.272 INFO  ProgressMeter -         chr7:8790569             29.3               4272270         145849.8\n",
            "15:59:45.294 INFO  ProgressMeter -        chr7:20432823             29.5               4311950         146369.7\n",
            "15:59:55.307 INFO  ProgressMeter -        chr7:28450135             29.6               4339650         146480.2\n",
            "16:00:05.336 INFO  ProgressMeter -        chr7:34698714             29.8               4361240         146383.1\n",
            "16:00:15.337 INFO  ProgressMeter -        chr7:43666623             30.0               4392060         146597.4\n",
            "16:00:25.351 INFO  ProgressMeter -        chr7:48016480             30.1               4407340         146292.4\n",
            "16:00:35.358 INFO  ProgressMeter -        chr7:56145193             30.3               4435340         146411.3\n",
            "16:00:45.358 INFO  ProgressMeter -        chr7:73018131             30.5               4492590         147489.7\n",
            "16:00:55.358 INFO  ProgressMeter -        chr7:83186338             30.6               4527220         147817.8\n",
            "16:01:05.366 INFO  ProgressMeter -        chr7:94251708             30.8               4565040         148245.3\n",
            "16:01:15.402 INFO  ProgressMeter -        chr7:99773499             31.0               4584280         148065.8\n",
            "16:01:26.958 INFO  ProgressMeter -       chr7:100550288             31.2               4587220         147244.8\n",
            "16:01:37.458 INFO  ProgressMeter -       chr7:100677754             31.3               4587760         146439.5\n",
            "16:01:47.464 INFO  ProgressMeter -       chr7:102765338             31.5               4595130         145898.1\n",
            "16:01:57.468 INFO  ProgressMeter -       chr7:111428227             31.7               4624840         146068.2\n",
            "16:02:07.468 INFO  ProgressMeter -       chr7:126149741             31.8               4674730         146870.8\n",
            "16:02:17.724 INFO  ProgressMeter -       chr7:131866482             32.0               4694460         146702.8\n",
            "16:02:27.724 INFO  ProgressMeter -       chr7:139142872             32.2               4719460         146719.9\n",
            "16:02:37.795 INFO  ProgressMeter -       chr7:149192998             32.3               4753920         147024.0\n",
            "16:02:47.809 INFO  ProgressMeter -       chr7:150885211             32.5               4760160         146461.0\n",
            "16:02:57.809 INFO  ProgressMeter -       chr7:152093181             32.7               4764470         145845.7\n",
            "16:03:07.909 INFO  ProgressMeter -       chr7:157024568             32.8               4781440         145614.8\n",
            "16:03:17.953 INFO  ProgressMeter -         chrX:9863750             33.0               4822200         146111.3\n",
            "16:03:28.036 INFO  ProgressMeter -        chrX:16712138             33.2               4845640         146077.7\n",
            "16:03:38.055 INFO  ProgressMeter -        chrX:25025021             33.3               4873950         146195.2\n",
            "16:03:48.097 INFO  ProgressMeter -        chrX:40999816             33.5               4927920         147075.7\n",
            "16:03:58.163 INFO  ProgressMeter -        chrX:54951385             33.7               4974910         147738.4\n",
            "16:04:08.166 INFO  ProgressMeter -        chrX:69138996             33.8               5022690         148422.5\n",
            "16:04:18.171 INFO  ProgressMeter -        chrX:70815465             34.0               5028580         147867.9\n",
            "16:04:28.171 INFO  ProgressMeter -        chrX:93312690             34.2               5104330         149363.3\n",
            "16:04:38.173 INFO  ProgressMeter -       chrX:106062081             34.3               5147350         149891.0\n",
            "16:04:48.187 INFO  ProgressMeter -       chrX:117912656             34.5               5187370         150325.8\n",
            "16:04:58.207 INFO  ProgressMeter -       chrX:129150411             34.7               5225430         150699.5\n",
            "16:05:08.206 INFO  ProgressMeter -       chrX:142348269             34.8               5270190         151263.3\n",
            "16:05:18.206 INFO  ProgressMeter -         chr8:3416566             35.0               5325340         152118.5\n",
            "16:05:28.210 INFO  ProgressMeter -        chr8:11405212             35.2               5352920         152181.5\n",
            "16:05:38.221 INFO  ProgressMeter -        chr8:17830100             35.3               5375180         152092.9\n",
            "16:05:48.339 INFO  ProgressMeter -        chr8:23058417             35.5               5393530         151887.4\n",
            "16:05:58.339 INFO  ProgressMeter -        chr8:28200038             35.7               5411570         151683.5\n",
            "16:06:08.351 INFO  ProgressMeter -        chr8:37996121             35.8               5445040         151911.2\n",
            "16:06:18.351 INFO  ProgressMeter -        chr8:43396004             36.0               5463870         151731.0\n",
            "16:06:28.640 INFO  ProgressMeter -        chr8:61823352             36.2               5526330         152738.1\n",
            "16:06:38.640 INFO  ProgressMeter -        chr8:74858092             36.3               5570790         153260.9\n",
            "16:06:48.640 INFO  ProgressMeter -        chr8:90916365             36.5               5625150         154050.1\n",
            "16:06:58.849 INFO  ProgressMeter -       chr8:100844645             36.7               5659200         154263.8\n",
            "16:07:08.874 INFO  ProgressMeter -       chr8:110539524             36.9               5692360         154464.2\n",
            "16:07:18.881 INFO  ProgressMeter -       chr8:125064458             37.0               5741770         155103.0\n",
            "16:07:28.900 INFO  ProgressMeter -       chr8:134145550             37.2               5772940         155244.7\n",
            "16:07:39.014 INFO  ProgressMeter -       chr8:143427516             37.4               5804880         155399.2\n",
            "16:07:49.035 INFO  ProgressMeter -       chr8:145727298             37.5               5813140         154928.1\n",
            "16:07:59.035 INFO  ProgressMeter -         chr9:4690333             37.7               5831610         154732.6\n",
            "16:08:09.047 INFO  ProgressMeter -        chr9:14724017             37.9               5865860         154955.3\n",
            "16:08:19.047 INFO  ProgressMeter -        chr9:21710399             38.0               5890040         154912.0\n",
            "16:08:29.080 INFO  ProgressMeter -        chr9:34515064             38.2               5933610         155374.6\n",
            "16:08:39.102 INFO  ProgressMeter -        chr9:37718809             38.4               5944940         154993.3\n",
            "16:08:49.102 INFO  ProgressMeter -        chr9:56498625             38.5               6008050         155961.0\n",
            "16:08:59.112 INFO  ProgressMeter -        chr9:68412370             38.7               6047970         156320.3\n",
            "16:09:09.166 INFO  ProgressMeter -        chr9:75432421             38.9               6071950         156263.3\n",
            "16:09:19.226 INFO  ProgressMeter -        chr9:86586587             39.0               6110080         156569.0\n",
            "16:09:29.235 INFO  ProgressMeter -        chr9:95086314             39.2               6139300         156648.2\n",
            "16:09:39.244 INFO  ProgressMeter -       chr9:100113861             39.4               6156830         156429.6\n",
            "16:09:49.251 INFO  ProgressMeter -       chr9:108201960             39.5               6184620         156472.6\n",
            "16:09:59.251 INFO  ProgressMeter -       chr9:116663262             39.7               6213860         156552.3\n",
            "16:10:09.281 INFO  ProgressMeter -       chr9:123783053             39.9               6238360         156510.4\n",
            "16:10:19.294 INFO  ProgressMeter -       chr9:128724721             40.0               6255620         156289.0\n",
            "16:10:29.359 INFO  ProgressMeter -       chr9:131398674             40.2               6265350         155878.8\n",
            "16:10:39.367 INFO  ProgressMeter -       chr9:133294282             40.4               6272340         155407.8\n",
            "16:10:49.445 INFO  ProgressMeter -       chr9:135963403             40.5               6281950         155000.9\n",
            "16:10:59.473 INFO  ProgressMeter -       chr9:138587347             40.7               6291450         154597.7\n",
            "16:11:10.215 INFO  ProgressMeter -       chr9:139850972             40.9               6296140         154035.3\n",
            "16:11:20.271 INFO  ProgressMeter -       chr9:140484403             41.0               6298670         153468.0\n",
            "16:11:30.332 INFO  ProgressMeter -        chr10:6263950             41.2               6322960         153432.9\n",
            "16:11:40.412 INFO  ProgressMeter -       chr10:15179027             41.4               6353640         153551.4\n",
            "16:11:50.418 INFO  ProgressMeter -       chr10:23634327             41.5               6382630         153632.8\n",
            "16:12:00.662 INFO  ProgressMeter -       chr10:30748821             41.7               6407230         153593.8\n",
            "16:12:10.662 INFO  ProgressMeter -       chr10:39477732             41.9               6437050         153694.5\n",
            "16:12:20.699 INFO  ProgressMeter -       chr10:50532721             42.0               6474670         153977.8\n",
            "16:12:30.699 INFO  ProgressMeter -       chr10:63153907             42.2               6517590         154386.5\n",
            "16:12:40.730 INFO  ProgressMeter -       chr10:71714262             42.4               6547110         154474.1\n",
            "16:12:50.800 INFO  ProgressMeter -       chr10:75232041             42.6               6559650         154159.5\n",
            "16:13:00.806 INFO  ProgressMeter -       chr10:81465661             42.7               6581210         154062.4\n",
            "16:13:10.918 INFO  ProgressMeter -       chr10:89697596             42.9               6609520         154117.0\n",
            "16:13:21.011 INFO  ProgressMeter -       chr10:94450271             43.1               6625900         153895.6\n",
            "16:13:31.009 INFO  ProgressMeter -       chr10:99156911             43.2               6642560         153687.5\n",
            "16:13:41.012 INFO  ProgressMeter -      chr10:102771166             43.4               6655270         153389.9\n",
            "16:13:51.016 INFO  ProgressMeter -      chr10:105832214             43.6               6666080         153050.9\n",
            "16:14:01.094 INFO  ProgressMeter -      chr10:116009237             43.7               6700930         153260.0\n",
            "16:14:11.164 INFO  ProgressMeter -      chr10:124096502             43.9               6728850         153310.1\n",
            "16:14:21.174 INFO  ProgressMeter -      chr10:129350604             44.1               6747130         153144.4\n",
            "16:14:31.208 INFO  ProgressMeter -      chr10:135088998             44.2               6767070         153016.2\n",
            "16:14:41.268 INFO  ProgressMeter -         chr11:558580             44.4               6770930         152525.2\n",
            "16:14:51.525 INFO  ProgressMeter -        chr11:1016769             44.6               6772800         151982.1\n",
            "16:15:04.673 INFO  ProgressMeter -        chr11:1093673             44.8               6773100         151245.1\n",
            "16:15:15.056 INFO  ProgressMeter -        chr11:1213925             45.0               6773560         150673.1\n",
            "16:15:25.063 INFO  ProgressMeter -        chr11:1995752             45.1               6776470         150180.7\n",
            "16:15:35.180 INFO  ProgressMeter -        chr11:4616750             45.3               6785950         149830.9\n",
            "16:15:45.452 INFO  ProgressMeter -        chr11:7571349             45.5               6796440         149497.4\n",
            "16:15:55.465 INFO  ProgressMeter -       chr11:11915602             45.6               6811730         149285.7\n",
            "16:16:05.478 INFO  ProgressMeter -       chr11:17657431             45.8               6831550         149174.5\n",
            "16:16:15.483 INFO  ProgressMeter -       chr11:22271833             46.0               6847610         148982.7\n",
            "16:16:25.679 INFO  ProgressMeter -       chr11:34135534             46.1               6888100         149311.6\n",
            "16:16:35.705 INFO  ProgressMeter -       chr11:46368444             46.3               6929800         149673.4\n",
            "16:16:45.706 INFO  ProgressMeter -       chr11:48932285             46.5               6938900         149332.3\n",
            "16:16:55.740 INFO  ProgressMeter -       chr11:58059831             46.6               6969940         149462.4\n",
            "16:17:05.787 INFO  ProgressMeter -       chr11:61978832             46.8               6983780         149223.4\n",
            "16:17:15.821 INFO  ProgressMeter -       chr11:64072488             47.0               6991250         148851.1\n",
            "16:17:25.874 INFO  ProgressMeter -       chr11:64856446             47.1               6994220         148385.0\n",
            "16:17:35.899 INFO  ProgressMeter -       chr11:66253705             47.3               6999360         147969.5\n",
            "16:17:45.940 INFO  ProgressMeter -       chr11:68701634             47.5               7008230         147634.7\n",
            "16:17:56.016 INFO  ProgressMeter -       chr11:72295465             47.6               7020810         147378.4\n",
            "16:18:06.025 INFO  ProgressMeter -       chr11:76923690             47.8               7036920         147201.1\n",
            "16:18:16.025 INFO  ProgressMeter -       chr11:88184601             48.0               7075320         147490.1\n",
            "16:18:26.026 INFO  ProgressMeter -      chr11:100105054             48.1               7115960         147823.7\n",
            "16:18:36.037 INFO  ProgressMeter -      chr11:108384738             48.3               7144440         147902.7\n",
            "16:18:46.054 INFO  ProgressMeter -      chr11:117042301             48.5               7174140         148006.0\n",
            "16:18:56.058 INFO  ProgressMeter -      chr11:119230002             48.6               7181990         147660.0\n",
            "16:19:06.069 INFO  ProgressMeter -      chr11:124863633             48.8               7201560         147556.2\n",
            "16:19:16.094 INFO  ProgressMeter -      chr11:131781672             49.0               7225450         147540.6\n",
            "16:19:26.094 INFO  ProgressMeter -        chr12:1989993             49.1               7243620         147409.9\n",
            "16:19:36.107 INFO  ProgressMeter -        chr12:6457100             49.3               7259270         147228.4\n",
            "16:19:46.139 INFO  ProgressMeter -        chr12:8618826             49.5               7267130         146889.7\n",
            "16:19:56.288 INFO  ProgressMeter -       chr12:12419898             49.6               7280640         146661.3\n",
            "16:20:06.291 INFO  ProgressMeter -       chr12:21614639             49.8               7312180         146803.7\n",
            "16:20:16.293 INFO  ProgressMeter -       chr12:27990929             50.0               7334260         146755.8\n",
            "16:20:26.294 INFO  ProgressMeter -       chr12:40034253             50.1               7375420         147088.8\n",
            "16:20:36.343 INFO  ProgressMeter -       chr12:48111546             50.3               7403270         147152.7\n",
            "16:20:46.356 INFO  ProgressMeter -       chr12:49935365             50.5               7409870         146797.0\n",
            "16:20:56.356 INFO  ProgressMeter -       chr12:52410924             50.6               7418750         146489.2\n",
            "16:21:06.406 INFO  ProgressMeter -       chr12:53574143             50.8               7423230         146094.5\n",
            "16:21:16.408 INFO  ProgressMeter -       chr12:56533543             51.0               7433830         145824.7\n",
            "16:21:26.420 INFO  ProgressMeter -       chr12:57930484             51.1               7438930         145448.6\n",
            "16:21:36.424 INFO  ProgressMeter -       chr12:66357867             51.3               7467700         145536.7\n",
            "16:21:46.431 INFO  ProgressMeter -       chr12:75884283             51.5               7500320         145698.8\n",
            "16:21:56.431 INFO  ProgressMeter -       chr12:88542929             51.6               7543450         146063.7\n",
            "16:22:06.438 INFO  ProgressMeter -       chr12:99117744             51.8               7579690         146293.0\n",
            "16:22:16.439 INFO  ProgressMeter -      chr12:105434225             52.0               7601650         146246.4\n",
            "16:22:26.456 INFO  ProgressMeter -      chr12:110001552             52.1               7617610         146084.2\n",
            "16:22:36.457 INFO  ProgressMeter -      chr12:113758260             52.3               7630860         145872.0\n",
            "16:22:46.480 INFO  ProgressMeter -      chr12:120655022             52.5               7654640         145860.8\n",
            "16:22:56.490 INFO  ProgressMeter -      chr12:122862523             52.6               7662560         145549.0\n",
            "16:23:06.492 INFO  ProgressMeter -      chr12:124888048             52.8               7669940         145229.4\n",
            "16:23:16.569 INFO  ProgressMeter -      chr12:132688175             53.0               7697010         145279.9\n",
            "16:23:26.639 INFO  ProgressMeter -      chr12:133384827             53.1               7699660         144871.1\n",
            "16:23:36.659 INFO  ProgressMeter -       chr13:21562795             53.3               7773660         145805.2\n",
            "16:23:46.659 INFO  ProgressMeter -       chr13:28561352             53.5               7797990         145805.7\n",
            "16:23:56.686 INFO  ProgressMeter -       chr13:36224105             53.6               7824430         145844.4\n",
            "16:24:06.757 INFO  ProgressMeter -       chr13:44544752             53.8               7852980         145920.0\n",
            "16:24:16.820 INFO  ProgressMeter -       chr13:52992380             54.0               7882030         146004.8\n",
            "16:24:26.824 INFO  ProgressMeter -       chr13:76396258             54.2               7961000         147013.6\n",
            "16:24:36.857 INFO  ProgressMeter -       chr13:99340000             54.3               8038650         147990.5\n",
            "16:24:46.876 INFO  ProgressMeter -      chr13:110838852             54.5               8077990         148259.0\n",
            "16:24:57.170 INFO  ProgressMeter -      chr13:113817164             54.7               8088630         147988.3\n",
            "16:25:07.233 INFO  ProgressMeter -       chr14:19378154             54.8               8158220         148804.9\n",
            "16:25:17.235 INFO  ProgressMeter -       chr14:21834773             55.0               8166960         148512.7\n",
            "16:25:27.303 INFO  ProgressMeter -       chr14:23856207             55.2               8174340         148194.7\n",
            "16:25:37.305 INFO  ProgressMeter -       chr14:31536394             55.3               8200610         148223.0\n",
            "16:25:47.366 INFO  ProgressMeter -       chr14:39818860             55.5               8229070         148288.0\n",
            "16:25:57.592 INFO  ProgressMeter -       chr14:53175266             55.7               8274660         148653.0\n",
            "16:26:07.597 INFO  ProgressMeter -       chr14:60746316             55.8               8300880         148678.7\n",
            "16:26:17.627 INFO  ProgressMeter -       chr14:68039486             56.0               8325940         148682.4\n",
            "16:26:27.628 INFO  ProgressMeter -       chr14:73374397             56.2               8344420         148570.1\n",
            "16:26:37.637 INFO  ProgressMeter -       chr14:77256981             56.3               8358320         148376.9\n",
            "16:26:47.686 INFO  ProgressMeter -       chr14:88331134             56.5               8395960         148603.3\n",
            "16:26:57.743 INFO  ProgressMeter -       chr14:93121245             56.7               8412800         148460.9\n",
            "16:27:07.787 INFO  ProgressMeter -       chr14:95923470             56.8               8422770         148199.0\n",
            "16:27:17.805 INFO  ProgressMeter -      chr14:102918828             57.0               8447040         148190.7\n",
            "16:27:27.859 INFO  ProgressMeter -      chr14:105415757             57.2               8456050         147913.9\n",
            "16:27:37.872 INFO  ProgressMeter -       chr15:22371375             57.3               8537520         148904.3\n",
            "16:27:47.906 INFO  ProgressMeter -       chr15:25085322             57.5               8547030         148636.7\n",
            "16:27:57.931 INFO  ProgressMeter -       chr15:32929714             57.7               8574120         148675.8\n",
            "16:28:08.099 INFO  ProgressMeter -       chr15:39875710             57.8               8598040         148653.8\n",
            "16:28:18.140 INFO  ProgressMeter -       chr15:42143102             58.0               8606310         148367.4\n",
            "16:28:28.158 INFO  ProgressMeter -       chr15:43785014             58.2               8612490         148047.9\n",
            "16:28:38.189 INFO  ProgressMeter -       chr15:48906650             58.3               8630310         147929.0\n",
            "16:28:48.196 INFO  ProgressMeter -       chr15:55744289             58.5               8654070         147913.4\n",
            "16:28:58.210 INFO  ProgressMeter -       chr15:63089589             58.7               8679480         147926.1\n",
            "16:29:08.207 INFO  ProgressMeter -       chr15:66679848             58.8               8692170         147722.6\n",
            "16:29:18.355 INFO  ProgressMeter -       chr15:73617684             59.0               8716280         147707.7\n",
            "16:29:28.364 INFO  ProgressMeter -       chr15:77154543             59.2               8728790         147502.9\n",
            "16:29:38.372 INFO  ProgressMeter -       chr15:78910996             59.3               8735080         147194.2\n",
            "16:29:48.405 INFO  ProgressMeter -       chr15:83953595             59.5               8752630         147075.5\n",
            "16:29:58.428 INFO  ProgressMeter -       chr15:90344990             59.7               8774880         147036.6\n",
            "16:30:08.435 INFO  ProgressMeter -       chr15:99503763             59.8               8806280         147151.5\n",
            "16:30:18.462 INFO  ProgressMeter -         chr16:420834             60.0               8818580         146946.7\n",
            "16:30:28.586 INFO  ProgressMeter -        chr16:1308314             60.2               8821970         146591.0\n",
            "16:30:38.647 INFO  ProgressMeter -        chr16:2285695             60.3               8825720         146245.8\n",
            "16:30:48.652 INFO  ProgressMeter -        chr16:4527781             60.5               8833860         145977.4\n",
            "16:30:58.674 INFO  ProgressMeter -        chr16:8994112             60.7               8849510         145833.5\n",
            "16:31:08.828 INFO  ProgressMeter -       chr16:12655446             60.9               8862430         145640.2\n",
            "16:31:15.806 WARN  HaplotypeCallerGenotypingEngine - At position chr16:15857598-15857598 removed alt alleles where ploidy is 2 and original allele count is 54, whereas after trimming the allele count becomes 44. Alleles kept are:[T*, TCC, TCCC, TCCG, TCGG, TCGCCCC, TCCGCCCC, TCGCCCCC, TCGGCCCC, TCCCCCCCC, TCCGCCCCC, TCGCCCCCC, TCGGCCCCC, TCCCCCCCCC, TCCGCCCCCC, TCGGCCCCCC, TCCCCCCCCCC, TCCGCCCCCCC, TCGCCCCCCCC, TCGGCCCCCCC, TCCCCCCCCCCC, TCCGCCCCCCCC, TCGCCCCCCCCC, TCGGCCCCCCCC, TCCGCCCCCCCCC, TCGGCCCCCCCCC, TCGCCCCCCCCCCCC, TCGGGGCCCCCCCCC, TCCGCCCCCCCCCCCC, TCGCCCCCCCCCCCCC, TCGGCCCCCCCCCCCC, TCCCCCCCCCCCCCCCC, TCCGCCCCCCCCCCCCC, TCGCCCCCCCCCCCCCC, TCGGCCCCCCCCCCCCC, TCCCCCCCCCCCCCCCCC, TCCGCCCCCCCCCCCCCC, TCGGCCCCCCCCCCCCCC, TCCCCCCCCCCCCCCCCCC, TCGGGGCCCCCCCCCCCCC, TCGCCCCCCCCCCCCCCCCC, TCCGCCCCCCCCCCCCCCCCC, TCGGCCCCCCCCCCCCCCCCC, TCGGGGCCCCCCCCCCCCCCCCC]\n",
            "16:31:19.035 INFO  ProgressMeter -       chr16:16253630             61.0               8875080         145441.5\n",
            "16:31:29.297 INFO  ProgressMeter -       chr16:21140745             61.2               8892150         145313.9\n",
            "16:31:39.298 INFO  ProgressMeter -       chr16:26150259             61.4               8909620         145203.9\n",
            "16:31:50.933 INFO  ProgressMeter -       chr16:29231670             61.6               8920480         144922.9\n",
            "16:32:00.956 INFO  ProgressMeter -       chr16:31023815             61.7               8926870         144634.2\n",
            "16:32:11.207 INFO  ProgressMeter -       chr16:33741108             61.9               8936500         144390.5\n",
            "16:32:21.209 INFO  ProgressMeter -       chr16:53079462             62.1               9001770         145054.4\n",
            "16:32:31.233 INFO  ProgressMeter -       chr16:57710115             62.2               9018060         144926.8\n",
            "16:32:41.244 INFO  ProgressMeter -       chr16:67288798             62.4               9050710         145062.5\n",
            "16:32:52.050 INFO  ProgressMeter -       chr16:70198867             62.6               9061050         144810.2\n",
            "16:33:02.049 INFO  ProgressMeter -       chr16:74651524             62.7               9076720         144675.3\n",
            "16:33:12.049 INFO  ProgressMeter -       chr16:81164384             62.9               9099250         144650.2\n",
            "16:33:22.052 INFO  ProgressMeter -       chr16:84888258             63.1               9112550         144478.7\n",
            "16:33:32.060 INFO  ProgressMeter -       chr16:88445286             63.2               9125090         144295.9\n",
            "16:33:42.093 INFO  ProgressMeter -       chr16:89225804             63.4               9128110         143963.0\n",
            "16:33:52.111 INFO  ProgressMeter -       chr16:90169635             63.6               9131830         143643.4\n",
            "16:34:02.150 INFO  ProgressMeter -        chr17:1689738             63.7               9138530         143371.5\n",
            "16:34:12.314 INFO  ProgressMeter -        chr17:4439457             63.9               9148600         143149.0\n",
            "16:34:22.331 INFO  ProgressMeter -        chr17:6025540             64.1               9154340         142865.6\n",
            "16:34:33.008 INFO  ProgressMeter -        chr17:7418189             64.3               9159460         142549.6\n",
            "16:34:44.733 INFO  ProgressMeter -        chr17:8047543             64.4               9161900         142155.3\n",
            "16:34:54.746 INFO  ProgressMeter -       chr17:11697007             64.6               9174850         141988.6\n",
            "16:35:04.805 INFO  ProgressMeter -       chr17:17697147             64.8               9195740         141943.6\n",
            "16:35:14.847 INFO  ProgressMeter -       chr17:20110140             65.0               9204460         141712.1\n",
            "16:35:24.847 INFO  ProgressMeter -       chr17:24249525             65.1               9218650         141567.3\n",
            "16:35:34.887 INFO  ProgressMeter -       chr17:29647710             65.3               9237480         141492.8\n",
            "16:35:45.061 INFO  ProgressMeter -       chr17:35735747             65.5               9258670         141450.0\n",
            "16:35:55.064 INFO  ProgressMeter -       chr17:38068420             65.6               9267080         141218.8\n",
            "16:36:05.385 INFO  ProgressMeter -       chr17:40343528             65.8               9275220         140973.3\n",
            "16:36:15.399 INFO  ProgressMeter -       chr17:41891511             66.0               9280900         140702.7\n",
            "16:36:25.761 INFO  ProgressMeter -       chr17:44074511             66.1               9288790         140454.6\n",
            "16:36:35.776 INFO  ProgressMeter -       chr17:47579311             66.3               9301130         140287.1\n",
            "16:36:45.830 INFO  ProgressMeter -       chr17:49710997             66.5               9308900         140050.4\n",
            "16:36:55.839 INFO  ProgressMeter -       chr17:57288692             66.6               9334900         140089.9\n",
            "16:37:05.889 INFO  ProgressMeter -       chr17:61988782             66.8               9351470         139986.7\n",
            "16:37:15.933 INFO  ProgressMeter -       chr17:67180530             67.0               9369620         139907.8\n",
            "16:37:25.936 INFO  ProgressMeter -       chr17:72969860             67.1               9389730         139859.9\n",
            "16:37:36.116 INFO  ProgressMeter -       chr17:73837274             67.3               9393110         139557.6\n",
            "16:37:46.490 INFO  ProgressMeter -       chr17:76184540             67.5               9401630         139326.3\n",
            "16:37:56.946 INFO  ProgressMeter -       chr17:78182712             67.7               9408970         139075.9\n",
            "16:38:07.059 INFO  ProgressMeter -       chr17:79650791             67.8               9414520         138812.1\n",
            "16:38:17.086 INFO  ProgressMeter -       chr17:81160825             68.0               9420250         138555.2\n",
            "16:38:27.153 INFO  ProgressMeter -        chr18:8826539             68.2               9450780         138662.0\n",
            "16:38:37.260 INFO  ProgressMeter -       chr18:13645039             68.3               9467550         138565.6\n",
            "16:38:47.263 INFO  ProgressMeter -       chr18:21892641             68.5               9495770         138640.3\n",
            "16:38:57.280 INFO  ProgressMeter -       chr18:33554224             68.7               9535550         138882.6\n",
            "16:39:07.318 INFO  ProgressMeter -       chr18:44560467             68.8               9573100         139090.6\n",
            "16:39:17.318 INFO  ProgressMeter -       chr18:55121594             69.0               9609240         139278.4\n",
            "16:39:27.318 INFO  ProgressMeter -       chr18:63946113             69.2               9639580         139381.5\n",
            "16:39:37.320 INFO  ProgressMeter -       chr18:77490407             69.3               9685700         139711.6\n",
            "16:39:47.944 INFO  ProgressMeter -        chr20:2820067             69.5               9697720         139528.6\n",
            "16:39:57.944 INFO  ProgressMeter -        chr20:8715955             69.7               9718140         139487.9\n",
            "16:40:07.985 INFO  ProgressMeter -       chr20:19679239             69.8               9755580         139689.7\n",
            "16:40:17.997 INFO  ProgressMeter -       chr20:25257689             70.0               9774830         139631.8\n",
            "16:40:28.040 INFO  ProgressMeter -       chr20:30900403             70.2               9794070         139572.9\n",
            "16:40:38.063 INFO  ProgressMeter -       chr20:34063730             70.3               9805370         139402.0\n",
            "16:40:48.066 INFO  ProgressMeter -       chr20:39975946             70.5               9825930         139364.0\n",
            "16:40:58.070 INFO  ProgressMeter -       chr20:44440584             70.7               9841490         139255.4\n",
            "16:41:08.093 INFO  ProgressMeter -       chr20:48605031             70.8               9856160         139134.1\n",
            "16:41:18.163 INFO  ProgressMeter -       chr20:57430754             71.0               9886560         139233.4\n",
            "16:41:28.471 INFO  ProgressMeter -       chr20:61870038             71.2               9902090         139115.5\n",
            "16:41:38.498 INFO  ProgressMeter -         chrY:7424870             71.3               9931300         139199.0\n",
            "16:41:48.498 INFO  ProgressMeter -        chrY:51805473             71.5              10079390         140945.5\n",
            "16:41:58.511 INFO  ProgressMeter -         chr19:974309             71.7              10108430         141022.4\n",
            "16:42:08.521 INFO  ProgressMeter -        chr19:1430516             71.8              10110340         140721.6\n",
            "16:42:18.526 INFO  ProgressMeter -        chr19:2323777             72.0              10113850         140444.5\n",
            "16:42:29.610 INFO  ProgressMeter -        chr19:3646720             72.2              10118900         140155.0\n",
            "16:42:39.677 INFO  ProgressMeter -        chr19:4817246             72.4              10123410         139892.4\n",
            "16:42:49.703 INFO  ProgressMeter -        chr19:6468969             72.5              10129470         139653.7\n",
            "16:43:03.174 INFO  ProgressMeter -        chr19:7705484             72.8              10134120         139286.6\n",
            "16:43:13.174 INFO  ProgressMeter -        chr19:8523373             72.9              10137230         139011.0\n",
            "16:43:23.175 INFO  ProgressMeter -        chr19:9870798             73.1              10142190         138761.8\n",
            "16:43:33.176 INFO  ProgressMeter -       chr19:11094533             73.3              10146800         138509.0\n",
            "16:43:43.203 INFO  ProgressMeter -       chr19:12542318             73.4              10152160         138266.7\n",
            "16:43:53.203 INFO  ProgressMeter -       chr19:13959456             73.6              10157350         138024.1\n",
            "16:44:03.246 INFO  ProgressMeter -       chr19:15133583             73.8              10161790         137771.1\n",
            "16:44:13.256 INFO  ProgressMeter -       chr19:16919188             73.9              10168400         137549.6\n",
            "16:44:23.289 INFO  ProgressMeter -       chr19:17757887             74.1              10171770         137284.7\n",
            "16:44:33.403 INFO  ProgressMeter -       chr19:18546376             74.3              10174790         137013.7\n",
            "16:44:43.445 INFO  ProgressMeter -       chr19:20150343             74.4              10180680         136784.7\n",
            "16:44:53.487 INFO  ProgressMeter -       chr19:33642311             74.6              10226750         137095.4\n",
            "16:45:03.493 INFO  ProgressMeter -       chr19:36104821             74.8              10235510         136906.8\n",
            "16:45:13.505 INFO  ProgressMeter -       chr19:36941482             74.9              10238580         136642.9\n",
            "16:45:23.527 INFO  ProgressMeter -       chr19:39070917             75.1              10246100         136439.1\n",
            "16:45:33.537 INFO  ProgressMeter -       chr19:41020521             75.3              10253160         136230.4\n",
            "16:45:43.596 INFO  ProgressMeter -       chr19:43373226             75.4              10261550         136038.9\n",
            "16:45:53.692 INFO  ProgressMeter -       chr19:45493598             75.6              10269340         135839.1\n",
            "16:46:03.713 INFO  ProgressMeter -       chr19:46801399             75.8              10274210         135604.0\n",
            "16:46:13.845 INFO  ProgressMeter -       chr19:48647931             75.9              10280990         135391.7\n",
            "16:46:23.882 INFO  ProgressMeter -       chr19:49671400             76.1              10285020         135147.1\n",
            "16:46:33.894 INFO  ProgressMeter -       chr19:50776380             76.3              10289210         134906.3\n",
            "16:46:43.918 INFO  ProgressMeter -       chr19:52032706             76.4              10293910         134672.9\n",
            "16:46:54.006 INFO  ProgressMeter -       chr19:55786375             76.6              10307210         134551.0\n",
            "16:47:04.064 INFO  ProgressMeter -       chr19:56755861             76.8              10310940         134305.8\n",
            "16:47:14.064 INFO  ProgressMeter -       chr22:10221301             76.9              10353520         134568.3\n",
            "16:47:24.124 INFO  ProgressMeter -       chr22:18844905             77.1              10382730         134654.5\n",
            "16:47:34.188 INFO  ProgressMeter -       chr22:21330304             77.3              10391630         134477.4\n",
            "16:47:44.219 INFO  ProgressMeter -       chr22:23029337             77.4              10397720         134265.7\n",
            "16:47:54.224 INFO  ProgressMeter -       chr22:25264137             77.6              10405840         134081.8\n",
            "16:48:04.303 INFO  ProgressMeter -       chr22:30349290             77.8              10423610         134020.7\n",
            "16:48:14.335 INFO  ProgressMeter -       chr22:36116961             77.9              10443730         133991.3\n",
            "16:48:24.337 INFO  ProgressMeter -       chr22:38456107             78.1              10452190         133813.7\n",
            "16:48:34.336 INFO  ProgressMeter -       chr22:41215367             78.3              10461970         133653.7\n",
            "16:48:44.339 INFO  ProgressMeter -       chr22:44013751             78.4              10472170         133499.7\n",
            "16:48:54.343 INFO  ProgressMeter -       chr22:47053681             78.6              10483240         133357.4\n",
            "16:49:04.656 INFO  ProgressMeter -       chr22:50886258             78.8              10496880         133239.6\n",
            "16:49:15.406 INFO  ProgressMeter -       chr21:11038920             79.0              10535470         133426.0\n",
            "16:49:25.406 INFO  ProgressMeter -       chr21:25440598             79.1              10584190         133760.6\n",
            "16:49:35.454 INFO  ProgressMeter -       chr21:34924581             79.3              10616720         133888.4\n",
            "16:49:45.526 INFO  ProgressMeter -       chr21:41518492             79.5              10639760         133895.5\n",
            "16:49:55.558 INFO  ProgressMeter -       chr21:44001538             79.6              10648600         133725.4\n",
            "16:50:05.568 INFO  ProgressMeter -       chr21:46021555             79.8              10655960         133538.0\n",
            "16:50:15.573 INFO  ProgressMeter -       chr21:47783670             80.0              10662370         133339.7\n",
            "16:50:25.638 INFO  ProgressMeter - chrUn_gl000225:24950             80.1              10783730         134575.1\n",
            "16:50:37.056 INFO  ProgressMeter - chr7_gl000195_random:50092             80.3              10787970         134309.1\n",
            "16:50:47.067 INFO  ProgressMeter - chrUn_gl000214:133379             80.5              10797360         134147.3\n",
            "16:50:57.067 INFO  ProgressMeter - chr1_jh636052_fix:6479860             80.7              10831660         134295.3\n",
            "16:51:07.067 INFO  ProgressMeter - chr11_gl949744_fix:146401             80.8              10931580         135254.7\n",
            "16:51:17.067 INFO  ProgressMeter - chr19_gl949752_alt:429546             81.0              11016410         136023.8\n",
            "16:51:24.811 INFO  HaplotypeCaller - 8643703 read(s) filtered by: MappingQualityReadFilter \n",
            "0 read(s) filtered by: MappingQualityAvailableReadFilter \n",
            "0 read(s) filtered by: MappedReadFilter \n",
            "16267 read(s) filtered by: NotSecondaryAlignmentReadFilter \n",
            "0 read(s) filtered by: NotDuplicateReadFilter \n",
            "0 read(s) filtered by: PassesVendorQualityCheckReadFilter \n",
            "0 read(s) filtered by: NonZeroReferenceLengthAlignmentReadFilter \n",
            "0 read(s) filtered by: GoodCigarReadFilter \n",
            "0 read(s) filtered by: WellformedReadFilter \n",
            "8659970 total reads filtered\n",
            "16:51:24.811 INFO  ProgressMeter -          chrMT:15887             81.1              11130786         137217.4\n",
            "16:51:24.811 INFO  ProgressMeter - Traversal complete. Processed 11130786 total regions in 81.1 minutes.\n",
            "16:51:24.965 INFO  VectorLoglessPairHMM - Time spent in setup for JNI call : 5.212171165\n",
            "16:51:24.965 INFO  PairHMM - Total compute time in PairHMM computeLogLikelihoods() : 931.5443755160001\n",
            "16:51:24.965 INFO  SmithWatermanAligner - Total compute time in java Smith-Waterman : 654.94 sec\n",
            "16:51:42.348 INFO  HaplotypeCaller - Shutting down engine\n",
            "[June 5, 2023 at 4:51:42 PM UTC] org.broadinstitute.hellbender.tools.walkers.haplotypecaller.HaplotypeCaller done. Elapsed time: 81.43 minutes.\n",
            "Runtime.totalMemory()=434110464\n",
            "\n",
            "real\t81m29.657s\n",
            "user\t108m50.828s\n",
            "sys\t0m34.193s\n"
          ]
        }
      ],
      "source": [
        "%%bash\n",
        "# gatk --java-options \"-Xmx4g\" HaplotypeCaller  \\\n",
        "#   -R Homo_sapiens_assembly38.fasta \\\n",
        "#   -I input.bam \\\n",
        "#   -O output.vcf.gz \\\n",
        "#   -bamout bamout.bam\n",
        "time gatk-4.2.5.0/gatk HaplotypeCaller \\\n",
        "-R referencia/hg19/hg19.fa \\\n",
        "-I dados/bwa/LWV461-001_sorted.bam \\\n",
        "-O dados/gatk/LWV461-001_sorted.vcf \\\n",
        "-bamout dados/bwa/LWV461-001_sorted_bamout.bam\n"
      ]
    },
    {
      "cell_type": "code",
      "execution_count": null,
      "metadata": {
        "id": "rJPu3kel6DkH",
        "colab": {
          "base_uri": "https://localhost:8080/"
        },
        "outputId": "ef1f0b2a-9df8-4068-d127-db941393115f"
      },
      "outputs": [
        {
          "output_type": "stream",
          "name": "stdout",
          "text": [
            "@SQ\tSN:chr1\tLN:249250621\n",
            "@SQ\tSN:chr2\tLN:243199373\n",
            "@SQ\tSN:chr3\tLN:198022430\n",
            "@SQ\tSN:chr4\tLN:191154276\n",
            "@SQ\tSN:chr5\tLN:180915260\n",
            "@SQ\tSN:chr6\tLN:171115067\n",
            "@SQ\tSN:chr7\tLN:159138663\n",
            "@SQ\tSN:chrX\tLN:155270560\n",
            "@SQ\tSN:chr8\tLN:146364022\n",
            "@SQ\tSN:chr9\tLN:141213431\n",
            "@SQ\tSN:chr10\tLN:135534747\n",
            "@SQ\tSN:chr11\tLN:135006516\n",
            "@SQ\tSN:chr12\tLN:133851895\n",
            "@SQ\tSN:chr13\tLN:115169878\n",
            "@SQ\tSN:chr14\tLN:107349540\n",
            "@SQ\tSN:chr15\tLN:102531392\n",
            "@SQ\tSN:chr16\tLN:90354753\n",
            "@SQ\tSN:chr17\tLN:81195210\n",
            "@SQ\tSN:chr18\tLN:78077248\n",
            "@SQ\tSN:chr20\tLN:63025520\n",
            "@SQ\tSN:chrY\tLN:59373566\n",
            "@SQ\tSN:chr19\tLN:59128983\n",
            "@SQ\tSN:chr22\tLN:51304566\n",
            "@SQ\tSN:chr21\tLN:48129895\n",
            "@SQ\tSN:chr6_ssto_hap7\tLN:4928567\n",
            "@SQ\tSN:chr6_mcf_hap5\tLN:4833398\n",
            "@SQ\tSN:chr6_cox_hap2\tLN:4795371\n",
            "@SQ\tSN:chr6_mann_hap4\tLN:4683263\n",
            "@SQ\tSN:chr6_apd_hap1\tLN:4622290\n",
            "@SQ\tSN:chr6_qbl_hap6\tLN:4611984\n",
            "@SQ\tSN:chr6_dbb_hap3\tLN:4610396\n",
            "@SQ\tSN:chr17_ctg5_hap1\tLN:1680828\n",
            "@SQ\tSN:chr4_ctg9_hap1\tLN:590426\n",
            "@SQ\tSN:chr1_gl000192_random\tLN:547496\n",
            "@SQ\tSN:chrUn_gl000225\tLN:211173\n",
            "@SQ\tSN:chr4_gl000194_random\tLN:191469\n",
            "@SQ\tSN:chr4_gl000193_random\tLN:189789\n",
            "@SQ\tSN:chr9_gl000200_random\tLN:187035\n",
            "@SQ\tSN:chrUn_gl000222\tLN:186861\n",
            "@SQ\tSN:chrUn_gl000212\tLN:186858\n",
            "@SQ\tSN:chr7_gl000195_random\tLN:182896\n",
            "@SQ\tSN:chrUn_gl000223\tLN:180455\n",
            "@SQ\tSN:chrUn_gl000224\tLN:179693\n",
            "@SQ\tSN:chrUn_gl000219\tLN:179198\n",
            "@SQ\tSN:chr17_gl000205_random\tLN:174588\n",
            "@SQ\tSN:chrUn_gl000215\tLN:172545\n",
            "@SQ\tSN:chrUn_gl000216\tLN:172294\n",
            "@SQ\tSN:chrUn_gl000217\tLN:172149\n",
            "@SQ\tSN:chr9_gl000199_random\tLN:169874\n",
            "@SQ\tSN:chrUn_gl000211\tLN:166566\n",
            "@SQ\tSN:chrUn_gl000213\tLN:164239\n",
            "@SQ\tSN:chrUn_gl000220\tLN:161802\n",
            "@SQ\tSN:chrUn_gl000218\tLN:161147\n",
            "@SQ\tSN:chr19_gl000209_random\tLN:159169\n",
            "@SQ\tSN:chrUn_gl000221\tLN:155397\n",
            "@SQ\tSN:chrUn_gl000214\tLN:137718\n",
            "@SQ\tSN:chrUn_gl000228\tLN:129120\n",
            "@SQ\tSN:chrUn_gl000227\tLN:128374\n",
            "@SQ\tSN:chr1_gl000191_random\tLN:106433\n",
            "@SQ\tSN:chr19_gl000208_random\tLN:92689\n",
            "@SQ\tSN:chr9_gl000198_random\tLN:90085\n",
            "@SQ\tSN:chr17_gl000204_random\tLN:81310\n",
            "@SQ\tSN:chrUn_gl000233\tLN:45941\n",
            "@SQ\tSN:chrUn_gl000237\tLN:45867\n",
            "@SQ\tSN:chrUn_gl000230\tLN:43691\n",
            "@SQ\tSN:chrUn_gl000242\tLN:43523\n",
            "@SQ\tSN:chrUn_gl000243\tLN:43341\n",
            "@SQ\tSN:chrUn_gl000241\tLN:42152\n",
            "@SQ\tSN:chrUn_gl000236\tLN:41934\n",
            "@SQ\tSN:chrUn_gl000240\tLN:41933\n",
            "@SQ\tSN:chr17_gl000206_random\tLN:41001\n",
            "@SQ\tSN:chrUn_gl000232\tLN:40652\n",
            "@SQ\tSN:chrUn_gl000234\tLN:40531\n",
            "@SQ\tSN:chr11_gl000202_random\tLN:40103\n",
            "@SQ\tSN:chrUn_gl000238\tLN:39939\n",
            "@SQ\tSN:chrUn_gl000244\tLN:39929\n",
            "@SQ\tSN:chrUn_gl000248\tLN:39786\n",
            "@SQ\tSN:chr8_gl000196_random\tLN:38914\n",
            "@SQ\tSN:chrUn_gl000249\tLN:38502\n",
            "@SQ\tSN:chrUn_gl000246\tLN:38154\n",
            "@SQ\tSN:chr17_gl000203_random\tLN:37498\n",
            "@SQ\tSN:chr8_gl000197_random\tLN:37175\n",
            "@SQ\tSN:chrUn_gl000245\tLN:36651\n",
            "@SQ\tSN:chrUn_gl000247\tLN:36422\n",
            "@SQ\tSN:chr9_gl000201_random\tLN:36148\n",
            "@SQ\tSN:chrUn_gl000235\tLN:34474\n",
            "@SQ\tSN:chrUn_gl000239\tLN:33824\n",
            "@SQ\tSN:chr21_gl000210_random\tLN:27682\n",
            "@SQ\tSN:chrUn_gl000231\tLN:27386\n",
            "@SQ\tSN:chrUn_gl000229\tLN:19913\n",
            "@SQ\tSN:chrM\tLN:16571\n",
            "@SQ\tSN:chrUn_gl000226\tLN:15008\n",
            "@SQ\tSN:chr18_gl000207_random\tLN:4262\n",
            "@SQ\tSN:chr1_jh806574_fix\tLN:22982\n",
            "@SQ\tSN:chr1_gl949741_fix\tLN:151551\n",
            "@SQ\tSN:chr1_jh636053_fix\tLN:1676126\n",
            "@SQ\tSN:chr1_jh636052_fix\tLN:7283150\n",
            "@SQ\tSN:chr1_gl383518_alt\tLN:182439\n",
            "@SQ\tSN:chr1_gl383519_alt\tLN:110268\n",
            "@SQ\tSN:chr1_gl383520_alt\tLN:366579\n",
            "@SQ\tSN:chr1_jh806573_fix\tLN:24680\n",
            "@SQ\tSN:chr1_jh636054_fix\tLN:758378\n",
            "@SQ\tSN:chr1_jh806575_fix\tLN:47409\n",
            "@SQ\tSN:chr1_gl383516_fix\tLN:49316\n",
            "@SQ\tSN:chr1_gl383517_fix\tLN:49352\n",
            "@SQ\tSN:chr2_gl383521_alt\tLN:143390\n",
            "@SQ\tSN:chr2_kb663603_fix\tLN:599580\n",
            "@SQ\tSN:chr2_gl877871_fix\tLN:389939\n",
            "@SQ\tSN:chr2_gl582966_alt\tLN:96131\n",
            "@SQ\tSN:chr2_gl383522_alt\tLN:123821\n",
            "@SQ\tSN:chr2_gl877870_fix\tLN:66021\n",
            "@SQ\tSN:chr3_jh636055_alt\tLN:173151\n",
            "@SQ\tSN:chr3_jh159132_fix\tLN:100694\n",
            "@SQ\tSN:chr3_gl383523_fix\tLN:171362\n",
            "@SQ\tSN:chr3_ke332495_fix\tLN:263861\n",
            "@SQ\tSN:chr3_gl383524_fix\tLN:78793\n",
            "@SQ\tSN:chr3_jh159131_fix\tLN:393769\n",
            "@SQ\tSN:chr3_gl383525_fix\tLN:65063\n",
            "@SQ\tSN:chr3_gl383526_alt\tLN:180671\n",
            "@SQ\tSN:chr4_ke332496_fix\tLN:503215\n",
            "@SQ\tSN:chr4_gl383528_alt\tLN:376187\n",
            "@SQ\tSN:chr4_gl383529_alt\tLN:121345\n",
            "@SQ\tSN:chr4_gl582967_fix\tLN:248177\n",
            "@SQ\tSN:chr4_gl383527_alt\tLN:164536\n",
            "@SQ\tSN:chr4_gl877872_fix\tLN:297485\n",
            "@SQ\tSN:chr5_gl383532_alt\tLN:82728\n",
            "@SQ\tSN:chr5_gl949742_alt\tLN:226852\n",
            "@SQ\tSN:chr5_gl339449_alt\tLN:1612928\n",
            "@SQ\tSN:chr5_gl383530_alt\tLN:101241\n",
            "@SQ\tSN:chr5_jh159133_fix\tLN:266316\n",
            "@SQ\tSN:chr5_ke332497_fix\tLN:543325\n",
            "@SQ\tSN:chr5_gl383531_alt\tLN:173459\n",
            "@SQ\tSN:chr6_jh806576_fix\tLN:273386\n",
            "@SQ\tSN:chr6_jh636057_fix\tLN:200195\n",
            "@SQ\tSN:chr6_gl383533_alt\tLN:124736\n",
            "@SQ\tSN:chr6_kb663604_fix\tLN:478993\n",
            "@SQ\tSN:chr6_jh636056_fix\tLN:262912\n",
            "@SQ\tSN:chr6_ke332498_fix\tLN:149443\n",
            "@SQ\tSN:chr6_kb021644_alt\tLN:187824\n",
            "@SQ\tSN:chr7_gl582970_fix\tLN:354970\n",
            "@SQ\tSN:chr7_gl582969_fix\tLN:251823\n",
            "@SQ\tSN:chr7_ke332499_fix\tLN:274521\n",
            "@SQ\tSN:chr7_jh159134_fix\tLN:3821770\n",
            "@SQ\tSN:chr7_gl582972_fix\tLN:327774\n",
            "@SQ\tSN:chr7_gl582968_fix\tLN:356330\n",
            "@SQ\tSN:chr7_jh636058_fix\tLN:716227\n",
            "@SQ\tSN:chr7_gl383534_alt\tLN:119183\n",
            "@SQ\tSN:chr7_gl582971_fix\tLN:1284284\n",
            "@SQ\tSN:chr8_gl949743_fix\tLN:608579\n",
            "@SQ\tSN:chr8_ke332500_fix\tLN:228602\n",
            "@SQ\tSN:chr8_jh159135_fix\tLN:102251\n",
            "@SQ\tSN:chr8_gl383535_fix\tLN:429806\n",
            "@SQ\tSN:chr8_gl383536_fix\tLN:203777\n",
            "@SQ\tSN:chr9_gl383539_alt\tLN:162988\n",
            "@SQ\tSN:chr9_jh636059_fix\tLN:295379\n",
            "@SQ\tSN:chr9_gl383540_alt\tLN:71551\n",
            "@SQ\tSN:chr9_gl383541_alt\tLN:171286\n",
            "@SQ\tSN:chr9_gl383542_alt\tLN:60032\n",
            "@SQ\tSN:chr9_kb663605_fix\tLN:155926\n",
            "@SQ\tSN:chr9_jh806579_fix\tLN:211307\n",
            "@SQ\tSN:chr9_gl339450_fix\tLN:330164\n",
            "@SQ\tSN:chr9_jh806577_fix\tLN:22394\n",
            "@SQ\tSN:chr9_jh806578_fix\tLN:169437\n",
            "@SQ\tSN:chr9_gl383537_fix\tLN:62435\n",
            "@SQ\tSN:chr9_gl383538_fix\tLN:49281\n",
            "@SQ\tSN:chr10_gl877873_fix\tLN:168465\n",
            "@SQ\tSN:chr10_jh636060_fix\tLN:437946\n",
            "@SQ\tSN:chr10_gl383543_fix\tLN:392792\n",
            "@SQ\tSN:chr10_gl383545_alt\tLN:179254\n",
            "@SQ\tSN:chr10_gl383546_alt\tLN:309802\n",
            "@SQ\tSN:chr10_jh591181_fix\tLN:2281126\n",
            "@SQ\tSN:chr10_kb663606_fix\tLN:305900\n",
            "@SQ\tSN:chr10_jh591183_fix\tLN:177920\n",
            "@SQ\tSN:chr10_ke332501_fix\tLN:1020827\n",
            "@SQ\tSN:chr10_jh591182_fix\tLN:196262\n",
            "@SQ\tSN:chr10_gl383544_fix\tLN:128378\n",
            "@SQ\tSN:chr10_jh806580_fix\tLN:93149\n",
            "@SQ\tSN:chr11_jh591184_fix\tLN:462282\n",
            "@SQ\tSN:chr11_jh591185_fix\tLN:167437\n",
            "@SQ\tSN:chr11_gl383547_alt\tLN:154407\n",
            "@SQ\tSN:chr11_gl582973_fix\tLN:321004\n",
            "@SQ\tSN:chr11_jh159136_alt\tLN:200998\n",
            "@SQ\tSN:chr11_jh159137_alt\tLN:191409\n",
            "@SQ\tSN:chr11_gl949744_fix\tLN:276448\n",
            "@SQ\tSN:chr11_jh806581_fix\tLN:872115\n",
            "@SQ\tSN:chr11_jh159143_fix\tLN:191402\n",
            "@SQ\tSN:chr11_jh159141_fix\tLN:240775\n",
            "@SQ\tSN:chr11_jh159139_fix\tLN:120441\n",
            "@SQ\tSN:chr11_jh159142_fix\tLN:326647\n",
            "@SQ\tSN:chr11_jh159140_fix\tLN:546435\n",
            "@SQ\tSN:chr11_jh720443_fix\tLN:408430\n",
            "@SQ\tSN:chr11_jh159138_fix\tLN:108875\n",
            "@SQ\tSN:chr12_gl582974_fix\tLN:163298\n",
            "@SQ\tSN:chr12_gl877875_alt\tLN:167313\n",
            "@SQ\tSN:chr12_jh720444_fix\tLN:273128\n",
            "@SQ\tSN:chr12_gl949745_alt\tLN:372609\n",
            "@SQ\tSN:chr12_gl877876_alt\tLN:408271\n",
            "@SQ\tSN:chr12_gl383549_alt\tLN:120804\n",
            "@SQ\tSN:chr12_gl383550_alt\tLN:169178\n",
            "@SQ\tSN:chr12_gl383552_alt\tLN:138655\n",
            "@SQ\tSN:chr12_gl383553_alt\tLN:152874\n",
            "@SQ\tSN:chr12_kb663607_fix\tLN:334922\n",
            "@SQ\tSN:chr12_gl383551_alt\tLN:184319\n",
            "@SQ\tSN:chr12_gl383548_fix\tLN:165247\n",
            "@SQ\tSN:chr13_gl582975_fix\tLN:34662\n",
            "@SQ\tSN:chr14_kb021645_fix\tLN:1523386\n",
            "@SQ\tSN:chr15_gl383554_alt\tLN:296527\n",
            "@SQ\tSN:chr15_gl383555_alt\tLN:388773\n",
            "@SQ\tSN:chr15_jh720445_fix\tLN:170033\n",
            "@SQ\tSN:chr16_gl383556_alt\tLN:192462\n",
            "@SQ\tSN:chr16_jh720446_fix\tLN:97345\n",
            "@SQ\tSN:chr16_gl383557_alt\tLN:89672\n",
            "@SQ\tSN:chr17_jh806582_fix\tLN:342635\n",
            "@SQ\tSN:chr17_gl383563_alt\tLN:270261\n",
            "@SQ\tSN:chr17_gl383562_fix\tLN:45551\n",
            "@SQ\tSN:chr17_gl383561_fix\tLN:644425\n",
            "@SQ\tSN:chr17_ke332502_fix\tLN:341712\n",
            "@SQ\tSN:chr17_jh159145_fix\tLN:194862\n",
            "@SQ\tSN:chr17_kb021646_fix\tLN:211416\n",
            "@SQ\tSN:chr17_gl383560_fix\tLN:534288\n",
            "@SQ\tSN:chr17_gl383559_fix\tLN:338640\n",
            "@SQ\tSN:chr17_jh159146_alt\tLN:278131\n",
            "@SQ\tSN:chr17_jh159148_alt\tLN:88070\n",
            "@SQ\tSN:chr17_jh159147_alt\tLN:70345\n",
            "@SQ\tSN:chr17_gl383564_alt\tLN:133151\n",
            "@SQ\tSN:chr17_gl582976_fix\tLN:412535\n",
            "@SQ\tSN:chr17_jh720447_fix\tLN:454385\n",
            "@SQ\tSN:chr17_gl383558_fix\tLN:457041\n",
            "@SQ\tSN:chr17_jh159144_fix\tLN:388340\n",
            "@SQ\tSN:chr17_gl383565_alt\tLN:223995\n",
            "@SQ\tSN:chr17_gl383566_alt\tLN:90219\n",
            "@SQ\tSN:chr17_jh591186_fix\tLN:376223\n",
            "@SQ\tSN:chr17_jh636061_fix\tLN:186059\n",
            "@SQ\tSN:chr18_gl383567_alt\tLN:289831\n",
            "@SQ\tSN:chr18_gl383570_alt\tLN:164789\n",
            "@SQ\tSN:chr18_gl383571_alt\tLN:198278\n",
            "@SQ\tSN:chr18_gl383568_alt\tLN:104552\n",
            "@SQ\tSN:chr18_gl383569_alt\tLN:167950\n",
            "@SQ\tSN:chr18_gl383572_alt\tLN:159547\n",
            "@SQ\tSN:chr19_jh159149_fix\tLN:245473\n",
            "@SQ\tSN:chr19_gl582977_fix\tLN:580393\n",
            "@SQ\tSN:chr19_gl383573_alt\tLN:385657\n",
            "@SQ\tSN:chr19_gl383575_alt\tLN:170222\n",
            "@SQ\tSN:chr19_gl383576_alt\tLN:188024\n",
            "@SQ\tSN:chr19_gl383574_alt\tLN:155864\n",
            "@SQ\tSN:chr19_ke332505_fix\tLN:579598\n",
            "@SQ\tSN:chr19_kb021647_fix\tLN:1058686\n",
            "@SQ\tSN:chr19_gl949746_alt\tLN:987716\n",
            "@SQ\tSN:chr19_gl949747_alt\tLN:729519\n",
            "@SQ\tSN:chr19_gl949748_alt\tLN:1064303\n",
            "@SQ\tSN:chr19_gl949749_alt\tLN:1091840\n",
            "@SQ\tSN:chr19_gl949750_alt\tLN:1066389\n",
            "@SQ\tSN:chr19_gl949751_alt\tLN:1002682\n",
            "@SQ\tSN:chr19_gl949752_alt\tLN:987100\n",
            "@SQ\tSN:chr19_gl949753_alt\tLN:796478\n",
            "@SQ\tSN:chr20_gl383577_alt\tLN:128385\n",
            "@SQ\tSN:chr20_jh720448_fix\tLN:70483\n",
            "@SQ\tSN:chr20_kb663608_fix\tLN:283551\n",
            "@SQ\tSN:chr20_gl582979_fix\tLN:179899\n",
            "@SQ\tSN:chr21_gl383578_alt\tLN:63917\n",
            "@SQ\tSN:chr21_gl383579_alt\tLN:201198\n",
            "@SQ\tSN:chr21_gl383580_alt\tLN:74652\n",
            "@SQ\tSN:chr21_gl383581_alt\tLN:116690\n",
            "@SQ\tSN:chr21_ke332506_fix\tLN:307252\n",
            "@SQ\tSN:chr22_jh806584_fix\tLN:70876\n",
            "@SQ\tSN:chr22_jh806583_fix\tLN:167183\n",
            "@SQ\tSN:chr22_jh806585_fix\tLN:73505\n",
            "@SQ\tSN:chr22_jh720449_fix\tLN:212298\n",
            "@SQ\tSN:chr22_gl383583_alt\tLN:96924\n",
            "@SQ\tSN:chr22_gl383582_alt\tLN:162811\n",
            "@SQ\tSN:chr22_kb663609_alt\tLN:74013\n",
            "@SQ\tSN:chr22_jh806586_fix\tLN:43543\n",
            "@SQ\tSN:chrX_gl877877_fix\tLN:284527\n",
            "@SQ\tSN:chrX_jh720451_fix\tLN:898979\n",
            "@SQ\tSN:chrX_jh720452_fix\tLN:522319\n",
            "@SQ\tSN:chrX_jh806589_fix\tLN:270630\n",
            "@SQ\tSN:chrX_kb021648_fix\tLN:469972\n",
            "@SQ\tSN:chrX_jh806590_fix\tLN:2418393\n",
            "@SQ\tSN:chrX_jh806587_fix\tLN:4110759\n",
            "@SQ\tSN:chrX_jh806591_fix\tLN:882083\n",
            "@SQ\tSN:chrX_jh806592_fix\tLN:835911\n",
            "@SQ\tSN:chrX_jh720453_fix\tLN:1461188\n",
            "@SQ\tSN:chrX_jh720454_fix\tLN:752267\n",
            "@SQ\tSN:chrX_jh806593_fix\tLN:389631\n",
            "@SQ\tSN:chrX_jh806594_fix\tLN:390496\n",
            "@SQ\tSN:chrX_jh806595_fix\tLN:444074\n",
            "@SQ\tSN:chrX_jh720455_fix\tLN:65034\n",
            "@SQ\tSN:chrX_jh806588_fix\tLN:862483\n",
            "@SQ\tSN:chrX_jh806601_fix\tLN:1389764\n",
            "@SQ\tSN:chrX_jh806602_fix\tLN:713266\n",
            "@SQ\tSN:chrX_jh806603_fix\tLN:182949\n",
            "@SQ\tSN:chrX_jh806596_fix\tLN:413927\n",
            "@SQ\tSN:chrX_jh806597_fix\tLN:1045622\n",
            "@SQ\tSN:chrX_jh806598_fix\tLN:899320\n",
            "@SQ\tSN:chrX_jh806599_fix\tLN:1214327\n",
            "@SQ\tSN:chrX_jh806600_fix\tLN:6530008\n",
            "@SQ\tSN:chrX_jh159150_fix\tLN:3110903\n",
            "@SQ\tSN:chrMT\tLN:16569\n",
            "@RG\tID:CAP\tSM:itatiana\tLB:ID:2101.1\tPL:Illumina\n",
            "@RG\tID:CAP-60332BE9\tSM:itatiana\tLB:ID:2101.1\tPL:Illumina\n",
            "@RG\tID:CAP-247DF7B2\tSM:itatiana\tLB:ID:2101.1\tPL:Illumina\n",
            "@RG\tID:CAP-67C00B84\tSM:itatiana\tLB:ID:2101.1\tPL:Illumina\n",
            "@PG\tID:bwa\tPN:bwa\tVN:0.7.17-r1188\tCL:bwa mem -M -R @RG\\tID:CAP\\tSM:itatiana\\tLB:ID:2101.1\\tPL:Illumina referencia/hg19/hg19.fa dados/fastq/LMQ341-00S2.1_S1_R1_CCTCCGTCCACACATCGGTG.fastq.gz dados/fastq/LMQ341-00S2.1_S1_R2_CCTCCGTCCACACATCGGTG.fastq.gz\n",
            "@PG\tID:bwa-5546E556\tPN:bwa\tVN:0.7.17-r1188\tCL:bwa mem -M -R @RG\\tID:CAP\\tSM:itatiana\\tLB:ID:2101.1\\tPL:Illumina referencia/hg19/hg19.fa dados/fastq/LMQ341-00S2.2_S1_R1_CCTCCGTCCACACATCGGTG.fastq.gz dados/fastq/LMQ341-00S2.2_S1_R2_CCTCCGTCCACACATCGGTG.fastq.gz\n",
            "@PG\tID:bwa-65F48EE2\tPN:bwa\tVN:0.7.17-r1188\tCL:bwa mem -M -R @RG\\tID:CAP\\tSM:itatiana\\tLB:ID:2101.1\\tPL:Illumina referencia/hg19/hg19.fa dados/fastq/LMQ341-00S2.3_S1_R1_CCTCCGTCCACACATCGGTG.fastq.gz dados/fastq/LMQ341-00S2.3_S1_R2_CCTCCGTCCACACATCGGTG.fastq.gz\n",
            "@PG\tID:bwa-6AEF6160\tPN:bwa\tVN:0.7.17-r1188\tCL:bwa mem -M -R @RG\\tID:CAP\\tSM:itatiana\\tLB:ID:2101.1\\tPL:Illumina referencia/hg19/hg19.fa dados/fastq/LMQ341-00S2.4_S1_R1_CCTCCGTCCACACATCGGTG.fastq.gz dados/fastq/LMQ341-00S2.4_S1_R2_CCTCCGTCCACACATCGGTG.fastq.gz\n",
            "@PG\tID:samtools\tPN:samtools\tPP:bwa\tVN:1.10\tCL:samtools merge merged.sam LMQ341-00S2.1.sam LMQ341-00S2.2.sam LMQ341-00S2.3.sam LMQ341-00S2.4.sam\n",
            "@PG\tID:samtools.1\tPN:samtools\tPP:bwa-5546E556\tVN:1.10\tCL:samtools merge merged.sam LMQ341-00S2.1.sam LMQ341-00S2.2.sam LMQ341-00S2.3.sam LMQ341-00S2.4.sam\n",
            "@PG\tID:samtools.2\tPN:samtools\tPP:bwa-65F48EE2\tVN:1.10\tCL:samtools merge merged.sam LMQ341-00S2.1.sam LMQ341-00S2.2.sam LMQ341-00S2.3.sam LMQ341-00S2.4.sam\n",
            "@PG\tID:samtools.3\tPN:samtools\tPP:bwa-6AEF6160\tVN:1.10\tCL:samtools merge merged.sam LMQ341-00S2.1.sam LMQ341-00S2.2.sam LMQ341-00S2.3.sam LMQ341-00S2.4.sam\n",
            "@PG\tID:samtools.4\tPN:samtools\tPP:samtools\tVN:1.10\tCL:samtools fixmate dados/bwa/merged.sam dados/bwa/LMQ341-001.bam\n",
            "@PG\tID:samtools.5\tPN:samtools\tPP:samtools.1\tVN:1.10\tCL:samtools fixmate dados/bwa/merged.sam dados/bwa/LMQ341-001.bam\n",
            "@PG\tID:samtools.6\tPN:samtools\tPP:samtools.2\tVN:1.10\tCL:samtools fixmate dados/bwa/merged.sam dados/bwa/LMQ341-001.bam\n",
            "@PG\tID:samtools.7\tPN:samtools\tPP:samtools.3\tVN:1.10\tCL:samtools fixmate dados/bwa/merged.sam dados/bwa/LMQ341-001.bam\n",
            "@PG\tID:samtools.8\tPN:samtools\tPP:samtools.4\tVN:1.10\tCL:samtools view -H dados/bwa/LMQ341-001.bam\n",
            "@PG\tID:samtools.9\tPN:samtools\tPP:samtools.5\tVN:1.10\tCL:samtools view -H dados/bwa/LMQ341-001.bam\n",
            "@PG\tID:samtools.10\tPN:samtools\tPP:samtools.6\tVN:1.10\tCL:samtools view -H dados/bwa/LMQ341-001.bam\n",
            "@PG\tID:samtools.11\tPN:samtools\tPP:samtools.7\tVN:1.10\tCL:samtools view -H dados/bwa/LMQ341-001.bam\n"
          ]
        }
      ],
      "source": [
        "%%bash\n",
        "#ls -lh dados/bwa/AMOSTRA01_sorted.bam\n",
        "samtools view -H dados/bwa/LWV461-001.bam"
      ]
    },
    {
      "cell_type": "code",
      "execution_count": null,
      "metadata": {
        "colab": {
          "base_uri": "https://localhost:8080/"
        },
        "id": "eGT0184e7e0v",
        "outputId": "a132cb2a-6b4d-407c-aab7-e26ae29f1a86"
      },
      "outputs": [
        {
          "output_type": "stream",
          "name": "stdout",
          "text": [
            "Tool returned:\n",
            "0\n"
          ]
        },
        {
          "output_type": "stream",
          "name": "stderr",
          "text": [
            "Using GATK jar /content/gatk-4.2.5.0/gatk-package-4.2.5.0-local.jar\n",
            "Running:\n",
            "    java -Dsamjdk.use_async_io_read_samtools=false -Dsamjdk.use_async_io_write_samtools=true -Dsamjdk.use_async_io_write_tribble=false -Dsamjdk.compression_level=2 -jar /content/gatk-4.2.5.0/gatk-package-4.2.5.0-local.jar HaplotypeCaller --help\n",
            "USAGE: HaplotypeCaller [arguments]\n",
            "\n",
            "Call germline SNPs and indels via local re-assembly of haplotypes\n",
            "Version:4.2.5.0\n",
            "\n",
            "\n",
            "Required Arguments:\n",
            "\n",
            "--input,-I <GATKPath>         BAM/SAM/CRAM file containing reads  This argument must be specified at least once.\n",
            "                              Required. \n",
            "\n",
            "--output,-O <GATKPath>        File to which variants should be written  Required. \n",
            "\n",
            "--reference,-R <GATKPath>     Reference sequence file  Required. \n",
            "\n",
            "\n",
            "Optional Arguments:\n",
            "\n",
            "--add-output-sam-program-record <Boolean>\n",
            "                              If true, adds a PG tag to created SAM/BAM/CRAM files.  Default value: true. Possible\n",
            "                              values: {true, false} \n",
            "\n",
            "--add-output-vcf-command-line <Boolean>\n",
            "                              If true, adds a command line header line to created VCF files.  Default value: true.\n",
            "                              Possible values: {true, false} \n",
            "\n",
            "--alleles <FeatureInput>      The set of alleles to force-call regardless of evidence  Default value: null. \n",
            "\n",
            "--annotate-with-num-discovered-alleles <Boolean>\n",
            "                              If provided, we will annotate records with the number of alternate alleles that were\n",
            "                              discovered (but not necessarily genotyped) at a given site  Default value: false. Possible\n",
            "                              values: {true, false} \n",
            "\n",
            "--annotation,-A <String>      One or more specific annotations to add to variant calls  This argument may be specified 0\n",
            "                              or more times. Default value: null. Possible values: {AlleleFraction, AllelePseudoDepth,\n",
            "                              AS_BaseQualityRankSumTest, AS_FisherStrand, AS_InbreedingCoeff,\n",
            "                              AS_MappingQualityRankSumTest, AS_QualByDepth, AS_ReadPosRankSumTest, AS_RMSMappingQuality,\n",
            "                              AS_StrandBiasMutectAnnotation, AS_StrandOddsRatio, AssemblyComplexity, BaseQuality,\n",
            "                              BaseQualityHistogram, BaseQualityRankSumTest, ChromosomeCounts, ClippingRankSumTest,\n",
            "                              CountNs, Coverage, DepthPerAlleleBySample, DepthPerSampleHC, ExcessHet,\n",
            "                              FeaturizedReadSets, FisherStrand, FragmentDepthPerAlleleBySample, FragmentLength,\n",
            "                              GenotypeSummaries, InbreedingCoeff, LikelihoodRankSumTest, MappingQuality,\n",
            "                              MappingQualityRankSumTest, MappingQualityZero, OrientationBiasReadCounts,\n",
            "                              OriginalAlignment, PossibleDeNovo, QualByDepth, ReadPosition, ReadPosRankSumTest,\n",
            "                              ReferenceBases, RMSMappingQuality, SampleList, StrandBiasBySample, StrandOddsRatio,\n",
            "                              TandemRepeat, UniqueAltReadCountPossible values: {\n",
            "\n",
            "--annotation-group,-G <String>One or more groups of annotations to apply to variant calls  This argument may be\n",
            "                              specified 0 or more times. Default value: null. Possible values:\n",
            "                              {AlleleSpecificAnnotation, AS_StandardAnnotation, GenotypeAnnotation, InfoFieldAnnotation,\n",
            "                              JumboGenotypeAnnotation, JumboInfoAnnotation, ReducibleAnnotation, StandardAnnotation,\n",
            "                              StandardHCAnnotation, StandardMutectAnnotation, VariantAnnotationPossible values: {\n",
            "\n",
            "--annotations-to-exclude,-AX <String>\n",
            "                              One or more specific annotations to exclude from variant calls  This argument may be\n",
            "                              specified 0 or more times. Default value: null. Possible values: {BaseQualityRankSumTest,\n",
            "                              ChromosomeCounts, Coverage, DepthPerAlleleBySample, DepthPerSampleHC, ExcessHet,\n",
            "                              FisherStrand, InbreedingCoeff, MappingQualityRankSumTest, QualByDepth, ReadPosRankSumTest,\n",
            "                              RMSMappingQuality, StrandOddsRatioPossible values: {\n",
            "\n",
            "--arguments_file <File>       read one or more arguments files and add them to the command line  This argument may be\n",
            "                              specified 0 or more times. Default value: null. \n",
            "\n",
            "--assembly-region-out <String>Output the assembly region to this IGV formatted file  Default value: null. \n",
            "\n",
            "--assembly-region-padding <Integer>\n",
            "                              Number of additional bases of context to include around each assembly region  Default\n",
            "                              value: 100. \n",
            "\n",
            "--base-quality-score-threshold <Byte>\n",
            "                              Base qualities below this threshold will be reduced to the minimum (6)  Default value: 18.\n",
            "\n",
            "--cloud-index-prefetch-buffer,-CIPB <Integer>\n",
            "                              Size of the cloud-only prefetch buffer (in MB; 0 to disable). Defaults to\n",
            "                              cloudPrefetchBuffer if unset.  Default value: -1. \n",
            "\n",
            "--cloud-prefetch-buffer,-CPB <Integer>\n",
            "                              Size of the cloud-only prefetch buffer (in MB; 0 to disable).  Default value: 40. \n",
            "\n",
            "--contamination-fraction-to-filter,-contamination <Double>\n",
            "                              Fraction of contamination in sequencing data (for all samples) to aggressively remove \n",
            "                              Default value: 0.0. \n",
            "\n",
            "--create-output-bam-index,-OBI <Boolean>\n",
            "                              If true, create a BAM/CRAM index when writing a coordinate-sorted BAM/CRAM file.  Default\n",
            "                              value: true. Possible values: {true, false} \n",
            "\n",
            "--create-output-bam-md5,-OBM <Boolean>\n",
            "                              If true, create a MD5 digest for any BAM/SAM/CRAM file created  Default value: false.\n",
            "                              Possible values: {true, false} \n",
            "\n",
            "--create-output-variant-index,-OVI <Boolean>\n",
            "                              If true, create a VCF index when writing a coordinate-sorted VCF file.  Default value:\n",
            "                              true. Possible values: {true, false} \n",
            "\n",
            "--create-output-variant-md5,-OVM <Boolean>\n",
            "                              If true, create a a MD5 digest any VCF file created.  Default value: false. Possible\n",
            "                              values: {true, false} \n",
            "\n",
            "--dbsnp,-D <FeatureInput>     dbSNP file  Default value: null. \n",
            "\n",
            "--disable-bam-index-caching,-DBIC <Boolean>\n",
            "                              If true, don't cache bam indexes, this will reduce memory requirements but may harm\n",
            "                              performance if many intervals are specified.  Caching is automatically disabled if there\n",
            "                              are no intervals specified.  Default value: false. Possible values: {true, false} \n",
            "\n",
            "--disable-read-filter,-DF <String>\n",
            "                              Read filters to be disabled before analysis  This argument may be specified 0 or more\n",
            "                              times. Default value: null. Possible values: {GoodCigarReadFilter, MappedReadFilter,\n",
            "                              MappingQualityAvailableReadFilter, MappingQualityReadFilter,\n",
            "                              NonZeroReferenceLengthAlignmentReadFilter, NotDuplicateReadFilter,\n",
            "                              NotSecondaryAlignmentReadFilter, PassesVendorQualityCheckReadFilter,\n",
            "                              WellformedReadFilterPossible values: {\n",
            "\n",
            "--disable-sequence-dictionary-validation <Boolean>\n",
            "                              If specified, do not check the sequence dictionaries from our inputs for compatibility.\n",
            "                              Use at your own risk!  Default value: false. Possible values: {true, false} \n",
            "\n",
            "--dont-use-dragstr-pair-hmm-scores <Boolean>\n",
            "                              disable DRAGstr pair-hmm score even when dragstr-params-path was provided  Default value:\n",
            "                              false. Possible values: {true, false} \n",
            "\n",
            "--dragen-mode <Boolean>       Single argument for enabling the bulk of DRAGEN-GATK features. NOTE: THIS WILL OVERWRITE\n",
            "                              PROVIDED ARGUMENT CHECK TOOL INFO TO SEE WHICH ARGUMENTS ARE SET).  Default value: false.\n",
            "                              Possible values: {true, false} \n",
            "\n",
            "--dragstr-het-hom-ratio <Integer>\n",
            "                              het to hom prior ratio use with DRAGstr on  Default value: 2. \n",
            "\n",
            "--dragstr-params-path <GATKPath>\n",
            "                              location of the DRAGstr model parameters for STR error correction used in the Pair HMM.\n",
            "                              When provided, it overrides other PCR error correcting mechanisms  Default value: null. \n",
            "\n",
            "--enable-dynamic-read-disqualification-for-genotyping <Boolean>\n",
            "                              Will enable less strict read disqualification low base quality reads  Default value:\n",
            "                              false. Possible values: {true, false} \n",
            "\n",
            "--exclude-intervals,-XL <String>\n",
            "                              One or more genomic intervals to exclude from processing  This argument may be specified 0\n",
            "                              or more times. Default value: null. \n",
            "\n",
            "--founder-id <String>         Samples representing the population \"founders\"  This argument may be specified 0 or more\n",
            "                              times. Default value: null. \n",
            "\n",
            "--gatk-config-file <String>   A configuration file to use with the GATK.  Default value: null. \n",
            "\n",
            "--gcs-max-retries,-gcs-retries <Integer>\n",
            "                              If the GCS bucket channel errors out, how many times it will attempt to re-initiate the\n",
            "                              connection  Default value: 20. \n",
            "\n",
            "--gcs-project-for-requester-pays <String>\n",
            "                              Project to bill when accessing \"requester pays\" buckets. If unset, these buckets cannot be\n",
            "                              accessed.  User must have storage.buckets.get permission on the bucket being accessed. \n",
            "                              Default value: . \n",
            "\n",
            "--genotype-assignment-method,-gam <GenotypeAssignmentMethod>\n",
            "                              How we assign genotypes  Default value: USE_PLS_TO_ASSIGN. Possible values:\n",
            "                              {SET_TO_NO_CALL, USE_PLS_TO_ASSIGN, USE_POSTERIORS_ANNOTATION,\n",
            "                              SET_TO_NO_CALL_NO_ANNOTATIONS, BEST_MATCH_TO_ORIGINAL, DO_NOT_ASSIGN_GENOTYPES,\n",
            "                              USE_POSTERIOR_PROBABILITIES, PREFER_PLS} \n",
            "\n",
            "--graph-output,-graph <String>Write debug assembly graph information to this file  Default value: null. \n",
            "\n",
            "--help,-h <Boolean>           display the help message  Default value: false. Possible values: {true, false} \n",
            "\n",
            "--heterozygosity <Double>     Heterozygosity value used to compute prior likelihoods for any locus.  See the GATKDocs\n",
            "                              for full details on the meaning of this population genetics concept  Default value: 0.001.\n",
            "\n",
            "--heterozygosity-stdev <Double>\n",
            "                              Standard deviation of heterozygosity for SNP and indel calling.  Default value: 0.01. \n",
            "\n",
            "--indel-heterozygosity <Double>\n",
            "                              Heterozygosity for indel calling.  See the GATKDocs for heterozygosity for full details on\n",
            "                              the meaning of this population genetics concept  Default value: 1.25E-4. \n",
            "\n",
            "--interval-exclusion-padding,-ixp <Integer>\n",
            "                              Amount of padding (in bp) to add to each interval you are excluding.  Default value: 0. \n",
            "\n",
            "--interval-merging-rule,-imr <IntervalMergingRule>\n",
            "                              Interval merging rule for abutting intervals  Default value: ALL. Possible values: {ALL,\n",
            "                              OVERLAPPING_ONLY} \n",
            "\n",
            "--interval-padding,-ip <Integer>\n",
            "                              Amount of padding (in bp) to add to each interval you are including.  Default value: 0. \n",
            "\n",
            "--interval-set-rule,-isr <IntervalSetRule>\n",
            "                              Set merging approach to use for combining interval inputs  Default value: UNION. Possible\n",
            "                              values: {UNION, INTERSECTION} \n",
            "\n",
            "--intervals,-L <String>       One or more genomic intervals over which to operate  This argument may be specified 0 or\n",
            "                              more times. Default value: null. \n",
            "\n",
            "--lenient,-LE <Boolean>       Lenient processing of VCF files  Default value: false. Possible values: {true, false} \n",
            "\n",
            "--max-assembly-region-size <Integer>\n",
            "                              Maximum size of an assembly region  Default value: 300. \n",
            "\n",
            "--max-reads-per-alignment-start <Integer>\n",
            "                              Maximum number of reads to retain per alignment start position. Reads above this threshold\n",
            "                              will be downsampled. Set to 0 to disable.  Default value: 50. \n",
            "\n",
            "--max-variants-per-shard <Integer>\n",
            "                              If non-zero, partitions VCF output into shards, each containing up to the given number of\n",
            "                              records.  Default value: 0. \n",
            "\n",
            "--min-assembly-region-size <Integer>\n",
            "                              Minimum size of an assembly region  Default value: 50. \n",
            "\n",
            "--min-base-quality-score,-mbq <Byte>\n",
            "                              Minimum base quality required to consider a base for calling  Default value: 10. \n",
            "\n",
            "--native-pair-hmm-threads <Integer>\n",
            "                              How many threads should a native pairHMM implementation use  Default value: 4. \n",
            "\n",
            "--native-pair-hmm-use-double-precision <Boolean>\n",
            "                              use double precision in the native pairHmm. This is slower but matches the java\n",
            "                              implementation better  Default value: false. Possible values: {true, false} \n",
            "\n",
            "--num-reference-samples-if-no-call <Integer>\n",
            "                              Number of hom-ref genotypes to infer at sites not present in a panel  Default value: 0. \n",
            "\n",
            "--output-mode <OutputMode>    Specifies which type of calls we should output  Default value: EMIT_VARIANTS_ONLY.\n",
            "                              Possible values: {EMIT_VARIANTS_ONLY, EMIT_ALL_CONFIDENT_SITES, EMIT_ALL_ACTIVE_SITES} \n",
            "\n",
            "--pedigree,-ped <GATKPath>    Pedigree file for determining the population \"founders\"  Default value: null. \n",
            "\n",
            "--population-callset,-population <FeatureInput>\n",
            "                              Callset to use in calculating genotype priors  Default value: null. \n",
            "\n",
            "--QUIET <Boolean>             Whether to suppress job-summary info on System.err.  Default value: false. Possible\n",
            "                              values: {true, false} \n",
            "\n",
            "--read-filter,-RF <String>    Read filters to be applied before analysis  This argument may be specified 0 or more\n",
            "                              times. Default value: null. Possible values: {AlignmentAgreesWithHeaderReadFilter,\n",
            "                              AllowAllReadsReadFilter, AmbiguousBaseReadFilter, CigarContainsNoNOperator,\n",
            "                              ExcessiveEndClippedReadFilter, FirstOfPairReadFilter, FragmentLengthReadFilter,\n",
            "                              GoodCigarReadFilter, HasReadGroupReadFilter, IntervalOverlapReadFilter, LibraryReadFilter,\n",
            "                              MappedReadFilter, MappingQualityAvailableReadFilter, MappingQualityNotZeroReadFilter,\n",
            "                              MappingQualityReadFilter, MatchingBasesAndQualsReadFilter, MateDifferentStrandReadFilter,\n",
            "                              MateDistantReadFilter, MateOnSameContigOrNoMappedMateReadFilter,\n",
            "                              MateUnmappedAndUnmappedReadFilter, MetricsReadFilter,\n",
            "                              NonChimericOriginalAlignmentReadFilter, NonZeroFragmentLengthReadFilter,\n",
            "                              NonZeroReferenceLengthAlignmentReadFilter, NotDuplicateReadFilter,\n",
            "                              NotOpticalDuplicateReadFilter, NotProperlyPairedReadFilter,\n",
            "                              NotSecondaryAlignmentReadFilter, NotSupplementaryAlignmentReadFilter,\n",
            "                              OverclippedReadFilter, PairedReadFilter, PassesVendorQualityCheckReadFilter,\n",
            "                              PlatformReadFilter, PlatformUnitReadFilter, PrimaryLineReadFilter,\n",
            "                              ProperlyPairedReadFilter, ReadGroupBlackListReadFilter, ReadGroupReadFilter,\n",
            "                              ReadLengthEqualsCigarLengthReadFilter, ReadLengthReadFilter, ReadNameReadFilter,\n",
            "                              ReadStrandFilter, SampleReadFilter, SecondOfPairReadFilter, SeqIsStoredReadFilter,\n",
            "                              SoftClippedReadFilter, ValidAlignmentEndReadFilter, ValidAlignmentStartReadFilter,\n",
            "                              WellformedReadFilterPossible values: {\n",
            "\n",
            "--read-index <GATKPath>       Indices to use for the read inputs. If specified, an index must be provided for every read\n",
            "                              input and in the same order as the read inputs. If this argument is not specified, the\n",
            "                              path to the index for each input will be inferred automatically.  This argument may be\n",
            "                              specified 0 or more times. Default value: null. \n",
            "\n",
            "--read-validation-stringency,-VS <ValidationStringency>\n",
            "                              Validation stringency for all SAM/BAM/CRAM/SRA files read by this program.  The default\n",
            "                              stringency value SILENT can improve performance when processing a BAM file in which\n",
            "                              variable-length data (read, qualities, tags) do not otherwise need to be decoded.  Default\n",
            "                              value: SILENT. Possible values: {STRICT, LENIENT, SILENT} \n",
            "\n",
            "--recover-dangling-heads <Boolean>\n",
            "                              This argument is deprecated since version 3.3  Default value: false. Possible values:\n",
            "                              {true, false} \n",
            "\n",
            "--sample-name,-ALIAS <String> Name of single sample to use from a multi-sample bam  Default value: null. \n",
            "\n",
            "--sample-ploidy,-ploidy <Integer>\n",
            "                              Ploidy (number of chromosomes) per sample. For pooled data, set to (Number of samples in\n",
            "                              each pool * Sample Ploidy).  Default value: 2. \n",
            "\n",
            "--seconds-between-progress-updates <Double>\n",
            "                              Output traversal statistics every time this many seconds elapse  Default value: 10.0. \n",
            "\n",
            "--sequence-dictionary <GATKPath>\n",
            "                              Use the given sequence dictionary as the master/canonical sequence dictionary.  Must be a\n",
            "                              .dict file.  Default value: null. \n",
            "\n",
            "--sites-only-vcf-output <Boolean>\n",
            "                              If true, don't emit genotype fields when writing vcf file output.  Default value: false.\n",
            "                              Possible values: {true, false} \n",
            "\n",
            "--standard-min-confidence-threshold-for-calling,-stand-call-conf <Double>\n",
            "                              The minimum phred-scaled confidence threshold at which variants should be called  Default\n",
            "                              value: 30.0. \n",
            "\n",
            "--tmp-dir <GATKPath>          Temp directory to use.  Default value: null. \n",
            "\n",
            "--use-jdk-deflater,-jdk-deflater <Boolean>\n",
            "                              Whether to use the JdkDeflater (as opposed to IntelDeflater)  Default value: false.\n",
            "                              Possible values: {true, false} \n",
            "\n",
            "--use-jdk-inflater,-jdk-inflater <Boolean>\n",
            "                              Whether to use the JdkInflater (as opposed to IntelInflater)  Default value: false.\n",
            "                              Possible values: {true, false} \n",
            "\n",
            "--use-new-qual-calculator,-new-qual <Boolean>\n",
            "                              Use the new AF model instead of the so-called exact model  Default value: true. Possible\n",
            "                              values: {true, false} \n",
            "\n",
            "--use-posteriors-to-calculate-qual,-gp-qual <Boolean>\n",
            "                              if available, use the genotype posterior probabilities to calculate the site QUAL  Default\n",
            "                              value: false. Possible values: {true, false} \n",
            "\n",
            "--verbosity <LogLevel>        Control verbosity of logging.  Default value: INFO. Possible values: {ERROR, WARNING,\n",
            "                              INFO, DEBUG} \n",
            "\n",
            "--version <Boolean>           display the version number for this tool  Default value: false. Possible values: {true,\n",
            "                              false} \n",
            "\n",
            "\n",
            "Advanced Arguments:\n",
            "\n",
            "--active-probability-threshold <Double>\n",
            "                              Minimum probability for a locus to be considered active.  Default value: 0.002. \n",
            "\n",
            "--adaptive-pruning <Boolean>  Use Mutect2's adaptive graph pruning algorithm  Default value: false. Possible values:\n",
            "                              {true, false} \n",
            "\n",
            "--adaptive-pruning-initial-error-rate <Double>\n",
            "                              Initial base error rate estimate for adaptive pruning  Default value: 0.001. \n",
            "\n",
            "--all-site-pls <Boolean>      Annotate all sites with PLs  Default value: false. Possible values: {true, false} \n",
            "\n",
            "--allele-informative-reads-overlap-margin <Integer>\n",
            "                              Likelihood and read-based annotations will only take into consideration reads that overlap\n",
            "                              the variant or any base no further than this distance expressed in base pairs  Default\n",
            "                              value: 2. \n",
            "\n",
            "--allow-non-unique-kmers-in-ref <Boolean>\n",
            "                              Allow graphs that have non-unique kmers in the reference  Default value: false. Possible\n",
            "                              values: {true, false} \n",
            "\n",
            "--apply-bqd <Boolean>         If enabled this argument will apply the DRAGEN-GATK BaseQualityDropout model to the\n",
            "                              genotyping model for filtering sites due to Linked Error mode.  Default value: false.\n",
            "                              Possible values: {true, false} \n",
            "\n",
            "--apply-frd <Boolean>         If enabled this argument will apply the DRAGEN-GATK ForeignReadDetection model to the\n",
            "                              genotyping model for filtering sites.  Default value: false. Possible values: {true,\n",
            "                              false} \n",
            "\n",
            "--bam-output,-bamout <String> File to which assembled haplotypes should be written  Default value: null. \n",
            "\n",
            "--bam-writer-type <WriterType>Which haplotypes should be written to the BAM  Default value: CALLED_HAPLOTYPES. Possible\n",
            "                              values: {ALL_POSSIBLE_HAPLOTYPES, CALLED_HAPLOTYPES, NO_HAPLOTYPES} \n",
            "\n",
            "--comparison,-comp <FeatureInput>\n",
            "                              Comparison VCF file(s)  This argument may be specified 0 or more times. Default value:\n",
            "                              null. \n",
            "\n",
            "--contamination-fraction-per-sample-file,-contamination-file <File>\n",
            "                              Tab-separated File containing fraction of contamination in sequencing data (per sample) to\n",
            "                              aggressively remove. Format should be \"<SampleID><TAB><Contamination>\" (Contamination is\n",
            "                              double) per line; No header.  Default value: null. \n",
            "\n",
            "--debug-assembly,-debug <Boolean>\n",
            "                              Print out verbose debug information about each assembly region  Default value: false.\n",
            "                              Possible values: {true, false} \n",
            "\n",
            "--disable-cap-base-qualities-to-map-quality <Boolean>\n",
            "                              If false this disables capping of base qualities in the HMM to the mapping quality of the\n",
            "                              read  Default value: false. Possible values: {true, false} \n",
            "\n",
            "--disable-optimizations <Boolean>\n",
            "                              Don't skip calculations in ActiveRegions with no variants  Default value: false. Possible\n",
            "                              values: {true, false} \n",
            "\n",
            "--disable-spanning-event-genotyping <Boolean>\n",
            "                              If enabled this argument will disable inclusion of the '*' spanning event when genotyping\n",
            "                              events that overlap deletions  Default value: false. Possible values: {true, false} \n",
            "\n",
            "--disable-symmetric-hmm-normalizing <Boolean>\n",
            "                              Toggle to revive legacy behavior of asymmetrically normalizing the arguments to the\n",
            "                              reference haplotype  Default value: false. Possible values: {true, false} \n",
            "\n",
            "--disable-tool-default-annotations <Boolean>\n",
            "                              Disable all tool default annotations  Default value: false. Possible values: {true, false}\n",
            "\n",
            "--disable-tool-default-read-filters <Boolean>\n",
            "                              Disable all tool default read filters (WARNING: many tools will not function correctly\n",
            "                              without their default read filters on)  Default value: false. Possible values: {true,\n",
            "                              false} \n",
            "\n",
            "--do-not-correct-overlapping-quality <Boolean>\n",
            "                              Disable overlapping base quality correction  Default value: false. Possible values: {true,\n",
            "                              false} \n",
            "\n",
            "--do-not-run-physical-phasing <Boolean>\n",
            "                              Disable physical phasing  Default value: false. Possible values: {true, false} \n",
            "\n",
            "--dont-increase-kmer-sizes-for-cycles <Boolean>\n",
            "                              Disable iterating over kmer sizes when graph cycles are detected  Default value: false.\n",
            "                              Possible values: {true, false} \n",
            "\n",
            "--dont-use-dragstr-priors <Boolean>\n",
            "                              Forfeit the use of the DRAGstr model to calculate genotype priors. This argument does not\n",
            "                              have any effect in the absence of DRAGstr model parameters (--dragstr-model-params) \n",
            "                              Default value: false. Possible values: {true, false} \n",
            "\n",
            "--dont-use-soft-clipped-bases <Boolean>\n",
            "                              Do not analyze soft clipped bases in the reads  Default value: false. Possible values:\n",
            "                              {true, false} \n",
            "\n",
            "--emit-ref-confidence,-ERC <ReferenceConfidenceMode>\n",
            "                              Mode for emitting reference confidence scores (For Mutect2, this is a BETA feature) \n",
            "                              Default value: NONE. Possible values: {NONE, BP_RESOLUTION, GVCF} \n",
            "\n",
            "--enable-all-annotations <Boolean>\n",
            "                              Use all possible annotations (not for the faint of heart)  Default value: false. Possible\n",
            "                              values: {true, false} \n",
            "\n",
            "--expected-mismatch-rate-for-read-disqualification <Double>\n",
            "                              Error rate used to set expectation for post HMM read disqualification based on mismatches \n",
            "                              Default value: 0.02. \n",
            "\n",
            "--floor-blocks <Boolean>      Output the band lower bound for each GQ block regardless of the data it represents \n",
            "                              Default value: false. Possible values: {true, false} \n",
            "\n",
            "--force-active <Boolean>      If provided, all regions will be marked as active  Default value: false. Possible values:\n",
            "                              {true, false} \n",
            "\n",
            "--force-call-filtered-alleles,-genotype-filtered-alleles <Boolean>\n",
            "                              Force-call filtered alleles included in the resource specified by --alleles  Default\n",
            "                              value: false. Possible values: {true, false} \n",
            "\n",
            "--gvcf-gq-bands,-GQB <Integer>Exclusive upper bounds for reference confidence GQ bands (must be in [1, 100] and\n",
            "                              specified in increasing order)  This argument may be specified 0 or more times. Default\n",
            "                              value: [1, 2, 3, 4, 5, 6, 7, 8, 9, 10, 11, 12, 13, 14, 15, 16, 17, 18, 19, 20, 21, 22, 23,\n",
            "                              24, 25, 26, 27, 28, 29, 30, 31, 32, 33, 34, 35, 36, 37, 38, 39, 40, 41, 42, 43, 44, 45,\n",
            "                              46, 47, 48, 49, 50, 51, 52, 53, 54, 55, 56, 57, 58, 59, 60, 70, 80, 90, 99]. \n",
            "\n",
            "--indel-size-to-eliminate-in-ref-model <Integer>\n",
            "                              The size of an indel to check for in the reference model  Default value: 10. \n",
            "\n",
            "--kmer-size <Integer>         Kmer size to use in the read threading assembler  This argument may be specified 0 or more\n",
            "                              times. Default value: [10, 25]. \n",
            "\n",
            "--linked-de-bruijn-graph <Boolean>\n",
            "                              If enabled, the Assembly Engine will construct a Linked De Bruijn graph to recover better\n",
            "                              haplotypes  Default value: false. Possible values: {true, false} \n",
            "\n",
            "--mapping-quality-threshold-for-genotyping <Integer>\n",
            "                              Control the threshold for discounting reads from the genotyper due to mapping quality\n",
            "                              after the active region detection and assembly steps but before genotyping. NOTE: this is\n",
            "                              in contrast to the --minimum-mapping-quality argument which filters reads from all parts\n",
            "                              of the HaplotypeCaller. If you would like to call genotypes with a different threshold\n",
            "                              both arguments must be set.  Default value: 20. \n",
            "\n",
            "--max-alternate-alleles <Integer>\n",
            "                              Maximum number of alternate alleles to genotype  Default value: 6. \n",
            "\n",
            "--max-effective-depth-adjustment-for-frd <Integer>\n",
            "                              Set the maximum depth to modify FRD adjustment to in the event of high depth sites (0 to\n",
            "                              disable)  Default value: 0. \n",
            "\n",
            "--max-genotype-count <Integer>Maximum number of genotypes to consider at any site  Default value: 1024. \n",
            "\n",
            "--max-mnp-distance,-mnp-dist <Integer>\n",
            "                              Two or more phased substitutions separated by this distance or less are merged into MNPs. \n",
            "                              Default value: 0. \n",
            "\n",
            "--max-num-haplotypes-in-population <Integer>\n",
            "                              Maximum number of haplotypes to consider for your population  Default value: 128. \n",
            "\n",
            "--max-prob-propagation-distance <Integer>\n",
            "                              Upper limit on how many bases away probability mass can be moved around when calculating\n",
            "                              the boundaries between active and inactive assembly regions  Default value: 50. \n",
            "\n",
            "--max-unpruned-variants <Integer>\n",
            "                              Maximum number of variants in graph the adaptive pruner will allow  Default value: 100. \n",
            "\n",
            "--min-dangling-branch-length <Integer>\n",
            "                              Minimum length of a dangling branch to attempt recovery  Default value: 4. \n",
            "\n",
            "--min-pruning <Integer>       Minimum support to not prune paths in the graph  Default value: 2. \n",
            "\n",
            "--num-pruning-samples <Integer>\n",
            "                              Number of samples that must pass the minPruning threshold  Default value: 1. \n",
            "\n",
            "--pair-hmm-gap-continuation-penalty <Integer>\n",
            "                              Flat gap continuation penalty for use in the Pair HMM  Default value: 10. \n",
            "\n",
            "--pair-hmm-implementation,-pairHMM <Implementation>\n",
            "                              The PairHMM implementation to use for genotype likelihood calculations  Default value:\n",
            "                              FASTEST_AVAILABLE. Possible values: {EXACT, ORIGINAL, LOGLESS_CACHING,\n",
            "                              AVX_LOGLESS_CACHING, AVX_LOGLESS_CACHING_OMP, FASTEST_AVAILABLE} \n",
            "\n",
            "--pcr-indel-model <PCRErrorModel>\n",
            "                              The PCR indel model to use  Default value: CONSERVATIVE. Possible values: {NONE, HOSTILE,\n",
            "                              AGGRESSIVE, CONSERVATIVE} \n",
            "\n",
            "--phred-scaled-global-read-mismapping-rate <Integer>\n",
            "                              The global assumed mismapping rate for reads  Default value: 45. \n",
            "\n",
            "--pruning-lod-threshold <Double>\n",
            "                              Ln likelihood ratio threshold for adaptive pruning algorithm  Default value:\n",
            "                              2.302585092994046. \n",
            "\n",
            "--pruning-seeding-lod-threshold <Double>\n",
            "                              Ln likelihood ratio threshold for seeding subgraph of good variation in adaptive pruning\n",
            "                              algorithm  Default value: 9.210340371976184. \n",
            "\n",
            "--recover-all-dangling-branches <Boolean>\n",
            "                              Recover all dangling branches  Default value: false. Possible values: {true, false} \n",
            "\n",
            "--showHidden <Boolean>        display hidden arguments  Default value: false. Possible values: {true, false} \n",
            "\n",
            "--smith-waterman <Implementation>\n",
            "                              Which Smith-Waterman implementation to use, generally FASTEST_AVAILABLE is the right\n",
            "                              choice  Default value: JAVA. Possible values: {FASTEST_AVAILABLE, AVX_ENABLED, JAVA} \n",
            "\n",
            "--smith-waterman-dangling-end-gap-extend-penalty <Integer>\n",
            "                              Smith-Waterman gap-extend penalty for dangling-end recovery.  Default value: -6. \n",
            "\n",
            "--smith-waterman-dangling-end-gap-open-penalty <Integer>\n",
            "                              Smith-Waterman gap-open penalty for dangling-end recovery.  Default value: -110. \n",
            "\n",
            "--smith-waterman-dangling-end-match-value <Integer>\n",
            "                              Smith-Waterman match value for dangling-end recovery.  Default value: 25. \n",
            "\n",
            "--smith-waterman-dangling-end-mismatch-penalty <Integer>\n",
            "                              Smith-Waterman mismatch penalty for dangling-end recovery.  Default value: -50. \n",
            "\n",
            "--smith-waterman-haplotype-to-reference-gap-extend-penalty <Integer>\n",
            "                              Smith-Waterman gap-extend penalty for haplotype-to-reference alignment.  Default value:\n",
            "                              -11. \n",
            "\n",
            "--smith-waterman-haplotype-to-reference-gap-open-penalty <Integer>\n",
            "                              Smith-Waterman gap-open penalty for haplotype-to-reference alignment.  Default value:\n",
            "                              -260. \n",
            "\n",
            "--smith-waterman-haplotype-to-reference-match-value <Integer>\n",
            "                              Smith-Waterman match value for haplotype-to-reference alignment.  Default value: 200. \n",
            "\n",
            "--smith-waterman-haplotype-to-reference-mismatch-penalty <Integer>\n",
            "                              Smith-Waterman mismatch penalty for haplotype-to-reference alignment.  Default value:\n",
            "                              -150. \n",
            "\n",
            "--smith-waterman-read-to-haplotype-gap-extend-penalty <Integer>\n",
            "                              Smith-Waterman gap-extend penalty for read-to-haplotype alignment.  Default value: -5. \n",
            "\n",
            "--smith-waterman-read-to-haplotype-gap-open-penalty <Integer>\n",
            "                              Smith-Waterman gap-open penalty for read-to-haplotype alignment.  Default value: -30. \n",
            "\n",
            "--smith-waterman-read-to-haplotype-match-value <Integer>\n",
            "                              Smith-Waterman match value for read-to-haplotype alignment.  Default value: 10. \n",
            "\n",
            "--smith-waterman-read-to-haplotype-mismatch-penalty <Integer>\n",
            "                              Smith-Waterman mismatch penalty for read-to-haplotype alignment.  Default value: -15. \n",
            "\n",
            "--soft-clip-low-quality-ends <Boolean>\n",
            "                              If enabled will preserve low-quality read ends as softclips (used for DRAGEN-GATK BQD\n",
            "                              genotyper model)  Default value: false. Possible values: {true, false} \n",
            "\n",
            "--transform-dragen-mapping-quality <Boolean>\n",
            "                              If enabled this argument will map DRAGEN aligner aligned reads with mapping quality <=250\n",
            "                              to scale up to MQ 50  Default value: false. Possible values: {true, false} \n",
            "\n",
            "--use-filtered-reads-for-annotations <Boolean>\n",
            "                              Use the contamination-filtered read maps for the purposes of annotating variants  Default\n",
            "                              value: false. Possible values: {true, false} \n",
            "\n",
            "Conditional Arguments for annotation:\n",
            "\n",
            "Valid only if \"AllelePseudoDepth\" is specified:\n",
            "--dirichlet-keep-prior-in-count <Boolean>\n",
            "                              By default we don't keep the prior use in the output counts ase it makes it easier to\n",
            "                              interpretthis quantity as the number of supporting reads specially in low depth sites. We\n",
            "                              this toggled the prior is included  Default value: false. Possible values: {true, false} \n",
            "\n",
            "--dirichlet-prior-pseudo-count <Double>\n",
            "                              Pseudo-count used as prior for all alleles. The default is 1.0 resulting in a flat prior \n",
            "                              Default value: 1.0. \n",
            "\n",
            "--pseudo-count-weight-decay-rate <Double>\n",
            "                              A what rate the weight of a read decreases base on its informativeness; e.g. 1.0 is linear\n",
            "                              decay (default), 2.0 is for quadratic decay  Default value: 1.0. \n",
            "\n",
            "Valid only if \"RMSMappingQuality\" is specified:\n",
            "--allow-old-rms-mapping-quality-annotation-data <Boolean>\n",
            "                              Override to allow old RMSMappingQuality annotated VCFs to function  Default value: false.\n",
            "                              Possible values: {true, false} \n",
            "\n",
            "Conditional Arguments for readFilter:\n",
            "\n",
            "Valid only if \"AmbiguousBaseReadFilter\" is specified:\n",
            "--ambig-filter-bases <Integer>Threshold number of ambiguous bases. If null, uses threshold fraction; otherwise,\n",
            "                              overrides threshold fraction.  Default value: null.  Cannot be used in conjunction with\n",
            "                              argument(s) maxAmbiguousBaseFraction\n",
            "\n",
            "--ambig-filter-frac <Double>  Threshold fraction of ambiguous bases  Default value: 0.05.  Cannot be used in conjunction\n",
            "                              with argument(s) maxAmbiguousBases\n",
            "\n",
            "Valid only if \"ExcessiveEndClippedReadFilter\" is specified:\n",
            "--max-clipped-bases <Integer> Maximum number of clipped bases on either end of a given read  Default value: 1000. \n",
            "\n",
            "Valid only if \"FragmentLengthReadFilter\" is specified:\n",
            "--max-fragment-length <Integer>\n",
            "                              Maximum length of fragment (insert size)  Default value: 1000000. \n",
            "\n",
            "--min-fragment-length <Integer>\n",
            "                              Minimum length of fragment (insert size)  Default value: 0. \n",
            "\n",
            "Valid only if \"IntervalOverlapReadFilter\" is specified:\n",
            "--keep-intervals <String>     One or more genomic intervals to keep  This argument must be specified at least once.\n",
            "                              Required. \n",
            "\n",
            "Valid only if \"LibraryReadFilter\" is specified:\n",
            "--library <String>            Name of the library to keep  This argument must be specified at least once. Required. \n",
            "\n",
            "Valid only if \"MappingQualityReadFilter\" is specified:\n",
            "--maximum-mapping-quality <Integer>\n",
            "                              Maximum mapping quality to keep (inclusive)  Default value: null. \n",
            "\n",
            "--minimum-mapping-quality <Integer>\n",
            "                              Minimum mapping quality to keep (inclusive)  Default value: 20. \n",
            "\n",
            "Valid only if \"MateDistantReadFilter\" is specified:\n",
            "--mate-too-distant-length <Integer>\n",
            "                              Minimum start location difference at which mapped mates are considered distant  Default\n",
            "                              value: 1000. \n",
            "\n",
            "Valid only if \"OverclippedReadFilter\" is specified:\n",
            "--dont-require-soft-clips-both-ends <Boolean>\n",
            "                              Allow a read to be filtered out based on having only 1 soft-clipped block. By default,\n",
            "                              both ends must have a soft-clipped block, setting this flag requires only 1 soft-clipped\n",
            "                              block  Default value: false. Possible values: {true, false} \n",
            "\n",
            "--filter-too-short <Integer>  Minimum number of aligned bases  Default value: 30. \n",
            "\n",
            "Valid only if \"PlatformReadFilter\" is specified:\n",
            "--platform-filter-name <String>\n",
            "                              Platform attribute (PL) to match  This argument must be specified at least once. Required.\n",
            "\n",
            "Valid only if \"PlatformUnitReadFilter\" is specified:\n",
            "--black-listed-lanes <String> Platform unit (PU) to filter out  This argument must be specified at least once. Required.\n",
            "\n",
            "Valid only if \"ReadGroupBlackListReadFilter\" is specified:\n",
            "--read-group-black-list <String>\n",
            "                              A read group filter expression in the form \"attribute:value\", where \"attribute\" is a two\n",
            "                              character read group attribute such as \"RG\" or \"PU\".  This argument must be specified at\n",
            "                              least once. Required. \n",
            "\n",
            "Valid only if \"ReadGroupReadFilter\" is specified:\n",
            "--keep-read-group <String>    The name of the read group to keep  Required. \n",
            "\n",
            "Valid only if \"ReadLengthReadFilter\" is specified:\n",
            "--max-read-length <Integer>   Keep only reads with length at most equal to the specified value  Required. \n",
            "\n",
            "--min-read-length <Integer>   Keep only reads with length at least equal to the specified value  Default value: 1. \n",
            "\n",
            "Valid only if \"ReadNameReadFilter\" is specified:\n",
            "--read-name <String>          Keep only reads with this read name  Required. \n",
            "\n",
            "Valid only if \"ReadStrandFilter\" is specified:\n",
            "--keep-reverse-strand-only <Boolean>\n",
            "                              Keep only reads on the reverse strand  Required. Possible values: {true, false} \n",
            "\n",
            "Valid only if \"SampleReadFilter\" is specified:\n",
            "--sample <String>             The name of the sample(s) to keep, filtering out all others  This argument must be\n",
            "                              specified at least once. Required. \n",
            "\n",
            "Valid only if \"SoftClippedReadFilter\" is specified:\n",
            "--invert-soft-clip-ratio-filter <Boolean>\n",
            "                              Inverts the results from this filter, causing all variants that would pass to fail and\n",
            "                              visa-versa.  Default value: false. Possible values: {true, false} \n",
            "\n",
            "--soft-clipped-leading-trailing-ratio <Double>\n",
            "                              Threshold ratio of soft clipped bases (leading / trailing the cigar string) to total bases\n",
            "                              in read for read to be filtered.  Default value: null.  Cannot be used in conjunction with\n",
            "                              argument(s) minimumSoftClippedRatio\n",
            "\n",
            "--soft-clipped-ratio-threshold <Double>\n",
            "                              Threshold ratio of soft clipped bases (anywhere in the cigar string) to total bases in\n",
            "                              read for read to be filtered.  Default value: null.  Cannot be used in conjunction with\n",
            "                              argument(s) minimumLeadingTrailingSoftClippedRatio\n",
            "\n"
          ]
        }
      ],
      "source": [
        "%%bash\n",
        "#java --version\n",
        "gatk-4.2.5.0/gatk HaplotypeCaller --help | head"
      ]
    },
    {
      "cell_type": "code",
      "execution_count": null,
      "metadata": {
        "colab": {
          "base_uri": "https://localhost:8080/"
        },
        "id": "1WrZoqA2FbnN",
        "outputId": "70884132-a722-4a39-d9f2-cf808500c18e"
      },
      "outputs": [
        {
          "output_type": "stream",
          "name": "stdout",
          "text": [
            "dados\n",
            "├── annovar\n",
            "├── bedtools\n",
            "│   ├── LMQ341-001_merged.bed\n",
            "│   ├── LMQ341-001_merged_sorted.bed\n",
            "│   └── LMQ341-001_sorted.bed\n",
            "├── bwa\n",
            "│   ├── LMQ341-001.bam\n",
            "│   ├── LMQ341-001_sorted.bam\n",
            "│   ├── LMQ341-001_sorted.bam.bai\n",
            "│   ├── LMQ341-001_sorted_bamout.bai\n",
            "│   ├── LMQ341-001_sorted_bamout.bam\n",
            "│   ├── LMQ341-00S2.4.sam\n",
            "│   └── merged.sam\n",
            "├── fastq\n",
            "├── fastqc\n",
            "├── freebayes\n",
            "├── gatk\n",
            "│   ├── LMQ341-001_sorted.vcf\n",
            "│   └── LMQ341-001_sorted.vcf.idx\n",
            "└── picard\n",
            "\n",
            "8 directories, 12 files\n"
          ]
        }
      ],
      "source": [
        "%%bash\n",
        "tree dados"
      ]
    },
    {
      "cell_type": "code",
      "execution_count": null,
      "metadata": {
        "colab": {
          "base_uri": "https://localhost:8080/"
        },
        "id": "q4ibHbfpB0Ws",
        "outputId": "7e6466b1-ec4a-418d-af1b-3f4a18faf1ef"
      },
      "outputs": [
        {
          "output_type": "stream",
          "name": "stdout",
          "text": [
            "-rw-r--r-- 1 root root 39154705 Jun  5 16:51 dados/gatk/LMQ341-001_sorted.vcf\n"
          ]
        }
      ],
      "source": [
        "%%bash\n",
        "ls -l dados/gatk/LWV461-001_sorted.vcf"
      ]
    },
    {
      "cell_type": "code",
      "execution_count": null,
      "metadata": {
        "colab": {
          "base_uri": "https://localhost:8080/"
        },
        "id": "zJz5aq1z5KBq",
        "outputId": "dc222bbd-f166-417c-a52c-02abf02b7d17"
      },
      "outputs": [
        {
          "output_type": "stream",
          "name": "stdout",
          "text": [
            "194483\n"
          ]
        }
      ],
      "source": [
        "%%bash\n",
        "cat dados/gatk/LWV461-001_sorted.vcf | grep -v \"^#\" | wc -l  "
      ]
    },
    {
      "cell_type": "code",
      "execution_count": null,
      "metadata": {
        "colab": {
          "base_uri": "https://localhost:8080/"
        },
        "id": "cTc52gBaBMHG",
        "outputId": "e827eba5-27ce-4443-d841-8eac6e20d374"
      },
      "outputs": [
        {
          "output_type": "stream",
          "name": "stdout",
          "text": [
            "dados\n",
            "├── annovar\n",
            "├── bedtools\n",
            "│   ├── LMQ341-001_merged.bed\n",
            "│   ├── LMQ341-001_merged_sorted.bed\n",
            "│   └── LMQ341-001_sorted.bed\n",
            "├── bwa\n",
            "│   ├── LMQ341-001.bam\n",
            "│   ├── LMQ341-001_sorted.bam\n",
            "│   ├── LMQ341-001_sorted.bam.bai\n",
            "│   ├── LMQ341-001_sorted_bamout.bai\n",
            "│   ├── LMQ341-001_sorted_bamout.bam\n",
            "│   ├── LMQ341-00S2.4.sam\n",
            "│   └── merged.sam\n",
            "├── fastq\n",
            "├── fastqc\n",
            "├── freebayes\n",
            "├── gatk\n",
            "│   ├── LMQ341-001_sorted.vcf\n",
            "│   └── LMQ341-001_sorted.vcf.idx\n",
            "└── picard\n",
            "\n",
            "8 directories, 12 files\n"
          ]
        }
      ],
      "source": [
        "%%bash\n",
        "tree dados"
      ]
    },
    {
      "cell_type": "code",
      "execution_count": null,
      "metadata": {
        "colab": {
          "base_uri": "https://localhost:8080/"
        },
        "id": "JncwMdQuIy2y",
        "outputId": "156e6345-7a33-4400-93c2-30f1f862d292"
      },
      "outputs": [
        {
          "output_type": "stream",
          "name": "stdout",
          "text": [
            "--2023-06-05 16:58:56--  https://github.com/Varstation/T1-2020/raw/master/annovar/annovar.zip\n",
            "Resolving github.com (github.com)... 140.82.114.4\n",
            "Connecting to github.com (github.com)|140.82.114.4|:443... connected.\n",
            "HTTP request sent, awaiting response... 301 Moved Permanently\n",
            "Location: https://github.com/Varstation/POS-BIOINFO/raw/master/annovar/annovar.zip [following]\n",
            "--2023-06-05 16:58:56--  https://github.com/Varstation/POS-BIOINFO/raw/master/annovar/annovar.zip\n",
            "Reusing existing connection to github.com:443.\n",
            "HTTP request sent, awaiting response... 302 Found\n",
            "Location: https://raw.githubusercontent.com/Varstation/POS-BIOINFO/master/annovar/annovar.zip [following]\n",
            "--2023-06-05 16:58:56--  https://raw.githubusercontent.com/Varstation/POS-BIOINFO/master/annovar/annovar.zip\n",
            "Resolving raw.githubusercontent.com (raw.githubusercontent.com)... 185.199.108.133, 185.199.109.133, 185.199.110.133, ...\n",
            "Connecting to raw.githubusercontent.com (raw.githubusercontent.com)|185.199.108.133|:443... connected.\n",
            "HTTP request sent, awaiting response... 200 OK\n",
            "Length: 5281524 (5.0M) [application/zip]\n",
            "Saving to: ‘annovar.zip’\n",
            "\n",
            "annovar.zip         100%[===================>]   5.04M  --.-KB/s    in 0.02s   \n",
            "\n",
            "2023-06-05 16:58:56 (260 MB/s) - ‘annovar.zip’ saved [5281524/5281524]\n",
            "\n"
          ]
        }
      ],
      "source": [
        "# Download do annovar via wget do github\n",
        "!wget https://github.com/Varstation/T1-2020/raw/master/annovar/annovar.zip"
      ]
    },
    {
      "cell_type": "code",
      "execution_count": null,
      "metadata": {
        "colab": {
          "base_uri": "https://localhost:8080/"
        },
        "id": "1RhHZ9HMJbnQ",
        "outputId": "ddfa20a6-d483-419d-f084-08717bfc14a0"
      },
      "outputs": [
        {
          "output_type": "stream",
          "name": "stdout",
          "text": [
            "Archive:  annovar.zip\n",
            "   creating: annovar/\n",
            "  inflating: __MACOSX/._annovar      \n",
            "  inflating: annovar/coding_change.pl  \n",
            "  inflating: annovar/variants_reduction.pl  \n",
            "  inflating: annovar/retrieve_seq_from_fasta.pl  \n",
            "  inflating: annovar/annotate_variation.pl  \n",
            "   creating: annovar/example/\n",
            "  inflating: annovar/convert2annovar.pl  \n",
            "  inflating: annovar/table_annovar.pl  \n",
            "   creating: annovar/humandb/\n",
            "  inflating: annovar/example/gene_xref.txt  \n",
            "  inflating: annovar/example/grantham.matrix  \n",
            "  inflating: annovar/example/example.tab_region  \n",
            "  inflating: annovar/example/gene_fullxref.txt  \n",
            "  inflating: annovar/example/ex2.vcf  \n",
            "  inflating: annovar/example/README  \n",
            "  inflating: annovar/example/ex1.avinput  \n",
            "  inflating: annovar/example/snplist.txt  \n",
            "  inflating: annovar/example/example.simple_region  \n"
          ]
        }
      ],
      "source": [
        "%%bash\n",
        "unzip annovar.zip\n",
        "rm annovar.zip"
      ]
    },
    {
      "cell_type": "code",
      "execution_count": null,
      "metadata": {
        "colab": {
          "base_uri": "https://localhost:8080/"
        },
        "id": "HLibQUdBKuw3",
        "outputId": "8fd8f032-edc9-406c-b6b5-fe37814de61d"
      },
      "outputs": [
        {
          "output_type": "stream",
          "name": "stderr",
          "text": [
            "NOTICE: Web-based checking to see whether ANNOVAR new version is available ... Done\n",
            "NOTICE: Downloading annotation database http://www.openbioinformatics.org/annovar/download/hg19_refGene.txt.gz ... OK\n",
            "NOTICE: Downloading annotation database http://www.openbioinformatics.org/annovar/download/hg19_refGeneMrna.fa.gz ... OK\n",
            "NOTICE: Downloading annotation database http://www.openbioinformatics.org/annovar/download/hg19_refGeneVersion.txt.gz ... OK\n",
            "NOTICE: Uncompressing downloaded files\n",
            "NOTICE: Finished downloading annotation files for hg19 build version, with files saved at the 'annovar/humandb' directory\n"
          ]
        }
      ],
      "source": [
        "#hg19 - refGene\n",
        "%%bash\n",
        "perl annovar/annotate_variation.pl \\\n",
        "-buildver hg19 \\\n",
        "-downdb \\\n",
        "-webfrom annovar \\\n",
        "refGene annovar/humandb/"
      ]
    },
    {
      "cell_type": "code",
      "execution_count": null,
      "metadata": {
        "colab": {
          "base_uri": "https://localhost:8080/"
        },
        "id": "RCfmCx5MLJBC",
        "outputId": "3f628b3d-7b1b-4ccf-d4f8-cd2c81209170"
      },
      "outputs": [
        {
          "output_type": "stream",
          "name": "stderr",
          "text": [
            "NOTICE: Web-based checking to see whether ANNOVAR new version is available ... Done\n",
            "NOTICE: Downloading annotation database http://www.openbioinformatics.org/annovar/download/hg19_exac03.txt.gz ... OK\n",
            "NOTICE: Downloading annotation database http://www.openbioinformatics.org/annovar/download/hg19_exac03.txt.idx.gz ... OK\n",
            "NOTICE: Uncompressing downloaded files\n",
            "NOTICE: Finished downloading annotation files for hg19 build version, with files saved at the 'annovar/humandb' directory\n"
          ]
        }
      ],
      "source": [
        "#hg19 - exac03\n",
        "%%bash\n",
        "perl annovar/annotate_variation.pl -buildver hg19 -downdb -webfrom annovar exac03 annovar/humandb/"
      ]
    },
    {
      "cell_type": "code",
      "execution_count": null,
      "metadata": {
        "colab": {
          "base_uri": "https://localhost:8080/"
        },
        "id": "qPJkBw5mLcSs",
        "outputId": "43c56ca2-a595-4e4c-b305-f342d01088c3"
      },
      "outputs": [
        {
          "output_type": "stream",
          "name": "stderr",
          "text": [
            "NOTICE: Web-based checking to see whether ANNOVAR new version is available ... Done\n",
            "NOTICE: Downloading annotation database http://www.openbioinformatics.org/annovar/download/hg19_avsnp147.txt.gz ... OK\n",
            "NOTICE: Downloading annotation database http://www.openbioinformatics.org/annovar/download/hg19_avsnp147.txt.idx.gz ... OK\n",
            "NOTICE: Uncompressing downloaded files\n",
            "NOTICE: Finished downloading annotation files for hg19 build version, with files saved at the 'annovar/humandb' directory\n"
          ]
        }
      ],
      "source": [
        "#hg19 - avsnp147\n",
        "%%bash\n",
        "perl annovar/annotate_variation.pl -buildver hg19 -downdb -webfrom annovar avsnp147 annovar/humandb/"
      ]
    },
    {
      "cell_type": "code",
      "execution_count": null,
      "metadata": {
        "colab": {
          "base_uri": "https://localhost:8080/"
        },
        "id": "8zfRWzeFLoQM",
        "outputId": "34a4381c-be1c-48cb-89e7-dacf0eb5bb66"
      },
      "outputs": [
        {
          "output_type": "stream",
          "name": "stderr",
          "text": [
            "NOTICE: Web-based checking to see whether ANNOVAR new version is available ... Done\n",
            "NOTICE: Downloading annotation database http://www.openbioinformatics.org/annovar/download/hg19_dbnsfp30a.txt.gz ... OK\n",
            "NOTICE: Downloading annotation database http://www.openbioinformatics.org/annovar/download/hg19_dbnsfp30a.txt.idx.gz ... OK\n",
            "NOTICE: Uncompressing downloaded files\n",
            "NOTICE: Finished downloading annotation files for hg19 build version, with files saved at the 'annovar/humandb' directory\n"
          ]
        }
      ],
      "source": [
        "#hg19 - dbnsfp30a\n",
        "%%bash\n",
        "perl annovar/annotate_variation.pl -buildver hg19 -downdb -webfrom annovar dbnsfp30a annovar/humandb/"
      ]
    },
    {
      "cell_type": "code",
      "execution_count": null,
      "metadata": {
        "colab": {
          "base_uri": "https://localhost:8080/"
        },
        "id": "OzS3qFazLqjT",
        "outputId": "8cf5ce5e-20c7-4f20-a20a-cd47e8bca736"
      },
      "outputs": [
        {
          "output_type": "stream",
          "name": "stderr",
          "text": [
            "NOTICE: Web-based checking to see whether ANNOVAR new version is available ... Done\n",
            "NOTICE: Downloading annotation database http://www.openbioinformatics.org/annovar/download/hg19_clinvar_20210123.txt.gz ... OK\n",
            "NOTICE: Downloading annotation database http://www.openbioinformatics.org/annovar/download/hg19_clinvar_20210123.txt.idx.gz ... OK\n",
            "NOTICE: Uncompressing downloaded files\n",
            "NOTICE: Finished downloading annotation files for hg19 build version, with files saved at the 'annovar/humandb' directory\n"
          ]
        }
      ],
      "source": [
        "#hg19 - clinvar_20210123\n",
        "%%bash\n",
        "perl annovar/annotate_variation.pl -buildver hg19 -downdb -webfrom annovar clinvar_20210123 annovar/humandb/"
      ]
    },
    {
      "cell_type": "code",
      "execution_count": null,
      "metadata": {
        "colab": {
          "base_uri": "https://localhost:8080/"
        },
        "id": "HNgi4Aks_Fc2",
        "outputId": "8fafe3a0-4964-4e1a-8e3b-c3649400790b"
      },
      "outputs": [
        {
          "output_type": "stream",
          "name": "stderr",
          "text": [
            "NOTICE: the --polish argument is set ON automatically (use --nopolish to change this behavior)\n",
            "\n",
            "NOTICE: Running with system command <convert2annovar.pl  -includeinfo -allsample -withfreq -format vcf4 dados/gatk/LMQ341-001_sorted.vcf > dados/annovar/LMQ341-001.avinput>\n",
            "NOTICE: Finished reading 194806 lines from VCF file\n",
            "NOTICE: A total of 194483 locus in VCF file passed QC threshold, representing 165055 SNPs (113600 transitions and 51455 transversions) and 31002 indels/substitutions\n",
            "NOTICE: Finished writing allele frequencies based on 165055 SNP genotypes (113600 transitions and 51455 transversions) and 31002 indels/substitutions for 1 samples\n",
            "WARNING: 258 invalid alternative alleles found in input file\n",
            "\n",
            "NOTICE: Running with system command <annovar/table_annovar.pl dados/annovar/LMQ341-001.avinput annovar/humandb/ --dot2underline -buildver hg19 -outfile dados/annovar/LMQ341-001 -remove -protocol refGene,avsnp147,exac03,clinvar_20210123,dbnsfp30a -operation g,f,f,f,f -nastring . -otherinfo>\n",
            "NOTICE: the --polish argument is set ON automatically (use --nopolish to change this behavior)\n",
            "-----------------------------------------------------------------\n",
            "NOTICE: Processing operation=g protocol=refGene\n",
            "\n",
            "NOTICE: Running with system command <annotate_variation.pl -geneanno -buildver hg19 -dbtype refGene -outfile dados/annovar/LMQ341-001.refGene -exonsort -nofirstcodondel dados/annovar/LMQ341-001.avinput annovar/humandb/>\n",
            "NOTICE: Output files are written to dados/annovar/LMQ341-001.refGene.variant_function, dados/annovar/LMQ341-001.refGene.exonic_variant_function\n",
            "NOTICE: Reading gene annotation from annovar/humandb/hg19_refGene.txt ... Done with 78239 transcripts (including 18578 without coding sequence annotation) for 28293 unique genes\n",
            "NOTICE: Processing next batch with 196315 unique variants in 196315 input lines\n",
            "NOTICE: Reading FASTA sequences from annovar/humandb/hg19_refGeneMrna.fa ... Done with 27690 sequences\n",
            "WARNING: A total of 465 sequences will be ignored due to lack of correct ORF annotation\n",
            "\n",
            "NOTICE: Running with system command <coding_change.pl  dados/annovar/LMQ341-001.refGene.exonic_variant_function.orig annovar/humandb//hg19_refGene.txt annovar/humandb//hg19_refGeneMrna.fa -alltranscript -out dados/annovar/LMQ341-001.refGene.fa -newevf dados/annovar/LMQ341-001.refGene.exonic_variant_function>\n",
            "-----------------------------------------------------------------\n",
            "NOTICE: Processing operation=f protocol=avsnp147\n",
            "\n",
            "NOTICE: Running system command <annotate_variation.pl -filter -dbtype avsnp147 -buildver hg19 -outfile dados/annovar/LMQ341-001 dados/annovar/LMQ341-001.avinput annovar/humandb/>\n",
            "NOTICE: Output file with variants matching filtering criteria is written to dados/annovar/LMQ341-001.hg19_avsnp147_dropped, and output file with other variants is written to dados/annovar/LMQ341-001.hg19_avsnp147_filtered\n",
            "NOTICE: Processing next batch with 196315 unique variants in 196315 input lines\n",
            "NOTICE: Database index loaded. Total number of bins is 27868332 and the number of bins to be scanned is 165841\n",
            "NOTICE: Scanning filter database annovar/humandb/hg19_avsnp147.txt...Done\n",
            "-----------------------------------------------------------------\n",
            "NOTICE: Processing operation=f protocol=exac03\n",
            "NOTICE: Finished reading 8 column headers for '-dbtype exac03'\n",
            "\n",
            "NOTICE: Running system command <annotate_variation.pl -filter -dbtype exac03 -buildver hg19 -outfile dados/annovar/LMQ341-001 dados/annovar/LMQ341-001.avinput annovar/humandb/ -otherinfo>\n",
            "NOTICE: Output file with variants matching filtering criteria is written to dados/annovar/LMQ341-001.hg19_exac03_dropped, and output file with other variants is written to dados/annovar/LMQ341-001.hg19_exac03_filtered\n",
            "NOTICE: Processing next batch with 196315 unique variants in 196315 input lines\n",
            "NOTICE: Database index loaded. Total number of bins is 749886 and the number of bins to be scanned is 70029\n",
            "NOTICE: Scanning filter database annovar/humandb/hg19_exac03.txt...Done\n",
            "-----------------------------------------------------------------\n",
            "NOTICE: Processing operation=f protocol=clinvar_20210123\n",
            "NOTICE: Finished reading 5 column headers for '-dbtype clinvar_20210123'\n",
            "\n",
            "NOTICE: Running system command <annotate_variation.pl -filter -dbtype clinvar_20210123 -buildver hg19 -outfile dados/annovar/LMQ341-001 dados/annovar/LMQ341-001.avinput annovar/humandb/ -otherinfo>\n",
            "NOTICE: the --dbtype clinvar_20210123 is assumed to be in generic ANNOVAR database format\n",
            "NOTICE: Output file with variants matching filtering criteria is written to dados/annovar/LMQ341-001.hg19_clinvar_20210123_dropped, and output file with other variants is written to dados/annovar/LMQ341-001.hg19_clinvar_20210123_filtered\n",
            "NOTICE: Processing next batch with 196315 unique variants in 196315 input lines\n",
            "NOTICE: Database index loaded. Total number of bins is 74968 and the number of bins to be scanned is 32210\n",
            "NOTICE: Scanning filter database annovar/humandb/hg19_clinvar_20210123.txt...Done\n",
            "-----------------------------------------------------------------\n",
            "NOTICE: Processing operation=f protocol=dbnsfp30a\n",
            "NOTICE: Finished reading 34 column headers for '-dbtype dbnsfp30a'\n",
            "\n",
            "NOTICE: Running system command <annotate_variation.pl -filter -dbtype dbnsfp30a -buildver hg19 -outfile dados/annovar/LMQ341-001 dados/annovar/LMQ341-001.avinput annovar/humandb/ -otherinfo>\n",
            "NOTICE: Output file with variants matching filtering criteria is written to dados/annovar/LMQ341-001.hg19_dbnsfp30a_dropped, and output file with other variants is written to dados/annovar/LMQ341-001.hg19_dbnsfp30a_filtered\n",
            "NOTICE: Processing next batch with 196315 unique variants in 196315 input lines\n",
            "NOTICE: Database index loaded. Total number of bins is 548895 and the number of bins to be scanned is 47038\n",
            "NOTICE: Scanning filter database annovar/humandb/hg19_dbnsfp30a.txt...Done\n",
            "-----------------------------------------------------------------\n",
            "NOTICE: Multianno output file is written to dados/annovar/LMQ341-001.hg19_multianno.txt\n",
            "NOTICE: Reading from dados/annovar/LMQ341-001.hg19_multianno.txt\n",
            "-----------------------------------------------------------------\n",
            "NOTICE: VCF output is written to dados/annovar/LMQ341-001.hg19_multianno.vcf\n"
          ]
        }
      ],
      "source": [
        "%%bash\n",
        "perl annovar/table_annovar.pl \\\n",
        "-vcfinput dados/gatk/LWV461-001_sorted.vcf \\\n",
        "annovar/humandb/ \\\n",
        "--dot2underline -buildver hg19 \\\n",
        "-out dados/annovar/LWV461-001 -remove \\\n",
        "-protocol refGene,avsnp147,exac03,clinvar_20210123,dbnsfp30a \\\n",
        "-operation g,f,f,f,f \\\n",
        "-nastring \".\" "
      ]
    },
    {
      "cell_type": "code",
      "execution_count": null,
      "metadata": {
        "colab": {
          "base_uri": "https://localhost:8080/"
        },
        "id": "heuP1JhEX_pU",
        "outputId": "1711481d-88bc-4f9c-d897-68992c0d82e9"
      },
      "outputs": [
        {
          "output_type": "stream",
          "name": "stdout",
          "text": [
            "chrMT\t15115\t.\tT\tC\t113.14\t.\tAC=2;AF=1.00;AN=2;DP=4;ExcessHet=0.0000;FS=0.000;MLEAC=2;MLEAF=1.00;MQ=27.00;QD=28.29;SOR=1.609;ANNOVAR_DATE=2020-06-08;Func_refGene=intergenic;Gene_refGene=NONE\\x3bNONE;GeneDetail_refGene=dist\\x3dNONE\\x3bdist\\x3dNONE;ExonicFunc_refGene=.;AAChange_refGene=.;avsnp147=.;ExAC_ALL=.;ExAC_AFR=.;ExAC_AMR=.;ExAC_EAS=.;ExAC_FIN=.;ExAC_NFE=.;ExAC_OTH=.;ExAC_SAS=.;CLNALLELEID=.;CLNDN=.;CLNDISDB=.;CLNREVSTAT=.;CLNSIG=.;SIFT_score=.;SIFT_pred=.;Polyphen2_HDIV_score=.;Polyphen2_HDIV_pred=.;Polyphen2_HVAR_score=.;Polyphen2_HVAR_pred=.;LRT_score=.;LRT_pred=.;MutationTaster_score=.;MutationTaster_pred=.;MutationAssessor_score=.;MutationAssessor_pred=.;FATHMM_score=.;FATHMM_pred=.;PROVEAN_score=.;PROVEAN_pred=.;VEST3_score=.;CADD_raw=.;CADD_phred=.;DANN_score=.;fathmm-MKL_coding_score=.;fathmm-MKL_coding_pred=.;MetaSVM_score=.;MetaSVM_pred=.;MetaLR_score=.;MetaLR_pred=.;integrated_fitCons_score=.;integrated_confidence_value=.;GERP++_RS=.;phyloP7way_vertebrate=.;phyloP20way_mammalian=.;phastCons7way_vertebrate=.;phastCons20way_mammalian=.;SiPhy_29way_logOdds=.;ALLELE_END\tGT:AD:DP:GQ:PL\t1/1:0,4:4:12:127,12,0\n",
            "chrMT\t15326\t.\tA\tG\t153.97\t.\tAC=2;AF=1.00;AN=2;DP=6;ExcessHet=0.0000;FS=0.000;MLEAC=2;MLEAF=1.00;MQ=28.30;QD=25.66;SOR=2.303;ANNOVAR_DATE=2020-06-08;Func_refGene=intergenic;Gene_refGene=NONE\\x3bNONE;GeneDetail_refGene=dist\\x3dNONE\\x3bdist\\x3dNONE;ExonicFunc_refGene=.;AAChange_refGene=.;avsnp147=rs2853508;ExAC_ALL=.;ExAC_AFR=.;ExAC_AMR=.;ExAC_EAS=.;ExAC_FIN=.;ExAC_NFE=.;ExAC_OTH=.;ExAC_SAS=.;CLNALLELEID=150284;CLNDN=Leigh_syndrome|Familial_cancer_of_breast;CLNDISDB=MONDO:MONDO:0009723,MedGen:C0023264,OMIM:256000,Orphanet:ORPHA506,SNOMED_CT:29570005|MONDO:MONDO:0016419,MedGen:C0346153,OMIM:114480,Orphanet:ORPHA227535,SNOMED_CT:254843006;CLNREVSTAT=criteria_provided,_single_submitter;CLNSIG=Benign;SIFT_score=.;SIFT_pred=.;Polyphen2_HDIV_score=.;Polyphen2_HDIV_pred=.;Polyphen2_HVAR_score=.;Polyphen2_HVAR_pred=.;LRT_score=.;LRT_pred=.;MutationTaster_score=.;MutationTaster_pred=.;MutationAssessor_score=.;MutationAssessor_pred=.;FATHMM_score=.;FATHMM_pred=.;PROVEAN_score=.;PROVEAN_pred=.;VEST3_score=.;CADD_raw=.;CADD_phred=.;DANN_score=.;fathmm-MKL_coding_score=.;fathmm-MKL_coding_pred=.;MetaSVM_score=.;MetaSVM_pred=.;MetaLR_score=.;MetaLR_pred=.;integrated_fitCons_score=.;integrated_confidence_value=.;GERP++_RS=.;phyloP7way_vertebrate=.;phyloP20way_mammalian=.;phastCons7way_vertebrate=.;phastCons20way_mammalian=.;SiPhy_29way_logOdds=.;ALLELE_END\tGT:AD:DP:GQ:PL\t1/1:0,6:6:18:168,18,0\n",
            "chrMT\t16126\t.\tT\tC\t888.06\t.\tAC=2;AF=1.00;AN=2;DP=31;ExcessHet=0.0000;FS=0.000;MLEAC=2;MLEAF=1.00;MQ=44.48;QD=28.65;SOR=0.756;ANNOVAR_DATE=2020-06-08;Func_refGene=intergenic;Gene_refGene=NONE\\x3bNONE;GeneDetail_refGene=dist\\x3dNONE\\x3bdist\\x3dNONE;ExonicFunc_refGene=.;AAChange_refGene=.;avsnp147=rs147029798;ExAC_ALL=.;ExAC_AFR=.;ExAC_AMR=.;ExAC_EAS=.;ExAC_FIN=.;ExAC_NFE=.;ExAC_OTH=.;ExAC_SAS=.;CLNALLELEID=.;CLNDN=.;CLNDISDB=.;CLNREVSTAT=.;CLNSIG=.;SIFT_score=.;SIFT_pred=.;Polyphen2_HDIV_score=.;Polyphen2_HDIV_pred=.;Polyphen2_HVAR_score=.;Polyphen2_HVAR_pred=.;LRT_score=.;LRT_pred=.;MutationTaster_score=.;MutationTaster_pred=.;MutationAssessor_score=.;MutationAssessor_pred=.;FATHMM_score=.;FATHMM_pred=.;PROVEAN_score=.;PROVEAN_pred=.;VEST3_score=.;CADD_raw=.;CADD_phred=.;DANN_score=.;fathmm-MKL_coding_score=.;fathmm-MKL_coding_pred=.;MetaSVM_score=.;MetaSVM_pred=.;MetaLR_score=.;MetaLR_pred=.;integrated_fitCons_score=.;integrated_confidence_value=.;GERP++_RS=.;phyloP7way_vertebrate=.;phyloP20way_mammalian=.;phastCons7way_vertebrate=.;phastCons20way_mammalian=.;SiPhy_29way_logOdds=.;ALLELE_END\tGT:AD:DP:GQ:PL\t1/1:0,31:31:93:902,93,0\n",
            "chrMT\t16187\t.\tC\tT\t884.06\t.\tAC=2;AF=1.00;AN=2;DP=24;ExcessHet=0.0000;FS=0.000;MLEAC=2;MLEAF=1.00;MQ=49.79;QD=33.20;SOR=2.093;ANNOVAR_DATE=2020-06-08;Func_refGene=intergenic;Gene_refGene=NONE\\x3bNONE;GeneDetail_refGene=dist\\x3dNONE\\x3bdist\\x3dNONE;ExonicFunc_refGene=.;AAChange_refGene=.;avsnp147=.;ExAC_ALL=.;ExAC_AFR=.;ExAC_AMR=.;ExAC_EAS=.;ExAC_FIN=.;ExAC_NFE=.;ExAC_OTH=.;ExAC_SAS=.;CLNALLELEID=.;CLNDN=.;CLNDISDB=.;CLNREVSTAT=.;CLNSIG=.;SIFT_score=.;SIFT_pred=.;Polyphen2_HDIV_score=.;Polyphen2_HDIV_pred=.;Polyphen2_HVAR_score=.;Polyphen2_HVAR_pred=.;LRT_score=.;LRT_pred=.;MutationTaster_score=.;MutationTaster_pred=.;MutationAssessor_score=.;MutationAssessor_pred=.;FATHMM_score=.;FATHMM_pred=.;PROVEAN_score=.;PROVEAN_pred=.;VEST3_score=.;CADD_raw=.;CADD_phred=.;DANN_score=.;fathmm-MKL_coding_score=.;fathmm-MKL_coding_pred=.;MetaSVM_score=.;MetaSVM_pred=.;MetaLR_score=.;MetaLR_pred=.;integrated_fitCons_score=.;integrated_confidence_value=.;GERP++_RS=.;phyloP7way_vertebrate=.;phyloP20way_mammalian=.;phastCons7way_vertebrate=.;phastCons20way_mammalian=.;SiPhy_29way_logOdds=.;ALLELE_END\tGT:AD:DP:GQ:PL\t1/1:0,20:20:60:898,60,0\n",
            "chrMT\t16189\t.\tT\tC\t884.06\t.\tAC=2;AF=1.00;AN=2;DP=22;ExcessHet=0.0000;FS=0.000;MLEAC=2;MLEAF=1.00;MQ=49.22;QD=27.74;SOR=2.093;ANNOVAR_DATE=2020-06-08;Func_refGene=intergenic;Gene_refGene=NONE\\x3bNONE;GeneDetail_refGene=dist\\x3dNONE\\x3bdist\\x3dNONE;ExonicFunc_refGene=.;AAChange_refGene=.;avsnp147=rs28693675;ExAC_ALL=.;ExAC_AFR=.;ExAC_AMR=.;ExAC_EAS=.;ExAC_FIN=.;ExAC_NFE=.;ExAC_OTH=.;ExAC_SAS=.;CLNALLELEID=.;CLNDN=.;CLNDISDB=.;CLNREVSTAT=.;CLNSIG=.;SIFT_score=.;SIFT_pred=.;Polyphen2_HDIV_score=.;Polyphen2_HDIV_pred=.;Polyphen2_HVAR_score=.;Polyphen2_HVAR_pred=.;LRT_score=.;LRT_pred=.;MutationTaster_score=.;MutationTaster_pred=.;MutationAssessor_score=.;MutationAssessor_pred=.;FATHMM_score=.;FATHMM_pred=.;PROVEAN_score=.;PROVEAN_pred=.;VEST3_score=.;CADD_raw=.;CADD_phred=.;DANN_score=.;fathmm-MKL_coding_score=.;fathmm-MKL_coding_pred=.;MetaSVM_score=.;MetaSVM_pred=.;MetaLR_score=.;MetaLR_pred=.;integrated_fitCons_score=.;integrated_confidence_value=.;GERP++_RS=.;phyloP7way_vertebrate=.;phyloP20way_mammalian=.;phastCons7way_vertebrate=.;phastCons20way_mammalian=.;SiPhy_29way_logOdds=.;ALLELE_END\tGT:AD:DP:GQ:PL\t1/1:0,20:20:60:898,60,0\n",
            "chrMT\t16223\t.\tC\tT\t344.06\t.\tAC=2;AF=1.00;AN=2;DP=13;ExcessHet=0.0000;FS=0.000;MLEAC=2;MLEAF=1.00;MQ=42.50;QD=31.28;SOR=1.802;ANNOVAR_DATE=2020-06-08;Func_refGene=intergenic;Gene_refGene=NONE\\x3bNONE;GeneDetail_refGene=dist\\x3dNONE\\x3bdist\\x3dNONE;ExonicFunc_refGene=.;AAChange_refGene=.;avsnp147=rs2853513;ExAC_ALL=.;ExAC_AFR=.;ExAC_AMR=.;ExAC_EAS=.;ExAC_FIN=.;ExAC_NFE=.;ExAC_OTH=.;ExAC_SAS=.;CLNALLELEID=.;CLNDN=.;CLNDISDB=.;CLNREVSTAT=.;CLNSIG=.;SIFT_score=.;SIFT_pred=.;Polyphen2_HDIV_score=.;Polyphen2_HDIV_pred=.;Polyphen2_HVAR_score=.;Polyphen2_HVAR_pred=.;LRT_score=.;LRT_pred=.;MutationTaster_score=.;MutationTaster_pred=.;MutationAssessor_score=.;MutationAssessor_pred=.;FATHMM_score=.;FATHMM_pred=.;PROVEAN_score=.;PROVEAN_pred=.;VEST3_score=.;CADD_raw=.;CADD_phred=.;DANN_score=.;fathmm-MKL_coding_score=.;fathmm-MKL_coding_pred=.;MetaSVM_score=.;MetaSVM_pred=.;MetaLR_score=.;MetaLR_pred=.;integrated_fitCons_score=.;integrated_confidence_value=.;GERP++_RS=.;phyloP7way_vertebrate=.;phyloP20way_mammalian=.;phastCons7way_vertebrate=.;phastCons20way_mammalian=.;SiPhy_29way_logOdds=.;ALLELE_END\tGT:AD:DP:GQ:PL\t1/1:0,11:11:33:358,33,0\n",
            "chrMT\t16264\t.\tC\tT\t440.06\t.\tAC=2;AF=1.00;AN=2;DP=11;ExcessHet=0.0000;FS=0.000;MLEAC=2;MLEAF=1.00;MQ=30.83;QD=23.39;SOR=1.802;ANNOVAR_DATE=2020-06-08;Func_refGene=intergenic;Gene_refGene=NONE\\x3bNONE;GeneDetail_refGene=dist\\x3dNONE\\x3bdist\\x3dNONE;ExonicFunc_refGene=.;AAChange_refGene=.;avsnp147=.;ExAC_ALL=.;ExAC_AFR=.;ExAC_AMR=.;ExAC_EAS=.;ExAC_FIN=.;ExAC_NFE=.;ExAC_OTH=.;ExAC_SAS=.;CLNALLELEID=.;CLNDN=.;CLNDISDB=.;CLNREVSTAT=.;CLNSIG=.;SIFT_score=.;SIFT_pred=.;Polyphen2_HDIV_score=.;Polyphen2_HDIV_pred=.;Polyphen2_HVAR_score=.;Polyphen2_HVAR_pred=.;LRT_score=.;LRT_pred=.;MutationTaster_score=.;MutationTaster_pred=.;MutationAssessor_score=.;MutationAssessor_pred=.;FATHMM_score=.;FATHMM_pred=.;PROVEAN_score=.;PROVEAN_pred=.;VEST3_score=.;CADD_raw=.;CADD_phred=.;DANN_score=.;fathmm-MKL_coding_score=.;fathmm-MKL_coding_pred=.;MetaSVM_score=.;MetaSVM_pred=.;MetaLR_score=.;MetaLR_pred=.;integrated_fitCons_score=.;integrated_confidence_value=.;GERP++_RS=.;phyloP7way_vertebrate=.;phyloP20way_mammalian=.;phastCons7way_vertebrate=.;phastCons20way_mammalian=.;SiPhy_29way_logOdds=.;ALLELE_END\tGT:AD:DP:GQ:PL\t1/1:0,11:11:33:454,33,0\n",
            "chrMT\t16270\t.\tC\tT\t410.06\t.\tAC=2;AF=1.00;AN=2;DP=10;ExcessHet=0.0000;FS=0.000;MLEAC=2;MLEAF=1.00;MQ=29.89;QD=31.60;SOR=1.609;ANNOVAR_DATE=2020-06-08;Func_refGene=intergenic;Gene_refGene=NONE\\x3bNONE;GeneDetail_refGene=dist\\x3dNONE\\x3bdist\\x3dNONE;ExonicFunc_refGene=.;AAChange_refGene=.;avsnp147=rs2857290;ExAC_ALL=.;ExAC_AFR=.;ExAC_AMR=.;ExAC_EAS=.;ExAC_FIN=.;ExAC_NFE=.;ExAC_OTH=.;ExAC_SAS=.;CLNALLELEID=.;CLNDN=.;CLNDISDB=.;CLNREVSTAT=.;CLNSIG=.;SIFT_score=.;SIFT_pred=.;Polyphen2_HDIV_score=.;Polyphen2_HDIV_pred=.;Polyphen2_HVAR_score=.;Polyphen2_HVAR_pred=.;LRT_score=.;LRT_pred=.;MutationTaster_score=.;MutationTaster_pred=.;MutationAssessor_score=.;MutationAssessor_pred=.;FATHMM_score=.;FATHMM_pred=.;PROVEAN_score=.;PROVEAN_pred=.;VEST3_score=.;CADD_raw=.;CADD_phred=.;DANN_score=.;fathmm-MKL_coding_score=.;fathmm-MKL_coding_pred=.;MetaSVM_score=.;MetaSVM_pred=.;MetaLR_score=.;MetaLR_pred=.;integrated_fitCons_score=.;integrated_confidence_value=.;GERP++_RS=.;phyloP7way_vertebrate=.;phyloP20way_mammalian=.;phastCons7way_vertebrate=.;phastCons20way_mammalian=.;SiPhy_29way_logOdds=.;ALLELE_END\tGT:AD:DP:GQ:PL\t1/1:0,10:10:30:424,30,0\n",
            "chrMT\t16278\t.\tC\tT\t422.06\t.\tAC=2;AF=1.00;AN=2;DP=11;ExcessHet=0.0000;FS=0.000;MLEAC=2;MLEAF=1.00;MQ=31.59;QD=32.81;SOR=1.270;ANNOVAR_DATE=2020-06-08;Func_refGene=intergenic;Gene_refGene=NONE\\x3bNONE;GeneDetail_refGene=dist\\x3dNONE\\x3bdist\\x3dNONE;ExonicFunc_refGene=.;AAChange_refGene=.;avsnp147=rs41458645;ExAC_ALL=.;ExAC_AFR=.;ExAC_AMR=.;ExAC_EAS=.;ExAC_FIN=.;ExAC_NFE=.;ExAC_OTH=.;ExAC_SAS=.;CLNALLELEID=.;CLNDN=.;CLNDISDB=.;CLNREVSTAT=.;CLNSIG=.;SIFT_score=.;SIFT_pred=.;Polyphen2_HDIV_score=.;Polyphen2_HDIV_pred=.;Polyphen2_HVAR_score=.;Polyphen2_HVAR_pred=.;LRT_score=.;LRT_pred=.;MutationTaster_score=.;MutationTaster_pred=.;MutationAssessor_score=.;MutationAssessor_pred=.;FATHMM_score=.;FATHMM_pred=.;PROVEAN_score=.;PROVEAN_pred=.;VEST3_score=.;CADD_raw=.;CADD_phred=.;DANN_score=.;fathmm-MKL_coding_score=.;fathmm-MKL_coding_pred=.;MetaSVM_score=.;MetaSVM_pred=.;MetaLR_score=.;MetaLR_pred=.;integrated_fitCons_score=.;integrated_confidence_value=.;GERP++_RS=.;phyloP7way_vertebrate=.;phyloP20way_mammalian=.;phastCons7way_vertebrate=.;phastCons20way_mammalian=.;SiPhy_29way_logOdds=.;ALLELE_END\tGT:AD:DP:GQ:PL\t1/1:0,11:11:33:436,33,0\n",
            "chrMT\t16311\t.\tT\tC\t442.06\t.\tAC=2;AF=1.00;AN=2;DP=15;ExcessHet=0.0000;FS=0.000;MLEAC=2;MLEAF=1.00;MQ=30.43;QD=29.47;SOR=1.911;ANNOVAR_DATE=2020-06-08;Func_refGene=intergenic;Gene_refGene=NONE\\x3bNONE;GeneDetail_refGene=dist\\x3dNONE\\x3bdist\\x3dNONE;ExonicFunc_refGene=.;AAChange_refGene=.;avsnp147=rs34799580;ExAC_ALL=.;ExAC_AFR=.;ExAC_AMR=.;ExAC_EAS=.;ExAC_FIN=.;ExAC_NFE=.;ExAC_OTH=.;ExAC_SAS=.;CLNALLELEID=.;CLNDN=.;CLNDISDB=.;CLNREVSTAT=.;CLNSIG=.;SIFT_score=.;SIFT_pred=.;Polyphen2_HDIV_score=.;Polyphen2_HDIV_pred=.;Polyphen2_HVAR_score=.;Polyphen2_HVAR_pred=.;LRT_score=.;LRT_pred=.;MutationTaster_score=.;MutationTaster_pred=.;MutationAssessor_score=.;MutationAssessor_pred=.;FATHMM_score=.;FATHMM_pred=.;PROVEAN_score=.;PROVEAN_pred=.;VEST3_score=.;CADD_raw=.;CADD_phred=.;DANN_score=.;fathmm-MKL_coding_score=.;fathmm-MKL_coding_pred=.;MetaSVM_score=.;MetaSVM_pred=.;MetaLR_score=.;MetaLR_pred=.;integrated_fitCons_score=.;integrated_confidence_value=.;GERP++_RS=.;phyloP7way_vertebrate=.;phyloP20way_mammalian=.;phastCons7way_vertebrate=.;phastCons20way_mammalian=.;SiPhy_29way_logOdds=.;ALLELE_END\tGT:AD:DP:GQ:PL\t1/1:0,15:15:45:456,45,0\n"
          ]
        }
      ],
      "source": [
        "%%bash\n",
        "tail dados/annovar/LMQ341-001.hg19_multianno.vcf"
      ]
    },
    {
      "cell_type": "code",
      "execution_count": null,
      "metadata": {
        "colab": {
          "base_uri": "https://localhost:8080/"
        },
        "id": "SrD4lgg2mkTj",
        "outputId": "8bbadb69-3346-424b-fda5-70e4b545d8dc"
      },
      "outputs": [
        {
          "output_type": "stream",
          "name": "stdout",
          "text": [
            "AMR795-001.avinput\n",
            "AMR795-001.hg19_multianno.txt\n",
            "AMR795-001.hg19_multianno.vcf\n"
          ]
        }
      ],
      "source": [
        "%%bash\n",
        "ls dados/annovar/"
      ]
    },
    {
      "cell_type": "code",
      "execution_count": null,
      "metadata": {
        "colab": {
          "base_uri": "https://localhost:8080/"
        },
        "id": "HgloZ1PqmsaC",
        "outputId": "956fa160-c36f-472e-e2a7-e693e875649d"
      },
      "outputs": [
        {
          "output_type": "stream",
          "name": "stdout",
          "text": [
            "Chr\tStart\tEnd\tRef\tAlt\tFunc_refGene\tGene_refGene\tGeneDetail_refGene\tExonicFunc_refGene\tAAChange_refGene\tavsnp147\tExAC_ALL\tExAC_AFR\tExAC_AMR\tExAC_EAS\tExAC_FIN\tExAC_NFE\tExAC_OTH\tExAC_SAS\tCLNALLELEID\tCLNDN\tCLNDISDB\tCLNREVSTAT\tCLNSIG\tSIFT_score\tSIFT_pred\tPolyphen2_HDIV_score\tPolyphen2_HDIV_pred\tPolyphen2_HVAR_score\tPolyphen2_HVAR_pred\tLRT_score\tLRT_pred\tMutationTaster_score\tMutationTaster_pred\tMutationAssessor_score\tMutationAssessor_pred\tFATHMM_score\tFATHMM_pred\tPROVEAN_score\tPROVEAN_pred\tVEST3_score\tCADD_raw\tCADD_phred\tDANN_score\tfathmm-MKL_coding_score\tfathmm-MKL_coding_pred\tMetaSVM_score\tMetaSVM_pred\tMetaLR_score\tMetaLR_pred\tintegrated_fitCons_score\tintegrated_confidence_value\tGERP++_RS\tphyloP7way_vertebrate\tphyloP20way_mammalian\tphastCons7way_vertebrate\tphastCons20way_mammalian\tSiPhy_29way_logOdds\tOtherinfo1\tOtherinfo2\tOtherinfo3\tOtherinfo4\tOtherinfo5\tOtherinfo6\tOtherinfo7\tOtherinfo8\tOtherinfo9\tOtherinfo10\tOtherinfo11\tOtherinfo12\tOtherinfo13\n",
            "chr1\t13688\t13691\tCCAT\t-\tncRNA_exonic\tDDX11L1;DDX11L17\t.\t.\t.\t.\t.\t.\t.\t.\t.\t.\t.\t.\t.\t.\t.\t.\t.\t.\t.\t.\t.\t.\t.\t.\t.\t.\t.\t.\t.\t.\t.\t.\t.\t.\t.\t.\t.\t.\t.\t.\t.\t.\t.\t.\t.\t.\t.\t.\t.\t.\t.\t0.5\t58.60\t8\tchr1\t13687\t.\tGCCAT\tG\t58.60\t.\tAC=1;AF=0.500;AN=2;BaseQRankSum=0.000;DP=9;ExcessHet=0.0000;FS=0.000;MLEAC=1;MLEAF=0.500;MQ=22.80;MQRankSum=-0.921;QD=7.33;ReadPosRankSum=0.180;SOR=0.169\tGT:AD:DP:GQ:PL\t0/1:6,2:8:66:66,0,246\n",
            "chr1\t14907\t14907\tA\tG\tncRNA_intronic\tWASH7P\t.\t.\t.\trs6682375\t.\t.\t.\t.\t.\t.\t.\t.\t.\t.\t.\t.\t.\t.\t.\t.\t.\t.\t.\t.\t.\t.\t.\t.\t.\t.\t.\t.\t.\t.\t.\t.\t.\t.\t.\t.\t.\t.\t.\t.\t.\t.\t.\t.\t.\t.\t.\t0.5\t119.64\t83\tchr1\t14907\t.\tA\tG\t119.64\t.\tAC=1;AF=0.500;AN=2;BaseQRankSum=1.386;DP=88;ExcessHet=0.0000;FS=2.614;MLEAC=1;MLEAF=0.500;MQ=37.28;MQRankSum=-0.397;QD=1.44;ReadPosRankSum=-0.856;SOR=0.966\tGT:AD:DP:GQ:PL\t0/1:71,12:83:99:127,0,2193\n",
            "chr1\t14930\t14930\tA\tG\tncRNA_intronic\tWASH7P\t.\t.\t.\trs6682385\t.\t.\t.\t.\t.\t.\t.\t.\t.\t.\t.\t.\t.\t.\t.\t.\t.\t.\t.\t.\t.\t.\t.\t.\t.\t.\t.\t.\t.\t.\t.\t.\t.\t.\t.\t.\t.\t.\t.\t.\t.\t.\t.\t.\t.\t.\t.\t0.5\t165.64\t117\tchr1\t14930\t.\tA\tG\t165.64\t.\tAC=1;AF=0.500;AN=2;BaseQRankSum=1.016;DP=118;ExcessHet=0.0000;FS=0.000;MLEAC=1;MLEAF=0.500;MQ=39.74;MQRankSum=-0.690;QD=1.42;ReadPosRankSum=1.011;SOR=0.720\tGT:AD:DP:GQ:PL\t0/1:100,17:117:99:173,0,2853\n",
            "chr1\t15820\t15820\tG\tT\tncRNA_exonic\tWASH7P\t.\t.\t.\trs2691315\t.\t.\t.\t.\t.\t.\t.\t.\t.\t.\t.\t.\t.\t.\t.\t.\t.\t.\t.\t.\t.\t.\t.\t.\t.\t.\t.\t.\t.\t.\t.\t.\t.\t.\t.\t.\t.\t.\t.\t.\t.\t.\t.\t.\t.\t.\t.\t0.5\t1378.64\t97\tchr1\t15820\t.\tG\tT\t1378.64\t.\tAC=1;AF=0.500;AN=2;BaseQRankSum=4.544;DP=103;ExcessHet=0.0000;FS=39.218;MLEAC=1;MLEAF=0.500;MQ=41.64;MQRankSum=-5.288;QD=14.21;ReadPosRankSum=-0.143;SOR=5.549\tGT:AD:DP:GQ:PL\t0/1:55,42:97:99:1386,0,1620\n",
            "chr1\t16957\t16957\tG\tT\tncRNA_exonic\tWASH7P\t.\t.\t.\trs200658479\t.\t.\t.\t.\t.\t.\t.\t.\t.\t.\t.\t.\t.\t.\t.\t.\t.\t.\t.\t.\t.\t.\t.\t.\t.\t.\t.\t.\t.\t.\t.\t.\t.\t.\t.\t.\t.\t.\t.\t.\t.\t.\t.\t.\t.\t.\t.\t0.5\t99.64\t20\tchr1\t16957\t.\tG\tT\t99.64\t.\tAC=1;AF=0.500;AN=2;BaseQRankSum=-1.418;DP=20;ExcessHet=0.0000;FS=2.831;MLEAC=1;MLEAF=0.500;MQ=23.28;MQRankSum=-0.445;QD=4.98;ReadPosRankSum=-1.785;SOR=1.863\tGT:AD:DP:GQ:PL\t0/1:14,6:20:99:107,0,414\n",
            "chr1\t16977\t16977\tG\tA\tncRNA_exonic\tWASH7P\t.\t.\t.\t.\t.\t.\t.\t.\t.\t.\t.\t.\t.\t.\t.\t.\t.\t.\t.\t.\t.\t.\t.\t.\t.\t.\t.\t.\t.\t.\t.\t.\t.\t.\t.\t.\t.\t.\t.\t.\t.\t.\t.\t.\t.\t.\t.\t.\t.\t.\t.\t0.5\t70.64\t22\tchr1\t16977\t.\tG\tA\t70.64\t.\tAC=1;AF=0.500;AN=2;BaseQRankSum=0.000;DP=22;ExcessHet=0.0000;FS=14.018;MLEAC=1;MLEAF=0.500;MQ=22.44;MQRankSum=2.156;QD=3.21;ReadPosRankSum=-0.396;SOR=3.598\tGT:AD:DP:GQ:PL\t0/1:17,5:22:78:78,0,418\n",
            "chr1\t16996\t16996\tT\tC\tncRNA_exonic\tWASH7P\t.\t.\t.\t.\t.\t.\t.\t.\t.\t.\t.\t.\t.\t.\t.\t.\t.\t.\t.\t.\t.\t.\t.\t.\t.\t.\t.\t.\t.\t.\t.\t.\t.\t.\t.\t.\t.\t.\t.\t.\t.\t.\t.\t.\t.\t.\t.\t.\t.\t.\t.\t0.5\t117.64\t16\tchr1\t16996\t.\tT\tC\t117.64\t.\tAC=1;AF=0.500;AN=2;BaseQRankSum=0.000;DP=16;ExcessHet=0.0000;FS=19.445;MLEAC=1;MLEAF=0.500;MQ=21.90;MQRankSum=-3.390;QD=7.35;ReadPosRankSum=0.370;SOR=4.164\tGT:AD:DP:GQ:PL\t0/1:9,7:16:99:125,0,204\n",
            "chr1\t17222\t17222\tA\tG\tncRNA_intronic\tWASH7P\t.\t.\t.\trs200978805\t.\t.\t.\t.\t.\t.\t.\t.\t.\t.\t.\t.\t.\t.\t.\t.\t.\t.\t.\t.\t.\t.\t.\t.\t.\t.\t.\t.\t.\t.\t.\t.\t.\t.\t.\t.\t.\t.\t.\t.\t.\t.\t.\t.\t.\t.\t.\t0.5\t94.64\t33\tchr1\t17222\t.\tA\tG\t94.64\t.\tAC=1;AF=0.500;AN=2;BaseQRankSum=-1.697;DP=34;ExcessHet=0.0000;FS=0.000;MLEAC=1;MLEAF=0.500;MQ=22.95;MQRankSum=-0.780;QD=2.87;ReadPosRankSum=1.308;SOR=0.418\tGT:AD:DP:GQ:PL\t0/1:25,8:33:99:102,0,581\n",
            "chr1\t17452\t17452\tC\tT\tncRNA_intronic\tWASH7P\t.\t.\t.\trs200503540\t0.0775\t0.1023\t0.1467\t0.0673\t0.0960\t0.0963\t0.1071\t0.0412\t.\t.\t.\t.\t.\t.\t.\t.\t.\t.\t.\t.\t.\t.\t.\t.\t.\t.\t.\t.\t.\t.\t.\t.\t.\t.\t.\t.\t.\t.\t.\t.\t.\t.\t.\t.\t.\t.\t.\t0.5\t100.64\t25\tchr1\t17452\t.\tC\tT\t100.64\t.\tAC=1;AF=0.500;AN=2;BaseQRankSum=-0.039;DP=26;ExcessHet=0.0000;FS=2.175;MLEAC=1;MLEAF=0.500;MQ=35.30;MQRankSum=-0.032;QD=4.03;ReadPosRankSum=-0.128;SOR=0.240\tGT:AD:DP:GQ:PL\t0/1:19,6:25:99:108,0,484\n"
          ]
        }
      ],
      "source": [
        "%%bash\n",
        "head dados/annovar/AMR795-001.hg19_multianno.txt"
      ]
    },
    {
      "cell_type": "code",
      "execution_count": null,
      "metadata": {
        "colab": {
          "base_uri": "https://localhost:8080/"
        },
        "id": "r4X2ryjwussM",
        "outputId": "1c07aba1-9eae-40be-9c25-1187f4424a42"
      },
      "outputs": [
        {
          "output_type": "stream",
          "name": "stdout",
          "text": [
            "chrMT\t10873\t.\tT\tC\t3893.06\t.\tAC=2;AF=1.00;AN=2;DP=172;ExcessHet=0.0000;FS=0.000;MLEAC=2;MLEAF=1.00;MQ=31.39;QD=31.14;SOR=5.404;ANNOVAR_DATE=2020-06-08;Func_refGene=intergenic;Gene_refGene=NONE\\x3bNONE;GeneDetail_refGene=dist\\x3dNONE\\x3bdist\\x3dNONE;ExonicFunc_refGene=.;AAChange_refGene=.;avsnp147=rs2857284;ExAC_ALL=.;ExAC_AFR=.;ExAC_AMR=.;ExAC_EAS=.;ExAC_FIN=.;ExAC_NFE=.;ExAC_OTH=.;ExAC_SAS=.;CLNALLELEID=.;CLNDN=.;CLNDISDB=.;CLNREVSTAT=.;CLNSIG=.;SIFT_score=.;SIFT_pred=.;Polyphen2_HDIV_score=.;Polyphen2_HDIV_pred=.;Polyphen2_HVAR_score=.;Polyphen2_HVAR_pred=.;LRT_score=.;LRT_pred=.;MutationTaster_score=.;MutationTaster_pred=.;MutationAssessor_score=.;MutationAssessor_pred=.;FATHMM_score=.;FATHMM_pred=.;PROVEAN_score=.;PROVEAN_pred=.;VEST3_score=.;CADD_raw=.;CADD_phred=.;DANN_score=.;fathmm-MKL_coding_score=.;fathmm-MKL_coding_pred=.;MetaSVM_score=.;MetaSVM_pred=.;MetaLR_score=.;MetaLR_pred=.;integrated_fitCons_score=.;integrated_confidence_value=.;GERP++_RS=.;phyloP7way_vertebrate=.;phyloP20way_mammalian=.;phastCons7way_vertebrate=.;phastCons20way_mammalian=.;SiPhy_29way_logOdds=.;ALLELE_END\tGT:AD:DP:GQ:PL\t1/1:0,125:125:99:3907,375,0\n",
            "chrMT\t11362\t.\tA\tG\t81.84\t.\tAC=2;AF=1.00;AN=2;DP=3;ExcessHet=0.0000;FS=0.000;MLEAC=1;MLEAF=0.500;MQ=27.00;QD=27.28;SOR=2.833;ANNOVAR_DATE=2020-06-08;Func_refGene=intergenic;Gene_refGene=NONE\\x3bNONE;GeneDetail_refGene=dist\\x3dNONE\\x3bdist\\x3dNONE;ExonicFunc_refGene=.;AAChange_refGene=.;avsnp147=.;ExAC_ALL=.;ExAC_AFR=.;ExAC_AMR=.;ExAC_EAS=.;ExAC_FIN=.;ExAC_NFE=.;ExAC_OTH=.;ExAC_SAS=.;CLNALLELEID=.;CLNDN=.;CLNDISDB=.;CLNREVSTAT=.;CLNSIG=.;SIFT_score=.;SIFT_pred=.;Polyphen2_HDIV_score=.;Polyphen2_HDIV_pred=.;Polyphen2_HVAR_score=.;Polyphen2_HVAR_pred=.;LRT_score=.;LRT_pred=.;MutationTaster_score=.;MutationTaster_pred=.;MutationAssessor_score=.;MutationAssessor_pred=.;FATHMM_score=.;FATHMM_pred=.;PROVEAN_score=.;PROVEAN_pred=.;VEST3_score=.;CADD_raw=.;CADD_phred=.;DANN_score=.;fathmm-MKL_coding_score=.;fathmm-MKL_coding_pred=.;MetaSVM_score=.;MetaSVM_pred=.;MetaLR_score=.;MetaLR_pred=.;integrated_fitCons_score=.;integrated_confidence_value=.;GERP++_RS=.;phyloP7way_vertebrate=.;phyloP20way_mammalian=.;phastCons7way_vertebrate=.;phastCons20way_mammalian=.;SiPhy_29way_logOdds=.;ALLELE_END\tGT:AD:DP:GQ:PL\t1/1:0,3:3:9:95,9,0\n",
            "chrMT\t13958\t.\tG\tC\t240.04\t.\tAC=2;AF=1.00;AN=2;DP=9;ExcessHet=0.0000;FS=0.000;MLEAC=2;MLEAF=1.00;MQ=27.00;QD=30.00;SOR=4.407;ANNOVAR_DATE=2020-06-08;Func_refGene=intergenic;Gene_refGene=NONE\\x3bNONE;GeneDetail_refGene=dist\\x3dNONE\\x3bdist\\x3dNONE;ExonicFunc_refGene=.;AAChange_refGene=.;avsnp147=rs202081448;ExAC_ALL=.;ExAC_AFR=.;ExAC_AMR=.;ExAC_EAS=.;ExAC_FIN=.;ExAC_NFE=.;ExAC_OTH=.;ExAC_SAS=.;CLNALLELEID=680532;CLNDN=Leigh_syndrome;CLNDISDB=MONDO:MONDO:0009723,MedGen:C0023264,OMIM:256000,Orphanet:ORPHA506,SNOMED_CT:29570005;CLNREVSTAT=criteria_provided,_single_submitter;CLNSIG=Benign;SIFT_score=.;SIFT_pred=.;Polyphen2_HDIV_score=.;Polyphen2_HDIV_pred=.;Polyphen2_HVAR_score=.;Polyphen2_HVAR_pred=.;LRT_score=.;LRT_pred=.;MutationTaster_score=.;MutationTaster_pred=.;MutationAssessor_score=.;MutationAssessor_pred=.;FATHMM_score=.;FATHMM_pred=.;PROVEAN_score=.;PROVEAN_pred=.;VEST3_score=.;CADD_raw=.;CADD_phred=.;DANN_score=.;fathmm-MKL_coding_score=.;fathmm-MKL_coding_pred=.;MetaSVM_score=.;MetaSVM_pred=.;MetaLR_score=.;MetaLR_pred=.;integrated_fitCons_score=.;integrated_confidence_value=.;GERP++_RS=.;phyloP7way_vertebrate=.;phyloP20way_mammalian=.;phastCons7way_vertebrate=.;phastCons20way_mammalian=.;SiPhy_29way_logOdds=.;ALLELE_END\tGT:AD:DP:GQ:PL\t1/1:0,8:8:24:254,24,0\n",
            "chrMT\t15110\t.\tG\tA\t996.06\t.\tAC=2;AF=1.00;AN=2;DP=33;ExcessHet=0.0000;FS=0.000;MLEAC=2;MLEAF=1.00;MQ=26.84;QD=31.13;SOR=6.994;ANNOVAR_DATE=2020-06-08;Func_refGene=intergenic;Gene_refGene=NONE\\x3bNONE;GeneDetail_refGene=dist\\x3dNONE\\x3bdist\\x3dNONE;ExonicFunc_refGene=.;AAChange_refGene=.;avsnp147=rs28357685;ExAC_ALL=.;ExAC_AFR=.;ExAC_AMR=.;ExAC_EAS=.;ExAC_FIN=.;ExAC_NFE=.;ExAC_OTH=.;ExAC_SAS=.;CLNALLELEID=680716;CLNDN=Leigh_syndrome;CLNDISDB=MONDO:MONDO:0009723,MedGen:C0023264,OMIM:256000,Orphanet:ORPHA506,SNOMED_CT:29570005;CLNREVSTAT=criteria_provided,_single_submitter;CLNSIG=Benign;SIFT_score=.;SIFT_pred=.;Polyphen2_HDIV_score=.;Polyphen2_HDIV_pred=.;Polyphen2_HVAR_score=.;Polyphen2_HVAR_pred=.;LRT_score=.;LRT_pred=.;MutationTaster_score=.;MutationTaster_pred=.;MutationAssessor_score=.;MutationAssessor_pred=.;FATHMM_score=.;FATHMM_pred=.;PROVEAN_score=.;PROVEAN_pred=.;VEST3_score=.;CADD_raw=.;CADD_phred=.;DANN_score=.;fathmm-MKL_coding_score=.;fathmm-MKL_coding_pred=.;MetaSVM_score=.;MetaSVM_pred=.;MetaLR_score=.;MetaLR_pred=.;integrated_fitCons_score=.;integrated_confidence_value=.;GERP++_RS=.;phyloP7way_vertebrate=.;phyloP20way_mammalian=.;phastCons7way_vertebrate=.;phastCons20way_mammalian=.;SiPhy_29way_logOdds=.;ALLELE_END\tGT:AD:DP:GQ:PL\t1/1:0,32:32:96:1010,96,0\n",
            "chrMT\t15217\t.\tG\tA\t240.04\t.\tAC=2;AF=1.00;AN=2;DP=8;ExcessHet=0.0000;FS=0.000;MLEAC=2;MLEAF=1.00;MQ=27.00;QD=30.00;SOR=4.407;ANNOVAR_DATE=2020-06-08;Func_refGene=intergenic;Gene_refGene=NONE\\x3bNONE;GeneDetail_refGene=dist\\x3dNONE\\x3bdist\\x3dNONE;ExonicFunc_refGene=.;AAChange_refGene=.;avsnp147=rs193302989;ExAC_ALL=.;ExAC_AFR=.;ExAC_AMR=.;ExAC_EAS=.;ExAC_FIN=.;ExAC_NFE=.;ExAC_OTH=.;ExAC_SAS=.;CLNALLELEID=237061;CLNDN=not_provided;CLNDISDB=MedGen:CN517202;CLNREVSTAT=criteria_provided,_single_submitter;CLNSIG=Likely_benign;SIFT_score=.;SIFT_pred=.;Polyphen2_HDIV_score=.;Polyphen2_HDIV_pred=.;Polyphen2_HVAR_score=.;Polyphen2_HVAR_pred=.;LRT_score=.;LRT_pred=.;MutationTaster_score=.;MutationTaster_pred=.;MutationAssessor_score=.;MutationAssessor_pred=.;FATHMM_score=.;FATHMM_pred=.;PROVEAN_score=.;PROVEAN_pred=.;VEST3_score=.;CADD_raw=.;CADD_phred=.;DANN_score=.;fathmm-MKL_coding_score=.;fathmm-MKL_coding_pred=.;MetaSVM_score=.;MetaSVM_pred=.;MetaLR_score=.;MetaLR_pred=.;integrated_fitCons_score=.;integrated_confidence_value=.;GERP++_RS=.;phyloP7way_vertebrate=.;phyloP20way_mammalian=.;phastCons7way_vertebrate=.;phastCons20way_mammalian=.;SiPhy_29way_logOdds=.;ALLELE_END\tGT:AD:DP:GQ:PL\t1/1:0,8:8:24:254,24,0\n",
            "chrMT\t15849\t.\tC\tT\t5101.06\t.\tAC=2;AF=1.00;AN=2;DP=159;ExcessHet=0.0000;FS=0.000;MLEAC=2;MLEAF=1.00;MQ=31.62;QD=32.49;SOR=4.845;ANNOVAR_DATE=2020-06-08;Func_refGene=intergenic;Gene_refGene=NONE\\x3bNONE;GeneDetail_refGene=dist\\x3dNONE\\x3bdist\\x3dNONE;ExonicFunc_refGene=.;AAChange_refGene=.;avsnp147=rs202225494;ExAC_ALL=.;ExAC_AFR=.;ExAC_AMR=.;ExAC_EAS=.;ExAC_FIN=.;ExAC_NFE=.;ExAC_OTH=.;ExAC_SAS=.;CLNALLELEID=680855;CLNDN=Leigh_syndrome;CLNDISDB=MONDO:MONDO:0009723,MedGen:C0023264,OMIM:256000,Orphanet:ORPHA506,SNOMED_CT:29570005;CLNREVSTAT=criteria_provided,_single_submitter;CLNSIG=Benign;SIFT_score=.;SIFT_pred=.;Polyphen2_HDIV_score=.;Polyphen2_HDIV_pred=.;Polyphen2_HVAR_score=.;Polyphen2_HVAR_pred=.;LRT_score=.;LRT_pred=.;MutationTaster_score=.;MutationTaster_pred=.;MutationAssessor_score=.;MutationAssessor_pred=.;FATHMM_score=.;FATHMM_pred=.;PROVEAN_score=.;PROVEAN_pred=.;VEST3_score=.;CADD_raw=.;CADD_phred=.;DANN_score=.;fathmm-MKL_coding_score=.;fathmm-MKL_coding_pred=.;MetaSVM_score=.;MetaSVM_pred=.;MetaLR_score=.;MetaLR_pred=.;integrated_fitCons_score=.;integrated_confidence_value=.;GERP++_RS=.;phyloP7way_vertebrate=.;phyloP20way_mammalian=.;phastCons7way_vertebrate=.;phastCons20way_mammalian=.;SiPhy_29way_logOdds=.;ALLELE_END\tGT:AD:DP:GQ:PL\t1/1:0,157:157:99:5115,472,0\n",
            "chrMT\t16223\t.\tC\tT\t22983.06\t.\tAC=2;AF=1.00;AN=2;DP=711;ExcessHet=0.0000;FS=0.000;MLEAC=2;MLEAF=1.00;MQ=55.90;QD=34.00;SOR=1.206;ANNOVAR_DATE=2020-06-08;Func_refGene=intergenic;Gene_refGene=NONE\\x3bNONE;GeneDetail_refGene=dist\\x3dNONE\\x3bdist\\x3dNONE;ExonicFunc_refGene=.;AAChange_refGene=.;avsnp147=rs2853513;ExAC_ALL=.;ExAC_AFR=.;ExAC_AMR=.;ExAC_EAS=.;ExAC_FIN=.;ExAC_NFE=.;ExAC_OTH=.;ExAC_SAS=.;CLNALLELEID=.;CLNDN=.;CLNDISDB=.;CLNREVSTAT=.;CLNSIG=.;SIFT_score=.;SIFT_pred=.;Polyphen2_HDIV_score=.;Polyphen2_HDIV_pred=.;Polyphen2_HVAR_score=.;Polyphen2_HVAR_pred=.;LRT_score=.;LRT_pred=.;MutationTaster_score=.;MutationTaster_pred=.;MutationAssessor_score=.;MutationAssessor_pred=.;FATHMM_score=.;FATHMM_pred=.;PROVEAN_score=.;PROVEAN_pred=.;VEST3_score=.;CADD_raw=.;CADD_phred=.;DANN_score=.;fathmm-MKL_coding_score=.;fathmm-MKL_coding_pred=.;MetaSVM_score=.;MetaSVM_pred=.;MetaLR_score=.;MetaLR_pred=.;integrated_fitCons_score=.;integrated_confidence_value=.;GERP++_RS=.;phyloP7way_vertebrate=.;phyloP20way_mammalian=.;phastCons7way_vertebrate=.;phastCons20way_mammalian=.;SiPhy_29way_logOdds=.;ALLELE_END\tGT:AD:DP:GQ:PL\t1/1:0,676:676:99:22997,2027,0\n",
            "chrMT\t16278\t.\tC\tT\t21749.06\t.\tAC=2;AF=1.00;AN=2;DP=654;ExcessHet=0.0000;FS=0.000;MLEAC=2;MLEAF=1.00;MQ=44.21;QD=31.55;SOR=0.910;ANNOVAR_DATE=2020-06-08;Func_refGene=intergenic;Gene_refGene=NONE\\x3bNONE;GeneDetail_refGene=dist\\x3dNONE\\x3bdist\\x3dNONE;ExonicFunc_refGene=.;AAChange_refGene=.;avsnp147=rs41458645;ExAC_ALL=.;ExAC_AFR=.;ExAC_AMR=.;ExAC_EAS=.;ExAC_FIN=.;ExAC_NFE=.;ExAC_OTH=.;ExAC_SAS=.;CLNALLELEID=.;CLNDN=.;CLNDISDB=.;CLNREVSTAT=.;CLNSIG=.;SIFT_score=.;SIFT_pred=.;Polyphen2_HDIV_score=.;Polyphen2_HDIV_pred=.;Polyphen2_HVAR_score=.;Polyphen2_HVAR_pred=.;LRT_score=.;LRT_pred=.;MutationTaster_score=.;MutationTaster_pred=.;MutationAssessor_score=.;MutationAssessor_pred=.;FATHMM_score=.;FATHMM_pred=.;PROVEAN_score=.;PROVEAN_pred=.;VEST3_score=.;CADD_raw=.;CADD_phred=.;DANN_score=.;fathmm-MKL_coding_score=.;fathmm-MKL_coding_pred=.;MetaSVM_score=.;MetaSVM_pred=.;MetaLR_score=.;MetaLR_pred=.;integrated_fitCons_score=.;integrated_confidence_value=.;GERP++_RS=.;phyloP7way_vertebrate=.;phyloP20way_mammalian=.;phastCons7way_vertebrate=.;phastCons20way_mammalian=.;SiPhy_29way_logOdds=.;ALLELE_END\tGT:AD:DP:GQ:PL\t1/1:0,619:619:99:21763,1859,0\n",
            "chrMT\t16390\t.\tG\tA\t8352.06\t.\tAC=2;AF=1.00;AN=2;DP=253;ExcessHet=0.0000;FS=0.000;MLEAC=2;MLEAF=1.00;MQ=39.68;QD=34.80;SOR=3.857;ANNOVAR_DATE=2020-06-08;Func_refGene=intergenic;Gene_refGene=NONE\\x3bNONE;GeneDetail_refGene=dist\\x3dNONE\\x3bdist\\x3dNONE;ExonicFunc_refGene=.;AAChange_refGene=.;avsnp147=rs41378955;ExAC_ALL=.;ExAC_AFR=.;ExAC_AMR=.;ExAC_EAS=.;ExAC_FIN=.;ExAC_NFE=.;ExAC_OTH=.;ExAC_SAS=.;CLNALLELEID=.;CLNDN=.;CLNDISDB=.;CLNREVSTAT=.;CLNSIG=.;SIFT_score=.;SIFT_pred=.;Polyphen2_HDIV_score=.;Polyphen2_HDIV_pred=.;Polyphen2_HVAR_score=.;Polyphen2_HVAR_pred=.;LRT_score=.;LRT_pred=.;MutationTaster_score=.;MutationTaster_pred=.;MutationAssessor_score=.;MutationAssessor_pred=.;FATHMM_score=.;FATHMM_pred=.;PROVEAN_score=.;PROVEAN_pred=.;VEST3_score=.;CADD_raw=.;CADD_phred=.;DANN_score=.;fathmm-MKL_coding_score=.;fathmm-MKL_coding_pred=.;MetaSVM_score=.;MetaSVM_pred=.;MetaLR_score=.;MetaLR_pred=.;integrated_fitCons_score=.;integrated_confidence_value=.;GERP++_RS=.;phyloP7way_vertebrate=.;phyloP20way_mammalian=.;phastCons7way_vertebrate=.;phastCons20way_mammalian=.;SiPhy_29way_logOdds=.;ALLELE_END\tGT:AD:DP:GQ:PL\t1/1:0,240:240:99:8366,721,0\n",
            "chrMT\t16519\t.\tT\tC\t171.97\t.\tAC=2;AF=1.00;AN=2;DP=8;ExcessHet=0.0000;FS=0.000;MLEAC=2;MLEAF=1.00;MQ=28.33;QD=28.66;SOR=3.912;ANNOVAR_DATE=2020-06-08;Func_refGene=intergenic;Gene_refGene=NONE\\x3bNONE;GeneDetail_refGene=dist\\x3dNONE\\x3bdist\\x3dNONE;ExonicFunc_refGene=.;AAChange_refGene=.;avsnp147=rs3937033;ExAC_ALL=.;ExAC_AFR=.;ExAC_AMR=.;ExAC_EAS=.;ExAC_FIN=.;ExAC_NFE=.;ExAC_OTH=.;ExAC_SAS=.;CLNALLELEID=.;CLNDN=.;CLNDISDB=.;CLNREVSTAT=.;CLNSIG=.;SIFT_score=.;SIFT_pred=.;Polyphen2_HDIV_score=.;Polyphen2_HDIV_pred=.;Polyphen2_HVAR_score=.;Polyphen2_HVAR_pred=.;LRT_score=.;LRT_pred=.;MutationTaster_score=.;MutationTaster_pred=.;MutationAssessor_score=.;MutationAssessor_pred=.;FATHMM_score=.;FATHMM_pred=.;PROVEAN_score=.;PROVEAN_pred=.;VEST3_score=.;CADD_raw=.;CADD_phred=.;DANN_score=.;fathmm-MKL_coding_score=.;fathmm-MKL_coding_pred=.;MetaSVM_score=.;MetaSVM_pred=.;MetaLR_score=.;MetaLR_pred=.;integrated_fitCons_score=.;integrated_confidence_value=.;GERP++_RS=.;phyloP7way_vertebrate=.;phyloP20way_mammalian=.;phastCons7way_vertebrate=.;phastCons20way_mammalian=.;SiPhy_29way_logOdds=.;ALLELE_END\tGT:AD:DP:GQ:PL\t1/1:0,6:6:18:186,18,0\n"
          ]
        }
      ],
      "source": [
        "%%bash\n",
        "tail dados/annovar/AMR795-001.hg19_multianno.vcf"
      ]
    },
    {
      "cell_type": "code",
      "execution_count": null,
      "metadata": {
        "id": "ajzwJfQ9ofRS"
      },
      "outputs": [],
      "source": [
        "import pandas as pd\n",
        "from matplotlib import pyplot as plt\n",
        "import seaborn as sns\n",
        "import numpy as np"
      ]
    },
    {
      "cell_type": "code",
      "execution_count": null,
      "metadata": {
        "colab": {
          "base_uri": "https://localhost:8080/"
        },
        "id": "stNrZqp2vb4Q",
        "outputId": "036960b9-91ad-409b-80da-97cae16bd7c0"
      },
      "outputs": [
        {
          "name": "stdout",
          "output_type": "stream",
          "text": [
            "CPU times: user 49.6 ms, sys: 10.7 ms, total: 60.3 ms\n",
            "Wall time: 9.97 s\n"
          ]
        }
      ],
      "source": [
        "%%time\n",
        "%%bash\n",
        "# bash = linux\n",
        "# linha de anotacao\n",
        "# Executar o VariantsToTable\n",
        "gatk-4.2.5.0/gatk VariantsToTable \\\n",
        "  -V dados/annovar/AMR795-001.hg19_multianno.vcf \\\n",
        "  -F CHROM -F POS -F REF -F ALT -F QUAL \\\n",
        "  -F AC -F AF -F AN -F DP -F ExcessHet -F FS -F MLEAC \\\n",
        "  -F MLEAF -F MQ -F QD -F SOR \\\n",
        "  -F ANNOVAR_DATE -F Func_refGene -F Gene_refGene -F GeneDetail_refGene -F ExonicFunc_refGene -F AAChange_refGene \\\n",
        "  -F avsnp147 \\\n",
        "  -F ExAC_ALL -F ExAC_AFR -F ExAC_AMR -F ExAC_EAS -F ExAC_FIN -F ExAC_NFE -F ExAC_OTH -F ExAC_SAS \\\n",
        "  -F CLNALLELEID -F CLNDN -F CLNDISDB -F CLNREVSTAT -F CLNSIG \\\n",
        "  -F SIFT_score -F SIFT_pred \\\n",
        "  -F Polyphen2_HDIV_score -F Polyphen2_HDIV_pred -F Polyphen2_HVAR_score -F Polyphen2_HVAR_pred \\\n",
        "  -F LRT_score -F LRT_pred \\\n",
        "  -F MutationTaster_score -F MutationTaster_pred -F MutationAssessor_score -F MutationAssessor_pred \\\n",
        "  -F FATHMM_score -F FATHMM_pred -F PROVEAN_score -F PROVEAN_pred -F VEST3_score \\\n",
        "  -F CADD_raw -F CADD_phred -F DANN_score \\\n",
        "  -F fathmm-MKL_coding_score -F fathmm-MKL_coding_pred \\\n",
        "  -F MetaSVM_score -F MetaSVM_pred -F MetaLR_score -F MetaLR_pred \\\n",
        "  -F integrated_fitCons_score -F integrated_confidence_value \\\n",
        "  -F GERP++_RS -F phyloP7way_vertebrate -F phyloP20way_mammalian \\\n",
        "  -F phastCons7way_vertebrate -F phastCons20way_mammalian \\\n",
        "  -F SiPhy_29way_logOdds \\\n",
        "  -GF GT -GF AD -GF DP -GF GQ -GF PL \\\n",
        "  -O dados/annovar/AMR795-001.hg19_annovar.csv 1>logs/log_VariantsToTable.txt 2>erro_VariantsToTable.txt\n"
      ]
    },
    {
      "cell_type": "code",
      "execution_count": null,
      "metadata": {
        "colab": {
          "base_uri": "https://localhost:8080/"
        },
        "id": "dPrX-MDpzIsf",
        "outputId": "23e36bf0-78d3-4550-a632-bd347dc972cd"
      },
      "outputs": [
        {
          "name": "stdout",
          "output_type": "stream",
          "text": [
            "-rw-r--r-- 1 root root 29M May  4 17:30 dados/annovar/AMR795-001.hg19_annovar.csv\n",
            "96333 dados/annovar/AMR795-001.hg19_annovar.csv\n"
          ]
        }
      ],
      "source": [
        "!ls -lh dados/annovar/AMR795-001.hg19_annovar.csv\n",
        "!wc -l dados/annovar/AMR795-001.hg19_annovar.csv"
      ]
    },
    {
      "cell_type": "code",
      "execution_count": null,
      "metadata": {
        "colab": {
          "base_uri": "https://localhost:8080/",
          "height": 300
        },
        "id": "o53oKWYNojng",
        "outputId": "80741069-fcd5-4be7-efb3-27dc724f13cf"
      },
      "outputs": [
        {
          "data": {
            "text/html": [
              "\n",
              "  <div id=\"df-ca847cf4-f5bd-4869-8bab-f54d89a5c149\">\n",
              "    <div class=\"colab-df-container\">\n",
              "      <div>\n",
              "<style scoped>\n",
              "    .dataframe tbody tr th:only-of-type {\n",
              "        vertical-align: middle;\n",
              "    }\n",
              "\n",
              "    .dataframe tbody tr th {\n",
              "        vertical-align: top;\n",
              "    }\n",
              "\n",
              "    .dataframe thead th {\n",
              "        text-align: right;\n",
              "    }\n",
              "</style>\n",
              "<table border=\"1\" class=\"dataframe\">\n",
              "  <thead>\n",
              "    <tr style=\"text-align: right;\">\n",
              "      <th></th>\n",
              "      <th>CHROM</th>\n",
              "      <th>POS</th>\n",
              "      <th>REF</th>\n",
              "      <th>ALT</th>\n",
              "      <th>QUAL</th>\n",
              "      <th>AC</th>\n",
              "      <th>AF</th>\n",
              "      <th>AN</th>\n",
              "      <th>DP</th>\n",
              "      <th>ExcessHet</th>\n",
              "      <th>...</th>\n",
              "      <th>phyloP7way_vertebrate</th>\n",
              "      <th>phyloP20way_mammalian</th>\n",
              "      <th>phastCons7way_vertebrate</th>\n",
              "      <th>phastCons20way_mammalian</th>\n",
              "      <th>SiPhy_29way_logOdds</th>\n",
              "      <th>itatiana.GT</th>\n",
              "      <th>itatiana.AD</th>\n",
              "      <th>itatiana.DP</th>\n",
              "      <th>itatiana.GQ</th>\n",
              "      <th>itatiana.PL</th>\n",
              "    </tr>\n",
              "  </thead>\n",
              "  <tbody>\n",
              "    <tr>\n",
              "      <th>0</th>\n",
              "      <td>chr1</td>\n",
              "      <td>14653</td>\n",
              "      <td>C</td>\n",
              "      <td>T</td>\n",
              "      <td>72.64</td>\n",
              "      <td>1</td>\n",
              "      <td>0.500</td>\n",
              "      <td>2</td>\n",
              "      <td>22</td>\n",
              "      <td>3.0103</td>\n",
              "      <td>...</td>\n",
              "      <td>.</td>\n",
              "      <td>.</td>\n",
              "      <td>.</td>\n",
              "      <td>.</td>\n",
              "      <td>.</td>\n",
              "      <td>C/T</td>\n",
              "      <td>17,4</td>\n",
              "      <td>21</td>\n",
              "      <td>80</td>\n",
              "      <td>80,0,486</td>\n",
              "    </tr>\n",
              "    <tr>\n",
              "      <th>1</th>\n",
              "      <td>chr1</td>\n",
              "      <td>14843</td>\n",
              "      <td>G</td>\n",
              "      <td>A</td>\n",
              "      <td>51.64</td>\n",
              "      <td>1</td>\n",
              "      <td>0.500</td>\n",
              "      <td>2</td>\n",
              "      <td>22</td>\n",
              "      <td>3.0103</td>\n",
              "      <td>...</td>\n",
              "      <td>.</td>\n",
              "      <td>.</td>\n",
              "      <td>.</td>\n",
              "      <td>.</td>\n",
              "      <td>.</td>\n",
              "      <td>G/A</td>\n",
              "      <td>19,3</td>\n",
              "      <td>22</td>\n",
              "      <td>59</td>\n",
              "      <td>59,0,546</td>\n",
              "    </tr>\n",
              "    <tr>\n",
              "      <th>2</th>\n",
              "      <td>chr1</td>\n",
              "      <td>14907</td>\n",
              "      <td>A</td>\n",
              "      <td>G</td>\n",
              "      <td>82.64</td>\n",
              "      <td>1</td>\n",
              "      <td>0.500</td>\n",
              "      <td>2</td>\n",
              "      <td>23</td>\n",
              "      <td>3.0103</td>\n",
              "      <td>...</td>\n",
              "      <td>.</td>\n",
              "      <td>.</td>\n",
              "      <td>.</td>\n",
              "      <td>.</td>\n",
              "      <td>.</td>\n",
              "      <td>A/G</td>\n",
              "      <td>18,5</td>\n",
              "      <td>23</td>\n",
              "      <td>90</td>\n",
              "      <td>90,0,515</td>\n",
              "    </tr>\n",
              "    <tr>\n",
              "      <th>3</th>\n",
              "      <td>chr1</td>\n",
              "      <td>14930</td>\n",
              "      <td>A</td>\n",
              "      <td>G</td>\n",
              "      <td>44.64</td>\n",
              "      <td>1</td>\n",
              "      <td>0.500</td>\n",
              "      <td>2</td>\n",
              "      <td>27</td>\n",
              "      <td>3.0103</td>\n",
              "      <td>...</td>\n",
              "      <td>.</td>\n",
              "      <td>.</td>\n",
              "      <td>.</td>\n",
              "      <td>.</td>\n",
              "      <td>.</td>\n",
              "      <td>A/G</td>\n",
              "      <td>23,4</td>\n",
              "      <td>27</td>\n",
              "      <td>52</td>\n",
              "      <td>52,0,636</td>\n",
              "    </tr>\n",
              "    <tr>\n",
              "      <th>4</th>\n",
              "      <td>chr1</td>\n",
              "      <td>15820</td>\n",
              "      <td>G</td>\n",
              "      <td>T</td>\n",
              "      <td>340.64</td>\n",
              "      <td>1</td>\n",
              "      <td>0.500</td>\n",
              "      <td>2</td>\n",
              "      <td>19</td>\n",
              "      <td>3.0103</td>\n",
              "      <td>...</td>\n",
              "      <td>.</td>\n",
              "      <td>.</td>\n",
              "      <td>.</td>\n",
              "      <td>.</td>\n",
              "      <td>.</td>\n",
              "      <td>G/T</td>\n",
              "      <td>9,10</td>\n",
              "      <td>19</td>\n",
              "      <td>99</td>\n",
              "      <td>348,0,291</td>\n",
              "    </tr>\n",
              "  </tbody>\n",
              "</table>\n",
              "<p>5 rows × 75 columns</p>\n",
              "</div>\n",
              "      <button class=\"colab-df-convert\" onclick=\"convertToInteractive('df-ca847cf4-f5bd-4869-8bab-f54d89a5c149')\"\n",
              "              title=\"Convert this dataframe to an interactive table.\"\n",
              "              style=\"display:none;\">\n",
              "        \n",
              "  <svg xmlns=\"http://www.w3.org/2000/svg\" height=\"24px\"viewBox=\"0 0 24 24\"\n",
              "       width=\"24px\">\n",
              "    <path d=\"M0 0h24v24H0V0z\" fill=\"none\"/>\n",
              "    <path d=\"M18.56 5.44l.94 2.06.94-2.06 2.06-.94-2.06-.94-.94-2.06-.94 2.06-2.06.94zm-11 1L8.5 8.5l.94-2.06 2.06-.94-2.06-.94L8.5 2.5l-.94 2.06-2.06.94zm10 10l.94 2.06.94-2.06 2.06-.94-2.06-.94-.94-2.06-.94 2.06-2.06.94z\"/><path d=\"M17.41 7.96l-1.37-1.37c-.4-.4-.92-.59-1.43-.59-.52 0-1.04.2-1.43.59L10.3 9.45l-7.72 7.72c-.78.78-.78 2.05 0 2.83L4 21.41c.39.39.9.59 1.41.59.51 0 1.02-.2 1.41-.59l7.78-7.78 2.81-2.81c.8-.78.8-2.07 0-2.86zM5.41 20L4 18.59l7.72-7.72 1.47 1.35L5.41 20z\"/>\n",
              "  </svg>\n",
              "      </button>\n",
              "      \n",
              "  <style>\n",
              "    .colab-df-container {\n",
              "      display:flex;\n",
              "      flex-wrap:wrap;\n",
              "      gap: 12px;\n",
              "    }\n",
              "\n",
              "    .colab-df-convert {\n",
              "      background-color: #E8F0FE;\n",
              "      border: none;\n",
              "      border-radius: 50%;\n",
              "      cursor: pointer;\n",
              "      display: none;\n",
              "      fill: #1967D2;\n",
              "      height: 32px;\n",
              "      padding: 0 0 0 0;\n",
              "      width: 32px;\n",
              "    }\n",
              "\n",
              "    .colab-df-convert:hover {\n",
              "      background-color: #E2EBFA;\n",
              "      box-shadow: 0px 1px 2px rgba(60, 64, 67, 0.3), 0px 1px 3px 1px rgba(60, 64, 67, 0.15);\n",
              "      fill: #174EA6;\n",
              "    }\n",
              "\n",
              "    [theme=dark] .colab-df-convert {\n",
              "      background-color: #3B4455;\n",
              "      fill: #D2E3FC;\n",
              "    }\n",
              "\n",
              "    [theme=dark] .colab-df-convert:hover {\n",
              "      background-color: #434B5C;\n",
              "      box-shadow: 0px 1px 3px 1px rgba(0, 0, 0, 0.15);\n",
              "      filter: drop-shadow(0px 1px 2px rgba(0, 0, 0, 0.3));\n",
              "      fill: #FFFFFF;\n",
              "    }\n",
              "  </style>\n",
              "\n",
              "      <script>\n",
              "        const buttonEl =\n",
              "          document.querySelector('#df-ca847cf4-f5bd-4869-8bab-f54d89a5c149 button.colab-df-convert');\n",
              "        buttonEl.style.display =\n",
              "          google.colab.kernel.accessAllowed ? 'block' : 'none';\n",
              "\n",
              "        async function convertToInteractive(key) {\n",
              "          const element = document.querySelector('#df-ca847cf4-f5bd-4869-8bab-f54d89a5c149');\n",
              "          const dataTable =\n",
              "            await google.colab.kernel.invokeFunction('convertToInteractive',\n",
              "                                                     [key], {});\n",
              "          if (!dataTable) return;\n",
              "\n",
              "          const docLinkHtml = 'Like what you see? Visit the ' +\n",
              "            '<a target=\"_blank\" href=https://colab.research.google.com/notebooks/data_table.ipynb>data table notebook</a>'\n",
              "            + ' to learn more about interactive tables.';\n",
              "          element.innerHTML = '';\n",
              "          dataTable['output_type'] = 'display_data';\n",
              "          await google.colab.output.renderOutput(dataTable, element);\n",
              "          const docLink = document.createElement('div');\n",
              "          docLink.innerHTML = docLinkHtml;\n",
              "          element.appendChild(docLink);\n",
              "        }\n",
              "      </script>\n",
              "    </div>\n",
              "  </div>\n",
              "  "
            ],
            "text/plain": [
              "  CHROM    POS REF ALT    QUAL AC     AF  AN  DP  ExcessHet  ...  \\\n",
              "0  chr1  14653   C   T   72.64  1  0.500   2  22     3.0103  ...   \n",
              "1  chr1  14843   G   A   51.64  1  0.500   2  22     3.0103  ...   \n",
              "2  chr1  14907   A   G   82.64  1  0.500   2  23     3.0103  ...   \n",
              "3  chr1  14930   A   G   44.64  1  0.500   2  27     3.0103  ...   \n",
              "4  chr1  15820   G   T  340.64  1  0.500   2  19     3.0103  ...   \n",
              "\n",
              "   phyloP7way_vertebrate phyloP20way_mammalian phastCons7way_vertebrate  \\\n",
              "0                      .                     .                        .   \n",
              "1                      .                     .                        .   \n",
              "2                      .                     .                        .   \n",
              "3                      .                     .                        .   \n",
              "4                      .                     .                        .   \n",
              "\n",
              "   phastCons20way_mammalian  SiPhy_29way_logOdds  itatiana.GT itatiana.AD  \\\n",
              "0                         .                    .          C/T        17,4   \n",
              "1                         .                    .          G/A        19,3   \n",
              "2                         .                    .          A/G        18,5   \n",
              "3                         .                    .          A/G        23,4   \n",
              "4                         .                    .          G/T        9,10   \n",
              "\n",
              "  itatiana.DP itatiana.GQ itatiana.PL  \n",
              "0          21          80    80,0,486  \n",
              "1          22          59    59,0,546  \n",
              "2          23          90    90,0,515  \n",
              "3          27          52    52,0,636  \n",
              "4          19          99   348,0,291  \n",
              "\n",
              "[5 rows x 75 columns]"
            ]
          },
          "execution_count": 105,
          "metadata": {},
          "output_type": "execute_result"
        }
      ],
      "source": [
        "df = pd.read_csv(\"dados/annovar/AMR795-001.hg19_annovar.csv\", sep=\"\\t\")\n",
        "df.head()"
      ]
    },
    {
      "cell_type": "code",
      "execution_count": null,
      "metadata": {
        "colab": {
          "base_uri": "https://localhost:8080/"
        },
        "id": "0dKtqRWMRMcc",
        "outputId": "b68256aa-e00c-4a7c-fea2-330d12bc6233"
      },
      "outputs": [
        {
          "data": {
            "text/plain": [
              "intronic                    55678\n",
              "exonic                      25182\n",
              "intergenic                   5370\n",
              "UTR3                         3173\n",
              "ncRNA_intronic               2862\n",
              "UTR5                         1428\n",
              "ncRNA_exonic                 1384\n",
              "upstream                      623\n",
              "downstream                    337\n",
              "splicing                      207\n",
              "exonic\\x3bsplicing             36\n",
              "upstream\\x3bdownstream         31\n",
              "ncRNA_splicing                 13\n",
              "UTR5\\x3bUTR3                    5\n",
              "ncRNA_exonic\\x3bsplicing        3\n",
              "Name: Func_refGene, dtype: int64"
            ]
          },
          "execution_count": 106,
          "metadata": {},
          "output_type": "execute_result"
        }
      ],
      "source": [
        "df[\"Func_refGene\"].value_counts()"
      ]
    },
    {
      "cell_type": "code",
      "execution_count": null,
      "metadata": {
        "colab": {
          "base_uri": "https://localhost:8080/"
        },
        "id": "7I1odMWDpX25",
        "outputId": "8a5778a4-f9b3-4e6e-96d8-965ec7d6658e"
      },
      "outputs": [
        {
          "data": {
            "text/plain": [
              "intronic                    55678\n",
              "exonic                      25182\n",
              "intergenic                   5370\n",
              "UTR3                         3173\n",
              "ncRNA_intronic               2862\n",
              "UTR5                         1428\n",
              "ncRNA_exonic                 1384\n",
              "upstream                      623\n",
              "downstream                    337\n",
              "splicing                      207\n",
              "exonic\\x3bsplicing             36\n",
              "upstream\\x3bdownstream         31\n",
              "ncRNA_splicing                 13\n",
              "UTR5\\x3bUTR3                    5\n",
              "ncRNA_exonic\\x3bsplicing        3\n",
              "Name: Func_refGene, dtype: int64"
            ]
          },
          "execution_count": 107,
          "metadata": {},
          "output_type": "execute_result"
        }
      ],
      "source": [
        "df[\"Func_refGene\"].value_counts()"
      ]
    },
    {
      "cell_type": "code",
      "execution_count": null,
      "metadata": {
        "colab": {
          "base_uri": "https://localhost:8080/"
        },
        "id": "09Q7Wp5NspWu",
        "outputId": "e177d67d-f6a5-4107-e10e-9ed6393061e1"
      },
      "outputs": [
        {
          "data": {
            "text/plain": [
              "NONE\\x3bNONE    491\n",
              "MUC3A           179\n",
              "PRIM2           135\n",
              "MUC19           129\n",
              "NBPF1           115\n",
              "Name: Gene_refGene, dtype: int64"
            ]
          },
          "execution_count": 108,
          "metadata": {},
          "output_type": "execute_result"
        }
      ],
      "source": [
        "df[\"Gene_refGene\"].value_counts().head()"
      ]
    },
    {
      "cell_type": "code",
      "execution_count": null,
      "metadata": {
        "colab": {
          "base_uri": "https://localhost:8080/"
        },
        "id": "6d_GBd2e0ZBF",
        "outputId": "1f999e0c-c1d8-4f50-cfb1-be27dc783d52"
      },
      "outputs": [
        {
          "data": {
            "text/plain": [
              "count    96332.000000\n",
              "mean       222.532312\n",
              "std        267.947907\n",
              "min         30.100000\n",
              "25%         72.320000\n",
              "50%        141.640000\n",
              "75%        278.640000\n",
              "max      16565.640000\n",
              "Name: QUAL, dtype: float64"
            ]
          },
          "execution_count": 109,
          "metadata": {},
          "output_type": "execute_result"
        }
      ],
      "source": [
        "df[\"QUAL\"].describe()"
      ]
    },
    {
      "cell_type": "code",
      "execution_count": null,
      "metadata": {
        "colab": {
          "base_uri": "https://localhost:8080/"
        },
        "id": "Do1SAm0h1Cki",
        "outputId": "0ca3c8d4-a075-4602-8b80-a182d75d6e91"
      },
      "outputs": [
        {
          "data": {
            "text/plain": [
              "count    96332.000000\n",
              "mean        12.228232\n",
              "std         12.973121\n",
              "min          1.000000\n",
              "25%          5.000000\n",
              "50%          9.000000\n",
              "75%         16.000000\n",
              "max        484.000000\n",
              "Name: DP, dtype: float64"
            ]
          },
          "execution_count": 110,
          "metadata": {},
          "output_type": "execute_result"
        }
      ],
      "source": [
        "df[\"DP\"].describe()"
      ]
    },
    {
      "cell_type": "code",
      "execution_count": null,
      "metadata": {
        "colab": {
          "base_uri": "https://localhost:8080/",
          "height": 300
        },
        "id": "--zTiAEz1lv5",
        "outputId": "b2eeebb8-9b57-4bbf-e679-0885be473f87"
      },
      "outputs": [
        {
          "data": {
            "text/html": [
              "\n",
              "  <div id=\"df-0df0372d-9104-4aeb-9b74-f9ebc47cacdd\">\n",
              "    <div class=\"colab-df-container\">\n",
              "      <div>\n",
              "<style scoped>\n",
              "    .dataframe tbody tr th:only-of-type {\n",
              "        vertical-align: middle;\n",
              "    }\n",
              "\n",
              "    .dataframe tbody tr th {\n",
              "        vertical-align: top;\n",
              "    }\n",
              "\n",
              "    .dataframe thead th {\n",
              "        text-align: right;\n",
              "    }\n",
              "</style>\n",
              "<table border=\"1\" class=\"dataframe\">\n",
              "  <thead>\n",
              "    <tr style=\"text-align: right;\">\n",
              "      <th></th>\n",
              "      <th>DP</th>\n",
              "      <th>QUAL</th>\n",
              "      <th>itatiana.GQ</th>\n",
              "    </tr>\n",
              "  </thead>\n",
              "  <tbody>\n",
              "    <tr>\n",
              "      <th>count</th>\n",
              "      <td>96332.000000</td>\n",
              "      <td>96332.000000</td>\n",
              "      <td>96332.000000</td>\n",
              "    </tr>\n",
              "    <tr>\n",
              "      <th>mean</th>\n",
              "      <td>12.228232</td>\n",
              "      <td>222.532312</td>\n",
              "      <td>56.176317</td>\n",
              "    </tr>\n",
              "    <tr>\n",
              "      <th>std</th>\n",
              "      <td>12.973121</td>\n",
              "      <td>267.947907</td>\n",
              "      <td>35.949071</td>\n",
              "    </tr>\n",
              "    <tr>\n",
              "      <th>min</th>\n",
              "      <td>1.000000</td>\n",
              "      <td>30.100000</td>\n",
              "      <td>0.000000</td>\n",
              "    </tr>\n",
              "    <tr>\n",
              "      <th>25%</th>\n",
              "      <td>5.000000</td>\n",
              "      <td>72.320000</td>\n",
              "      <td>21.000000</td>\n",
              "    </tr>\n",
              "    <tr>\n",
              "      <th>50%</th>\n",
              "      <td>9.000000</td>\n",
              "      <td>141.640000</td>\n",
              "      <td>57.000000</td>\n",
              "    </tr>\n",
              "    <tr>\n",
              "      <th>75%</th>\n",
              "      <td>16.000000</td>\n",
              "      <td>278.640000</td>\n",
              "      <td>99.000000</td>\n",
              "    </tr>\n",
              "    <tr>\n",
              "      <th>max</th>\n",
              "      <td>484.000000</td>\n",
              "      <td>16565.640000</td>\n",
              "      <td>99.000000</td>\n",
              "    </tr>\n",
              "  </tbody>\n",
              "</table>\n",
              "</div>\n",
              "      <button class=\"colab-df-convert\" onclick=\"convertToInteractive('df-0df0372d-9104-4aeb-9b74-f9ebc47cacdd')\"\n",
              "              title=\"Convert this dataframe to an interactive table.\"\n",
              "              style=\"display:none;\">\n",
              "        \n",
              "  <svg xmlns=\"http://www.w3.org/2000/svg\" height=\"24px\"viewBox=\"0 0 24 24\"\n",
              "       width=\"24px\">\n",
              "    <path d=\"M0 0h24v24H0V0z\" fill=\"none\"/>\n",
              "    <path d=\"M18.56 5.44l.94 2.06.94-2.06 2.06-.94-2.06-.94-.94-2.06-.94 2.06-2.06.94zm-11 1L8.5 8.5l.94-2.06 2.06-.94-2.06-.94L8.5 2.5l-.94 2.06-2.06.94zm10 10l.94 2.06.94-2.06 2.06-.94-2.06-.94-.94-2.06-.94 2.06-2.06.94z\"/><path d=\"M17.41 7.96l-1.37-1.37c-.4-.4-.92-.59-1.43-.59-.52 0-1.04.2-1.43.59L10.3 9.45l-7.72 7.72c-.78.78-.78 2.05 0 2.83L4 21.41c.39.39.9.59 1.41.59.51 0 1.02-.2 1.41-.59l7.78-7.78 2.81-2.81c.8-.78.8-2.07 0-2.86zM5.41 20L4 18.59l7.72-7.72 1.47 1.35L5.41 20z\"/>\n",
              "  </svg>\n",
              "      </button>\n",
              "      \n",
              "  <style>\n",
              "    .colab-df-container {\n",
              "      display:flex;\n",
              "      flex-wrap:wrap;\n",
              "      gap: 12px;\n",
              "    }\n",
              "\n",
              "    .colab-df-convert {\n",
              "      background-color: #E8F0FE;\n",
              "      border: none;\n",
              "      border-radius: 50%;\n",
              "      cursor: pointer;\n",
              "      display: none;\n",
              "      fill: #1967D2;\n",
              "      height: 32px;\n",
              "      padding: 0 0 0 0;\n",
              "      width: 32px;\n",
              "    }\n",
              "\n",
              "    .colab-df-convert:hover {\n",
              "      background-color: #E2EBFA;\n",
              "      box-shadow: 0px 1px 2px rgba(60, 64, 67, 0.3), 0px 1px 3px 1px rgba(60, 64, 67, 0.15);\n",
              "      fill: #174EA6;\n",
              "    }\n",
              "\n",
              "    [theme=dark] .colab-df-convert {\n",
              "      background-color: #3B4455;\n",
              "      fill: #D2E3FC;\n",
              "    }\n",
              "\n",
              "    [theme=dark] .colab-df-convert:hover {\n",
              "      background-color: #434B5C;\n",
              "      box-shadow: 0px 1px 3px 1px rgba(0, 0, 0, 0.15);\n",
              "      filter: drop-shadow(0px 1px 2px rgba(0, 0, 0, 0.3));\n",
              "      fill: #FFFFFF;\n",
              "    }\n",
              "  </style>\n",
              "\n",
              "      <script>\n",
              "        const buttonEl =\n",
              "          document.querySelector('#df-0df0372d-9104-4aeb-9b74-f9ebc47cacdd button.colab-df-convert');\n",
              "        buttonEl.style.display =\n",
              "          google.colab.kernel.accessAllowed ? 'block' : 'none';\n",
              "\n",
              "        async function convertToInteractive(key) {\n",
              "          const element = document.querySelector('#df-0df0372d-9104-4aeb-9b74-f9ebc47cacdd');\n",
              "          const dataTable =\n",
              "            await google.colab.kernel.invokeFunction('convertToInteractive',\n",
              "                                                     [key], {});\n",
              "          if (!dataTable) return;\n",
              "\n",
              "          const docLinkHtml = 'Like what you see? Visit the ' +\n",
              "            '<a target=\"_blank\" href=https://colab.research.google.com/notebooks/data_table.ipynb>data table notebook</a>'\n",
              "            + ' to learn more about interactive tables.';\n",
              "          element.innerHTML = '';\n",
              "          dataTable['output_type'] = 'display_data';\n",
              "          await google.colab.output.renderOutput(dataTable, element);\n",
              "          const docLink = document.createElement('div');\n",
              "          docLink.innerHTML = docLinkHtml;\n",
              "          element.appendChild(docLink);\n",
              "        }\n",
              "      </script>\n",
              "    </div>\n",
              "  </div>\n",
              "  "
            ],
            "text/plain": [
              "                 DP          QUAL   itatiana.GQ\n",
              "count  96332.000000  96332.000000  96332.000000\n",
              "mean      12.228232    222.532312     56.176317\n",
              "std       12.973121    267.947907     35.949071\n",
              "min        1.000000     30.100000      0.000000\n",
              "25%        5.000000     72.320000     21.000000\n",
              "50%        9.000000    141.640000     57.000000\n",
              "75%       16.000000    278.640000     99.000000\n",
              "max      484.000000  16565.640000     99.000000"
            ]
          },
          "execution_count": 111,
          "metadata": {},
          "output_type": "execute_result"
        }
      ],
      "source": [
        "df[[\"DP\", \"QUAL\", \"itatiana.GQ\"]].describe()"
      ]
    },
    {
      "cell_type": "code",
      "execution_count": null,
      "metadata": {
        "colab": {
          "base_uri": "https://localhost:8080/"
        },
        "id": "73NfB0UrFPut",
        "outputId": "0bff1cf5-9eb0-4234-e3a6-54df079da741"
      },
      "outputs": [
        {
          "data": {
            "text/plain": [
              "0.0       49655\n",
              "1           174\n",
              "1.0000      172\n",
              "0.0002      132\n",
              "0.0005      108\n",
              "          ...  \n",
              "0.8250        1\n",
              "0.8016        1\n",
              "0.4244        1\n",
              "0.6574        1\n",
              "0.1654        1\n",
              "Name: ExAC_ALL, Length: 10140, dtype: int64"
            ]
          },
          "execution_count": 112,
          "metadata": {},
          "output_type": "execute_result"
        }
      ],
      "source": [
        "#EXTRA => Remover os \".\" do campo de frequencia do ExAC\n",
        "df1=df\n",
        "df1['ExAC_ALL'].replace('.','0.0',inplace=True)\n",
        "df1['ExAC_ALL'].value_counts()\n",
        "\n"
      ]
    },
    {
      "cell_type": "code",
      "execution_count": null,
      "metadata": {
        "colab": {
          "base_uri": "https://localhost:8080/"
        },
        "id": "G72lvQeAufdl",
        "outputId": "0287307c-ffd9-4007-a7bb-1fd648fc4f8e"
      },
      "outputs": [
        {
          "name": "stdout",
          "output_type": "stream",
          "text": [
            "#Chr\tStart\tEnd\tRef\tAlt\tExAC_ALL\tExAC_AFR\tExAC_AMR\tExAC_EAS\tExAC_FIN\tExAC_NFE\tExAC_OTH\tExAC_SAS\n",
            "1\t13372\t13372\tG\tC\t0.0002\t0\t0\t0\t0\t0\t0\t0.0004\n",
            "1\t13380\t13380\tC\tG\t0.0033\t0.0381\t0.0096\t0\t0\t0\t0\t0\n",
            "1\t13382\t13382\tC\tG\t0.0002\t0\t0\t0\t0\t0\t0\t0.0003\n",
            "1\t13402\t13402\tG\tC\t0\t0\t0\t0\t.\t0\t0\t0\n",
            "1\t13404\t13404\tG\tA\t0\t0\t0\t0\t.\t0\t0\t0\n",
            "1\t13404\t13404\tG\tT\t0.0007\t0\t0\t0\t.\t0\t0\t0.0012\n",
            "1\t13417\t13417\tC\tCGAGA\t0.1743\t0.0333\t0.2\t0.0758\t0\t0.2\t0.0714\t0.2052\n",
            "1\t13417\t13417\t-\tGAGA\t0.1743\t0.0333\t0.2\t0.0758\t0\t0.2\t0.0714\t0.2052\n",
            "1\t13418\t13418\tG\tA\t0\t0\t0\t0\t0\t0\t0\t0\n"
          ]
        }
      ],
      "source": [
        "%%bash\n",
        "head /content/annovar/humandb/hg19_exac03.txt"
      ]
    },
    {
      "cell_type": "code",
      "execution_count": null,
      "metadata": {
        "colab": {
          "base_uri": "https://localhost:8080/",
          "height": 426
        },
        "id": "DlkKAlw62rAh",
        "outputId": "efcfc319-88d2-45ca-b61f-7ba9265b31d6"
      },
      "outputs": [
        {
          "data": {
            "text/html": [
              "\n",
              "  <div id=\"df-740298cf-5e4d-47ef-b552-b9250f5963be\">\n",
              "    <div class=\"colab-df-container\">\n",
              "      <div>\n",
              "<style scoped>\n",
              "    .dataframe tbody tr th:only-of-type {\n",
              "        vertical-align: middle;\n",
              "    }\n",
              "\n",
              "    .dataframe tbody tr th {\n",
              "        vertical-align: top;\n",
              "    }\n",
              "\n",
              "    .dataframe thead th {\n",
              "        text-align: right;\n",
              "    }\n",
              "</style>\n",
              "<table border=\"1\" class=\"dataframe\">\n",
              "  <thead>\n",
              "    <tr style=\"text-align: right;\">\n",
              "      <th></th>\n",
              "      <th>Func_refGene</th>\n",
              "    </tr>\n",
              "    <tr>\n",
              "      <th>ExonicFunc_refGene</th>\n",
              "      <th></th>\n",
              "    </tr>\n",
              "  </thead>\n",
              "  <tbody>\n",
              "    <tr>\n",
              "      <th>.</th>\n",
              "      <td>71115</td>\n",
              "    </tr>\n",
              "    <tr>\n",
              "      <th>frameshift_deletion</th>\n",
              "      <td>154</td>\n",
              "    </tr>\n",
              "    <tr>\n",
              "      <th>frameshift_insertion</th>\n",
              "      <td>91</td>\n",
              "    </tr>\n",
              "    <tr>\n",
              "      <th>nonframeshift_deletion</th>\n",
              "      <td>173</td>\n",
              "    </tr>\n",
              "    <tr>\n",
              "      <th>nonframeshift_insertion</th>\n",
              "      <td>118</td>\n",
              "    </tr>\n",
              "    <tr>\n",
              "      <th>nonsynonymous_SNV</th>\n",
              "      <td>11945</td>\n",
              "    </tr>\n",
              "    <tr>\n",
              "      <th>startloss</th>\n",
              "      <td>24</td>\n",
              "    </tr>\n",
              "    <tr>\n",
              "      <th>stopgain</th>\n",
              "      <td>288</td>\n",
              "    </tr>\n",
              "    <tr>\n",
              "      <th>stoploss</th>\n",
              "      <td>19</td>\n",
              "    </tr>\n",
              "    <tr>\n",
              "      <th>synonymous_SNV</th>\n",
              "      <td>11880</td>\n",
              "    </tr>\n",
              "    <tr>\n",
              "      <th>unknown</th>\n",
              "      <td>525</td>\n",
              "    </tr>\n",
              "  </tbody>\n",
              "</table>\n",
              "</div>\n",
              "      <button class=\"colab-df-convert\" onclick=\"convertToInteractive('df-740298cf-5e4d-47ef-b552-b9250f5963be')\"\n",
              "              title=\"Convert this dataframe to an interactive table.\"\n",
              "              style=\"display:none;\">\n",
              "        \n",
              "  <svg xmlns=\"http://www.w3.org/2000/svg\" height=\"24px\"viewBox=\"0 0 24 24\"\n",
              "       width=\"24px\">\n",
              "    <path d=\"M0 0h24v24H0V0z\" fill=\"none\"/>\n",
              "    <path d=\"M18.56 5.44l.94 2.06.94-2.06 2.06-.94-2.06-.94-.94-2.06-.94 2.06-2.06.94zm-11 1L8.5 8.5l.94-2.06 2.06-.94-2.06-.94L8.5 2.5l-.94 2.06-2.06.94zm10 10l.94 2.06.94-2.06 2.06-.94-2.06-.94-.94-2.06-.94 2.06-2.06.94z\"/><path d=\"M17.41 7.96l-1.37-1.37c-.4-.4-.92-.59-1.43-.59-.52 0-1.04.2-1.43.59L10.3 9.45l-7.72 7.72c-.78.78-.78 2.05 0 2.83L4 21.41c.39.39.9.59 1.41.59.51 0 1.02-.2 1.41-.59l7.78-7.78 2.81-2.81c.8-.78.8-2.07 0-2.86zM5.41 20L4 18.59l7.72-7.72 1.47 1.35L5.41 20z\"/>\n",
              "  </svg>\n",
              "      </button>\n",
              "      \n",
              "  <style>\n",
              "    .colab-df-container {\n",
              "      display:flex;\n",
              "      flex-wrap:wrap;\n",
              "      gap: 12px;\n",
              "    }\n",
              "\n",
              "    .colab-df-convert {\n",
              "      background-color: #E8F0FE;\n",
              "      border: none;\n",
              "      border-radius: 50%;\n",
              "      cursor: pointer;\n",
              "      display: none;\n",
              "      fill: #1967D2;\n",
              "      height: 32px;\n",
              "      padding: 0 0 0 0;\n",
              "      width: 32px;\n",
              "    }\n",
              "\n",
              "    .colab-df-convert:hover {\n",
              "      background-color: #E2EBFA;\n",
              "      box-shadow: 0px 1px 2px rgba(60, 64, 67, 0.3), 0px 1px 3px 1px rgba(60, 64, 67, 0.15);\n",
              "      fill: #174EA6;\n",
              "    }\n",
              "\n",
              "    [theme=dark] .colab-df-convert {\n",
              "      background-color: #3B4455;\n",
              "      fill: #D2E3FC;\n",
              "    }\n",
              "\n",
              "    [theme=dark] .colab-df-convert:hover {\n",
              "      background-color: #434B5C;\n",
              "      box-shadow: 0px 1px 3px 1px rgba(0, 0, 0, 0.15);\n",
              "      filter: drop-shadow(0px 1px 2px rgba(0, 0, 0, 0.3));\n",
              "      fill: #FFFFFF;\n",
              "    }\n",
              "  </style>\n",
              "\n",
              "      <script>\n",
              "        const buttonEl =\n",
              "          document.querySelector('#df-740298cf-5e4d-47ef-b552-b9250f5963be button.colab-df-convert');\n",
              "        buttonEl.style.display =\n",
              "          google.colab.kernel.accessAllowed ? 'block' : 'none';\n",
              "\n",
              "        async function convertToInteractive(key) {\n",
              "          const element = document.querySelector('#df-740298cf-5e4d-47ef-b552-b9250f5963be');\n",
              "          const dataTable =\n",
              "            await google.colab.kernel.invokeFunction('convertToInteractive',\n",
              "                                                     [key], {});\n",
              "          if (!dataTable) return;\n",
              "\n",
              "          const docLinkHtml = 'Like what you see? Visit the ' +\n",
              "            '<a target=\"_blank\" href=https://colab.research.google.com/notebooks/data_table.ipynb>data table notebook</a>'\n",
              "            + ' to learn more about interactive tables.';\n",
              "          element.innerHTML = '';\n",
              "          dataTable['output_type'] = 'display_data';\n",
              "          await google.colab.output.renderOutput(dataTable, element);\n",
              "          const docLink = document.createElement('div');\n",
              "          docLink.innerHTML = docLinkHtml;\n",
              "          element.appendChild(docLink);\n",
              "        }\n",
              "      </script>\n",
              "    </div>\n",
              "  </div>\n",
              "  "
            ],
            "text/plain": [
              "                         Func_refGene\n",
              "ExonicFunc_refGene                   \n",
              ".                               71115\n",
              "frameshift_deletion               154\n",
              "frameshift_insertion               91\n",
              "nonframeshift_deletion            173\n",
              "nonframeshift_insertion           118\n",
              "nonsynonymous_SNV               11945\n",
              "startloss                          24\n",
              "stopgain                          288\n",
              "stoploss                           19\n",
              "synonymous_SNV                  11880\n",
              "unknown                           525"
            ]
          },
          "execution_count": 114,
          "metadata": {},
          "output_type": "execute_result"
        }
      ],
      "source": [
        "df[[\"Func_refGene\", \"ExonicFunc_refGene\"]].groupby(\"ExonicFunc_refGene\").count()"
      ]
    },
    {
      "cell_type": "code",
      "execution_count": null,
      "metadata": {
        "id": "Tf5w3KVk4nfi"
      },
      "outputs": [],
      "source": [
        "df_exonic = df[df[\"Func_refGene\"] == \"exonic\"]"
      ]
    },
    {
      "cell_type": "code",
      "execution_count": null,
      "metadata": {
        "colab": {
          "base_uri": "https://localhost:8080/",
          "height": 300
        },
        "id": "uza7RKZU4-HL",
        "outputId": "1d6a9150-76cb-4a03-b041-292dfad81bf1"
      },
      "outputs": [
        {
          "data": {
            "text/html": [
              "\n",
              "  <div id=\"df-92d42a1a-61b2-4831-9c30-fc06c103234b\">\n",
              "    <div class=\"colab-df-container\">\n",
              "      <div>\n",
              "<style scoped>\n",
              "    .dataframe tbody tr th:only-of-type {\n",
              "        vertical-align: middle;\n",
              "    }\n",
              "\n",
              "    .dataframe tbody tr th {\n",
              "        vertical-align: top;\n",
              "    }\n",
              "\n",
              "    .dataframe thead th {\n",
              "        text-align: right;\n",
              "    }\n",
              "</style>\n",
              "<table border=\"1\" class=\"dataframe\">\n",
              "  <thead>\n",
              "    <tr style=\"text-align: right;\">\n",
              "      <th></th>\n",
              "      <th>CHROM</th>\n",
              "      <th>POS</th>\n",
              "      <th>REF</th>\n",
              "      <th>ALT</th>\n",
              "      <th>QUAL</th>\n",
              "      <th>AC</th>\n",
              "      <th>AF</th>\n",
              "      <th>AN</th>\n",
              "      <th>DP</th>\n",
              "      <th>ExcessHet</th>\n",
              "      <th>...</th>\n",
              "      <th>phyloP7way_vertebrate</th>\n",
              "      <th>phyloP20way_mammalian</th>\n",
              "      <th>phastCons7way_vertebrate</th>\n",
              "      <th>phastCons20way_mammalian</th>\n",
              "      <th>SiPhy_29way_logOdds</th>\n",
              "      <th>itatiana.GT</th>\n",
              "      <th>itatiana.AD</th>\n",
              "      <th>itatiana.DP</th>\n",
              "      <th>itatiana.GQ</th>\n",
              "      <th>itatiana.PL</th>\n",
              "    </tr>\n",
              "  </thead>\n",
              "  <tbody>\n",
              "    <tr>\n",
              "      <th>5</th>\n",
              "      <td>chr1</td>\n",
              "      <td>69270</td>\n",
              "      <td>A</td>\n",
              "      <td>G</td>\n",
              "      <td>223.64</td>\n",
              "      <td>1</td>\n",
              "      <td>0.500</td>\n",
              "      <td>2</td>\n",
              "      <td>23</td>\n",
              "      <td>3.0103</td>\n",
              "      <td>...</td>\n",
              "      <td>.</td>\n",
              "      <td>.</td>\n",
              "      <td>.</td>\n",
              "      <td>.</td>\n",
              "      <td>.</td>\n",
              "      <td>A/G</td>\n",
              "      <td>12,10</td>\n",
              "      <td>22</td>\n",
              "      <td>99</td>\n",
              "      <td>231,0,303</td>\n",
              "    </tr>\n",
              "    <tr>\n",
              "      <th>6</th>\n",
              "      <td>chr1</td>\n",
              "      <td>69511</td>\n",
              "      <td>A</td>\n",
              "      <td>G</td>\n",
              "      <td>716.64</td>\n",
              "      <td>1</td>\n",
              "      <td>0.500</td>\n",
              "      <td>2</td>\n",
              "      <td>43</td>\n",
              "      <td>3.0103</td>\n",
              "      <td>...</td>\n",
              "      <td>-0.016</td>\n",
              "      <td>-0.132</td>\n",
              "      <td>0.055</td>\n",
              "      <td>0.765</td>\n",
              "      <td>4.198</td>\n",
              "      <td>A/G</td>\n",
              "      <td>18,25</td>\n",
              "      <td>43</td>\n",
              "      <td>99</td>\n",
              "      <td>724,0,525</td>\n",
              "    </tr>\n",
              "    <tr>\n",
              "      <th>17</th>\n",
              "      <td>chr1</td>\n",
              "      <td>865694</td>\n",
              "      <td>C</td>\n",
              "      <td>T</td>\n",
              "      <td>312.64</td>\n",
              "      <td>1</td>\n",
              "      <td>0.500</td>\n",
              "      <td>2</td>\n",
              "      <td>22</td>\n",
              "      <td>3.0103</td>\n",
              "      <td>...</td>\n",
              "      <td>0.823</td>\n",
              "      <td>0.787</td>\n",
              "      <td>0.039</td>\n",
              "      <td>0.002</td>\n",
              "      <td>17.060</td>\n",
              "      <td>C/T</td>\n",
              "      <td>11,10</td>\n",
              "      <td>21</td>\n",
              "      <td>99</td>\n",
              "      <td>320,0,362</td>\n",
              "    </tr>\n",
              "    <tr>\n",
              "      <th>19</th>\n",
              "      <td>chr1</td>\n",
              "      <td>871215</td>\n",
              "      <td>C</td>\n",
              "      <td>G</td>\n",
              "      <td>73.64</td>\n",
              "      <td>1</td>\n",
              "      <td>0.500</td>\n",
              "      <td>2</td>\n",
              "      <td>7</td>\n",
              "      <td>3.0103</td>\n",
              "      <td>...</td>\n",
              "      <td>.</td>\n",
              "      <td>.</td>\n",
              "      <td>.</td>\n",
              "      <td>.</td>\n",
              "      <td>.</td>\n",
              "      <td>C/G</td>\n",
              "      <td>2,4</td>\n",
              "      <td>6</td>\n",
              "      <td>31</td>\n",
              "      <td>81,0,31</td>\n",
              "    </tr>\n",
              "    <tr>\n",
              "      <th>20</th>\n",
              "      <td>chr1</td>\n",
              "      <td>877831</td>\n",
              "      <td>T</td>\n",
              "      <td>C</td>\n",
              "      <td>37.32</td>\n",
              "      <td>2</td>\n",
              "      <td>1.00</td>\n",
              "      <td>2</td>\n",
              "      <td>2</td>\n",
              "      <td>3.0103</td>\n",
              "      <td>...</td>\n",
              "      <td>-0.448</td>\n",
              "      <td>-0.090</td>\n",
              "      <td>0.013</td>\n",
              "      <td>0.866</td>\n",
              "      <td>7.519</td>\n",
              "      <td>C/C</td>\n",
              "      <td>0,2</td>\n",
              "      <td>2</td>\n",
              "      <td>6</td>\n",
              "      <td>49,6,0</td>\n",
              "    </tr>\n",
              "  </tbody>\n",
              "</table>\n",
              "<p>5 rows × 75 columns</p>\n",
              "</div>\n",
              "      <button class=\"colab-df-convert\" onclick=\"convertToInteractive('df-92d42a1a-61b2-4831-9c30-fc06c103234b')\"\n",
              "              title=\"Convert this dataframe to an interactive table.\"\n",
              "              style=\"display:none;\">\n",
              "        \n",
              "  <svg xmlns=\"http://www.w3.org/2000/svg\" height=\"24px\"viewBox=\"0 0 24 24\"\n",
              "       width=\"24px\">\n",
              "    <path d=\"M0 0h24v24H0V0z\" fill=\"none\"/>\n",
              "    <path d=\"M18.56 5.44l.94 2.06.94-2.06 2.06-.94-2.06-.94-.94-2.06-.94 2.06-2.06.94zm-11 1L8.5 8.5l.94-2.06 2.06-.94-2.06-.94L8.5 2.5l-.94 2.06-2.06.94zm10 10l.94 2.06.94-2.06 2.06-.94-2.06-.94-.94-2.06-.94 2.06-2.06.94z\"/><path d=\"M17.41 7.96l-1.37-1.37c-.4-.4-.92-.59-1.43-.59-.52 0-1.04.2-1.43.59L10.3 9.45l-7.72 7.72c-.78.78-.78 2.05 0 2.83L4 21.41c.39.39.9.59 1.41.59.51 0 1.02-.2 1.41-.59l7.78-7.78 2.81-2.81c.8-.78.8-2.07 0-2.86zM5.41 20L4 18.59l7.72-7.72 1.47 1.35L5.41 20z\"/>\n",
              "  </svg>\n",
              "      </button>\n",
              "      \n",
              "  <style>\n",
              "    .colab-df-container {\n",
              "      display:flex;\n",
              "      flex-wrap:wrap;\n",
              "      gap: 12px;\n",
              "    }\n",
              "\n",
              "    .colab-df-convert {\n",
              "      background-color: #E8F0FE;\n",
              "      border: none;\n",
              "      border-radius: 50%;\n",
              "      cursor: pointer;\n",
              "      display: none;\n",
              "      fill: #1967D2;\n",
              "      height: 32px;\n",
              "      padding: 0 0 0 0;\n",
              "      width: 32px;\n",
              "    }\n",
              "\n",
              "    .colab-df-convert:hover {\n",
              "      background-color: #E2EBFA;\n",
              "      box-shadow: 0px 1px 2px rgba(60, 64, 67, 0.3), 0px 1px 3px 1px rgba(60, 64, 67, 0.15);\n",
              "      fill: #174EA6;\n",
              "    }\n",
              "\n",
              "    [theme=dark] .colab-df-convert {\n",
              "      background-color: #3B4455;\n",
              "      fill: #D2E3FC;\n",
              "    }\n",
              "\n",
              "    [theme=dark] .colab-df-convert:hover {\n",
              "      background-color: #434B5C;\n",
              "      box-shadow: 0px 1px 3px 1px rgba(0, 0, 0, 0.15);\n",
              "      filter: drop-shadow(0px 1px 2px rgba(0, 0, 0, 0.3));\n",
              "      fill: #FFFFFF;\n",
              "    }\n",
              "  </style>\n",
              "\n",
              "      <script>\n",
              "        const buttonEl =\n",
              "          document.querySelector('#df-92d42a1a-61b2-4831-9c30-fc06c103234b button.colab-df-convert');\n",
              "        buttonEl.style.display =\n",
              "          google.colab.kernel.accessAllowed ? 'block' : 'none';\n",
              "\n",
              "        async function convertToInteractive(key) {\n",
              "          const element = document.querySelector('#df-92d42a1a-61b2-4831-9c30-fc06c103234b');\n",
              "          const dataTable =\n",
              "            await google.colab.kernel.invokeFunction('convertToInteractive',\n",
              "                                                     [key], {});\n",
              "          if (!dataTable) return;\n",
              "\n",
              "          const docLinkHtml = 'Like what you see? Visit the ' +\n",
              "            '<a target=\"_blank\" href=https://colab.research.google.com/notebooks/data_table.ipynb>data table notebook</a>'\n",
              "            + ' to learn more about interactive tables.';\n",
              "          element.innerHTML = '';\n",
              "          dataTable['output_type'] = 'display_data';\n",
              "          await google.colab.output.renderOutput(dataTable, element);\n",
              "          const docLink = document.createElement('div');\n",
              "          docLink.innerHTML = docLinkHtml;\n",
              "          element.appendChild(docLink);\n",
              "        }\n",
              "      </script>\n",
              "    </div>\n",
              "  </div>\n",
              "  "
            ],
            "text/plain": [
              "   CHROM     POS REF ALT    QUAL AC     AF  AN  DP  ExcessHet  ...  \\\n",
              "5   chr1   69270   A   G  223.64  1  0.500   2  23     3.0103  ...   \n",
              "6   chr1   69511   A   G  716.64  1  0.500   2  43     3.0103  ...   \n",
              "17  chr1  865694   C   T  312.64  1  0.500   2  22     3.0103  ...   \n",
              "19  chr1  871215   C   G   73.64  1  0.500   2   7     3.0103  ...   \n",
              "20  chr1  877831   T   C   37.32  2   1.00   2   2     3.0103  ...   \n",
              "\n",
              "    phyloP7way_vertebrate phyloP20way_mammalian phastCons7way_vertebrate  \\\n",
              "5                       .                     .                        .   \n",
              "6                  -0.016                -0.132                    0.055   \n",
              "17                  0.823                 0.787                    0.039   \n",
              "19                      .                     .                        .   \n",
              "20                 -0.448                -0.090                    0.013   \n",
              "\n",
              "    phastCons20way_mammalian  SiPhy_29way_logOdds  itatiana.GT itatiana.AD  \\\n",
              "5                          .                    .          A/G       12,10   \n",
              "6                      0.765                4.198          A/G       18,25   \n",
              "17                     0.002               17.060          C/T       11,10   \n",
              "19                         .                    .          C/G         2,4   \n",
              "20                     0.866                7.519          C/C         0,2   \n",
              "\n",
              "   itatiana.DP itatiana.GQ itatiana.PL  \n",
              "5           22          99   231,0,303  \n",
              "6           43          99   724,0,525  \n",
              "17          21          99   320,0,362  \n",
              "19           6          31     81,0,31  \n",
              "20           2           6      49,6,0  \n",
              "\n",
              "[5 rows x 75 columns]"
            ]
          },
          "execution_count": 116,
          "metadata": {},
          "output_type": "execute_result"
        }
      ],
      "source": [
        "df_exonic.head()"
      ]
    },
    {
      "cell_type": "code",
      "execution_count": null,
      "metadata": {
        "colab": {
          "base_uri": "https://localhost:8080/"
        },
        "id": "Auy_yIw7FwrR",
        "outputId": "5d4897d8-b69b-4a7d-fde2-e94006166252"
      },
      "outputs": [
        {
          "data": {
            "text/plain": [
              "(25182, 75)"
            ]
          },
          "execution_count": 117,
          "metadata": {},
          "output_type": "execute_result"
        }
      ],
      "source": [
        "df_exonic.shape"
      ]
    },
    {
      "cell_type": "code",
      "execution_count": null,
      "metadata": {
        "id": "As0_7wS853au"
      },
      "outputs": [],
      "source": [
        "df_exonic_no_sinonima = df_exonic[df_exonic[\"ExonicFunc_refGene\"] != \"synonymous_SNV\"]"
      ]
    },
    {
      "cell_type": "code",
      "execution_count": null,
      "metadata": {
        "colab": {
          "base_uri": "https://localhost:8080/"
        },
        "id": "FImo50Zn6Haf",
        "outputId": "9f5e703c-1be2-44cd-dc64-d3b0f0402170"
      },
      "outputs": [
        {
          "data": {
            "text/plain": [
              "count    13309.000000\n",
              "mean       329.886407\n",
              "std        467.984169\n",
              "min         30.600000\n",
              "25%         85.640000\n",
              "50%        221.640000\n",
              "75%        433.640000\n",
              "max      16565.640000\n",
              "Name: QUAL, dtype: float64"
            ]
          },
          "execution_count": 119,
          "metadata": {},
          "output_type": "execute_result"
        }
      ],
      "source": [
        "df_exonic_no_sinonima[\"QUAL\"].describe()"
      ]
    },
    {
      "cell_type": "code",
      "execution_count": null,
      "metadata": {
        "colab": {
          "base_uri": "https://localhost:8080/",
          "height": 300
        },
        "id": "XUZRQakOF4Bz",
        "outputId": "62a16eb7-e9f3-463a-d656-cb7ae15d1bef"
      },
      "outputs": [
        {
          "data": {
            "text/html": [
              "\n",
              "  <div id=\"df-b5fdf2de-fdb9-445f-bced-2e9c39cb6910\">\n",
              "    <div class=\"colab-df-container\">\n",
              "      <div>\n",
              "<style scoped>\n",
              "    .dataframe tbody tr th:only-of-type {\n",
              "        vertical-align: middle;\n",
              "    }\n",
              "\n",
              "    .dataframe tbody tr th {\n",
              "        vertical-align: top;\n",
              "    }\n",
              "\n",
              "    .dataframe thead th {\n",
              "        text-align: right;\n",
              "    }\n",
              "</style>\n",
              "<table border=\"1\" class=\"dataframe\">\n",
              "  <thead>\n",
              "    <tr style=\"text-align: right;\">\n",
              "      <th></th>\n",
              "      <th>CHROM</th>\n",
              "      <th>POS</th>\n",
              "      <th>REF</th>\n",
              "      <th>ALT</th>\n",
              "      <th>QUAL</th>\n",
              "      <th>AC</th>\n",
              "      <th>AF</th>\n",
              "      <th>AN</th>\n",
              "      <th>DP</th>\n",
              "      <th>ExcessHet</th>\n",
              "      <th>...</th>\n",
              "      <th>phyloP7way_vertebrate</th>\n",
              "      <th>phyloP20way_mammalian</th>\n",
              "      <th>phastCons7way_vertebrate</th>\n",
              "      <th>phastCons20way_mammalian</th>\n",
              "      <th>SiPhy_29way_logOdds</th>\n",
              "      <th>itatiana.GT</th>\n",
              "      <th>itatiana.AD</th>\n",
              "      <th>itatiana.DP</th>\n",
              "      <th>itatiana.GQ</th>\n",
              "      <th>itatiana.PL</th>\n",
              "    </tr>\n",
              "  </thead>\n",
              "  <tbody>\n",
              "    <tr>\n",
              "      <th>6</th>\n",
              "      <td>chr1</td>\n",
              "      <td>69511</td>\n",
              "      <td>A</td>\n",
              "      <td>G</td>\n",
              "      <td>716.64</td>\n",
              "      <td>1</td>\n",
              "      <td>0.500</td>\n",
              "      <td>2</td>\n",
              "      <td>43</td>\n",
              "      <td>3.0103</td>\n",
              "      <td>...</td>\n",
              "      <td>-0.016</td>\n",
              "      <td>-0.132</td>\n",
              "      <td>0.055</td>\n",
              "      <td>0.765</td>\n",
              "      <td>4.198</td>\n",
              "      <td>A/G</td>\n",
              "      <td>18,25</td>\n",
              "      <td>43</td>\n",
              "      <td>99</td>\n",
              "      <td>724,0,525</td>\n",
              "    </tr>\n",
              "    <tr>\n",
              "      <th>17</th>\n",
              "      <td>chr1</td>\n",
              "      <td>865694</td>\n",
              "      <td>C</td>\n",
              "      <td>T</td>\n",
              "      <td>312.64</td>\n",
              "      <td>1</td>\n",
              "      <td>0.500</td>\n",
              "      <td>2</td>\n",
              "      <td>22</td>\n",
              "      <td>3.0103</td>\n",
              "      <td>...</td>\n",
              "      <td>0.823</td>\n",
              "      <td>0.787</td>\n",
              "      <td>0.039</td>\n",
              "      <td>0.002</td>\n",
              "      <td>17.060</td>\n",
              "      <td>C/T</td>\n",
              "      <td>11,10</td>\n",
              "      <td>21</td>\n",
              "      <td>99</td>\n",
              "      <td>320,0,362</td>\n",
              "    </tr>\n",
              "    <tr>\n",
              "      <th>20</th>\n",
              "      <td>chr1</td>\n",
              "      <td>877831</td>\n",
              "      <td>T</td>\n",
              "      <td>C</td>\n",
              "      <td>37.32</td>\n",
              "      <td>2</td>\n",
              "      <td>1.00</td>\n",
              "      <td>2</td>\n",
              "      <td>2</td>\n",
              "      <td>3.0103</td>\n",
              "      <td>...</td>\n",
              "      <td>-0.448</td>\n",
              "      <td>-0.090</td>\n",
              "      <td>0.013</td>\n",
              "      <td>0.866</td>\n",
              "      <td>7.519</td>\n",
              "      <td>C/C</td>\n",
              "      <td>0,2</td>\n",
              "      <td>2</td>\n",
              "      <td>6</td>\n",
              "      <td>49,6,0</td>\n",
              "    </tr>\n",
              "    <tr>\n",
              "      <th>25</th>\n",
              "      <td>chr1</td>\n",
              "      <td>888659</td>\n",
              "      <td>T</td>\n",
              "      <td>C</td>\n",
              "      <td>528.06</td>\n",
              "      <td>2</td>\n",
              "      <td>1.00</td>\n",
              "      <td>2</td>\n",
              "      <td>17</td>\n",
              "      <td>3.0103</td>\n",
              "      <td>...</td>\n",
              "      <td>0.002</td>\n",
              "      <td>0.016</td>\n",
              "      <td>0.751</td>\n",
              "      <td>0.143</td>\n",
              "      <td>7.695</td>\n",
              "      <td>C/C</td>\n",
              "      <td>0,16</td>\n",
              "      <td>16</td>\n",
              "      <td>48</td>\n",
              "      <td>542,48,0</td>\n",
              "    </tr>\n",
              "    <tr>\n",
              "      <th>30</th>\n",
              "      <td>chr1</td>\n",
              "      <td>894340</td>\n",
              "      <td>G</td>\n",
              "      <td>T</td>\n",
              "      <td>31.64</td>\n",
              "      <td>1</td>\n",
              "      <td>0.500</td>\n",
              "      <td>2</td>\n",
              "      <td>15</td>\n",
              "      <td>3.0103</td>\n",
              "      <td>...</td>\n",
              "      <td>0.917</td>\n",
              "      <td>0.063</td>\n",
              "      <td>0.003</td>\n",
              "      <td>0.000</td>\n",
              "      <td>4.673</td>\n",
              "      <td>G/T</td>\n",
              "      <td>13,2</td>\n",
              "      <td>15</td>\n",
              "      <td>39</td>\n",
              "      <td>39,0,362</td>\n",
              "    </tr>\n",
              "  </tbody>\n",
              "</table>\n",
              "<p>5 rows × 75 columns</p>\n",
              "</div>\n",
              "      <button class=\"colab-df-convert\" onclick=\"convertToInteractive('df-b5fdf2de-fdb9-445f-bced-2e9c39cb6910')\"\n",
              "              title=\"Convert this dataframe to an interactive table.\"\n",
              "              style=\"display:none;\">\n",
              "        \n",
              "  <svg xmlns=\"http://www.w3.org/2000/svg\" height=\"24px\"viewBox=\"0 0 24 24\"\n",
              "       width=\"24px\">\n",
              "    <path d=\"M0 0h24v24H0V0z\" fill=\"none\"/>\n",
              "    <path d=\"M18.56 5.44l.94 2.06.94-2.06 2.06-.94-2.06-.94-.94-2.06-.94 2.06-2.06.94zm-11 1L8.5 8.5l.94-2.06 2.06-.94-2.06-.94L8.5 2.5l-.94 2.06-2.06.94zm10 10l.94 2.06.94-2.06 2.06-.94-2.06-.94-.94-2.06-.94 2.06-2.06.94z\"/><path d=\"M17.41 7.96l-1.37-1.37c-.4-.4-.92-.59-1.43-.59-.52 0-1.04.2-1.43.59L10.3 9.45l-7.72 7.72c-.78.78-.78 2.05 0 2.83L4 21.41c.39.39.9.59 1.41.59.51 0 1.02-.2 1.41-.59l7.78-7.78 2.81-2.81c.8-.78.8-2.07 0-2.86zM5.41 20L4 18.59l7.72-7.72 1.47 1.35L5.41 20z\"/>\n",
              "  </svg>\n",
              "      </button>\n",
              "      \n",
              "  <style>\n",
              "    .colab-df-container {\n",
              "      display:flex;\n",
              "      flex-wrap:wrap;\n",
              "      gap: 12px;\n",
              "    }\n",
              "\n",
              "    .colab-df-convert {\n",
              "      background-color: #E8F0FE;\n",
              "      border: none;\n",
              "      border-radius: 50%;\n",
              "      cursor: pointer;\n",
              "      display: none;\n",
              "      fill: #1967D2;\n",
              "      height: 32px;\n",
              "      padding: 0 0 0 0;\n",
              "      width: 32px;\n",
              "    }\n",
              "\n",
              "    .colab-df-convert:hover {\n",
              "      background-color: #E2EBFA;\n",
              "      box-shadow: 0px 1px 2px rgba(60, 64, 67, 0.3), 0px 1px 3px 1px rgba(60, 64, 67, 0.15);\n",
              "      fill: #174EA6;\n",
              "    }\n",
              "\n",
              "    [theme=dark] .colab-df-convert {\n",
              "      background-color: #3B4455;\n",
              "      fill: #D2E3FC;\n",
              "    }\n",
              "\n",
              "    [theme=dark] .colab-df-convert:hover {\n",
              "      background-color: #434B5C;\n",
              "      box-shadow: 0px 1px 3px 1px rgba(0, 0, 0, 0.15);\n",
              "      filter: drop-shadow(0px 1px 2px rgba(0, 0, 0, 0.3));\n",
              "      fill: #FFFFFF;\n",
              "    }\n",
              "  </style>\n",
              "\n",
              "      <script>\n",
              "        const buttonEl =\n",
              "          document.querySelector('#df-b5fdf2de-fdb9-445f-bced-2e9c39cb6910 button.colab-df-convert');\n",
              "        buttonEl.style.display =\n",
              "          google.colab.kernel.accessAllowed ? 'block' : 'none';\n",
              "\n",
              "        async function convertToInteractive(key) {\n",
              "          const element = document.querySelector('#df-b5fdf2de-fdb9-445f-bced-2e9c39cb6910');\n",
              "          const dataTable =\n",
              "            await google.colab.kernel.invokeFunction('convertToInteractive',\n",
              "                                                     [key], {});\n",
              "          if (!dataTable) return;\n",
              "\n",
              "          const docLinkHtml = 'Like what you see? Visit the ' +\n",
              "            '<a target=\"_blank\" href=https://colab.research.google.com/notebooks/data_table.ipynb>data table notebook</a>'\n",
              "            + ' to learn more about interactive tables.';\n",
              "          element.innerHTML = '';\n",
              "          dataTable['output_type'] = 'display_data';\n",
              "          await google.colab.output.renderOutput(dataTable, element);\n",
              "          const docLink = document.createElement('div');\n",
              "          docLink.innerHTML = docLinkHtml;\n",
              "          element.appendChild(docLink);\n",
              "        }\n",
              "      </script>\n",
              "    </div>\n",
              "  </div>\n",
              "  "
            ],
            "text/plain": [
              "   CHROM     POS REF ALT    QUAL AC     AF  AN  DP  ExcessHet  ...  \\\n",
              "6   chr1   69511   A   G  716.64  1  0.500   2  43     3.0103  ...   \n",
              "17  chr1  865694   C   T  312.64  1  0.500   2  22     3.0103  ...   \n",
              "20  chr1  877831   T   C   37.32  2   1.00   2   2     3.0103  ...   \n",
              "25  chr1  888659   T   C  528.06  2   1.00   2  17     3.0103  ...   \n",
              "30  chr1  894340   G   T   31.64  1  0.500   2  15     3.0103  ...   \n",
              "\n",
              "    phyloP7way_vertebrate phyloP20way_mammalian phastCons7way_vertebrate  \\\n",
              "6                  -0.016                -0.132                    0.055   \n",
              "17                  0.823                 0.787                    0.039   \n",
              "20                 -0.448                -0.090                    0.013   \n",
              "25                  0.002                 0.016                    0.751   \n",
              "30                  0.917                 0.063                    0.003   \n",
              "\n",
              "    phastCons20way_mammalian  SiPhy_29way_logOdds  itatiana.GT itatiana.AD  \\\n",
              "6                      0.765                4.198          A/G       18,25   \n",
              "17                     0.002               17.060          C/T       11,10   \n",
              "20                     0.866                7.519          C/C         0,2   \n",
              "25                     0.143                7.695          C/C        0,16   \n",
              "30                     0.000                4.673          G/T        13,2   \n",
              "\n",
              "   itatiana.DP itatiana.GQ itatiana.PL  \n",
              "6           43          99   724,0,525  \n",
              "17          21          99   320,0,362  \n",
              "20           2           6      49,6,0  \n",
              "25          16          48    542,48,0  \n",
              "30          15          39    39,0,362  \n",
              "\n",
              "[5 rows x 75 columns]"
            ]
          },
          "execution_count": 120,
          "metadata": {},
          "output_type": "execute_result"
        }
      ],
      "source": [
        "df_exonic_no_sinonima.head()"
      ]
    },
    {
      "cell_type": "code",
      "execution_count": null,
      "metadata": {
        "id": "TbiKwSFZF8bD"
      },
      "outputs": [],
      "source": [
        "#Exportar variantes para Excell\n",
        "df_exonic_no_sinonima[[\"CHROM\",\"POS\",\"REF\",\"ALT\",\"Gene_refGene\",\"ExonicFunc_refGene\",\"AAChange_refGene\"]].to_excel(\"listaVariante.xlsx\") "
      ]
    },
    {
      "cell_type": "code",
      "execution_count": null,
      "metadata": {
        "id": "tOcFtHZrQ9ZI"
      },
      "outputs": [],
      "source": []
    },
    {
      "cell_type": "markdown",
      "metadata": {
        "id": "zf4SAyMl1hwl"
      },
      "source": [
        "# Referências\n",
        "https://gatk.broadinstitute.org/hc/en-us/articles/360036896892-VariantsToTable\n"
      ]
    }
  ],
  "metadata": {
    "colab": {
      "collapsed_sections": [
        "zf4SAyMl1hwl"
      ],
      "provenance": [],
      "include_colab_link": true
    },
    "kernelspec": {
      "display_name": "Python 3",
      "name": "python3"
    }
  },
  "nbformat": 4,
  "nbformat_minor": 0
}